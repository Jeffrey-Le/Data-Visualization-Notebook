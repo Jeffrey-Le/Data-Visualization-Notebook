{
 "cells": [
  {
   "cell_type": "code",
   "execution_count": 1,
   "id": "9c869c87",
   "metadata": {},
   "outputs": [],
   "source": [
    "import numpy as np\n",
    "import pandas as pd\n",
    "\n",
    "import matplotlib.pyplot as plt\n",
    "import plotly.express as px\n",
    "from plotly.subplots import make_subplots\n",
    "import plotly.graph_objects as go\n",
    "\n",
    "import string\n",
    "\n",
    "from collections import Counter\n",
    "\n",
    "import nltk, re\n",
    "from nltk.sentiment.vader import SentimentIntensityAnalyzer\n",
    "from nltk.corpus import stopwords\n",
    "from nltk.tokenize import word_tokenize\n",
    "from nltk.stem import PorterStemmer, WordNetLemmatizer\n",
    "\n",
    "from spellchecker import SpellChecker"
   ]
  },
  {
   "cell_type": "markdown",
   "id": "65cc136d",
   "metadata": {},
   "source": [
    "## Data Analysis steps:\n",
    "\n",
    "<ol>\n",
    "    <li> Define the question  </li>\n",
    "    <li> Define the ideal data set </li>\n",
    "    <li> Obtain data </li>\n",
    "    <li> Clean the data </li>\n",
    "    <li> Exploratory Data Analysis </li>\n",
    "    <li> Statistical Prediction/modeling </li>\n",
    "    <li> Interpret results </li>\n",
    "    <li> Challenge results </li>\n",
    "    <li> Communicate results </li>\n",
    "    <li> Build a Data Product </li>\n",
    "</ol>\n"
   ]
  },
  {
   "cell_type": "markdown",
   "id": "b1b4bf81",
   "metadata": {},
   "source": [
    "## Step 1: Define the Question(s)"
   ]
  },
  {
   "cell_type": "markdown",
   "id": "c542dccc",
   "metadata": {},
   "source": [
    "<ul>\n",
    "    <li>What was the most common issue a customer had towards airlines? </li>\n",
    "</ul>\n",
    "\n",
    "<hr>"
   ]
  },
  {
   "cell_type": "markdown",
   "id": "c7858dd6",
   "metadata": {},
   "source": [
    "## Step 2 & 3: Identify and Obtain the Data"
   ]
  },
  {
   "cell_type": "markdown",
   "id": "fb10c761",
   "metadata": {},
   "source": [
    "<div> Import Dataset </div>"
   ]
  },
  {
   "cell_type": "code",
   "execution_count": 2,
   "id": "75250944",
   "metadata": {},
   "outputs": [
    {
     "name": "stdout",
     "output_type": "stream",
     "text": [
      "<class 'pandas.core.frame.DataFrame'>\n",
      "RangeIndex: 2811774 entries, 0 to 2811773\n",
      "Data columns (total 7 columns):\n",
      " #   Column                   Dtype  \n",
      "---  ------                   -----  \n",
      " 0   tweet_id                 int64  \n",
      " 1   author_id                object \n",
      " 2   inbound                  bool   \n",
      " 3   created_at               object \n",
      " 4   text                     object \n",
      " 5   response_tweet_id        object \n",
      " 6   in_response_to_tweet_id  float64\n",
      "dtypes: bool(1), float64(1), int64(1), object(4)\n",
      "memory usage: 131.4+ MB\n"
     ]
    }
   ],
   "source": [
    "df = pd.read_csv('twcs.csv')\n",
    "df.info()"
   ]
  },
  {
   "cell_type": "markdown",
   "id": "330dc2d4",
   "metadata": {},
   "source": [
    "<hr>\n",
    "<h3> Dataset contains information about discussion between a customer and company chatbots. </h3>\n",
    "<p> tweet_id: Unique ID for tweet => Generates every tweet</p>\n",
    "<p> author_id: Unique username of the author </p>\n",
    "<p> inbound: True => Represents the customer sending message; False => Represents chatbot responses </p>\n",
    "<p> created_at: Date at which post/message was created or sent </p>\n",
    "<p> text: Message/Text sent </p>\n",
    "<p> response_tweet_id: tweet_id(s) that responded to the current tweet </p>\n",
    "<p> in_response_to_tweet_id: tweet_id(s) that the current tweet is responding to </p>\n",
    "<hr>"
   ]
  },
  {
   "cell_type": "code",
   "execution_count": 3,
   "id": "2b20e2b8",
   "metadata": {},
   "outputs": [
    {
     "data": {
      "text/html": [
       "<div>\n",
       "<style scoped>\n",
       "    .dataframe tbody tr th:only-of-type {\n",
       "        vertical-align: middle;\n",
       "    }\n",
       "\n",
       "    .dataframe tbody tr th {\n",
       "        vertical-align: top;\n",
       "    }\n",
       "\n",
       "    .dataframe thead th {\n",
       "        text-align: right;\n",
       "    }\n",
       "</style>\n",
       "<table border=\"1\" class=\"dataframe\">\n",
       "  <thead>\n",
       "    <tr style=\"text-align: right;\">\n",
       "      <th></th>\n",
       "      <th>tweet_id</th>\n",
       "      <th>author_id</th>\n",
       "      <th>inbound</th>\n",
       "      <th>created_at</th>\n",
       "      <th>text</th>\n",
       "      <th>response_tweet_id</th>\n",
       "      <th>in_response_to_tweet_id</th>\n",
       "    </tr>\n",
       "  </thead>\n",
       "  <tbody>\n",
       "    <tr>\n",
       "      <th>0</th>\n",
       "      <td>1</td>\n",
       "      <td>sprintcare</td>\n",
       "      <td>False</td>\n",
       "      <td>Tue Oct 31 22:10:47 +0000 2017</td>\n",
       "      <td>@115712 I understand. I would like to assist y...</td>\n",
       "      <td>2</td>\n",
       "      <td>3.0</td>\n",
       "    </tr>\n",
       "    <tr>\n",
       "      <th>1</th>\n",
       "      <td>2</td>\n",
       "      <td>115712</td>\n",
       "      <td>True</td>\n",
       "      <td>Tue Oct 31 22:11:45 +0000 2017</td>\n",
       "      <td>@sprintcare and how do you propose we do that</td>\n",
       "      <td>NaN</td>\n",
       "      <td>1.0</td>\n",
       "    </tr>\n",
       "    <tr>\n",
       "      <th>2</th>\n",
       "      <td>3</td>\n",
       "      <td>115712</td>\n",
       "      <td>True</td>\n",
       "      <td>Tue Oct 31 22:08:27 +0000 2017</td>\n",
       "      <td>@sprintcare I have sent several private messag...</td>\n",
       "      <td>1</td>\n",
       "      <td>4.0</td>\n",
       "    </tr>\n",
       "    <tr>\n",
       "      <th>3</th>\n",
       "      <td>4</td>\n",
       "      <td>sprintcare</td>\n",
       "      <td>False</td>\n",
       "      <td>Tue Oct 31 21:54:49 +0000 2017</td>\n",
       "      <td>@115712 Please send us a Private Message so th...</td>\n",
       "      <td>3</td>\n",
       "      <td>5.0</td>\n",
       "    </tr>\n",
       "    <tr>\n",
       "      <th>4</th>\n",
       "      <td>5</td>\n",
       "      <td>115712</td>\n",
       "      <td>True</td>\n",
       "      <td>Tue Oct 31 21:49:35 +0000 2017</td>\n",
       "      <td>@sprintcare I did.</td>\n",
       "      <td>4</td>\n",
       "      <td>6.0</td>\n",
       "    </tr>\n",
       "    <tr>\n",
       "      <th>5</th>\n",
       "      <td>6</td>\n",
       "      <td>sprintcare</td>\n",
       "      <td>False</td>\n",
       "      <td>Tue Oct 31 21:46:24 +0000 2017</td>\n",
       "      <td>@115712 Can you please send us a private messa...</td>\n",
       "      <td>5,7</td>\n",
       "      <td>8.0</td>\n",
       "    </tr>\n",
       "    <tr>\n",
       "      <th>6</th>\n",
       "      <td>8</td>\n",
       "      <td>115712</td>\n",
       "      <td>True</td>\n",
       "      <td>Tue Oct 31 21:45:10 +0000 2017</td>\n",
       "      <td>@sprintcare is the worst customer service</td>\n",
       "      <td>9,6,10</td>\n",
       "      <td>NaN</td>\n",
       "    </tr>\n",
       "    <tr>\n",
       "      <th>7</th>\n",
       "      <td>11</td>\n",
       "      <td>sprintcare</td>\n",
       "      <td>False</td>\n",
       "      <td>Tue Oct 31 22:10:35 +0000 2017</td>\n",
       "      <td>@115713 This is saddening to hear. Please shoo...</td>\n",
       "      <td>NaN</td>\n",
       "      <td>12.0</td>\n",
       "    </tr>\n",
       "    <tr>\n",
       "      <th>8</th>\n",
       "      <td>12</td>\n",
       "      <td>115713</td>\n",
       "      <td>True</td>\n",
       "      <td>Tue Oct 31 22:04:47 +0000 2017</td>\n",
       "      <td>@sprintcare You gonna magically change your co...</td>\n",
       "      <td>11,13,14</td>\n",
       "      <td>15.0</td>\n",
       "    </tr>\n",
       "    <tr>\n",
       "      <th>9</th>\n",
       "      <td>15</td>\n",
       "      <td>sprintcare</td>\n",
       "      <td>False</td>\n",
       "      <td>Tue Oct 31 20:03:31 +0000 2017</td>\n",
       "      <td>@115713 We understand your concerns and we'd l...</td>\n",
       "      <td>12</td>\n",
       "      <td>16.0</td>\n",
       "    </tr>\n",
       "  </tbody>\n",
       "</table>\n",
       "</div>"
      ],
      "text/plain": [
       "   tweet_id   author_id  inbound                      created_at  \\\n",
       "0         1  sprintcare    False  Tue Oct 31 22:10:47 +0000 2017   \n",
       "1         2      115712     True  Tue Oct 31 22:11:45 +0000 2017   \n",
       "2         3      115712     True  Tue Oct 31 22:08:27 +0000 2017   \n",
       "3         4  sprintcare    False  Tue Oct 31 21:54:49 +0000 2017   \n",
       "4         5      115712     True  Tue Oct 31 21:49:35 +0000 2017   \n",
       "5         6  sprintcare    False  Tue Oct 31 21:46:24 +0000 2017   \n",
       "6         8      115712     True  Tue Oct 31 21:45:10 +0000 2017   \n",
       "7        11  sprintcare    False  Tue Oct 31 22:10:35 +0000 2017   \n",
       "8        12      115713     True  Tue Oct 31 22:04:47 +0000 2017   \n",
       "9        15  sprintcare    False  Tue Oct 31 20:03:31 +0000 2017   \n",
       "\n",
       "                                                text response_tweet_id  \\\n",
       "0  @115712 I understand. I would like to assist y...                 2   \n",
       "1      @sprintcare and how do you propose we do that               NaN   \n",
       "2  @sprintcare I have sent several private messag...                 1   \n",
       "3  @115712 Please send us a Private Message so th...                 3   \n",
       "4                                 @sprintcare I did.                 4   \n",
       "5  @115712 Can you please send us a private messa...               5,7   \n",
       "6          @sprintcare is the worst customer service            9,6,10   \n",
       "7  @115713 This is saddening to hear. Please shoo...               NaN   \n",
       "8  @sprintcare You gonna magically change your co...          11,13,14   \n",
       "9  @115713 We understand your concerns and we'd l...                12   \n",
       "\n",
       "   in_response_to_tweet_id  \n",
       "0                      3.0  \n",
       "1                      1.0  \n",
       "2                      4.0  \n",
       "3                      5.0  \n",
       "4                      6.0  \n",
       "5                      8.0  \n",
       "6                      NaN  \n",
       "7                     12.0  \n",
       "8                     15.0  \n",
       "9                     16.0  "
      ]
     },
     "execution_count": 3,
     "metadata": {},
     "output_type": "execute_result"
    }
   ],
   "source": [
    "df.head(10)"
   ]
  },
  {
   "cell_type": "markdown",
   "id": "f262e902",
   "metadata": {},
   "source": [
    "## Step 4 & 5: Clean the Data & Exploratory Data Analysis"
   ]
  },
  {
   "cell_type": "markdown",
   "id": "14869d82",
   "metadata": {},
   "source": [
    "<hr>\n",
    "\n",
    "<h4> Ideal Dataset Contains the following: </h4>\n",
    "\n",
    "<ul>\n",
    "    <li> Filtered to only Airlines </li>\n",
    "    <li> Cleaned text data to simpliest words </li>\n",
    "    <li> Data is wrangled to show original message and response in same row </li>\n",
    "    <li> Correct data types for all columns </li>\n",
    "    <li> New Column to identify sentiment of the text </li>\n",
    "    <li> Fill in null values </li>\n",
    "    <li> Eliminate duplicate values </li>\n",
    "</ul>\n",
    "\n",
    "<hr>"
   ]
  },
  {
   "cell_type": "markdown",
   "id": "a5180b4a",
   "metadata": {},
   "source": [
    "<h4> Clean Text Data </h4>\n",
    "\n",
    "<ul>\n",
    "    <li> Isolate text data </li>\n",
    "    <li> Lower case all words </li>\n",
    "    <li> Remove stop words (i, me, why, etc.) </li>\n",
    "    <li> Remove puncuation </li>\n",
    "    <li> Remove common words </li>\n",
    "    <li> Remove rare words </li>\n",
    "    <li> Remove emojis </li>\n",
    "    <li> Remove URLs </li>\n",
    "</ul>"
   ]
  },
  {
   "cell_type": "markdown",
   "id": "2e473dcd",
   "metadata": {},
   "source": [
    "<div> Download nltk packages to help with cleaning </div>"
   ]
  },
  {
   "cell_type": "code",
   "execution_count": 4,
   "id": "444ee9f5",
   "metadata": {},
   "outputs": [
    {
     "name": "stderr",
     "output_type": "stream",
     "text": [
      "[nltk_data] Downloading package stopwords to\n",
      "[nltk_data]     C:\\Users\\Crolw\\AppData\\Roaming\\nltk_data...\n",
      "[nltk_data]   Package stopwords is already up-to-date!\n",
      "[nltk_data] Downloading package wordnet to\n",
      "[nltk_data]     C:\\Users\\Crolw\\AppData\\Roaming\\nltk_data...\n",
      "[nltk_data]   Package wordnet is already up-to-date!\n",
      "[nltk_data] Downloading package punkt to\n",
      "[nltk_data]     C:\\Users\\Crolw\\AppData\\Roaming\\nltk_data...\n",
      "[nltk_data]   Package punkt is already up-to-date!\n"
     ]
    },
    {
     "data": {
      "text/plain": [
       "True"
      ]
     },
     "execution_count": 4,
     "metadata": {},
     "output_type": "execute_result"
    }
   ],
   "source": [
    "nltk.download('stopwords')\n",
    "nltk.download('wordnet')\n",
    "nltk.download('punkt')"
   ]
  },
  {
   "cell_type": "markdown",
   "id": "7b64bbeb",
   "metadata": {},
   "source": [
    "<div> Isolate Text Data </div>"
   ]
  },
  {
   "cell_type": "code",
   "execution_count": 5,
   "id": "95bfacd7",
   "metadata": {},
   "outputs": [
    {
     "data": {
      "text/html": [
       "<div>\n",
       "<style scoped>\n",
       "    .dataframe tbody tr th:only-of-type {\n",
       "        vertical-align: middle;\n",
       "    }\n",
       "\n",
       "    .dataframe tbody tr th {\n",
       "        vertical-align: top;\n",
       "    }\n",
       "\n",
       "    .dataframe thead th {\n",
       "        text-align: right;\n",
       "    }\n",
       "</style>\n",
       "<table border=\"1\" class=\"dataframe\">\n",
       "  <thead>\n",
       "    <tr style=\"text-align: right;\">\n",
       "      <th></th>\n",
       "      <th>text</th>\n",
       "    </tr>\n",
       "  </thead>\n",
       "  <tbody>\n",
       "    <tr>\n",
       "      <th>0</th>\n",
       "      <td>@115712 I understand. I would like to assist y...</td>\n",
       "    </tr>\n",
       "    <tr>\n",
       "      <th>1</th>\n",
       "      <td>@sprintcare and how do you propose we do that</td>\n",
       "    </tr>\n",
       "    <tr>\n",
       "      <th>2</th>\n",
       "      <td>@sprintcare I have sent several private messag...</td>\n",
       "    </tr>\n",
       "    <tr>\n",
       "      <th>3</th>\n",
       "      <td>@115712 Please send us a Private Message so th...</td>\n",
       "    </tr>\n",
       "    <tr>\n",
       "      <th>4</th>\n",
       "      <td>@sprintcare I did.</td>\n",
       "    </tr>\n",
       "  </tbody>\n",
       "</table>\n",
       "</div>"
      ],
      "text/plain": [
       "                                                text\n",
       "0  @115712 I understand. I would like to assist y...\n",
       "1      @sprintcare and how do you propose we do that\n",
       "2  @sprintcare I have sent several private messag...\n",
       "3  @115712 Please send us a Private Message so th...\n",
       "4                                 @sprintcare I did."
      ]
     },
     "execution_count": 5,
     "metadata": {},
     "output_type": "execute_result"
    }
   ],
   "source": [
    "textDF = df[['text']]\n",
    "textDF.head(5)"
   ]
  },
  {
   "cell_type": "markdown",
   "id": "7fe28eea",
   "metadata": {},
   "source": [
    "<div> Change all words to lowercase </div>"
   ]
  },
  {
   "cell_type": "code",
   "execution_count": 6,
   "id": "b01841c5",
   "metadata": {},
   "outputs": [
    {
     "name": "stderr",
     "output_type": "stream",
     "text": [
      "C:\\Users\\Crolw\\AppData\\Local\\Temp\\ipykernel_22452\\3470515980.py:1: SettingWithCopyWarning: \n",
      "A value is trying to be set on a copy of a slice from a DataFrame.\n",
      "Try using .loc[row_indexer,col_indexer] = value instead\n",
      "\n",
      "See the caveats in the documentation: https://pandas.pydata.org/pandas-docs/stable/user_guide/indexing.html#returning-a-view-versus-a-copy\n",
      "  textDF['text_lower'] = textDF.loc[:,'text'].str.lower()\n"
     ]
    },
    {
     "data": {
      "text/html": [
       "<div>\n",
       "<style scoped>\n",
       "    .dataframe tbody tr th:only-of-type {\n",
       "        vertical-align: middle;\n",
       "    }\n",
       "\n",
       "    .dataframe tbody tr th {\n",
       "        vertical-align: top;\n",
       "    }\n",
       "\n",
       "    .dataframe thead th {\n",
       "        text-align: right;\n",
       "    }\n",
       "</style>\n",
       "<table border=\"1\" class=\"dataframe\">\n",
       "  <thead>\n",
       "    <tr style=\"text-align: right;\">\n",
       "      <th></th>\n",
       "      <th>text</th>\n",
       "      <th>text_lower</th>\n",
       "    </tr>\n",
       "  </thead>\n",
       "  <tbody>\n",
       "    <tr>\n",
       "      <th>0</th>\n",
       "      <td>@115712 I understand. I would like to assist y...</td>\n",
       "      <td>@115712 i understand. i would like to assist y...</td>\n",
       "    </tr>\n",
       "    <tr>\n",
       "      <th>1</th>\n",
       "      <td>@sprintcare and how do you propose we do that</td>\n",
       "      <td>@sprintcare and how do you propose we do that</td>\n",
       "    </tr>\n",
       "    <tr>\n",
       "      <th>2</th>\n",
       "      <td>@sprintcare I have sent several private messag...</td>\n",
       "      <td>@sprintcare i have sent several private messag...</td>\n",
       "    </tr>\n",
       "    <tr>\n",
       "      <th>3</th>\n",
       "      <td>@115712 Please send us a Private Message so th...</td>\n",
       "      <td>@115712 please send us a private message so th...</td>\n",
       "    </tr>\n",
       "    <tr>\n",
       "      <th>4</th>\n",
       "      <td>@sprintcare I did.</td>\n",
       "      <td>@sprintcare i did.</td>\n",
       "    </tr>\n",
       "  </tbody>\n",
       "</table>\n",
       "</div>"
      ],
      "text/plain": [
       "                                                text  \\\n",
       "0  @115712 I understand. I would like to assist y...   \n",
       "1      @sprintcare and how do you propose we do that   \n",
       "2  @sprintcare I have sent several private messag...   \n",
       "3  @115712 Please send us a Private Message so th...   \n",
       "4                                 @sprintcare I did.   \n",
       "\n",
       "                                          text_lower  \n",
       "0  @115712 i understand. i would like to assist y...  \n",
       "1      @sprintcare and how do you propose we do that  \n",
       "2  @sprintcare i have sent several private messag...  \n",
       "3  @115712 please send us a private message so th...  \n",
       "4                                 @sprintcare i did.  "
      ]
     },
     "execution_count": 6,
     "metadata": {},
     "output_type": "execute_result"
    }
   ],
   "source": [
    "textDF['text_lower'] = textDF.loc[:,'text'].str.lower()\n",
    "textDF.head(5)"
   ]
  },
  {
   "cell_type": "markdown",
   "id": "6cff3dc3",
   "metadata": {},
   "source": [
    "<div> Remove Puncuation </div>"
   ]
  },
  {
   "cell_type": "code",
   "execution_count": 7,
   "id": "61ab7d4a",
   "metadata": {},
   "outputs": [
    {
     "name": "stdout",
     "output_type": "stream",
     "text": [
      "!\"#$%&'()*+,-./:;<=>?@[\\]^_`{|}~\n"
     ]
    },
    {
     "name": "stderr",
     "output_type": "stream",
     "text": [
      "C:\\Users\\Crolw\\AppData\\Local\\Temp\\ipykernel_22452\\545002421.py:9: SettingWithCopyWarning: \n",
      "A value is trying to be set on a copy of a slice from a DataFrame.\n",
      "Try using .loc[row_indexer,col_indexer] = value instead\n",
      "\n",
      "See the caveats in the documentation: https://pandas.pydata.org/pandas-docs/stable/user_guide/indexing.html#returning-a-view-versus-a-copy\n",
      "  textDF['text_wo_punctuations'] = textDF['text_lower'].apply(lambda text: remove_punctuations(text))\n"
     ]
    },
    {
     "data": {
      "text/html": [
       "<div>\n",
       "<style scoped>\n",
       "    .dataframe tbody tr th:only-of-type {\n",
       "        vertical-align: middle;\n",
       "    }\n",
       "\n",
       "    .dataframe tbody tr th {\n",
       "        vertical-align: top;\n",
       "    }\n",
       "\n",
       "    .dataframe thead th {\n",
       "        text-align: right;\n",
       "    }\n",
       "</style>\n",
       "<table border=\"1\" class=\"dataframe\">\n",
       "  <thead>\n",
       "    <tr style=\"text-align: right;\">\n",
       "      <th></th>\n",
       "      <th>text</th>\n",
       "      <th>text_lower</th>\n",
       "      <th>text_wo_punctuations</th>\n",
       "    </tr>\n",
       "  </thead>\n",
       "  <tbody>\n",
       "    <tr>\n",
       "      <th>0</th>\n",
       "      <td>@115712 I understand. I would like to assist y...</td>\n",
       "      <td>@115712 i understand. i would like to assist y...</td>\n",
       "      <td>115712 i understand i would like to assist you...</td>\n",
       "    </tr>\n",
       "    <tr>\n",
       "      <th>1</th>\n",
       "      <td>@sprintcare and how do you propose we do that</td>\n",
       "      <td>@sprintcare and how do you propose we do that</td>\n",
       "      <td>sprintcare and how do you propose we do that</td>\n",
       "    </tr>\n",
       "    <tr>\n",
       "      <th>2</th>\n",
       "      <td>@sprintcare I have sent several private messag...</td>\n",
       "      <td>@sprintcare i have sent several private messag...</td>\n",
       "      <td>sprintcare i have sent several private message...</td>\n",
       "    </tr>\n",
       "    <tr>\n",
       "      <th>3</th>\n",
       "      <td>@115712 Please send us a Private Message so th...</td>\n",
       "      <td>@115712 please send us a private message so th...</td>\n",
       "      <td>115712 please send us a private message so tha...</td>\n",
       "    </tr>\n",
       "    <tr>\n",
       "      <th>4</th>\n",
       "      <td>@sprintcare I did.</td>\n",
       "      <td>@sprintcare i did.</td>\n",
       "      <td>sprintcare i did</td>\n",
       "    </tr>\n",
       "  </tbody>\n",
       "</table>\n",
       "</div>"
      ],
      "text/plain": [
       "                                                text  \\\n",
       "0  @115712 I understand. I would like to assist y...   \n",
       "1      @sprintcare and how do you propose we do that   \n",
       "2  @sprintcare I have sent several private messag...   \n",
       "3  @115712 Please send us a Private Message so th...   \n",
       "4                                 @sprintcare I did.   \n",
       "\n",
       "                                          text_lower  \\\n",
       "0  @115712 i understand. i would like to assist y...   \n",
       "1      @sprintcare and how do you propose we do that   \n",
       "2  @sprintcare i have sent several private messag...   \n",
       "3  @115712 please send us a private message so th...   \n",
       "4                                 @sprintcare i did.   \n",
       "\n",
       "                                text_wo_punctuations  \n",
       "0  115712 i understand i would like to assist you...  \n",
       "1       sprintcare and how do you propose we do that  \n",
       "2  sprintcare i have sent several private message...  \n",
       "3  115712 please send us a private message so tha...  \n",
       "4                                   sprintcare i did  "
      ]
     },
     "execution_count": 7,
     "metadata": {},
     "output_type": "execute_result"
    }
   ],
   "source": [
    "punctuations = string.punctuation\n",
    "print(punctuations)\n",
    "\n",
    "%timeit\n",
    "def remove_punctuations(text):\n",
    "    return text.translate(str.maketrans('','',punctuations))\n",
    "    \n",
    "\n",
    "textDF['text_wo_punctuations'] = textDF['text_lower'].apply(lambda text: remove_punctuations(text))\n",
    "textDF.head(5)"
   ]
  },
  {
   "cell_type": "markdown",
   "id": "3f292c3f",
   "metadata": {},
   "source": [
    "<div> Remove Emojis </div>"
   ]
  },
  {
   "cell_type": "code",
   "execution_count": 9,
   "id": "54f54cca",
   "metadata": {},
   "outputs": [
    {
     "name": "stderr",
     "output_type": "stream",
     "text": [
      "C:\\Users\\Crolw\\AppData\\Local\\Temp\\ipykernel_22452\\3645892192.py:2: SettingWithCopyWarning: \n",
      "A value is trying to be set on a copy of a slice from a DataFrame.\n",
      "Try using .loc[row_indexer,col_indexer] = value instead\n",
      "\n",
      "See the caveats in the documentation: https://pandas.pydata.org/pandas-docs/stable/user_guide/indexing.html#returning-a-view-versus-a-copy\n",
      "  textDF['text_wo_emojis'] = textDF['text_wo_punctuations'].apply(lambda text: emojiPattern.sub(r'', text))\n"
     ]
    },
    {
     "data": {
      "text/html": [
       "<div>\n",
       "<style scoped>\n",
       "    .dataframe tbody tr th:only-of-type {\n",
       "        vertical-align: middle;\n",
       "    }\n",
       "\n",
       "    .dataframe tbody tr th {\n",
       "        vertical-align: top;\n",
       "    }\n",
       "\n",
       "    .dataframe thead th {\n",
       "        text-align: right;\n",
       "    }\n",
       "</style>\n",
       "<table border=\"1\" class=\"dataframe\">\n",
       "  <thead>\n",
       "    <tr style=\"text-align: right;\">\n",
       "      <th></th>\n",
       "      <th>text</th>\n",
       "      <th>text_lower</th>\n",
       "      <th>text_wo_punctuations</th>\n",
       "      <th>text_wo_emojis</th>\n",
       "    </tr>\n",
       "  </thead>\n",
       "  <tbody>\n",
       "    <tr>\n",
       "      <th>2811769</th>\n",
       "      <td>@823869 Hey, we'd be happy to look into this f...</td>\n",
       "      <td>@823869 hey, we'd be happy to look into this f...</td>\n",
       "      <td>823869 hey wed be happy to look into this for ...</td>\n",
       "      <td>823869 hey wed be happy to look into this for ...</td>\n",
       "    </tr>\n",
       "    <tr>\n",
       "      <th>2811770</th>\n",
       "      <td>@115714 wtf!? I’ve been having really shitty s...</td>\n",
       "      <td>@115714 wtf!? i’ve been having really shitty s...</td>\n",
       "      <td>115714 wtf i’ve been having really shitty serv...</td>\n",
       "      <td>115714 wtf i’ve been having really shitty serv...</td>\n",
       "    </tr>\n",
       "    <tr>\n",
       "      <th>2811771</th>\n",
       "      <td>@143549 @sprintcare You have to go to https://...</td>\n",
       "      <td>@143549 @sprintcare you have to go to https://...</td>\n",
       "      <td>143549 sprintcare you have to go to httpstcov2...</td>\n",
       "      <td>143549 sprintcare you have to go to httpstcov2...</td>\n",
       "    </tr>\n",
       "    <tr>\n",
       "      <th>2811772</th>\n",
       "      <td>@823870 Sounds delicious, Sarah! 😋 https://t.c...</td>\n",
       "      <td>@823870 sounds delicious, sarah! 😋 https://t.c...</td>\n",
       "      <td>823870 sounds delicious sarah 😋 httpstco7uqpwy...</td>\n",
       "      <td>823870 sounds delicious sarah  httpstco7uqpwyh1b6</td>\n",
       "    </tr>\n",
       "    <tr>\n",
       "      <th>2811773</th>\n",
       "      <td>@AldiUK  warm sloe gin mince pies with ice cre...</td>\n",
       "      <td>@aldiuk  warm sloe gin mince pies with ice cre...</td>\n",
       "      <td>aldiuk  warm sloe gin mince pies with ice crea...</td>\n",
       "      <td>aldiuk  warm sloe gin mince pies with ice crea...</td>\n",
       "    </tr>\n",
       "  </tbody>\n",
       "</table>\n",
       "</div>"
      ],
      "text/plain": [
       "                                                      text  \\\n",
       "2811769  @823869 Hey, we'd be happy to look into this f...   \n",
       "2811770  @115714 wtf!? I’ve been having really shitty s...   \n",
       "2811771  @143549 @sprintcare You have to go to https://...   \n",
       "2811772  @823870 Sounds delicious, Sarah! 😋 https://t.c...   \n",
       "2811773  @AldiUK  warm sloe gin mince pies with ice cre...   \n",
       "\n",
       "                                                text_lower  \\\n",
       "2811769  @823869 hey, we'd be happy to look into this f...   \n",
       "2811770  @115714 wtf!? i’ve been having really shitty s...   \n",
       "2811771  @143549 @sprintcare you have to go to https://...   \n",
       "2811772  @823870 sounds delicious, sarah! 😋 https://t.c...   \n",
       "2811773  @aldiuk  warm sloe gin mince pies with ice cre...   \n",
       "\n",
       "                                      text_wo_punctuations  \\\n",
       "2811769  823869 hey wed be happy to look into this for ...   \n",
       "2811770  115714 wtf i’ve been having really shitty serv...   \n",
       "2811771  143549 sprintcare you have to go to httpstcov2...   \n",
       "2811772  823870 sounds delicious sarah 😋 httpstco7uqpwy...   \n",
       "2811773  aldiuk  warm sloe gin mince pies with ice crea...   \n",
       "\n",
       "                                            text_wo_emojis  \n",
       "2811769  823869 hey wed be happy to look into this for ...  \n",
       "2811770  115714 wtf i’ve been having really shitty serv...  \n",
       "2811771  143549 sprintcare you have to go to httpstcov2...  \n",
       "2811772  823870 sounds delicious sarah  httpstco7uqpwyh1b6  \n",
       "2811773  aldiuk  warm sloe gin mince pies with ice crea...  "
      ]
     },
     "execution_count": 9,
     "metadata": {},
     "output_type": "execute_result"
    }
   ],
   "source": [
    "emojiPattern = re.compile(\"[\"u\"\\U0001F600-\\U0001F64F\"\"]+\", flags=re.UNICODE)\n",
    "textDF['text_wo_emojis'] = textDF['text_wo_punctuations'].apply(lambda text: emojiPattern.sub(r'', text))\n",
    "textDF.tail(5)"
   ]
  },
  {
   "cell_type": "markdown",
   "id": "277a9466",
   "metadata": {},
   "source": [
    "<div> Remove URLs </div>"
   ]
  },
  {
   "cell_type": "code",
   "execution_count": 10,
   "id": "ecbfff6e",
   "metadata": {},
   "outputs": [
    {
     "name": "stderr",
     "output_type": "stream",
     "text": [
      "C:\\Users\\Crolw\\AppData\\Local\\Temp\\ipykernel_22452\\3549873081.py:1: FutureWarning: The default value of regex will change from True to False in a future version.\n",
      "  textDF[\"text_wo_url\"] = textDF[\"text_wo_emojis\"].str.replace(r'\\s*https?://\\S+(\\s+|$)', ' ').str.strip()\n",
      "C:\\Users\\Crolw\\AppData\\Local\\Temp\\ipykernel_22452\\3549873081.py:1: SettingWithCopyWarning: \n",
      "A value is trying to be set on a copy of a slice from a DataFrame.\n",
      "Try using .loc[row_indexer,col_indexer] = value instead\n",
      "\n",
      "See the caveats in the documentation: https://pandas.pydata.org/pandas-docs/stable/user_guide/indexing.html#returning-a-view-versus-a-copy\n",
      "  textDF[\"text_wo_url\"] = textDF[\"text_wo_emojis\"].str.replace(r'\\s*https?://\\S+(\\s+|$)', ' ').str.strip()\n"
     ]
    },
    {
     "data": {
      "text/html": [
       "<div>\n",
       "<style scoped>\n",
       "    .dataframe tbody tr th:only-of-type {\n",
       "        vertical-align: middle;\n",
       "    }\n",
       "\n",
       "    .dataframe tbody tr th {\n",
       "        vertical-align: top;\n",
       "    }\n",
       "\n",
       "    .dataframe thead th {\n",
       "        text-align: right;\n",
       "    }\n",
       "</style>\n",
       "<table border=\"1\" class=\"dataframe\">\n",
       "  <thead>\n",
       "    <tr style=\"text-align: right;\">\n",
       "      <th></th>\n",
       "      <th>text</th>\n",
       "      <th>text_lower</th>\n",
       "      <th>text_wo_punctuations</th>\n",
       "      <th>text_wo_emojis</th>\n",
       "      <th>text_wo_url</th>\n",
       "    </tr>\n",
       "  </thead>\n",
       "  <tbody>\n",
       "    <tr>\n",
       "      <th>2811769</th>\n",
       "      <td>@823869 Hey, we'd be happy to look into this f...</td>\n",
       "      <td>@823869 hey, we'd be happy to look into this f...</td>\n",
       "      <td>823869 hey wed be happy to look into this for ...</td>\n",
       "      <td>823869 hey wed be happy to look into this for ...</td>\n",
       "      <td>823869 hey wed be happy to look into this for ...</td>\n",
       "    </tr>\n",
       "    <tr>\n",
       "      <th>2811770</th>\n",
       "      <td>@115714 wtf!? I’ve been having really shitty s...</td>\n",
       "      <td>@115714 wtf!? i’ve been having really shitty s...</td>\n",
       "      <td>115714 wtf i’ve been having really shitty serv...</td>\n",
       "      <td>115714 wtf i’ve been having really shitty serv...</td>\n",
       "      <td>115714 wtf i’ve been having really shitty serv...</td>\n",
       "    </tr>\n",
       "    <tr>\n",
       "      <th>2811771</th>\n",
       "      <td>@143549 @sprintcare You have to go to https://...</td>\n",
       "      <td>@143549 @sprintcare you have to go to https://...</td>\n",
       "      <td>143549 sprintcare you have to go to httpstcov2...</td>\n",
       "      <td>143549 sprintcare you have to go to httpstcov2...</td>\n",
       "      <td>143549 sprintcare you have to go to httpstcov2...</td>\n",
       "    </tr>\n",
       "    <tr>\n",
       "      <th>2811772</th>\n",
       "      <td>@823870 Sounds delicious, Sarah! 😋 https://t.c...</td>\n",
       "      <td>@823870 sounds delicious, sarah! 😋 https://t.c...</td>\n",
       "      <td>823870 sounds delicious sarah 😋 httpstco7uqpwy...</td>\n",
       "      <td>823870 sounds delicious sarah  httpstco7uqpwyh1b6</td>\n",
       "      <td>823870 sounds delicious sarah  httpstco7uqpwyh1b6</td>\n",
       "    </tr>\n",
       "    <tr>\n",
       "      <th>2811773</th>\n",
       "      <td>@AldiUK  warm sloe gin mince pies with ice cre...</td>\n",
       "      <td>@aldiuk  warm sloe gin mince pies with ice cre...</td>\n",
       "      <td>aldiuk  warm sloe gin mince pies with ice crea...</td>\n",
       "      <td>aldiuk  warm sloe gin mince pies with ice crea...</td>\n",
       "      <td>aldiuk  warm sloe gin mince pies with ice crea...</td>\n",
       "    </tr>\n",
       "  </tbody>\n",
       "</table>\n",
       "</div>"
      ],
      "text/plain": [
       "                                                      text  \\\n",
       "2811769  @823869 Hey, we'd be happy to look into this f...   \n",
       "2811770  @115714 wtf!? I’ve been having really shitty s...   \n",
       "2811771  @143549 @sprintcare You have to go to https://...   \n",
       "2811772  @823870 Sounds delicious, Sarah! 😋 https://t.c...   \n",
       "2811773  @AldiUK  warm sloe gin mince pies with ice cre...   \n",
       "\n",
       "                                                text_lower  \\\n",
       "2811769  @823869 hey, we'd be happy to look into this f...   \n",
       "2811770  @115714 wtf!? i’ve been having really shitty s...   \n",
       "2811771  @143549 @sprintcare you have to go to https://...   \n",
       "2811772  @823870 sounds delicious, sarah! 😋 https://t.c...   \n",
       "2811773  @aldiuk  warm sloe gin mince pies with ice cre...   \n",
       "\n",
       "                                      text_wo_punctuations  \\\n",
       "2811769  823869 hey wed be happy to look into this for ...   \n",
       "2811770  115714 wtf i’ve been having really shitty serv...   \n",
       "2811771  143549 sprintcare you have to go to httpstcov2...   \n",
       "2811772  823870 sounds delicious sarah 😋 httpstco7uqpwy...   \n",
       "2811773  aldiuk  warm sloe gin mince pies with ice crea...   \n",
       "\n",
       "                                            text_wo_emojis  \\\n",
       "2811769  823869 hey wed be happy to look into this for ...   \n",
       "2811770  115714 wtf i’ve been having really shitty serv...   \n",
       "2811771  143549 sprintcare you have to go to httpstcov2...   \n",
       "2811772  823870 sounds delicious sarah  httpstco7uqpwyh1b6   \n",
       "2811773  aldiuk  warm sloe gin mince pies with ice crea...   \n",
       "\n",
       "                                               text_wo_url  \n",
       "2811769  823869 hey wed be happy to look into this for ...  \n",
       "2811770  115714 wtf i’ve been having really shitty serv...  \n",
       "2811771  143549 sprintcare you have to go to httpstcov2...  \n",
       "2811772  823870 sounds delicious sarah  httpstco7uqpwyh1b6  \n",
       "2811773  aldiuk  warm sloe gin mince pies with ice crea...  "
      ]
     },
     "execution_count": 10,
     "metadata": {},
     "output_type": "execute_result"
    }
   ],
   "source": [
    "textDF[\"text_wo_url\"] = textDF[\"text_wo_emojis\"].str.replace(r'\\s*https?://\\S+(\\s+|$)', ' ').str.strip()\n",
    "textDF.tail(5)"
   ]
  },
  {
   "cell_type": "markdown",
   "id": "7041194d",
   "metadata": {},
   "source": [
    "<div> Remove Stopwords </div>"
   ]
  },
  {
   "cell_type": "code",
   "execution_count": 11,
   "id": "076538ad",
   "metadata": {},
   "outputs": [
    {
     "name": "stderr",
     "output_type": "stream",
     "text": [
      "C:\\Users\\Crolw\\AppData\\Local\\Temp\\ipykernel_22452\\1074926294.py:8: SettingWithCopyWarning: \n",
      "A value is trying to be set on a copy of a slice from a DataFrame.\n",
      "Try using .loc[row_indexer,col_indexer] = value instead\n",
      "\n",
      "See the caveats in the documentation: https://pandas.pydata.org/pandas-docs/stable/user_guide/indexing.html#returning-a-view-versus-a-copy\n",
      "  textDF['text_wo_stop'] = textDF['text_wo_url'].apply(lambda text: remove_stopwords(text))\n"
     ]
    },
    {
     "data": {
      "text/html": [
       "<div>\n",
       "<style scoped>\n",
       "    .dataframe tbody tr th:only-of-type {\n",
       "        vertical-align: middle;\n",
       "    }\n",
       "\n",
       "    .dataframe tbody tr th {\n",
       "        vertical-align: top;\n",
       "    }\n",
       "\n",
       "    .dataframe thead th {\n",
       "        text-align: right;\n",
       "    }\n",
       "</style>\n",
       "<table border=\"1\" class=\"dataframe\">\n",
       "  <thead>\n",
       "    <tr style=\"text-align: right;\">\n",
       "      <th></th>\n",
       "      <th>text</th>\n",
       "      <th>text_lower</th>\n",
       "      <th>text_wo_punctuations</th>\n",
       "      <th>text_wo_emojis</th>\n",
       "      <th>text_wo_url</th>\n",
       "      <th>text_wo_stop</th>\n",
       "    </tr>\n",
       "  </thead>\n",
       "  <tbody>\n",
       "    <tr>\n",
       "      <th>2811769</th>\n",
       "      <td>@823869 Hey, we'd be happy to look into this f...</td>\n",
       "      <td>@823869 hey, we'd be happy to look into this f...</td>\n",
       "      <td>823869 hey wed be happy to look into this for ...</td>\n",
       "      <td>823869 hey wed be happy to look into this for ...</td>\n",
       "      <td>823869 hey wed be happy to look into this for ...</td>\n",
       "      <td>823869 hey wed happy look please send us direc...</td>\n",
       "    </tr>\n",
       "    <tr>\n",
       "      <th>2811770</th>\n",
       "      <td>@115714 wtf!? I’ve been having really shitty s...</td>\n",
       "      <td>@115714 wtf!? i’ve been having really shitty s...</td>\n",
       "      <td>115714 wtf i’ve been having really shitty serv...</td>\n",
       "      <td>115714 wtf i’ve been having really shitty serv...</td>\n",
       "      <td>115714 wtf i’ve been having really shitty serv...</td>\n",
       "      <td>115714 wtf i’ve really shitty service day get ...</td>\n",
       "    </tr>\n",
       "    <tr>\n",
       "      <th>2811771</th>\n",
       "      <td>@143549 @sprintcare You have to go to https://...</td>\n",
       "      <td>@143549 @sprintcare you have to go to https://...</td>\n",
       "      <td>143549 sprintcare you have to go to httpstcov2...</td>\n",
       "      <td>143549 sprintcare you have to go to httpstcov2...</td>\n",
       "      <td>143549 sprintcare you have to go to httpstcov2...</td>\n",
       "      <td>143549 sprintcare go httpstcov2tmhetl7q ask ad...</td>\n",
       "    </tr>\n",
       "    <tr>\n",
       "      <th>2811772</th>\n",
       "      <td>@823870 Sounds delicious, Sarah! 😋 https://t.c...</td>\n",
       "      <td>@823870 sounds delicious, sarah! 😋 https://t.c...</td>\n",
       "      <td>823870 sounds delicious sarah 😋 httpstco7uqpwy...</td>\n",
       "      <td>823870 sounds delicious sarah  httpstco7uqpwyh1b6</td>\n",
       "      <td>823870 sounds delicious sarah  httpstco7uqpwyh1b6</td>\n",
       "      <td>823870 sounds delicious sarah httpstco7uqpwyh1b6</td>\n",
       "    </tr>\n",
       "    <tr>\n",
       "      <th>2811773</th>\n",
       "      <td>@AldiUK  warm sloe gin mince pies with ice cre...</td>\n",
       "      <td>@aldiuk  warm sloe gin mince pies with ice cre...</td>\n",
       "      <td>aldiuk  warm sloe gin mince pies with ice crea...</td>\n",
       "      <td>aldiuk  warm sloe gin mince pies with ice crea...</td>\n",
       "      <td>aldiuk  warm sloe gin mince pies with ice crea...</td>\n",
       "      <td>aldiuk warm sloe gin mince pies ice cream best...</td>\n",
       "    </tr>\n",
       "  </tbody>\n",
       "</table>\n",
       "</div>"
      ],
      "text/plain": [
       "                                                      text  \\\n",
       "2811769  @823869 Hey, we'd be happy to look into this f...   \n",
       "2811770  @115714 wtf!? I’ve been having really shitty s...   \n",
       "2811771  @143549 @sprintcare You have to go to https://...   \n",
       "2811772  @823870 Sounds delicious, Sarah! 😋 https://t.c...   \n",
       "2811773  @AldiUK  warm sloe gin mince pies with ice cre...   \n",
       "\n",
       "                                                text_lower  \\\n",
       "2811769  @823869 hey, we'd be happy to look into this f...   \n",
       "2811770  @115714 wtf!? i’ve been having really shitty s...   \n",
       "2811771  @143549 @sprintcare you have to go to https://...   \n",
       "2811772  @823870 sounds delicious, sarah! 😋 https://t.c...   \n",
       "2811773  @aldiuk  warm sloe gin mince pies with ice cre...   \n",
       "\n",
       "                                      text_wo_punctuations  \\\n",
       "2811769  823869 hey wed be happy to look into this for ...   \n",
       "2811770  115714 wtf i’ve been having really shitty serv...   \n",
       "2811771  143549 sprintcare you have to go to httpstcov2...   \n",
       "2811772  823870 sounds delicious sarah 😋 httpstco7uqpwy...   \n",
       "2811773  aldiuk  warm sloe gin mince pies with ice crea...   \n",
       "\n",
       "                                            text_wo_emojis  \\\n",
       "2811769  823869 hey wed be happy to look into this for ...   \n",
       "2811770  115714 wtf i’ve been having really shitty serv...   \n",
       "2811771  143549 sprintcare you have to go to httpstcov2...   \n",
       "2811772  823870 sounds delicious sarah  httpstco7uqpwyh1b6   \n",
       "2811773  aldiuk  warm sloe gin mince pies with ice crea...   \n",
       "\n",
       "                                               text_wo_url  \\\n",
       "2811769  823869 hey wed be happy to look into this for ...   \n",
       "2811770  115714 wtf i’ve been having really shitty serv...   \n",
       "2811771  143549 sprintcare you have to go to httpstcov2...   \n",
       "2811772  823870 sounds delicious sarah  httpstco7uqpwyh1b6   \n",
       "2811773  aldiuk  warm sloe gin mince pies with ice crea...   \n",
       "\n",
       "                                              text_wo_stop  \n",
       "2811769  823869 hey wed happy look please send us direc...  \n",
       "2811770  115714 wtf i’ve really shitty service day get ...  \n",
       "2811771  143549 sprintcare go httpstcov2tmhetl7q ask ad...  \n",
       "2811772   823870 sounds delicious sarah httpstco7uqpwyh1b6  \n",
       "2811773  aldiuk warm sloe gin mince pies ice cream best...  "
      ]
     },
     "execution_count": 11,
     "metadata": {},
     "output_type": "execute_result"
    }
   ],
   "source": [
    "', '.join(stopwords.words('english'))\n",
    "\n",
    "stopwords_set = set(stopwords.words('english'))\n",
    "def remove_stopwords(text):\n",
    "    return ' '.join(words for words in str(text).split() if words not in stopwords_set)\n",
    "    \n",
    "\n",
    "textDF['text_wo_stop'] = textDF['text_wo_url'].apply(lambda text: remove_stopwords(text))\n",
    "textDF.tail(5)"
   ]
  },
  {
   "cell_type": "markdown",
   "id": "fddfd346",
   "metadata": {},
   "source": [
    "<div> Stem and Lemmatize Text </div>"
   ]
  },
  {
   "cell_type": "code",
   "execution_count": 12,
   "id": "8218b8d1",
   "metadata": {},
   "outputs": [],
   "source": [
    "stemmer = PorterStemmer()\n",
    "lemmatizer = WordNetLemmatizer()"
   ]
  },
  {
   "cell_type": "code",
   "execution_count": 13,
   "id": "4b749b84",
   "metadata": {},
   "outputs": [],
   "source": [
    "# Lemmanize every word\n",
    "textDF['text_lem_stem'] = textDF['text_wo_stop'].apply(lambda text: ' '.join([lemmatizer.lemmatize(word)\n",
    "                            if lemmatizer.lemmatize(word).endswith('e') else stemmer.stem(word) for word in text.split()]))"
   ]
  },
  {
   "cell_type": "code",
   "execution_count": 14,
   "id": "9c2a4f70",
   "metadata": {},
   "outputs": [
    {
     "data": {
      "text/html": [
       "<div>\n",
       "<style scoped>\n",
       "    .dataframe tbody tr th:only-of-type {\n",
       "        vertical-align: middle;\n",
       "    }\n",
       "\n",
       "    .dataframe tbody tr th {\n",
       "        vertical-align: top;\n",
       "    }\n",
       "\n",
       "    .dataframe thead th {\n",
       "        text-align: right;\n",
       "    }\n",
       "</style>\n",
       "<table border=\"1\" class=\"dataframe\">\n",
       "  <thead>\n",
       "    <tr style=\"text-align: right;\">\n",
       "      <th></th>\n",
       "      <th>text</th>\n",
       "      <th>text_lower</th>\n",
       "      <th>text_wo_punctuations</th>\n",
       "      <th>text_wo_emojis</th>\n",
       "      <th>text_wo_url</th>\n",
       "      <th>text_wo_stop</th>\n",
       "      <th>text_lem_stem</th>\n",
       "    </tr>\n",
       "  </thead>\n",
       "  <tbody>\n",
       "    <tr>\n",
       "      <th>0</th>\n",
       "      <td>@115712 I understand. I would like to assist y...</td>\n",
       "      <td>@115712 i understand. i would like to assist y...</td>\n",
       "      <td>115712 i understand i would like to assist you...</td>\n",
       "      <td>115712 i understand i would like to assist you...</td>\n",
       "      <td>115712 i understand i would like to assist you...</td>\n",
       "      <td>115712 understand would like assist would need...</td>\n",
       "      <td>115712 understand would like assist would need...</td>\n",
       "    </tr>\n",
       "    <tr>\n",
       "      <th>1</th>\n",
       "      <td>@sprintcare and how do you propose we do that</td>\n",
       "      <td>@sprintcare and how do you propose we do that</td>\n",
       "      <td>sprintcare and how do you propose we do that</td>\n",
       "      <td>sprintcare and how do you propose we do that</td>\n",
       "      <td>sprintcare and how do you propose we do that</td>\n",
       "      <td>sprintcare propose</td>\n",
       "      <td>sprintcare propose</td>\n",
       "    </tr>\n",
       "    <tr>\n",
       "      <th>2</th>\n",
       "      <td>@sprintcare I have sent several private messag...</td>\n",
       "      <td>@sprintcare i have sent several private messag...</td>\n",
       "      <td>sprintcare i have sent several private message...</td>\n",
       "      <td>sprintcare i have sent several private message...</td>\n",
       "      <td>sprintcare i have sent several private message...</td>\n",
       "      <td>sprintcare sent several private messages one r...</td>\n",
       "      <td>sprintcare sent sever private message one resp...</td>\n",
       "    </tr>\n",
       "    <tr>\n",
       "      <th>3</th>\n",
       "      <td>@115712 Please send us a Private Message so th...</td>\n",
       "      <td>@115712 please send us a private message so th...</td>\n",
       "      <td>115712 please send us a private message so tha...</td>\n",
       "      <td>115712 please send us a private message so tha...</td>\n",
       "      <td>115712 please send us a private message so tha...</td>\n",
       "      <td>115712 please send us private message assist c...</td>\n",
       "      <td>115712 please send us private message assist c...</td>\n",
       "    </tr>\n",
       "    <tr>\n",
       "      <th>4</th>\n",
       "      <td>@sprintcare I did.</td>\n",
       "      <td>@sprintcare i did.</td>\n",
       "      <td>sprintcare i did</td>\n",
       "      <td>sprintcare i did</td>\n",
       "      <td>sprintcare i did</td>\n",
       "      <td>sprintcare</td>\n",
       "      <td>sprintcare</td>\n",
       "    </tr>\n",
       "    <tr>\n",
       "      <th>5</th>\n",
       "      <td>@115712 Can you please send us a private messa...</td>\n",
       "      <td>@115712 can you please send us a private messa...</td>\n",
       "      <td>115712 can you please send us a private messag...</td>\n",
       "      <td>115712 can you please send us a private messag...</td>\n",
       "      <td>115712 can you please send us a private messag...</td>\n",
       "      <td>115712 please send us private message gain det...</td>\n",
       "      <td>115712 please send us private message gain det...</td>\n",
       "    </tr>\n",
       "    <tr>\n",
       "      <th>6</th>\n",
       "      <td>@sprintcare is the worst customer service</td>\n",
       "      <td>@sprintcare is the worst customer service</td>\n",
       "      <td>sprintcare is the worst customer service</td>\n",
       "      <td>sprintcare is the worst customer service</td>\n",
       "      <td>sprintcare is the worst customer service</td>\n",
       "      <td>sprintcare worst customer service</td>\n",
       "      <td>sprintcare worst custom service</td>\n",
       "    </tr>\n",
       "    <tr>\n",
       "      <th>7</th>\n",
       "      <td>@115713 This is saddening to hear. Please shoo...</td>\n",
       "      <td>@115713 this is saddening to hear. please shoo...</td>\n",
       "      <td>115713 this is saddening to hear please shoot ...</td>\n",
       "      <td>115713 this is saddening to hear please shoot ...</td>\n",
       "      <td>115713 this is saddening to hear please shoot ...</td>\n",
       "      <td>115713 saddening hear please shoot us dm look kc</td>\n",
       "      <td>115713 sadden hear please shoot us dm look kc</td>\n",
       "    </tr>\n",
       "    <tr>\n",
       "      <th>8</th>\n",
       "      <td>@sprintcare You gonna magically change your co...</td>\n",
       "      <td>@sprintcare you gonna magically change your co...</td>\n",
       "      <td>sprintcare you gonna magically change your con...</td>\n",
       "      <td>sprintcare you gonna magically change your con...</td>\n",
       "      <td>sprintcare you gonna magically change your con...</td>\n",
       "      <td>sprintcare gonna magically change connectivity...</td>\n",
       "      <td>sprintcare gonna magic change connect whole fa...</td>\n",
       "    </tr>\n",
       "    <tr>\n",
       "      <th>9</th>\n",
       "      <td>@115713 We understand your concerns and we'd l...</td>\n",
       "      <td>@115713 we understand your concerns and we'd l...</td>\n",
       "      <td>115713 we understand your concerns and wed lik...</td>\n",
       "      <td>115713 we understand your concerns and wed lik...</td>\n",
       "      <td>115713 we understand your concerns and wed lik...</td>\n",
       "      <td>115713 understand concerns wed like please sen...</td>\n",
       "      <td>115713 understand concern wed like please send...</td>\n",
       "    </tr>\n",
       "  </tbody>\n",
       "</table>\n",
       "</div>"
      ],
      "text/plain": [
       "                                                text  \\\n",
       "0  @115712 I understand. I would like to assist y...   \n",
       "1      @sprintcare and how do you propose we do that   \n",
       "2  @sprintcare I have sent several private messag...   \n",
       "3  @115712 Please send us a Private Message so th...   \n",
       "4                                 @sprintcare I did.   \n",
       "5  @115712 Can you please send us a private messa...   \n",
       "6          @sprintcare is the worst customer service   \n",
       "7  @115713 This is saddening to hear. Please shoo...   \n",
       "8  @sprintcare You gonna magically change your co...   \n",
       "9  @115713 We understand your concerns and we'd l...   \n",
       "\n",
       "                                          text_lower  \\\n",
       "0  @115712 i understand. i would like to assist y...   \n",
       "1      @sprintcare and how do you propose we do that   \n",
       "2  @sprintcare i have sent several private messag...   \n",
       "3  @115712 please send us a private message so th...   \n",
       "4                                 @sprintcare i did.   \n",
       "5  @115712 can you please send us a private messa...   \n",
       "6          @sprintcare is the worst customer service   \n",
       "7  @115713 this is saddening to hear. please shoo...   \n",
       "8  @sprintcare you gonna magically change your co...   \n",
       "9  @115713 we understand your concerns and we'd l...   \n",
       "\n",
       "                                text_wo_punctuations  \\\n",
       "0  115712 i understand i would like to assist you...   \n",
       "1       sprintcare and how do you propose we do that   \n",
       "2  sprintcare i have sent several private message...   \n",
       "3  115712 please send us a private message so tha...   \n",
       "4                                   sprintcare i did   \n",
       "5  115712 can you please send us a private messag...   \n",
       "6           sprintcare is the worst customer service   \n",
       "7  115713 this is saddening to hear please shoot ...   \n",
       "8  sprintcare you gonna magically change your con...   \n",
       "9  115713 we understand your concerns and wed lik...   \n",
       "\n",
       "                                      text_wo_emojis  \\\n",
       "0  115712 i understand i would like to assist you...   \n",
       "1       sprintcare and how do you propose we do that   \n",
       "2  sprintcare i have sent several private message...   \n",
       "3  115712 please send us a private message so tha...   \n",
       "4                                   sprintcare i did   \n",
       "5  115712 can you please send us a private messag...   \n",
       "6           sprintcare is the worst customer service   \n",
       "7  115713 this is saddening to hear please shoot ...   \n",
       "8  sprintcare you gonna magically change your con...   \n",
       "9  115713 we understand your concerns and wed lik...   \n",
       "\n",
       "                                         text_wo_url  \\\n",
       "0  115712 i understand i would like to assist you...   \n",
       "1       sprintcare and how do you propose we do that   \n",
       "2  sprintcare i have sent several private message...   \n",
       "3  115712 please send us a private message so tha...   \n",
       "4                                   sprintcare i did   \n",
       "5  115712 can you please send us a private messag...   \n",
       "6           sprintcare is the worst customer service   \n",
       "7  115713 this is saddening to hear please shoot ...   \n",
       "8  sprintcare you gonna magically change your con...   \n",
       "9  115713 we understand your concerns and wed lik...   \n",
       "\n",
       "                                        text_wo_stop  \\\n",
       "0  115712 understand would like assist would need...   \n",
       "1                                 sprintcare propose   \n",
       "2  sprintcare sent several private messages one r...   \n",
       "3  115712 please send us private message assist c...   \n",
       "4                                         sprintcare   \n",
       "5  115712 please send us private message gain det...   \n",
       "6                  sprintcare worst customer service   \n",
       "7   115713 saddening hear please shoot us dm look kc   \n",
       "8  sprintcare gonna magically change connectivity...   \n",
       "9  115713 understand concerns wed like please sen...   \n",
       "\n",
       "                                       text_lem_stem  \n",
       "0  115712 understand would like assist would need...  \n",
       "1                                 sprintcare propose  \n",
       "2  sprintcare sent sever private message one resp...  \n",
       "3  115712 please send us private message assist c...  \n",
       "4                                         sprintcare  \n",
       "5  115712 please send us private message gain det...  \n",
       "6                    sprintcare worst custom service  \n",
       "7      115713 sadden hear please shoot us dm look kc  \n",
       "8  sprintcare gonna magic change connect whole fa...  \n",
       "9  115713 understand concern wed like please send...  "
      ]
     },
     "execution_count": 14,
     "metadata": {},
     "output_type": "execute_result"
    }
   ],
   "source": [
    "textDF.head(10)"
   ]
  },
  {
   "cell_type": "markdown",
   "id": "1be39f30",
   "metadata": {},
   "source": [
    "<div> Remove most common words </div>"
   ]
  },
  {
   "cell_type": "code",
   "execution_count": 15,
   "id": "596efb6b",
   "metadata": {},
   "outputs": [
    {
     "data": {
      "text/plain": [
       "[('us', 451298),\n",
       " ('please', 402790),\n",
       " ('dm', 341263),\n",
       " ('thank', 316000),\n",
       " ('help', 297449),\n",
       " ('get', 253455),\n",
       " ('hi', 224604),\n",
       " ('sorri', 192275),\n",
       " ('look', 176972),\n",
       " ('service', 157183),\n",
       " ('issue', 153148),\n",
       " ('like', 150205),\n",
       " ('let', 149264),\n",
       " ('send', 148950),\n",
       " ('know', 148298),\n",
       " ('well', 137339),\n",
       " ('amazonhelp', 137290),\n",
       " ('account', 134691),\n",
       " ('time', 131686),\n",
       " ('im', 131579)]"
      ]
     },
     "execution_count": 15,
     "metadata": {},
     "output_type": "execute_result"
    }
   ],
   "source": [
    "cnt = Counter()\n",
    "\n",
    "for text in textDF['text_lem_stem'].values:\n",
    "    for word in text.split():\n",
    "        cnt[word] +=1\n",
    "        \n",
    "cnt.most_common(20)"
   ]
  },
  {
   "cell_type": "code",
   "execution_count": 16,
   "id": "5a2d46bc",
   "metadata": {},
   "outputs": [
    {
     "data": {
      "text/html": [
       "<div>\n",
       "<style scoped>\n",
       "    .dataframe tbody tr th:only-of-type {\n",
       "        vertical-align: middle;\n",
       "    }\n",
       "\n",
       "    .dataframe tbody tr th {\n",
       "        vertical-align: top;\n",
       "    }\n",
       "\n",
       "    .dataframe thead th {\n",
       "        text-align: right;\n",
       "    }\n",
       "</style>\n",
       "<table border=\"1\" class=\"dataframe\">\n",
       "  <thead>\n",
       "    <tr style=\"text-align: right;\">\n",
       "      <th></th>\n",
       "      <th>text</th>\n",
       "      <th>text_lower</th>\n",
       "      <th>text_wo_punctuations</th>\n",
       "      <th>text_wo_emojis</th>\n",
       "      <th>text_wo_url</th>\n",
       "      <th>text_wo_stop</th>\n",
       "      <th>text_lem_stem</th>\n",
       "      <th>text_wo_freq</th>\n",
       "    </tr>\n",
       "  </thead>\n",
       "  <tbody>\n",
       "    <tr>\n",
       "      <th>2811769</th>\n",
       "      <td>@823869 Hey, we'd be happy to look into this f...</td>\n",
       "      <td>@823869 hey, we'd be happy to look into this f...</td>\n",
       "      <td>823869 hey wed be happy to look into this for ...</td>\n",
       "      <td>823869 hey wed be happy to look into this for ...</td>\n",
       "      <td>823869 hey wed be happy to look into this for ...</td>\n",
       "      <td>823869 hey wed happy look please send us direc...</td>\n",
       "      <td>823869 hey wed happi look please send us direc...</td>\n",
       "      <td>823869 hey wed happi send direct message assis...</td>\n",
       "    </tr>\n",
       "    <tr>\n",
       "      <th>2811770</th>\n",
       "      <td>@115714 wtf!? I’ve been having really shitty s...</td>\n",
       "      <td>@115714 wtf!? i’ve been having really shitty s...</td>\n",
       "      <td>115714 wtf i’ve been having really shitty serv...</td>\n",
       "      <td>115714 wtf i’ve been having really shitty serv...</td>\n",
       "      <td>115714 wtf i’ve been having really shitty serv...</td>\n",
       "      <td>115714 wtf i’ve really shitty service day get ...</td>\n",
       "      <td>115714 wtf i’ve realli shitti service day get ...</td>\n",
       "      <td>115714 wtf i’ve realli shitti day shit togeth</td>\n",
       "    </tr>\n",
       "    <tr>\n",
       "      <th>2811771</th>\n",
       "      <td>@143549 @sprintcare You have to go to https://...</td>\n",
       "      <td>@143549 @sprintcare you have to go to https://...</td>\n",
       "      <td>143549 sprintcare you have to go to httpstcov2...</td>\n",
       "      <td>143549 sprintcare you have to go to httpstcov2...</td>\n",
       "      <td>143549 sprintcare you have to go to httpstcov2...</td>\n",
       "      <td>143549 sprintcare go httpstcov2tmhetl7q ask ad...</td>\n",
       "      <td>143549 sprintcare go httpstcov2tmhetl7q ask ad...</td>\n",
       "      <td>143549 sprintcare go httpstcov2tmhetl7q ask ad...</td>\n",
       "    </tr>\n",
       "    <tr>\n",
       "      <th>2811772</th>\n",
       "      <td>@823870 Sounds delicious, Sarah! 😋 https://t.c...</td>\n",
       "      <td>@823870 sounds delicious, sarah! 😋 https://t.c...</td>\n",
       "      <td>823870 sounds delicious sarah 😋 httpstco7uqpwy...</td>\n",
       "      <td>823870 sounds delicious sarah  httpstco7uqpwyh1b6</td>\n",
       "      <td>823870 sounds delicious sarah  httpstco7uqpwyh1b6</td>\n",
       "      <td>823870 sounds delicious sarah httpstco7uqpwyh1b6</td>\n",
       "      <td>823870 sound delici sarah httpstco7uqpwyh1b6</td>\n",
       "      <td>823870 sound delici sarah httpstco7uqpwyh1b6</td>\n",
       "    </tr>\n",
       "    <tr>\n",
       "      <th>2811773</th>\n",
       "      <td>@AldiUK  warm sloe gin mince pies with ice cre...</td>\n",
       "      <td>@aldiuk  warm sloe gin mince pies with ice cre...</td>\n",
       "      <td>aldiuk  warm sloe gin mince pies with ice crea...</td>\n",
       "      <td>aldiuk  warm sloe gin mince pies with ice crea...</td>\n",
       "      <td>aldiuk  warm sloe gin mince pies with ice crea...</td>\n",
       "      <td>aldiuk warm sloe gin mince pies ice cream best...</td>\n",
       "      <td>aldiuk warm sloe gin mince pie ice cream best ...</td>\n",
       "      <td>aldiuk warm sloe gin mince pie ice cream best ...</td>\n",
       "    </tr>\n",
       "  </tbody>\n",
       "</table>\n",
       "</div>"
      ],
      "text/plain": [
       "                                                      text  \\\n",
       "2811769  @823869 Hey, we'd be happy to look into this f...   \n",
       "2811770  @115714 wtf!? I’ve been having really shitty s...   \n",
       "2811771  @143549 @sprintcare You have to go to https://...   \n",
       "2811772  @823870 Sounds delicious, Sarah! 😋 https://t.c...   \n",
       "2811773  @AldiUK  warm sloe gin mince pies with ice cre...   \n",
       "\n",
       "                                                text_lower  \\\n",
       "2811769  @823869 hey, we'd be happy to look into this f...   \n",
       "2811770  @115714 wtf!? i’ve been having really shitty s...   \n",
       "2811771  @143549 @sprintcare you have to go to https://...   \n",
       "2811772  @823870 sounds delicious, sarah! 😋 https://t.c...   \n",
       "2811773  @aldiuk  warm sloe gin mince pies with ice cre...   \n",
       "\n",
       "                                      text_wo_punctuations  \\\n",
       "2811769  823869 hey wed be happy to look into this for ...   \n",
       "2811770  115714 wtf i’ve been having really shitty serv...   \n",
       "2811771  143549 sprintcare you have to go to httpstcov2...   \n",
       "2811772  823870 sounds delicious sarah 😋 httpstco7uqpwy...   \n",
       "2811773  aldiuk  warm sloe gin mince pies with ice crea...   \n",
       "\n",
       "                                            text_wo_emojis  \\\n",
       "2811769  823869 hey wed be happy to look into this for ...   \n",
       "2811770  115714 wtf i’ve been having really shitty serv...   \n",
       "2811771  143549 sprintcare you have to go to httpstcov2...   \n",
       "2811772  823870 sounds delicious sarah  httpstco7uqpwyh1b6   \n",
       "2811773  aldiuk  warm sloe gin mince pies with ice crea...   \n",
       "\n",
       "                                               text_wo_url  \\\n",
       "2811769  823869 hey wed be happy to look into this for ...   \n",
       "2811770  115714 wtf i’ve been having really shitty serv...   \n",
       "2811771  143549 sprintcare you have to go to httpstcov2...   \n",
       "2811772  823870 sounds delicious sarah  httpstco7uqpwyh1b6   \n",
       "2811773  aldiuk  warm sloe gin mince pies with ice crea...   \n",
       "\n",
       "                                              text_wo_stop  \\\n",
       "2811769  823869 hey wed happy look please send us direc...   \n",
       "2811770  115714 wtf i’ve really shitty service day get ...   \n",
       "2811771  143549 sprintcare go httpstcov2tmhetl7q ask ad...   \n",
       "2811772   823870 sounds delicious sarah httpstco7uqpwyh1b6   \n",
       "2811773  aldiuk warm sloe gin mince pies ice cream best...   \n",
       "\n",
       "                                             text_lem_stem  \\\n",
       "2811769  823869 hey wed happi look please send us direc...   \n",
       "2811770  115714 wtf i’ve realli shitti service day get ...   \n",
       "2811771  143549 sprintcare go httpstcov2tmhetl7q ask ad...   \n",
       "2811772       823870 sound delici sarah httpstco7uqpwyh1b6   \n",
       "2811773  aldiuk warm sloe gin mince pie ice cream best ...   \n",
       "\n",
       "                                              text_wo_freq  \n",
       "2811769  823869 hey wed happi send direct message assis...  \n",
       "2811770      115714 wtf i’ve realli shitti day shit togeth  \n",
       "2811771  143549 sprintcare go httpstcov2tmhetl7q ask ad...  \n",
       "2811772       823870 sound delici sarah httpstco7uqpwyh1b6  \n",
       "2811773  aldiuk warm sloe gin mince pie ice cream best ...  "
      ]
     },
     "execution_count": 16,
     "metadata": {},
     "output_type": "execute_result"
    }
   ],
   "source": [
    "freqWords = set([w for (w,wc) in cnt.most_common(10)])\n",
    "\n",
    "def removeFreqwords(text):\n",
    "    return ' '.join(word for word in str(text).split() if word not in freqWords)\n",
    "\n",
    "textDF['text_wo_freq'] = textDF['text_lem_stem'].apply(lambda text:removeFreqwords(text))\n",
    "textDF.tail(5)"
   ]
  },
  {
   "cell_type": "markdown",
   "id": "00de0234",
   "metadata": {},
   "source": [
    "<div> Remove Rare Words </div>"
   ]
  },
  {
   "cell_type": "code",
   "execution_count": 17,
   "id": "cd3b8444",
   "metadata": {},
   "outputs": [
    {
     "name": "stdout",
     "output_type": "stream",
     "text": [
      "{'notjustxmasallyearround', '823867', 'httpstco4v1ft0th5x', '823868', 'httpstcogfyuq1kjtk', 'httpstcov2tmhetl7q', '823870', 'httpstco7uqpwyh1b6', '823869'}\n"
     ]
    },
    {
     "data": {
      "text/html": [
       "<div>\n",
       "<style scoped>\n",
       "    .dataframe tbody tr th:only-of-type {\n",
       "        vertical-align: middle;\n",
       "    }\n",
       "\n",
       "    .dataframe tbody tr th {\n",
       "        vertical-align: top;\n",
       "    }\n",
       "\n",
       "    .dataframe thead th {\n",
       "        text-align: right;\n",
       "    }\n",
       "</style>\n",
       "<table border=\"1\" class=\"dataframe\">\n",
       "  <thead>\n",
       "    <tr style=\"text-align: right;\">\n",
       "      <th></th>\n",
       "      <th>text</th>\n",
       "      <th>text_lower</th>\n",
       "      <th>text_wo_punctuations</th>\n",
       "      <th>text_wo_emojis</th>\n",
       "      <th>text_wo_url</th>\n",
       "      <th>text_wo_stop</th>\n",
       "      <th>text_lem_stem</th>\n",
       "      <th>text_wo_freq</th>\n",
       "      <th>text_wo_freqrare</th>\n",
       "    </tr>\n",
       "  </thead>\n",
       "  <tbody>\n",
       "    <tr>\n",
       "      <th>2811769</th>\n",
       "      <td>@823869 Hey, we'd be happy to look into this f...</td>\n",
       "      <td>@823869 hey, we'd be happy to look into this f...</td>\n",
       "      <td>823869 hey wed be happy to look into this for ...</td>\n",
       "      <td>823869 hey wed be happy to look into this for ...</td>\n",
       "      <td>823869 hey wed be happy to look into this for ...</td>\n",
       "      <td>823869 hey wed happy look please send us direc...</td>\n",
       "      <td>823869 hey wed happi look please send us direc...</td>\n",
       "      <td>823869 hey wed happi send direct message assis...</td>\n",
       "      <td>hey wed happi send direct message assist tn</td>\n",
       "    </tr>\n",
       "    <tr>\n",
       "      <th>2811770</th>\n",
       "      <td>@115714 wtf!? I’ve been having really shitty s...</td>\n",
       "      <td>@115714 wtf!? i’ve been having really shitty s...</td>\n",
       "      <td>115714 wtf i’ve been having really shitty serv...</td>\n",
       "      <td>115714 wtf i’ve been having really shitty serv...</td>\n",
       "      <td>115714 wtf i’ve been having really shitty serv...</td>\n",
       "      <td>115714 wtf i’ve really shitty service day get ...</td>\n",
       "      <td>115714 wtf i’ve realli shitti service day get ...</td>\n",
       "      <td>115714 wtf i’ve realli shitti day shit togeth</td>\n",
       "      <td>115714 wtf i’ve realli shitti day shit togeth</td>\n",
       "    </tr>\n",
       "    <tr>\n",
       "      <th>2811771</th>\n",
       "      <td>@143549 @sprintcare You have to go to https://...</td>\n",
       "      <td>@143549 @sprintcare you have to go to https://...</td>\n",
       "      <td>143549 sprintcare you have to go to httpstcov2...</td>\n",
       "      <td>143549 sprintcare you have to go to httpstcov2...</td>\n",
       "      <td>143549 sprintcare you have to go to httpstcov2...</td>\n",
       "      <td>143549 sprintcare go httpstcov2tmhetl7q ask ad...</td>\n",
       "      <td>143549 sprintcare go httpstcov2tmhetl7q ask ad...</td>\n",
       "      <td>143549 sprintcare go httpstcov2tmhetl7q ask ad...</td>\n",
       "      <td>143549 sprintcare go ask add hulu account text...</td>\n",
       "    </tr>\n",
       "    <tr>\n",
       "      <th>2811772</th>\n",
       "      <td>@823870 Sounds delicious, Sarah! 😋 https://t.c...</td>\n",
       "      <td>@823870 sounds delicious, sarah! 😋 https://t.c...</td>\n",
       "      <td>823870 sounds delicious sarah 😋 httpstco7uqpwy...</td>\n",
       "      <td>823870 sounds delicious sarah  httpstco7uqpwyh1b6</td>\n",
       "      <td>823870 sounds delicious sarah  httpstco7uqpwyh1b6</td>\n",
       "      <td>823870 sounds delicious sarah httpstco7uqpwyh1b6</td>\n",
       "      <td>823870 sound delici sarah httpstco7uqpwyh1b6</td>\n",
       "      <td>823870 sound delici sarah httpstco7uqpwyh1b6</td>\n",
       "      <td>sound delici sarah</td>\n",
       "    </tr>\n",
       "    <tr>\n",
       "      <th>2811773</th>\n",
       "      <td>@AldiUK  warm sloe gin mince pies with ice cre...</td>\n",
       "      <td>@aldiuk  warm sloe gin mince pies with ice cre...</td>\n",
       "      <td>aldiuk  warm sloe gin mince pies with ice crea...</td>\n",
       "      <td>aldiuk  warm sloe gin mince pies with ice crea...</td>\n",
       "      <td>aldiuk  warm sloe gin mince pies with ice crea...</td>\n",
       "      <td>aldiuk warm sloe gin mince pies ice cream best...</td>\n",
       "      <td>aldiuk warm sloe gin mince pie ice cream best ...</td>\n",
       "      <td>aldiuk warm sloe gin mince pie ice cream best ...</td>\n",
       "      <td>aldiuk warm sloe gin mince pie ice cream best ...</td>\n",
       "    </tr>\n",
       "  </tbody>\n",
       "</table>\n",
       "</div>"
      ],
      "text/plain": [
       "                                                      text  \\\n",
       "2811769  @823869 Hey, we'd be happy to look into this f...   \n",
       "2811770  @115714 wtf!? I’ve been having really shitty s...   \n",
       "2811771  @143549 @sprintcare You have to go to https://...   \n",
       "2811772  @823870 Sounds delicious, Sarah! 😋 https://t.c...   \n",
       "2811773  @AldiUK  warm sloe gin mince pies with ice cre...   \n",
       "\n",
       "                                                text_lower  \\\n",
       "2811769  @823869 hey, we'd be happy to look into this f...   \n",
       "2811770  @115714 wtf!? i’ve been having really shitty s...   \n",
       "2811771  @143549 @sprintcare you have to go to https://...   \n",
       "2811772  @823870 sounds delicious, sarah! 😋 https://t.c...   \n",
       "2811773  @aldiuk  warm sloe gin mince pies with ice cre...   \n",
       "\n",
       "                                      text_wo_punctuations  \\\n",
       "2811769  823869 hey wed be happy to look into this for ...   \n",
       "2811770  115714 wtf i’ve been having really shitty serv...   \n",
       "2811771  143549 sprintcare you have to go to httpstcov2...   \n",
       "2811772  823870 sounds delicious sarah 😋 httpstco7uqpwy...   \n",
       "2811773  aldiuk  warm sloe gin mince pies with ice crea...   \n",
       "\n",
       "                                            text_wo_emojis  \\\n",
       "2811769  823869 hey wed be happy to look into this for ...   \n",
       "2811770  115714 wtf i’ve been having really shitty serv...   \n",
       "2811771  143549 sprintcare you have to go to httpstcov2...   \n",
       "2811772  823870 sounds delicious sarah  httpstco7uqpwyh1b6   \n",
       "2811773  aldiuk  warm sloe gin mince pies with ice crea...   \n",
       "\n",
       "                                               text_wo_url  \\\n",
       "2811769  823869 hey wed be happy to look into this for ...   \n",
       "2811770  115714 wtf i’ve been having really shitty serv...   \n",
       "2811771  143549 sprintcare you have to go to httpstcov2...   \n",
       "2811772  823870 sounds delicious sarah  httpstco7uqpwyh1b6   \n",
       "2811773  aldiuk  warm sloe gin mince pies with ice crea...   \n",
       "\n",
       "                                              text_wo_stop  \\\n",
       "2811769  823869 hey wed happy look please send us direc...   \n",
       "2811770  115714 wtf i’ve really shitty service day get ...   \n",
       "2811771  143549 sprintcare go httpstcov2tmhetl7q ask ad...   \n",
       "2811772   823870 sounds delicious sarah httpstco7uqpwyh1b6   \n",
       "2811773  aldiuk warm sloe gin mince pies ice cream best...   \n",
       "\n",
       "                                             text_lem_stem  \\\n",
       "2811769  823869 hey wed happi look please send us direc...   \n",
       "2811770  115714 wtf i’ve realli shitti service day get ...   \n",
       "2811771  143549 sprintcare go httpstcov2tmhetl7q ask ad...   \n",
       "2811772       823870 sound delici sarah httpstco7uqpwyh1b6   \n",
       "2811773  aldiuk warm sloe gin mince pie ice cream best ...   \n",
       "\n",
       "                                              text_wo_freq  \\\n",
       "2811769  823869 hey wed happi send direct message assis...   \n",
       "2811770      115714 wtf i’ve realli shitti day shit togeth   \n",
       "2811771  143549 sprintcare go httpstcov2tmhetl7q ask ad...   \n",
       "2811772       823870 sound delici sarah httpstco7uqpwyh1b6   \n",
       "2811773  aldiuk warm sloe gin mince pie ice cream best ...   \n",
       "\n",
       "                                          text_wo_freqrare  \n",
       "2811769        hey wed happi send direct message assist tn  \n",
       "2811770      115714 wtf i’ve realli shitti day shit togeth  \n",
       "2811771  143549 sprintcare go ask add hulu account text...  \n",
       "2811772                                 sound delici sarah  \n",
       "2811773  aldiuk warm sloe gin mince pie ice cream best ...  "
      ]
     },
     "execution_count": 17,
     "metadata": {},
     "output_type": "execute_result"
    }
   ],
   "source": [
    "numRareWords = 10\n",
    "rareWords = set([w for (w,c) in cnt.most_common()][:- numRareWords: -1])\n",
    "print(rareWords)\n",
    "\n",
    "def removeRarewords(text):\n",
    "    return ' '.join(word for word in str(text).split() if word not in rareWords)\n",
    "\n",
    "textDF['text_wo_freqrare'] = textDF['text_wo_freq'].apply(lambda text:removeRarewords(text))\n",
    "textDF.tail(5)"
   ]
  },
  {
   "cell_type": "markdown",
   "id": "6c530a03",
   "metadata": {},
   "source": [
    "<div> Finalize Clean Data </div>"
   ]
  },
  {
   "cell_type": "code",
   "execution_count": 19,
   "id": "72179260",
   "metadata": {},
   "outputs": [
    {
     "data": {
      "text/html": [
       "<div>\n",
       "<style scoped>\n",
       "    .dataframe tbody tr th:only-of-type {\n",
       "        vertical-align: middle;\n",
       "    }\n",
       "\n",
       "    .dataframe tbody tr th {\n",
       "        vertical-align: top;\n",
       "    }\n",
       "\n",
       "    .dataframe thead th {\n",
       "        text-align: right;\n",
       "    }\n",
       "</style>\n",
       "<table border=\"1\" class=\"dataframe\">\n",
       "  <thead>\n",
       "    <tr style=\"text-align: right;\">\n",
       "      <th></th>\n",
       "      <th>tweet_id</th>\n",
       "      <th>author_id</th>\n",
       "      <th>inbound</th>\n",
       "      <th>created_at</th>\n",
       "      <th>text</th>\n",
       "      <th>cleaned_text</th>\n",
       "      <th>response_tweet_id</th>\n",
       "      <th>in_response_to_tweet_id</th>\n",
       "    </tr>\n",
       "  </thead>\n",
       "  <tbody>\n",
       "    <tr>\n",
       "      <th>0</th>\n",
       "      <td>1</td>\n",
       "      <td>sprintcare</td>\n",
       "      <td>False</td>\n",
       "      <td>Tue Oct 31 22:10:47 +0000 2017</td>\n",
       "      <td>@115712 I understand. I would like to assist y...</td>\n",
       "      <td>115712 understand would like assist would need...</td>\n",
       "      <td>2</td>\n",
       "      <td>3.0</td>\n",
       "    </tr>\n",
       "    <tr>\n",
       "      <th>1</th>\n",
       "      <td>2</td>\n",
       "      <td>115712</td>\n",
       "      <td>True</td>\n",
       "      <td>Tue Oct 31 22:11:45 +0000 2017</td>\n",
       "      <td>@sprintcare and how do you propose we do that</td>\n",
       "      <td>sprintcare propose</td>\n",
       "      <td>NaN</td>\n",
       "      <td>1.0</td>\n",
       "    </tr>\n",
       "    <tr>\n",
       "      <th>2</th>\n",
       "      <td>3</td>\n",
       "      <td>115712</td>\n",
       "      <td>True</td>\n",
       "      <td>Tue Oct 31 22:08:27 +0000 2017</td>\n",
       "      <td>@sprintcare I have sent several private messag...</td>\n",
       "      <td>sprintcare sent sever private message one resp...</td>\n",
       "      <td>1</td>\n",
       "      <td>4.0</td>\n",
       "    </tr>\n",
       "    <tr>\n",
       "      <th>3</th>\n",
       "      <td>4</td>\n",
       "      <td>sprintcare</td>\n",
       "      <td>False</td>\n",
       "      <td>Tue Oct 31 21:54:49 +0000 2017</td>\n",
       "      <td>@115712 Please send us a Private Message so th...</td>\n",
       "      <td>115712 send private message assist click ‘mess...</td>\n",
       "      <td>3</td>\n",
       "      <td>5.0</td>\n",
       "    </tr>\n",
       "    <tr>\n",
       "      <th>4</th>\n",
       "      <td>5</td>\n",
       "      <td>115712</td>\n",
       "      <td>True</td>\n",
       "      <td>Tue Oct 31 21:49:35 +0000 2017</td>\n",
       "      <td>@sprintcare I did.</td>\n",
       "      <td>sprintcare</td>\n",
       "      <td>4</td>\n",
       "      <td>6.0</td>\n",
       "    </tr>\n",
       "    <tr>\n",
       "      <th>5</th>\n",
       "      <td>6</td>\n",
       "      <td>sprintcare</td>\n",
       "      <td>False</td>\n",
       "      <td>Tue Oct 31 21:46:24 +0000 2017</td>\n",
       "      <td>@115712 Can you please send us a private messa...</td>\n",
       "      <td>115712 send private message gain detail account</td>\n",
       "      <td>5,7</td>\n",
       "      <td>8.0</td>\n",
       "    </tr>\n",
       "    <tr>\n",
       "      <th>6</th>\n",
       "      <td>8</td>\n",
       "      <td>115712</td>\n",
       "      <td>True</td>\n",
       "      <td>Tue Oct 31 21:45:10 +0000 2017</td>\n",
       "      <td>@sprintcare is the worst customer service</td>\n",
       "      <td>sprintcare worst custom</td>\n",
       "      <td>9,6,10</td>\n",
       "      <td>NaN</td>\n",
       "    </tr>\n",
       "    <tr>\n",
       "      <th>7</th>\n",
       "      <td>11</td>\n",
       "      <td>sprintcare</td>\n",
       "      <td>False</td>\n",
       "      <td>Tue Oct 31 22:10:35 +0000 2017</td>\n",
       "      <td>@115713 This is saddening to hear. Please shoo...</td>\n",
       "      <td>115713 sadden hear shoot kc</td>\n",
       "      <td>NaN</td>\n",
       "      <td>12.0</td>\n",
       "    </tr>\n",
       "    <tr>\n",
       "      <th>8</th>\n",
       "      <td>12</td>\n",
       "      <td>115713</td>\n",
       "      <td>True</td>\n",
       "      <td>Tue Oct 31 22:04:47 +0000 2017</td>\n",
       "      <td>@sprintcare You gonna magically change your co...</td>\n",
       "      <td>sprintcare gonna magic change connect whole fa...</td>\n",
       "      <td>11,13,14</td>\n",
       "      <td>15.0</td>\n",
       "    </tr>\n",
       "    <tr>\n",
       "      <th>9</th>\n",
       "      <td>15</td>\n",
       "      <td>sprintcare</td>\n",
       "      <td>False</td>\n",
       "      <td>Tue Oct 31 20:03:31 +0000 2017</td>\n",
       "      <td>@115713 We understand your concerns and we'd l...</td>\n",
       "      <td>115713 understand concern wed like send direct...</td>\n",
       "      <td>12</td>\n",
       "      <td>16.0</td>\n",
       "    </tr>\n",
       "  </tbody>\n",
       "</table>\n",
       "</div>"
      ],
      "text/plain": [
       "   tweet_id   author_id  inbound                      created_at  \\\n",
       "0         1  sprintcare    False  Tue Oct 31 22:10:47 +0000 2017   \n",
       "1         2      115712     True  Tue Oct 31 22:11:45 +0000 2017   \n",
       "2         3      115712     True  Tue Oct 31 22:08:27 +0000 2017   \n",
       "3         4  sprintcare    False  Tue Oct 31 21:54:49 +0000 2017   \n",
       "4         5      115712     True  Tue Oct 31 21:49:35 +0000 2017   \n",
       "5         6  sprintcare    False  Tue Oct 31 21:46:24 +0000 2017   \n",
       "6         8      115712     True  Tue Oct 31 21:45:10 +0000 2017   \n",
       "7        11  sprintcare    False  Tue Oct 31 22:10:35 +0000 2017   \n",
       "8        12      115713     True  Tue Oct 31 22:04:47 +0000 2017   \n",
       "9        15  sprintcare    False  Tue Oct 31 20:03:31 +0000 2017   \n",
       "\n",
       "                                                text  \\\n",
       "0  @115712 I understand. I would like to assist y...   \n",
       "1      @sprintcare and how do you propose we do that   \n",
       "2  @sprintcare I have sent several private messag...   \n",
       "3  @115712 Please send us a Private Message so th...   \n",
       "4                                 @sprintcare I did.   \n",
       "5  @115712 Can you please send us a private messa...   \n",
       "6          @sprintcare is the worst customer service   \n",
       "7  @115713 This is saddening to hear. Please shoo...   \n",
       "8  @sprintcare You gonna magically change your co...   \n",
       "9  @115713 We understand your concerns and we'd l...   \n",
       "\n",
       "                                        cleaned_text response_tweet_id  \\\n",
       "0  115712 understand would like assist would need...                 2   \n",
       "1                                 sprintcare propose               NaN   \n",
       "2  sprintcare sent sever private message one resp...                 1   \n",
       "3  115712 send private message assist click ‘mess...                 3   \n",
       "4                                         sprintcare                 4   \n",
       "5    115712 send private message gain detail account               5,7   \n",
       "6                            sprintcare worst custom            9,6,10   \n",
       "7                        115713 sadden hear shoot kc               NaN   \n",
       "8  sprintcare gonna magic change connect whole fa...          11,13,14   \n",
       "9  115713 understand concern wed like send direct...                12   \n",
       "\n",
       "   in_response_to_tweet_id  \n",
       "0                      3.0  \n",
       "1                      1.0  \n",
       "2                      4.0  \n",
       "3                      5.0  \n",
       "4                      6.0  \n",
       "5                      8.0  \n",
       "6                      NaN  \n",
       "7                     12.0  \n",
       "8                     15.0  \n",
       "9                     16.0  "
      ]
     },
     "execution_count": 19,
     "metadata": {},
     "output_type": "execute_result"
    }
   ],
   "source": [
    "cleanedDF = df.copy()\n",
    "cleanedDF.insert(5, 'cleaned_text', textDF['text_wo_freqrare'])\n",
    "cleanedDF.head(10)"
   ]
  },
  {
   "cell_type": "code",
   "execution_count": 20,
   "id": "3c328582",
   "metadata": {},
   "outputs": [
    {
     "data": {
      "text/html": [
       "<div>\n",
       "<style scoped>\n",
       "    .dataframe tbody tr th:only-of-type {\n",
       "        vertical-align: middle;\n",
       "    }\n",
       "\n",
       "    .dataframe tbody tr th {\n",
       "        vertical-align: top;\n",
       "    }\n",
       "\n",
       "    .dataframe thead th {\n",
       "        text-align: right;\n",
       "    }\n",
       "</style>\n",
       "<table border=\"1\" class=\"dataframe\">\n",
       "  <thead>\n",
       "    <tr style=\"text-align: right;\">\n",
       "      <th></th>\n",
       "      <th>tweet_id</th>\n",
       "      <th>author_id</th>\n",
       "      <th>inbound</th>\n",
       "      <th>created_at</th>\n",
       "      <th>text</th>\n",
       "      <th>cleaned_text</th>\n",
       "      <th>wordDifference</th>\n",
       "      <th>response_tweet_id</th>\n",
       "      <th>in_response_to_tweet_id</th>\n",
       "    </tr>\n",
       "  </thead>\n",
       "  <tbody>\n",
       "    <tr>\n",
       "      <th>0</th>\n",
       "      <td>1</td>\n",
       "      <td>sprintcare</td>\n",
       "      <td>False</td>\n",
       "      <td>Tue Oct 31 22:10:47 +0000 2017</td>\n",
       "      <td>@115712 I understand. I would like to assist y...</td>\n",
       "      <td>115712 understand would like assist would need...</td>\n",
       "      <td>12</td>\n",
       "      <td>2</td>\n",
       "      <td>3.0</td>\n",
       "    </tr>\n",
       "    <tr>\n",
       "      <th>1</th>\n",
       "      <td>2</td>\n",
       "      <td>115712</td>\n",
       "      <td>True</td>\n",
       "      <td>Tue Oct 31 22:11:45 +0000 2017</td>\n",
       "      <td>@sprintcare and how do you propose we do that</td>\n",
       "      <td>sprintcare propose</td>\n",
       "      <td>7</td>\n",
       "      <td>NaN</td>\n",
       "      <td>1.0</td>\n",
       "    </tr>\n",
       "    <tr>\n",
       "      <th>2</th>\n",
       "      <td>3</td>\n",
       "      <td>115712</td>\n",
       "      <td>True</td>\n",
       "      <td>Tue Oct 31 22:08:27 +0000 2017</td>\n",
       "      <td>@sprintcare I have sent several private messag...</td>\n",
       "      <td>sprintcare sent sever private message one resp...</td>\n",
       "      <td>6</td>\n",
       "      <td>1</td>\n",
       "      <td>4.0</td>\n",
       "    </tr>\n",
       "    <tr>\n",
       "      <th>3</th>\n",
       "      <td>4</td>\n",
       "      <td>sprintcare</td>\n",
       "      <td>False</td>\n",
       "      <td>Tue Oct 31 21:54:49 +0000 2017</td>\n",
       "      <td>@115712 Please send us a Private Message so th...</td>\n",
       "      <td>115712 send private message assist click ‘mess...</td>\n",
       "      <td>14</td>\n",
       "      <td>3</td>\n",
       "      <td>5.0</td>\n",
       "    </tr>\n",
       "    <tr>\n",
       "      <th>4</th>\n",
       "      <td>5</td>\n",
       "      <td>115712</td>\n",
       "      <td>True</td>\n",
       "      <td>Tue Oct 31 21:49:35 +0000 2017</td>\n",
       "      <td>@sprintcare I did.</td>\n",
       "      <td>sprintcare</td>\n",
       "      <td>2</td>\n",
       "      <td>4</td>\n",
       "      <td>6.0</td>\n",
       "    </tr>\n",
       "    <tr>\n",
       "      <th>5</th>\n",
       "      <td>6</td>\n",
       "      <td>sprintcare</td>\n",
       "      <td>False</td>\n",
       "      <td>Tue Oct 31 21:46:24 +0000 2017</td>\n",
       "      <td>@115712 Can you please send us a private messa...</td>\n",
       "      <td>115712 send private message gain detail account</td>\n",
       "      <td>12</td>\n",
       "      <td>5,7</td>\n",
       "      <td>8.0</td>\n",
       "    </tr>\n",
       "    <tr>\n",
       "      <th>6</th>\n",
       "      <td>8</td>\n",
       "      <td>115712</td>\n",
       "      <td>True</td>\n",
       "      <td>Tue Oct 31 21:45:10 +0000 2017</td>\n",
       "      <td>@sprintcare is the worst customer service</td>\n",
       "      <td>sprintcare worst custom</td>\n",
       "      <td>3</td>\n",
       "      <td>9,6,10</td>\n",
       "      <td>NaN</td>\n",
       "    </tr>\n",
       "    <tr>\n",
       "      <th>7</th>\n",
       "      <td>11</td>\n",
       "      <td>sprintcare</td>\n",
       "      <td>False</td>\n",
       "      <td>Tue Oct 31 22:10:35 +0000 2017</td>\n",
       "      <td>@115713 This is saddening to hear. Please shoo...</td>\n",
       "      <td>115713 sadden hear shoot kc</td>\n",
       "      <td>16</td>\n",
       "      <td>NaN</td>\n",
       "      <td>12.0</td>\n",
       "    </tr>\n",
       "    <tr>\n",
       "      <th>8</th>\n",
       "      <td>12</td>\n",
       "      <td>115713</td>\n",
       "      <td>True</td>\n",
       "      <td>Tue Oct 31 22:04:47 +0000 2017</td>\n",
       "      <td>@sprintcare You gonna magically change your co...</td>\n",
       "      <td>sprintcare gonna magic change connect whole fa...</td>\n",
       "      <td>7</td>\n",
       "      <td>11,13,14</td>\n",
       "      <td>15.0</td>\n",
       "    </tr>\n",
       "    <tr>\n",
       "      <th>9</th>\n",
       "      <td>15</td>\n",
       "      <td>sprintcare</td>\n",
       "      <td>False</td>\n",
       "      <td>Tue Oct 31 20:03:31 +0000 2017</td>\n",
       "      <td>@115713 We understand your concerns and we'd l...</td>\n",
       "      <td>115713 understand concern wed like send direct...</td>\n",
       "      <td>15</td>\n",
       "      <td>12</td>\n",
       "      <td>16.0</td>\n",
       "    </tr>\n",
       "  </tbody>\n",
       "</table>\n",
       "</div>"
      ],
      "text/plain": [
       "   tweet_id   author_id  inbound                      created_at  \\\n",
       "0         1  sprintcare    False  Tue Oct 31 22:10:47 +0000 2017   \n",
       "1         2      115712     True  Tue Oct 31 22:11:45 +0000 2017   \n",
       "2         3      115712     True  Tue Oct 31 22:08:27 +0000 2017   \n",
       "3         4  sprintcare    False  Tue Oct 31 21:54:49 +0000 2017   \n",
       "4         5      115712     True  Tue Oct 31 21:49:35 +0000 2017   \n",
       "5         6  sprintcare    False  Tue Oct 31 21:46:24 +0000 2017   \n",
       "6         8      115712     True  Tue Oct 31 21:45:10 +0000 2017   \n",
       "7        11  sprintcare    False  Tue Oct 31 22:10:35 +0000 2017   \n",
       "8        12      115713     True  Tue Oct 31 22:04:47 +0000 2017   \n",
       "9        15  sprintcare    False  Tue Oct 31 20:03:31 +0000 2017   \n",
       "\n",
       "                                                text  \\\n",
       "0  @115712 I understand. I would like to assist y...   \n",
       "1      @sprintcare and how do you propose we do that   \n",
       "2  @sprintcare I have sent several private messag...   \n",
       "3  @115712 Please send us a Private Message so th...   \n",
       "4                                 @sprintcare I did.   \n",
       "5  @115712 Can you please send us a private messa...   \n",
       "6          @sprintcare is the worst customer service   \n",
       "7  @115713 This is saddening to hear. Please shoo...   \n",
       "8  @sprintcare You gonna magically change your co...   \n",
       "9  @115713 We understand your concerns and we'd l...   \n",
       "\n",
       "                                        cleaned_text  wordDifference  \\\n",
       "0  115712 understand would like assist would need...              12   \n",
       "1                                 sprintcare propose               7   \n",
       "2  sprintcare sent sever private message one resp...               6   \n",
       "3  115712 send private message assist click ‘mess...              14   \n",
       "4                                         sprintcare               2   \n",
       "5    115712 send private message gain detail account              12   \n",
       "6                            sprintcare worst custom               3   \n",
       "7                        115713 sadden hear shoot kc              16   \n",
       "8  sprintcare gonna magic change connect whole fa...               7   \n",
       "9  115713 understand concern wed like send direct...              15   \n",
       "\n",
       "  response_tweet_id  in_response_to_tweet_id  \n",
       "0                 2                      3.0  \n",
       "1               NaN                      1.0  \n",
       "2                 1                      4.0  \n",
       "3                 3                      5.0  \n",
       "4                 4                      6.0  \n",
       "5               5,7                      8.0  \n",
       "6            9,6,10                      NaN  \n",
       "7               NaN                     12.0  \n",
       "8          11,13,14                     15.0  \n",
       "9                12                     16.0  "
      ]
     },
     "execution_count": 20,
     "metadata": {},
     "output_type": "execute_result"
    }
   ],
   "source": [
    "def countWords(text):\n",
    "    numWords = len(text.split())\n",
    "    return numWords\n",
    "\n",
    "cleanedDF.insert(6, 'wordDifference', cleanedDF['text'].apply(countWords) - cleanedDF['cleaned_text'].apply(countWords))\n",
    "cleanedDF.head(10)"
   ]
  },
  {
   "cell_type": "markdown",
   "id": "c41d9b92",
   "metadata": {},
   "source": [
    "<div> Download VADER from nltk </div>"
   ]
  },
  {
   "cell_type": "code",
   "execution_count": 21,
   "id": "ffdb104f",
   "metadata": {},
   "outputs": [
    {
     "name": "stderr",
     "output_type": "stream",
     "text": [
      "[nltk_data] Downloading package vader_lexicon to\n",
      "[nltk_data]     C:\\Users\\Crolw\\AppData\\Roaming\\nltk_data...\n",
      "[nltk_data]   Package vader_lexicon is already up-to-date!\n"
     ]
    },
    {
     "data": {
      "text/plain": [
       "True"
      ]
     },
     "execution_count": 21,
     "metadata": {},
     "output_type": "execute_result"
    }
   ],
   "source": [
    "#nltk.download()\n",
    "nltk.download('vader_lexicon')"
   ]
  },
  {
   "cell_type": "markdown",
   "id": "4113349f",
   "metadata": {},
   "source": [
    "<div> Make function to get sentiment data </div>"
   ]
  },
  {
   "cell_type": "code",
   "execution_count": 22,
   "id": "4194f181",
   "metadata": {},
   "outputs": [],
   "source": [
    "analyzer = SentimentIntensityAnalyzer()\n",
    "\n",
    "def getSentiment(text):\n",
    "    \n",
    "    scores = analyzer.polarity_scores(str(text))\n",
    "    \n",
    "    if scores['compound'] > 0:\n",
    "        sentiment = 1\n",
    "    elif scores['compound'] < 0:\n",
    "        sentiment = -1\n",
    "    else:\n",
    "        sentiment = 0\n",
    "\n",
    "    return sentiment"
   ]
  },
  {
   "cell_type": "markdown",
   "id": "614678d5",
   "metadata": {},
   "source": [
    "<div> Get sentiment data for each text data </div>\n",
    "<div> Import result into new column </div>"
   ]
  },
  {
   "cell_type": "code",
   "execution_count": 23,
   "id": "888521d0",
   "metadata": {},
   "outputs": [],
   "source": [
    "cleanedDF['sentiment'] = cleanedDF['cleaned_text'].apply(getSentiment)"
   ]
  },
  {
   "cell_type": "code",
   "execution_count": 24,
   "id": "996b92fd",
   "metadata": {},
   "outputs": [
    {
     "data": {
      "text/html": [
       "<div>\n",
       "<style scoped>\n",
       "    .dataframe tbody tr th:only-of-type {\n",
       "        vertical-align: middle;\n",
       "    }\n",
       "\n",
       "    .dataframe tbody tr th {\n",
       "        vertical-align: top;\n",
       "    }\n",
       "\n",
       "    .dataframe thead th {\n",
       "        text-align: right;\n",
       "    }\n",
       "</style>\n",
       "<table border=\"1\" class=\"dataframe\">\n",
       "  <thead>\n",
       "    <tr style=\"text-align: right;\">\n",
       "      <th></th>\n",
       "      <th>tweet_id</th>\n",
       "      <th>author_id</th>\n",
       "      <th>inbound</th>\n",
       "      <th>created_at</th>\n",
       "      <th>text</th>\n",
       "      <th>cleaned_text</th>\n",
       "      <th>wordDifference</th>\n",
       "      <th>response_tweet_id</th>\n",
       "      <th>in_response_to_tweet_id</th>\n",
       "      <th>sentiment</th>\n",
       "    </tr>\n",
       "  </thead>\n",
       "  <tbody>\n",
       "    <tr>\n",
       "      <th>0</th>\n",
       "      <td>1</td>\n",
       "      <td>sprintcare</td>\n",
       "      <td>False</td>\n",
       "      <td>Tue Oct 31 22:10:47 +0000 2017</td>\n",
       "      <td>@115712 I understand. I would like to assist y...</td>\n",
       "      <td>115712 understand would like assist would need...</td>\n",
       "      <td>12</td>\n",
       "      <td>2</td>\n",
       "      <td>3.0</td>\n",
       "      <td>1</td>\n",
       "    </tr>\n",
       "    <tr>\n",
       "      <th>1</th>\n",
       "      <td>2</td>\n",
       "      <td>115712</td>\n",
       "      <td>True</td>\n",
       "      <td>Tue Oct 31 22:11:45 +0000 2017</td>\n",
       "      <td>@sprintcare and how do you propose we do that</td>\n",
       "      <td>sprintcare propose</td>\n",
       "      <td>7</td>\n",
       "      <td>NaN</td>\n",
       "      <td>1.0</td>\n",
       "      <td>0</td>\n",
       "    </tr>\n",
       "    <tr>\n",
       "      <th>2</th>\n",
       "      <td>3</td>\n",
       "      <td>115712</td>\n",
       "      <td>True</td>\n",
       "      <td>Tue Oct 31 22:08:27 +0000 2017</td>\n",
       "      <td>@sprintcare I have sent several private messag...</td>\n",
       "      <td>sprintcare sent sever private message one resp...</td>\n",
       "      <td>6</td>\n",
       "      <td>1</td>\n",
       "      <td>4.0</td>\n",
       "      <td>0</td>\n",
       "    </tr>\n",
       "    <tr>\n",
       "      <th>3</th>\n",
       "      <td>4</td>\n",
       "      <td>sprintcare</td>\n",
       "      <td>False</td>\n",
       "      <td>Tue Oct 31 21:54:49 +0000 2017</td>\n",
       "      <td>@115712 Please send us a Private Message so th...</td>\n",
       "      <td>115712 send private message assist click ‘mess...</td>\n",
       "      <td>14</td>\n",
       "      <td>3</td>\n",
       "      <td>5.0</td>\n",
       "      <td>1</td>\n",
       "    </tr>\n",
       "    <tr>\n",
       "      <th>4</th>\n",
       "      <td>5</td>\n",
       "      <td>115712</td>\n",
       "      <td>True</td>\n",
       "      <td>Tue Oct 31 21:49:35 +0000 2017</td>\n",
       "      <td>@sprintcare I did.</td>\n",
       "      <td>sprintcare</td>\n",
       "      <td>2</td>\n",
       "      <td>4</td>\n",
       "      <td>6.0</td>\n",
       "      <td>0</td>\n",
       "    </tr>\n",
       "    <tr>\n",
       "      <th>5</th>\n",
       "      <td>6</td>\n",
       "      <td>sprintcare</td>\n",
       "      <td>False</td>\n",
       "      <td>Tue Oct 31 21:46:24 +0000 2017</td>\n",
       "      <td>@115712 Can you please send us a private messa...</td>\n",
       "      <td>115712 send private message gain detail account</td>\n",
       "      <td>12</td>\n",
       "      <td>5,7</td>\n",
       "      <td>8.0</td>\n",
       "      <td>1</td>\n",
       "    </tr>\n",
       "    <tr>\n",
       "      <th>6</th>\n",
       "      <td>8</td>\n",
       "      <td>115712</td>\n",
       "      <td>True</td>\n",
       "      <td>Tue Oct 31 21:45:10 +0000 2017</td>\n",
       "      <td>@sprintcare is the worst customer service</td>\n",
       "      <td>sprintcare worst custom</td>\n",
       "      <td>3</td>\n",
       "      <td>9,6,10</td>\n",
       "      <td>NaN</td>\n",
       "      <td>-1</td>\n",
       "    </tr>\n",
       "    <tr>\n",
       "      <th>7</th>\n",
       "      <td>11</td>\n",
       "      <td>sprintcare</td>\n",
       "      <td>False</td>\n",
       "      <td>Tue Oct 31 22:10:35 +0000 2017</td>\n",
       "      <td>@115713 This is saddening to hear. Please shoo...</td>\n",
       "      <td>115713 sadden hear shoot kc</td>\n",
       "      <td>16</td>\n",
       "      <td>NaN</td>\n",
       "      <td>12.0</td>\n",
       "      <td>-1</td>\n",
       "    </tr>\n",
       "    <tr>\n",
       "      <th>8</th>\n",
       "      <td>12</td>\n",
       "      <td>115713</td>\n",
       "      <td>True</td>\n",
       "      <td>Tue Oct 31 22:04:47 +0000 2017</td>\n",
       "      <td>@sprintcare You gonna magically change your co...</td>\n",
       "      <td>sprintcare gonna magic change connect whole fa...</td>\n",
       "      <td>7</td>\n",
       "      <td>11,13,14</td>\n",
       "      <td>15.0</td>\n",
       "      <td>0</td>\n",
       "    </tr>\n",
       "    <tr>\n",
       "      <th>9</th>\n",
       "      <td>15</td>\n",
       "      <td>sprintcare</td>\n",
       "      <td>False</td>\n",
       "      <td>Tue Oct 31 20:03:31 +0000 2017</td>\n",
       "      <td>@115713 We understand your concerns and we'd l...</td>\n",
       "      <td>115713 understand concern wed like send direct...</td>\n",
       "      <td>15</td>\n",
       "      <td>12</td>\n",
       "      <td>16.0</td>\n",
       "      <td>1</td>\n",
       "    </tr>\n",
       "  </tbody>\n",
       "</table>\n",
       "</div>"
      ],
      "text/plain": [
       "   tweet_id   author_id  inbound                      created_at  \\\n",
       "0         1  sprintcare    False  Tue Oct 31 22:10:47 +0000 2017   \n",
       "1         2      115712     True  Tue Oct 31 22:11:45 +0000 2017   \n",
       "2         3      115712     True  Tue Oct 31 22:08:27 +0000 2017   \n",
       "3         4  sprintcare    False  Tue Oct 31 21:54:49 +0000 2017   \n",
       "4         5      115712     True  Tue Oct 31 21:49:35 +0000 2017   \n",
       "5         6  sprintcare    False  Tue Oct 31 21:46:24 +0000 2017   \n",
       "6         8      115712     True  Tue Oct 31 21:45:10 +0000 2017   \n",
       "7        11  sprintcare    False  Tue Oct 31 22:10:35 +0000 2017   \n",
       "8        12      115713     True  Tue Oct 31 22:04:47 +0000 2017   \n",
       "9        15  sprintcare    False  Tue Oct 31 20:03:31 +0000 2017   \n",
       "\n",
       "                                                text  \\\n",
       "0  @115712 I understand. I would like to assist y...   \n",
       "1      @sprintcare and how do you propose we do that   \n",
       "2  @sprintcare I have sent several private messag...   \n",
       "3  @115712 Please send us a Private Message so th...   \n",
       "4                                 @sprintcare I did.   \n",
       "5  @115712 Can you please send us a private messa...   \n",
       "6          @sprintcare is the worst customer service   \n",
       "7  @115713 This is saddening to hear. Please shoo...   \n",
       "8  @sprintcare You gonna magically change your co...   \n",
       "9  @115713 We understand your concerns and we'd l...   \n",
       "\n",
       "                                        cleaned_text  wordDifference  \\\n",
       "0  115712 understand would like assist would need...              12   \n",
       "1                                 sprintcare propose               7   \n",
       "2  sprintcare sent sever private message one resp...               6   \n",
       "3  115712 send private message assist click ‘mess...              14   \n",
       "4                                         sprintcare               2   \n",
       "5    115712 send private message gain detail account              12   \n",
       "6                            sprintcare worst custom               3   \n",
       "7                        115713 sadden hear shoot kc              16   \n",
       "8  sprintcare gonna magic change connect whole fa...               7   \n",
       "9  115713 understand concern wed like send direct...              15   \n",
       "\n",
       "  response_tweet_id  in_response_to_tweet_id  sentiment  \n",
       "0                 2                      3.0          1  \n",
       "1               NaN                      1.0          0  \n",
       "2                 1                      4.0          0  \n",
       "3                 3                      5.0          1  \n",
       "4                 4                      6.0          0  \n",
       "5               5,7                      8.0          1  \n",
       "6            9,6,10                      NaN         -1  \n",
       "7               NaN                     12.0         -1  \n",
       "8          11,13,14                     15.0          0  \n",
       "9                12                     16.0          1  "
      ]
     },
     "execution_count": 24,
     "metadata": {},
     "output_type": "execute_result"
    }
   ],
   "source": [
    "cleanedDF.head(10)"
   ]
  },
  {
   "cell_type": "markdown",
   "id": "38fc176b",
   "metadata": {},
   "source": [
    "<div> Wrangle Data to show which messages are being sent to the other </div>"
   ]
  },
  {
   "cell_type": "code",
   "execution_count": 25,
   "id": "a66ed0c7",
   "metadata": {},
   "outputs": [
    {
     "name": "stdout",
     "output_type": "stream",
     "text": [
      "Data shape: (794299, 20)\n"
     ]
    },
    {
     "data": {
      "text/plain": [
       "\"\\nairDF = pd.DataFrame()\\nfor airline in airlines:\\n    airDF = pd.concat([airDF, wrangledData[wrangledData['author_id_y'].str.contains(airline)]], ignore_index=True)\\n\""
      ]
     },
     "execution_count": 25,
     "metadata": {},
     "output_type": "execute_result"
    }
   ],
   "source": [
    "firstInbound = cleanedDF[pd.isnull(cleanedDF.in_response_to_tweet_id) & cleanedDF.inbound]\n",
    "\n",
    "wrangledData = pd.merge(firstInbound, cleanedDF, left_on='tweet_id', \n",
    "                                  right_on='in_response_to_tweet_id')\n",
    "\n",
    "# Filter to only outbound replies (from companies)\n",
    "wrangledData = wrangledData[wrangledData.inbound_y ^ True]\n",
    "print(f'Data shape: {wrangledData.shape}')\n",
    "wrangledData.head(10)\n",
    "\n",
    "'''\n",
    "airDF = pd.DataFrame()\n",
    "for airline in airlines:\n",
    "    airDF = pd.concat([airDF, wrangledData[wrangledData['author_id_y'].str.contains(airline)]], ignore_index=True)\n",
    "'''"
   ]
  },
  {
   "cell_type": "code",
   "execution_count": 26,
   "id": "f2101690",
   "metadata": {},
   "outputs": [
    {
     "data": {
      "text/html": [
       "<div>\n",
       "<style scoped>\n",
       "    .dataframe tbody tr th:only-of-type {\n",
       "        vertical-align: middle;\n",
       "    }\n",
       "\n",
       "    .dataframe tbody tr th {\n",
       "        vertical-align: top;\n",
       "    }\n",
       "\n",
       "    .dataframe thead th {\n",
       "        text-align: right;\n",
       "    }\n",
       "</style>\n",
       "<table border=\"1\" class=\"dataframe\">\n",
       "  <thead>\n",
       "    <tr style=\"text-align: right;\">\n",
       "      <th></th>\n",
       "      <th>tweet_id_x</th>\n",
       "      <th>author_id_x</th>\n",
       "      <th>inbound_x</th>\n",
       "      <th>created_at_x</th>\n",
       "      <th>text_x</th>\n",
       "      <th>cleaned_text_x</th>\n",
       "      <th>wordDifference_x</th>\n",
       "      <th>response_tweet_id_x</th>\n",
       "      <th>in_response_to_tweet_id_x</th>\n",
       "      <th>sentiment_x</th>\n",
       "      <th>tweet_id_y</th>\n",
       "      <th>author_id_y</th>\n",
       "      <th>inbound_y</th>\n",
       "      <th>created_at_y</th>\n",
       "      <th>text_y</th>\n",
       "      <th>cleaned_text_y</th>\n",
       "      <th>wordDifference_y</th>\n",
       "      <th>response_tweet_id_y</th>\n",
       "      <th>in_response_to_tweet_id_y</th>\n",
       "      <th>sentiment_y</th>\n",
       "    </tr>\n",
       "  </thead>\n",
       "  <tbody>\n",
       "    <tr>\n",
       "      <th>0</th>\n",
       "      <td>8</td>\n",
       "      <td>115712</td>\n",
       "      <td>True</td>\n",
       "      <td>Tue Oct 31 21:45:10 +0000 2017</td>\n",
       "      <td>@sprintcare is the worst customer service</td>\n",
       "      <td>sprintcare worst custom</td>\n",
       "      <td>3</td>\n",
       "      <td>9,6,10</td>\n",
       "      <td>NaN</td>\n",
       "      <td>-1</td>\n",
       "      <td>6</td>\n",
       "      <td>sprintcare</td>\n",
       "      <td>False</td>\n",
       "      <td>Tue Oct 31 21:46:24 +0000 2017</td>\n",
       "      <td>@115712 Can you please send us a private messa...</td>\n",
       "      <td>115712 send private message gain detail account</td>\n",
       "      <td>12</td>\n",
       "      <td>5,7</td>\n",
       "      <td>8.0</td>\n",
       "      <td>1</td>\n",
       "    </tr>\n",
       "    <tr>\n",
       "      <th>1</th>\n",
       "      <td>8</td>\n",
       "      <td>115712</td>\n",
       "      <td>True</td>\n",
       "      <td>Tue Oct 31 21:45:10 +0000 2017</td>\n",
       "      <td>@sprintcare is the worst customer service</td>\n",
       "      <td>sprintcare worst custom</td>\n",
       "      <td>3</td>\n",
       "      <td>9,6,10</td>\n",
       "      <td>NaN</td>\n",
       "      <td>-1</td>\n",
       "      <td>9</td>\n",
       "      <td>sprintcare</td>\n",
       "      <td>False</td>\n",
       "      <td>Tue Oct 31 21:46:14 +0000 2017</td>\n",
       "      <td>@115712 I would love the chance to review the ...</td>\n",
       "      <td>115712 would love chance review account provid...</td>\n",
       "      <td>5</td>\n",
       "      <td>NaN</td>\n",
       "      <td>8.0</td>\n",
       "      <td>1</td>\n",
       "    </tr>\n",
       "    <tr>\n",
       "      <th>2</th>\n",
       "      <td>8</td>\n",
       "      <td>115712</td>\n",
       "      <td>True</td>\n",
       "      <td>Tue Oct 31 21:45:10 +0000 2017</td>\n",
       "      <td>@sprintcare is the worst customer service</td>\n",
       "      <td>sprintcare worst custom</td>\n",
       "      <td>3</td>\n",
       "      <td>9,6,10</td>\n",
       "      <td>NaN</td>\n",
       "      <td>-1</td>\n",
       "      <td>10</td>\n",
       "      <td>sprintcare</td>\n",
       "      <td>False</td>\n",
       "      <td>Tue Oct 31 21:45:59 +0000 2017</td>\n",
       "      <td>@115712 Hello! We never like our customers to ...</td>\n",
       "      <td>115712 hello never like custom feel like valu</td>\n",
       "      <td>6</td>\n",
       "      <td>NaN</td>\n",
       "      <td>8.0</td>\n",
       "      <td>-1</td>\n",
       "    </tr>\n",
       "    <tr>\n",
       "      <th>3</th>\n",
       "      <td>18</td>\n",
       "      <td>115713</td>\n",
       "      <td>True</td>\n",
       "      <td>Tue Oct 31 19:56:01 +0000 2017</td>\n",
       "      <td>@115714 y’all lie about your “great” connectio...</td>\n",
       "      <td>115714 y’all lie “great” connect 5 bar lte sti...</td>\n",
       "      <td>2</td>\n",
       "      <td>17</td>\n",
       "      <td>NaN</td>\n",
       "      <td>-1</td>\n",
       "      <td>17</td>\n",
       "      <td>sprintcare</td>\n",
       "      <td>False</td>\n",
       "      <td>Tue Oct 31 19:59:13 +0000 2017</td>\n",
       "      <td>@115713 H there! We'd definitely like to work ...</td>\n",
       "      <td>115713 h wed definit like work long experienc ...</td>\n",
       "      <td>11</td>\n",
       "      <td>16</td>\n",
       "      <td>18.0</td>\n",
       "      <td>1</td>\n",
       "    </tr>\n",
       "    <tr>\n",
       "      <th>4</th>\n",
       "      <td>20</td>\n",
       "      <td>115715</td>\n",
       "      <td>True</td>\n",
       "      <td>Tue Oct 31 22:03:34 +0000 2017</td>\n",
       "      <td>@115714 whenever I contact customer support, t...</td>\n",
       "      <td>115714 whenev contact custom support tell shor...</td>\n",
       "      <td>12</td>\n",
       "      <td>19</td>\n",
       "      <td>NaN</td>\n",
       "      <td>1</td>\n",
       "      <td>19</td>\n",
       "      <td>sprintcare</td>\n",
       "      <td>False</td>\n",
       "      <td>Tue Oct 31 22:10:10 +0000 2017</td>\n",
       "      <td>@115715 Please send me a private message so th...</td>\n",
       "      <td>115715 send private message send link access a...</td>\n",
       "      <td>11</td>\n",
       "      <td>NaN</td>\n",
       "      <td>20.0</td>\n",
       "      <td>0</td>\n",
       "    </tr>\n",
       "    <tr>\n",
       "      <th>5</th>\n",
       "      <td>29</td>\n",
       "      <td>115716</td>\n",
       "      <td>True</td>\n",
       "      <td>Tue Oct 31 22:01:35 +0000 2017</td>\n",
       "      <td>actually that's a broken link you sent me and ...</td>\n",
       "      <td>actual that broken link sent incorrect inform ...</td>\n",
       "      <td>4</td>\n",
       "      <td>28</td>\n",
       "      <td>NaN</td>\n",
       "      <td>-1</td>\n",
       "      <td>28</td>\n",
       "      <td>Ask_Spectrum</td>\n",
       "      <td>False</td>\n",
       "      <td>Tue Oct 31 22:05:37 +0000 2017</td>\n",
       "      <td>@115716 The information pertaining to the acco...</td>\n",
       "      <td>115716 inform pertain account assumpt correct ...</td>\n",
       "      <td>10</td>\n",
       "      <td>24</td>\n",
       "      <td>29.0</td>\n",
       "      <td>0</td>\n",
       "    </tr>\n",
       "    <tr>\n",
       "      <th>6</th>\n",
       "      <td>31</td>\n",
       "      <td>115717</td>\n",
       "      <td>True</td>\n",
       "      <td>Tue Oct 31 22:06:54 +0000 2017</td>\n",
       "      <td>Yo @Ask_Spectrum, your customer service reps a...</td>\n",
       "      <td>yo askspectrum custom rep super nice— imma sta...</td>\n",
       "      <td>8</td>\n",
       "      <td>30</td>\n",
       "      <td>NaN</td>\n",
       "      <td>1</td>\n",
       "      <td>30</td>\n",
       "      <td>Ask_Spectrum</td>\n",
       "      <td>False</td>\n",
       "      <td>Tue Oct 31 22:12:09 +0000 2017</td>\n",
       "      <td>@115717 Hello, My apologies for any frustratio...</td>\n",
       "      <td>115717 hello apolog frustrat inconvenience i’d...</td>\n",
       "      <td>11</td>\n",
       "      <td>NaN</td>\n",
       "      <td>31.0</td>\n",
       "      <td>-1</td>\n",
       "    </tr>\n",
       "    <tr>\n",
       "      <th>7</th>\n",
       "      <td>33</td>\n",
       "      <td>115718</td>\n",
       "      <td>True</td>\n",
       "      <td>Tue Oct 31 22:06:56 +0000 2017</td>\n",
       "      <td>My picture on @Ask_Spectrum pretty much every ...</td>\n",
       "      <td>picture askspectrum pretti much everi day pay ...</td>\n",
       "      <td>5</td>\n",
       "      <td>32</td>\n",
       "      <td>NaN</td>\n",
       "      <td>-1</td>\n",
       "      <td>32</td>\n",
       "      <td>Ask_Spectrum</td>\n",
       "      <td>False</td>\n",
       "      <td>Tue Oct 31 22:10:08 +0000 2017</td>\n",
       "      <td>@115718 I apologize for the inconvenience. I w...</td>\n",
       "      <td>115718 apologize inconvenience glad assist nam...</td>\n",
       "      <td>17</td>\n",
       "      <td>NaN</td>\n",
       "      <td>33.0</td>\n",
       "      <td>1</td>\n",
       "    </tr>\n",
       "    <tr>\n",
       "      <th>8</th>\n",
       "      <td>36</td>\n",
       "      <td>115719</td>\n",
       "      <td>True</td>\n",
       "      <td>Tue Oct 31 22:10:46 +0000 2017</td>\n",
       "      <td>somebody from @VerizonSupport please help meee...</td>\n",
       "      <td>somebodi verizonsupport meeeeee im worst luck ...</td>\n",
       "      <td>9</td>\n",
       "      <td>34</td>\n",
       "      <td>NaN</td>\n",
       "      <td>-1</td>\n",
       "      <td>34</td>\n",
       "      <td>VerizonSupport</td>\n",
       "      <td>False</td>\n",
       "      <td>Tue Oct 31 22:13:33 +0000 2017</td>\n",
       "      <td>@115719 Help has arrived! We are sorry to see ...</td>\n",
       "      <td>115719 arriv see trouble hsb</td>\n",
       "      <td>14</td>\n",
       "      <td>35</td>\n",
       "      <td>36.0</td>\n",
       "      <td>-1</td>\n",
       "    </tr>\n",
       "    <tr>\n",
       "      <th>9</th>\n",
       "      <td>39</td>\n",
       "      <td>115720</td>\n",
       "      <td>True</td>\n",
       "      <td>Tue Oct 31 22:12:16 +0000 2017</td>\n",
       "      <td>@VerizonSupport My friend is without internet ...</td>\n",
       "      <td>verizonsupport friend without internet need pl...</td>\n",
       "      <td>6</td>\n",
       "      <td>38</td>\n",
       "      <td>NaN</td>\n",
       "      <td>1</td>\n",
       "      <td>38</td>\n",
       "      <td>VerizonSupport</td>\n",
       "      <td>False</td>\n",
       "      <td>Tue Oct 31 22:13:30 +0000 2017</td>\n",
       "      <td>@115720 Have your friend message us.\\n^ACM</td>\n",
       "      <td>115720 friend message acm</td>\n",
       "      <td>3</td>\n",
       "      <td>NaN</td>\n",
       "      <td>39.0</td>\n",
       "      <td>1</td>\n",
       "    </tr>\n",
       "  </tbody>\n",
       "</table>\n",
       "</div>"
      ],
      "text/plain": [
       "   tweet_id_x author_id_x  inbound_x                    created_at_x  \\\n",
       "0           8      115712       True  Tue Oct 31 21:45:10 +0000 2017   \n",
       "1           8      115712       True  Tue Oct 31 21:45:10 +0000 2017   \n",
       "2           8      115712       True  Tue Oct 31 21:45:10 +0000 2017   \n",
       "3          18      115713       True  Tue Oct 31 19:56:01 +0000 2017   \n",
       "4          20      115715       True  Tue Oct 31 22:03:34 +0000 2017   \n",
       "5          29      115716       True  Tue Oct 31 22:01:35 +0000 2017   \n",
       "6          31      115717       True  Tue Oct 31 22:06:54 +0000 2017   \n",
       "7          33      115718       True  Tue Oct 31 22:06:56 +0000 2017   \n",
       "8          36      115719       True  Tue Oct 31 22:10:46 +0000 2017   \n",
       "9          39      115720       True  Tue Oct 31 22:12:16 +0000 2017   \n",
       "\n",
       "                                              text_x  \\\n",
       "0          @sprintcare is the worst customer service   \n",
       "1          @sprintcare is the worst customer service   \n",
       "2          @sprintcare is the worst customer service   \n",
       "3  @115714 y’all lie about your “great” connectio...   \n",
       "4  @115714 whenever I contact customer support, t...   \n",
       "5  actually that's a broken link you sent me and ...   \n",
       "6  Yo @Ask_Spectrum, your customer service reps a...   \n",
       "7  My picture on @Ask_Spectrum pretty much every ...   \n",
       "8  somebody from @VerizonSupport please help meee...   \n",
       "9  @VerizonSupport My friend is without internet ...   \n",
       "\n",
       "                                      cleaned_text_x  wordDifference_x  \\\n",
       "0                            sprintcare worst custom                 3   \n",
       "1                            sprintcare worst custom                 3   \n",
       "2                            sprintcare worst custom                 3   \n",
       "3  115714 y’all lie “great” connect 5 bar lte sti...                 2   \n",
       "4  115714 whenev contact custom support tell shor...                12   \n",
       "5  actual that broken link sent incorrect inform ...                 4   \n",
       "6  yo askspectrum custom rep super nice— imma sta...                 8   \n",
       "7  picture askspectrum pretti much everi day pay ...                 5   \n",
       "8  somebodi verizonsupport meeeeee im worst luck ...                 9   \n",
       "9  verizonsupport friend without internet need pl...                 6   \n",
       "\n",
       "  response_tweet_id_x  in_response_to_tweet_id_x  sentiment_x  tweet_id_y  \\\n",
       "0              9,6,10                        NaN           -1           6   \n",
       "1              9,6,10                        NaN           -1           9   \n",
       "2              9,6,10                        NaN           -1          10   \n",
       "3                  17                        NaN           -1          17   \n",
       "4                  19                        NaN            1          19   \n",
       "5                  28                        NaN           -1          28   \n",
       "6                  30                        NaN            1          30   \n",
       "7                  32                        NaN           -1          32   \n",
       "8                  34                        NaN           -1          34   \n",
       "9                  38                        NaN            1          38   \n",
       "\n",
       "      author_id_y  inbound_y                    created_at_y  \\\n",
       "0      sprintcare      False  Tue Oct 31 21:46:24 +0000 2017   \n",
       "1      sprintcare      False  Tue Oct 31 21:46:14 +0000 2017   \n",
       "2      sprintcare      False  Tue Oct 31 21:45:59 +0000 2017   \n",
       "3      sprintcare      False  Tue Oct 31 19:59:13 +0000 2017   \n",
       "4      sprintcare      False  Tue Oct 31 22:10:10 +0000 2017   \n",
       "5    Ask_Spectrum      False  Tue Oct 31 22:05:37 +0000 2017   \n",
       "6    Ask_Spectrum      False  Tue Oct 31 22:12:09 +0000 2017   \n",
       "7    Ask_Spectrum      False  Tue Oct 31 22:10:08 +0000 2017   \n",
       "8  VerizonSupport      False  Tue Oct 31 22:13:33 +0000 2017   \n",
       "9  VerizonSupport      False  Tue Oct 31 22:13:30 +0000 2017   \n",
       "\n",
       "                                              text_y  \\\n",
       "0  @115712 Can you please send us a private messa...   \n",
       "1  @115712 I would love the chance to review the ...   \n",
       "2  @115712 Hello! We never like our customers to ...   \n",
       "3  @115713 H there! We'd definitely like to work ...   \n",
       "4  @115715 Please send me a private message so th...   \n",
       "5  @115716 The information pertaining to the acco...   \n",
       "6  @115717 Hello, My apologies for any frustratio...   \n",
       "7  @115718 I apologize for the inconvenience. I w...   \n",
       "8  @115719 Help has arrived! We are sorry to see ...   \n",
       "9         @115720 Have your friend message us.\\n^ACM   \n",
       "\n",
       "                                      cleaned_text_y  wordDifference_y  \\\n",
       "0    115712 send private message gain detail account                12   \n",
       "1  115712 would love chance review account provid...                 5   \n",
       "2      115712 hello never like custom feel like valu                 6   \n",
       "3  115713 h wed definit like work long experienc ...                11   \n",
       "4  115715 send private message send link access a...                11   \n",
       "5  115716 inform pertain account assumpt correct ...                10   \n",
       "6  115717 hello apolog frustrat inconvenience i’d...                11   \n",
       "7  115718 apologize inconvenience glad assist nam...                17   \n",
       "8                       115719 arriv see trouble hsb                14   \n",
       "9                          115720 friend message acm                 3   \n",
       "\n",
       "  response_tweet_id_y  in_response_to_tweet_id_y  sentiment_y  \n",
       "0                 5,7                        8.0            1  \n",
       "1                 NaN                        8.0            1  \n",
       "2                 NaN                        8.0           -1  \n",
       "3                  16                       18.0            1  \n",
       "4                 NaN                       20.0            0  \n",
       "5                  24                       29.0            0  \n",
       "6                 NaN                       31.0           -1  \n",
       "7                 NaN                       33.0            1  \n",
       "8                  35                       36.0           -1  \n",
       "9                 NaN                       39.0            1  "
      ]
     },
     "execution_count": 26,
     "metadata": {},
     "output_type": "execute_result"
    }
   ],
   "source": [
    "wrangledData.head(10)"
   ]
  },
  {
   "cell_type": "markdown",
   "id": "2f951126",
   "metadata": {},
   "source": [
    "<div> Filter Data to only contain Airlines </div>"
   ]
  },
  {
   "cell_type": "code",
   "execution_count": 27,
   "id": "6ebc852c",
   "metadata": {},
   "outputs": [],
   "source": [
    "filteredData = wrangledData[wrangledData['author_id_y'].str.contains('Air|Delta|JetBlue|VirginAtlantic')].drop(wrangledData[wrangledData['author_id_y'] == 'AirbnbHelp'].index)"
   ]
  },
  {
   "cell_type": "code",
   "execution_count": 28,
   "id": "bc543621",
   "metadata": {},
   "outputs": [
    {
     "name": "stdout",
     "output_type": "stream",
     "text": [
      "Index(['AirAsiaSupport', 'AlaskaAir', 'AmericanAir', 'British_Airways',\n",
      "       'Delta', 'JetBlue', 'SouthwestAir', 'VirginAtlantic'],\n",
      "      dtype='object', name='author_id_y')\n"
     ]
    }
   ],
   "source": [
    "airlines = filteredData.groupby('author_id_y').nunique().index\n",
    "print(airlines)"
   ]
  },
  {
   "cell_type": "markdown",
   "id": "bfd1be1b",
   "metadata": {},
   "source": [
    "<div> For each airline, identify which airline had the highest ratio of responses based off of a negative sentiment (-1) </div>"
   ]
  },
  {
   "cell_type": "code",
   "execution_count": 30,
   "id": "2c34526f",
   "metadata": {},
   "outputs": [],
   "source": [
    "neg = filteredData[filteredData['sentiment_x'] == -1]['author_id_y'].value_counts().rename_axis('Airline').reset_index(name='Neg_Count')\n",
    "pos = filteredData[filteredData['sentiment_x'] == 1]['author_id_y'].value_counts().rename_axis('Airline').reset_index(name='Pos_Count')"
   ]
  },
  {
   "cell_type": "markdown",
   "id": "9e7b7934",
   "metadata": {},
   "source": [
    "<div> Merge tables together to get better view of data </div>"
   ]
  },
  {
   "cell_type": "code",
   "execution_count": 43,
   "id": "ff1cbe5f",
   "metadata": {},
   "outputs": [
    {
     "data": {
      "text/html": [
       "<div>\n",
       "<style scoped>\n",
       "    .dataframe tbody tr th:only-of-type {\n",
       "        vertical-align: middle;\n",
       "    }\n",
       "\n",
       "    .dataframe tbody tr th {\n",
       "        vertical-align: top;\n",
       "    }\n",
       "\n",
       "    .dataframe thead th {\n",
       "        text-align: right;\n",
       "    }\n",
       "</style>\n",
       "<table border=\"1\" class=\"dataframe\">\n",
       "  <thead>\n",
       "    <tr style=\"text-align: right;\">\n",
       "      <th></th>\n",
       "      <th>Airline</th>\n",
       "      <th>Neg_Count</th>\n",
       "      <th>Pos_Count</th>\n",
       "      <th>Total_Count</th>\n",
       "      <th>Neg_Ratio</th>\n",
       "      <th>Pos_Ratio</th>\n",
       "    </tr>\n",
       "  </thead>\n",
       "  <tbody>\n",
       "    <tr>\n",
       "      <th>0</th>\n",
       "      <td>AmericanAir</td>\n",
       "      <td>8701</td>\n",
       "      <td>8511</td>\n",
       "      <td>17212</td>\n",
       "      <td>0.506</td>\n",
       "      <td>0.494</td>\n",
       "    </tr>\n",
       "    <tr>\n",
       "      <th>1</th>\n",
       "      <td>British_Airways</td>\n",
       "      <td>6431</td>\n",
       "      <td>6390</td>\n",
       "      <td>12821</td>\n",
       "      <td>0.502</td>\n",
       "      <td>0.498</td>\n",
       "    </tr>\n",
       "    <tr>\n",
       "      <th>2</th>\n",
       "      <td>JetBlue</td>\n",
       "      <td>1734</td>\n",
       "      <td>1966</td>\n",
       "      <td>3700</td>\n",
       "      <td>0.469</td>\n",
       "      <td>0.531</td>\n",
       "    </tr>\n",
       "    <tr>\n",
       "      <th>3</th>\n",
       "      <td>VirginAtlantic</td>\n",
       "      <td>767</td>\n",
       "      <td>894</td>\n",
       "      <td>1661</td>\n",
       "      <td>0.462</td>\n",
       "      <td>0.538</td>\n",
       "    </tr>\n",
       "    <tr>\n",
       "      <th>4</th>\n",
       "      <td>Delta</td>\n",
       "      <td>8302</td>\n",
       "      <td>10609</td>\n",
       "      <td>18911</td>\n",
       "      <td>0.439</td>\n",
       "      <td>0.561</td>\n",
       "    </tr>\n",
       "    <tr>\n",
       "      <th>5</th>\n",
       "      <td>AirAsiaSupport</td>\n",
       "      <td>1497</td>\n",
       "      <td>2097</td>\n",
       "      <td>3594</td>\n",
       "      <td>0.417</td>\n",
       "      <td>0.583</td>\n",
       "    </tr>\n",
       "    <tr>\n",
       "      <th>6</th>\n",
       "      <td>AlaskaAir</td>\n",
       "      <td>1407</td>\n",
       "      <td>2215</td>\n",
       "      <td>3622</td>\n",
       "      <td>0.388</td>\n",
       "      <td>0.612</td>\n",
       "    </tr>\n",
       "    <tr>\n",
       "      <th>7</th>\n",
       "      <td>SouthwestAir</td>\n",
       "      <td>4907</td>\n",
       "      <td>9139</td>\n",
       "      <td>14046</td>\n",
       "      <td>0.349</td>\n",
       "      <td>0.651</td>\n",
       "    </tr>\n",
       "  </tbody>\n",
       "</table>\n",
       "</div>"
      ],
      "text/plain": [
       "           Airline  Neg_Count  Pos_Count  Total_Count  Neg_Ratio  Pos_Ratio\n",
       "0      AmericanAir       8701       8511        17212      0.506      0.494\n",
       "1  British_Airways       6431       6390        12821      0.502      0.498\n",
       "2          JetBlue       1734       1966         3700      0.469      0.531\n",
       "3   VirginAtlantic        767        894         1661      0.462      0.538\n",
       "4            Delta       8302      10609        18911      0.439      0.561\n",
       "5   AirAsiaSupport       1497       2097         3594      0.417      0.583\n",
       "6        AlaskaAir       1407       2215         3622      0.388      0.612\n",
       "7     SouthwestAir       4907       9139        14046      0.349      0.651"
      ]
     },
     "execution_count": 43,
     "metadata": {},
     "output_type": "execute_result"
    }
   ],
   "source": [
    "mergedCounts = neg.merge(pos, left_on='Airline', right_on='Airline')\n",
    "mergedCounts['Total_Count'] = mergedCounts['Neg_Count'] + mergedCounts['Pos_Count']\n",
    "mergedCounts['Neg_Ratio'] = round(mergedCounts['Neg_Count'] / mergedCounts['Total_Count'], 3)\n",
    "mergedCounts['Pos_Ratio'] = round(mergedCounts['Pos_Count'] / mergedCounts['Total_Count'], 3)\n",
    "mergedCounts.sort_values(by='Neg_Ratio', ascending=False).head(10).reset_index().drop(['index'], axis=1)"
   ]
  },
  {
   "cell_type": "markdown",
   "id": "59bc5f68",
   "metadata": {},
   "source": [
    "## Step 6: Statistical Prediction/Modeling"
   ]
  },
  {
   "cell_type": "markdown",
   "id": "2ad9160e",
   "metadata": {},
   "source": [
    "<div> Choose two airlines to compare and analyze </div>\n",
    "<div> AmericanAir (AA) and SouthwestAir (WN) </div>\n",
    "<div> AmericanAir was chosen since it had the highest Neg:Pos Sentiment Ratio vs SouthwestAir with the lowest Neg:Pos Sentiment Ratio </div>\n",
    "<br>\n",
    "<div> Goal is to identify most common issues and how each airline resolved it. </div>\n",
    "<div> Also, understand why SouthwestAir has less negative sentiment than AmericanAir. </div>\n",
    "\n",
    "<hr>"
   ]
  },
  {
   "cell_type": "code",
   "execution_count": 33,
   "id": "95957808",
   "metadata": {},
   "outputs": [],
   "source": [
    "AAData = filteredData[filteredData['author_id_y'] == 'AmericanAir'].reset_index().drop(['index'], axis=1)\n",
    "WNData = filteredData[filteredData['author_id_y'] == 'SouthwestAir'].reset_index().drop(['index'], axis=1)"
   ]
  },
  {
   "cell_type": "code",
   "execution_count": 35,
   "id": "810caf6d",
   "metadata": {},
   "outputs": [
    {
     "data": {
      "text/html": [
       "<div>\n",
       "<style scoped>\n",
       "    .dataframe tbody tr th:only-of-type {\n",
       "        vertical-align: middle;\n",
       "    }\n",
       "\n",
       "    .dataframe tbody tr th {\n",
       "        vertical-align: top;\n",
       "    }\n",
       "\n",
       "    .dataframe thead th {\n",
       "        text-align: right;\n",
       "    }\n",
       "</style>\n",
       "<table border=\"1\" class=\"dataframe\">\n",
       "  <thead>\n",
       "    <tr style=\"text-align: right;\">\n",
       "      <th></th>\n",
       "      <th>tweet_id_x</th>\n",
       "      <th>author_id_x</th>\n",
       "      <th>inbound_x</th>\n",
       "      <th>created_at_x</th>\n",
       "      <th>text_x</th>\n",
       "      <th>cleaned_text_x</th>\n",
       "      <th>wordDifference_x</th>\n",
       "      <th>response_tweet_id_x</th>\n",
       "      <th>in_response_to_tweet_id_x</th>\n",
       "      <th>sentiment_x</th>\n",
       "      <th>tweet_id_y</th>\n",
       "      <th>author_id_y</th>\n",
       "      <th>inbound_y</th>\n",
       "      <th>created_at_y</th>\n",
       "      <th>text_y</th>\n",
       "      <th>cleaned_text_y</th>\n",
       "      <th>wordDifference_y</th>\n",
       "      <th>response_tweet_id_y</th>\n",
       "      <th>in_response_to_tweet_id_y</th>\n",
       "      <th>sentiment_y</th>\n",
       "    </tr>\n",
       "  </thead>\n",
       "  <tbody>\n",
       "    <tr>\n",
       "      <th>0</th>\n",
       "      <td>1002</td>\n",
       "      <td>115905</td>\n",
       "      <td>True</td>\n",
       "      <td>Tue Oct 31 22:02:04 +0000 2017</td>\n",
       "      <td>Ben Tennyson and an American Airlines pilot. 🎃...</td>\n",
       "      <td>ben tennyson american airline pilot 🎃 trunkort...</td>\n",
       "      <td>2</td>\n",
       "      <td>1001</td>\n",
       "      <td>NaN</td>\n",
       "      <td>0</td>\n",
       "      <td>1001</td>\n",
       "      <td>AmericanAir</td>\n",
       "      <td>False</td>\n",
       "      <td>Tue Oct 31 22:24:05 +0000 2017</td>\n",
       "      <td>@115905 Aww, that's definitely a future pilot ...</td>\n",
       "      <td>115905 aww that definit future pilot make happ...</td>\n",
       "      <td>3</td>\n",
       "      <td>NaN</td>\n",
       "      <td>1002.0</td>\n",
       "      <td>0</td>\n",
       "    </tr>\n",
       "    <tr>\n",
       "      <th>1</th>\n",
       "      <td>1005</td>\n",
       "      <td>115906</td>\n",
       "      <td>True</td>\n",
       "      <td>Tue Oct 31 21:51:37 +0000 2017</td>\n",
       "      <td>I’m sorry, what? It’s going to COST me $50 to ...</td>\n",
       "      <td>i’m it’ go cost 50 transfer 4000 aa advantage ...</td>\n",
       "      <td>9</td>\n",
       "      <td>1003,1007</td>\n",
       "      <td>NaN</td>\n",
       "      <td>1</td>\n",
       "      <td>1003</td>\n",
       "      <td>AmericanAir</td>\n",
       "      <td>False</td>\n",
       "      <td>Tue Oct 31 22:22:37 +0000 2017</td>\n",
       "      <td>@115906 This is a great option for customers w...</td>\n",
       "      <td>115906 great option custom want share mile che...</td>\n",
       "      <td>12</td>\n",
       "      <td>1004</td>\n",
       "      <td>1005.0</td>\n",
       "      <td>1</td>\n",
       "    </tr>\n",
       "    <tr>\n",
       "      <th>2</th>\n",
       "      <td>1009</td>\n",
       "      <td>115907</td>\n",
       "      <td>True</td>\n",
       "      <td>Tue Oct 31 21:54:22 +0000 2017</td>\n",
       "      <td>Heading to London tonight will be there for 5 ...</td>\n",
       "      <td>head london tonight 5 day excit stuff american...</td>\n",
       "      <td>10</td>\n",
       "      <td>1008,1010,1011,1012,1013,1014,1015,1016,1017,1...</td>\n",
       "      <td>NaN</td>\n",
       "      <td>1</td>\n",
       "      <td>1008</td>\n",
       "      <td>AmericanAir</td>\n",
       "      <td>False</td>\n",
       "      <td>Tue Oct 31 22:19:34 +0000 2017</td>\n",
       "      <td>@115907 It's always a pleasure to have you on ...</td>\n",
       "      <td>115907 alway pleasure board john wonder flight...</td>\n",
       "      <td>10</td>\n",
       "      <td>NaN</td>\n",
       "      <td>1009.0</td>\n",
       "      <td>1</td>\n",
       "    </tr>\n",
       "    <tr>\n",
       "      <th>3</th>\n",
       "      <td>1062</td>\n",
       "      <td>115908</td>\n",
       "      <td>True</td>\n",
       "      <td>Tue Oct 31 21:47:19 +0000 2017</td>\n",
       "      <td>Check out these tiny trick-or-treaters all dre...</td>\n",
       "      <td>check tini trickortreat dress nicu hey america...</td>\n",
       "      <td>10</td>\n",
       "      <td>1061,1063</td>\n",
       "      <td>NaN</td>\n",
       "      <td>0</td>\n",
       "      <td>1061</td>\n",
       "      <td>AmericanAir</td>\n",
       "      <td>False</td>\n",
       "      <td>Tue Oct 31 22:17:44 +0000 2017</td>\n",
       "      <td>@115908 Pilots, Potter, Pumpkins and Skeletons...</td>\n",
       "      <td>115908 pilot potter pumpkin skeletonsoh theyre...</td>\n",
       "      <td>3</td>\n",
       "      <td>NaN</td>\n",
       "      <td>1062.0</td>\n",
       "      <td>1</td>\n",
       "    </tr>\n",
       "    <tr>\n",
       "      <th>4</th>\n",
       "      <td>1065</td>\n",
       "      <td>115909</td>\n",
       "      <td>True</td>\n",
       "      <td>Tue Oct 31 21:51:36 +0000 2017</td>\n",
       "      <td>Thank you, @AmericanAir for playing #ThisIsUs ...</td>\n",
       "      <td>americanair play thisisu great flight attend f...</td>\n",
       "      <td>8</td>\n",
       "      <td>1064</td>\n",
       "      <td>NaN</td>\n",
       "      <td>1</td>\n",
       "      <td>1064</td>\n",
       "      <td>AmericanAir</td>\n",
       "      <td>False</td>\n",
       "      <td>Tue Oct 31 22:14:35 +0000 2017</td>\n",
       "      <td>@115909 We're glad you got to kick back and en...</td>\n",
       "      <td>115909 glad got kick back enjoy show fli kind ...</td>\n",
       "      <td>9</td>\n",
       "      <td>NaN</td>\n",
       "      <td>1065.0</td>\n",
       "      <td>1</td>\n",
       "    </tr>\n",
       "  </tbody>\n",
       "</table>\n",
       "</div>"
      ],
      "text/plain": [
       "   tweet_id_x author_id_x  inbound_x                    created_at_x  \\\n",
       "0        1002      115905       True  Tue Oct 31 22:02:04 +0000 2017   \n",
       "1        1005      115906       True  Tue Oct 31 21:51:37 +0000 2017   \n",
       "2        1009      115907       True  Tue Oct 31 21:54:22 +0000 2017   \n",
       "3        1062      115908       True  Tue Oct 31 21:47:19 +0000 2017   \n",
       "4        1065      115909       True  Tue Oct 31 21:51:36 +0000 2017   \n",
       "\n",
       "                                              text_x  \\\n",
       "0  Ben Tennyson and an American Airlines pilot. 🎃...   \n",
       "1  I’m sorry, what? It’s going to COST me $50 to ...   \n",
       "2  Heading to London tonight will be there for 5 ...   \n",
       "3  Check out these tiny trick-or-treaters all dre...   \n",
       "4  Thank you, @AmericanAir for playing #ThisIsUs ...   \n",
       "\n",
       "                                      cleaned_text_x  wordDifference_x  \\\n",
       "0  ben tennyson american airline pilot 🎃 trunkort...                 2   \n",
       "1  i’m it’ go cost 50 transfer 4000 aa advantage ...                 9   \n",
       "2  head london tonight 5 day excit stuff american...                10   \n",
       "3  check tini trickortreat dress nicu hey america...                10   \n",
       "4  americanair play thisisu great flight attend f...                 8   \n",
       "\n",
       "                                 response_tweet_id_x  \\\n",
       "0                                               1001   \n",
       "1                                          1003,1007   \n",
       "2  1008,1010,1011,1012,1013,1014,1015,1016,1017,1...   \n",
       "3                                          1061,1063   \n",
       "4                                               1064   \n",
       "\n",
       "   in_response_to_tweet_id_x  sentiment_x  tweet_id_y  author_id_y  inbound_y  \\\n",
       "0                        NaN            0        1001  AmericanAir      False   \n",
       "1                        NaN            1        1003  AmericanAir      False   \n",
       "2                        NaN            1        1008  AmericanAir      False   \n",
       "3                        NaN            0        1061  AmericanAir      False   \n",
       "4                        NaN            1        1064  AmericanAir      False   \n",
       "\n",
       "                     created_at_y  \\\n",
       "0  Tue Oct 31 22:24:05 +0000 2017   \n",
       "1  Tue Oct 31 22:22:37 +0000 2017   \n",
       "2  Tue Oct 31 22:19:34 +0000 2017   \n",
       "3  Tue Oct 31 22:17:44 +0000 2017   \n",
       "4  Tue Oct 31 22:14:35 +0000 2017   \n",
       "\n",
       "                                              text_y  \\\n",
       "0  @115905 Aww, that's definitely a future pilot ...   \n",
       "1  @115906 This is a great option for customers w...   \n",
       "2  @115907 It's always a pleasure to have you on ...   \n",
       "3  @115908 Pilots, Potter, Pumpkins and Skeletons...   \n",
       "4  @115909 We're glad you got to kick back and en...   \n",
       "\n",
       "                                      cleaned_text_y  wordDifference_y  \\\n",
       "0  115905 aww that definit future pilot make happ...                 3   \n",
       "1  115906 great option custom want share mile che...                12   \n",
       "2  115907 alway pleasure board john wonder flight...                10   \n",
       "3  115908 pilot potter pumpkin skeletonsoh theyre...                 3   \n",
       "4  115909 glad got kick back enjoy show fli kind ...                 9   \n",
       "\n",
       "  response_tweet_id_y  in_response_to_tweet_id_y  sentiment_y  \n",
       "0                 NaN                     1002.0            0  \n",
       "1                1004                     1005.0            1  \n",
       "2                 NaN                     1009.0            1  \n",
       "3                 NaN                     1062.0            1  \n",
       "4                 NaN                     1065.0            1  "
      ]
     },
     "execution_count": 35,
     "metadata": {},
     "output_type": "execute_result"
    }
   ],
   "source": [
    "AAData.head(5)"
   ]
  },
  {
   "cell_type": "code",
   "execution_count": 36,
   "id": "dbcd9326",
   "metadata": {},
   "outputs": [
    {
     "data": {
      "text/html": [
       "<div>\n",
       "<style scoped>\n",
       "    .dataframe tbody tr th:only-of-type {\n",
       "        vertical-align: middle;\n",
       "    }\n",
       "\n",
       "    .dataframe tbody tr th {\n",
       "        vertical-align: top;\n",
       "    }\n",
       "\n",
       "    .dataframe thead th {\n",
       "        text-align: right;\n",
       "    }\n",
       "</style>\n",
       "<table border=\"1\" class=\"dataframe\">\n",
       "  <thead>\n",
       "    <tr style=\"text-align: right;\">\n",
       "      <th></th>\n",
       "      <th>tweet_id_x</th>\n",
       "      <th>author_id_x</th>\n",
       "      <th>inbound_x</th>\n",
       "      <th>created_at_x</th>\n",
       "      <th>text_x</th>\n",
       "      <th>cleaned_text_x</th>\n",
       "      <th>wordDifference_x</th>\n",
       "      <th>response_tweet_id_x</th>\n",
       "      <th>in_response_to_tweet_id_x</th>\n",
       "      <th>sentiment_x</th>\n",
       "      <th>tweet_id_y</th>\n",
       "      <th>author_id_y</th>\n",
       "      <th>inbound_y</th>\n",
       "      <th>created_at_y</th>\n",
       "      <th>text_y</th>\n",
       "      <th>cleaned_text_y</th>\n",
       "      <th>wordDifference_y</th>\n",
       "      <th>response_tweet_id_y</th>\n",
       "      <th>in_response_to_tweet_id_y</th>\n",
       "      <th>sentiment_y</th>\n",
       "    </tr>\n",
       "  </thead>\n",
       "  <tbody>\n",
       "    <tr>\n",
       "      <th>0</th>\n",
       "      <td>1212</td>\n",
       "      <td>115925</td>\n",
       "      <td>True</td>\n",
       "      <td>Tue Oct 31 22:24:22 +0000 2017</td>\n",
       "      <td>I really hadthe WORST experience ever from sta...</td>\n",
       "      <td>realli hadthe worst experience ever start fini...</td>\n",
       "      <td>8</td>\n",
       "      <td>1211</td>\n",
       "      <td>NaN</td>\n",
       "      <td>-1</td>\n",
       "      <td>1211</td>\n",
       "      <td>SouthwestAir</td>\n",
       "      <td>False</td>\n",
       "      <td>Tue Oct 31 22:25:58 +0000 2017</td>\n",
       "      <td>@115925 We're truly sorry to hear that. Please...</td>\n",
       "      <td>115925 truli hear pm info followup vp</td>\n",
       "      <td>12</td>\n",
       "      <td>NaN</td>\n",
       "      <td>1212.0</td>\n",
       "      <td>0</td>\n",
       "    </tr>\n",
       "    <tr>\n",
       "      <th>1</th>\n",
       "      <td>1214</td>\n",
       "      <td>115926</td>\n",
       "      <td>True</td>\n",
       "      <td>Tue Oct 31 22:20:26 +0000 2017</td>\n",
       "      <td>Celebrated Halloween on a @southwestair flight...</td>\n",
       "      <td>celebr halloween southwestair flight pumpkin s...</td>\n",
       "      <td>6</td>\n",
       "      <td>1213</td>\n",
       "      <td>NaN</td>\n",
       "      <td>1</td>\n",
       "      <td>1213</td>\n",
       "      <td>SouthwestAir</td>\n",
       "      <td>False</td>\n",
       "      <td>Tue Oct 31 22:25:25 +0000 2017</td>\n",
       "      <td>@115926 Happy HalloWN! Bottoms up, Risa! ^SL</td>\n",
       "      <td>115926 happi hallown bottom risa sl</td>\n",
       "      <td>1</td>\n",
       "      <td>NaN</td>\n",
       "      <td>1214.0</td>\n",
       "      <td>0</td>\n",
       "    </tr>\n",
       "    <tr>\n",
       "      <th>2</th>\n",
       "      <td>1216</td>\n",
       "      <td>115928</td>\n",
       "      <td>True</td>\n",
       "      <td>Tue Oct 31 22:09:15 +0000 2017</td>\n",
       "      <td>Thanks to the wonderful @SouthwestAir crews of...</td>\n",
       "      <td>wonder southwestair crew flight 1732 amp 560 s...</td>\n",
       "      <td>10</td>\n",
       "      <td>1215</td>\n",
       "      <td>NaN</td>\n",
       "      <td>1</td>\n",
       "      <td>1215</td>\n",
       "      <td>SouthwestAir</td>\n",
       "      <td>False</td>\n",
       "      <td>Tue Oct 31 22:21:27 +0000 2017</td>\n",
       "      <td>@115928 We aim to please, Eric! Your love mean...</td>\n",
       "      <td>115928 aim eric love mean world cant wait shar...</td>\n",
       "      <td>14</td>\n",
       "      <td>NaN</td>\n",
       "      <td>1216.0</td>\n",
       "      <td>1</td>\n",
       "    </tr>\n",
       "    <tr>\n",
       "      <th>3</th>\n",
       "      <td>1223</td>\n",
       "      <td>115929</td>\n",
       "      <td>True</td>\n",
       "      <td>Tue Oct 31 22:08:55 +0000 2017</td>\n",
       "      <td>@SouthwestAir is down on the my account page 😑😑</td>\n",
       "      <td>southwestair account page</td>\n",
       "      <td>6</td>\n",
       "      <td>1221</td>\n",
       "      <td>NaN</td>\n",
       "      <td>0</td>\n",
       "      <td>1221</td>\n",
       "      <td>SouthwestAir</td>\n",
       "      <td>False</td>\n",
       "      <td>Tue Oct 31 22:17:35 +0000 2017</td>\n",
       "      <td>@115929 Hm, we haven't had any reported errors...</td>\n",
       "      <td>115929 hm havent report error late tri access ...</td>\n",
       "      <td>8</td>\n",
       "      <td>1219,1222</td>\n",
       "      <td>1223.0</td>\n",
       "      <td>1</td>\n",
       "    </tr>\n",
       "    <tr>\n",
       "      <th>4</th>\n",
       "      <td>1229</td>\n",
       "      <td>115932</td>\n",
       "      <td>True</td>\n",
       "      <td>Tue Oct 31 22:17:25 +0000 2017</td>\n",
       "      <td>Best part of my Halloween? Free drinks on all ...</td>\n",
       "      <td>best part halloween free drink southwestair fl...</td>\n",
       "      <td>7</td>\n",
       "      <td>1228</td>\n",
       "      <td>NaN</td>\n",
       "      <td>1</td>\n",
       "      <td>1228</td>\n",
       "      <td>SouthwestAir</td>\n",
       "      <td>False</td>\n",
       "      <td>Tue Oct 31 22:19:50 +0000 2017</td>\n",
       "      <td>@115932 We love to give out free boos so much,...</td>\n",
       "      <td>115932 love give free boo much basic ghost hap...</td>\n",
       "      <td>7</td>\n",
       "      <td>NaN</td>\n",
       "      <td>1229.0</td>\n",
       "      <td>1</td>\n",
       "    </tr>\n",
       "  </tbody>\n",
       "</table>\n",
       "</div>"
      ],
      "text/plain": [
       "   tweet_id_x author_id_x  inbound_x                    created_at_x  \\\n",
       "0        1212      115925       True  Tue Oct 31 22:24:22 +0000 2017   \n",
       "1        1214      115926       True  Tue Oct 31 22:20:26 +0000 2017   \n",
       "2        1216      115928       True  Tue Oct 31 22:09:15 +0000 2017   \n",
       "3        1223      115929       True  Tue Oct 31 22:08:55 +0000 2017   \n",
       "4        1229      115932       True  Tue Oct 31 22:17:25 +0000 2017   \n",
       "\n",
       "                                              text_x  \\\n",
       "0  I really hadthe WORST experience ever from sta...   \n",
       "1  Celebrated Halloween on a @southwestair flight...   \n",
       "2  Thanks to the wonderful @SouthwestAir crews of...   \n",
       "3    @SouthwestAir is down on the my account page 😑😑   \n",
       "4  Best part of my Halloween? Free drinks on all ...   \n",
       "\n",
       "                                      cleaned_text_x  wordDifference_x  \\\n",
       "0  realli hadthe worst experience ever start fini...                 8   \n",
       "1  celebr halloween southwestair flight pumpkin s...                 6   \n",
       "2  wonder southwestair crew flight 1732 amp 560 s...                10   \n",
       "3                          southwestair account page                 6   \n",
       "4  best part halloween free drink southwestair fl...                 7   \n",
       "\n",
       "  response_tweet_id_x  in_response_to_tweet_id_x  sentiment_x  tweet_id_y  \\\n",
       "0                1211                        NaN           -1        1211   \n",
       "1                1213                        NaN            1        1213   \n",
       "2                1215                        NaN            1        1215   \n",
       "3                1221                        NaN            0        1221   \n",
       "4                1228                        NaN            1        1228   \n",
       "\n",
       "    author_id_y  inbound_y                    created_at_y  \\\n",
       "0  SouthwestAir      False  Tue Oct 31 22:25:58 +0000 2017   \n",
       "1  SouthwestAir      False  Tue Oct 31 22:25:25 +0000 2017   \n",
       "2  SouthwestAir      False  Tue Oct 31 22:21:27 +0000 2017   \n",
       "3  SouthwestAir      False  Tue Oct 31 22:17:35 +0000 2017   \n",
       "4  SouthwestAir      False  Tue Oct 31 22:19:50 +0000 2017   \n",
       "\n",
       "                                              text_y  \\\n",
       "0  @115925 We're truly sorry to hear that. Please...   \n",
       "1       @115926 Happy HalloWN! Bottoms up, Risa! ^SL   \n",
       "2  @115928 We aim to please, Eric! Your love mean...   \n",
       "3  @115929 Hm, we haven't had any reported errors...   \n",
       "4  @115932 We love to give out free boos so much,...   \n",
       "\n",
       "                                      cleaned_text_y  wordDifference_y  \\\n",
       "0              115925 truli hear pm info followup vp                12   \n",
       "1                115926 happi hallown bottom risa sl                 1   \n",
       "2  115928 aim eric love mean world cant wait shar...                14   \n",
       "3  115929 hm havent report error late tri access ...                 8   \n",
       "4  115932 love give free boo much basic ghost hap...                 7   \n",
       "\n",
       "  response_tweet_id_y  in_response_to_tweet_id_y  sentiment_y  \n",
       "0                 NaN                     1212.0            0  \n",
       "1                 NaN                     1214.0            0  \n",
       "2                 NaN                     1216.0            1  \n",
       "3           1219,1222                     1223.0            1  \n",
       "4                 NaN                     1229.0            1  "
      ]
     },
     "execution_count": 36,
     "metadata": {},
     "output_type": "execute_result"
    }
   ],
   "source": [
    "WNData.head(5)"
   ]
  },
  {
   "cell_type": "code",
   "execution_count": 37,
   "id": "968205e2",
   "metadata": {},
   "outputs": [],
   "source": [
    "def mostCommon(column):\n",
    "    for text in column.values:\n",
    "        for word in text.split():\n",
    "            if not True in airlines.str.lower().str.contains(word):\n",
    "                cnt[word] +=1\n",
    "\n",
    "    return cnt.most_common(20)"
   ]
  },
  {
   "cell_type": "code",
   "execution_count": 38,
   "id": "ed660bd2",
   "metadata": {},
   "outputs": [
    {
     "data": {
      "text/html": [
       "<div>\n",
       "<style scoped>\n",
       "    .dataframe tbody tr th:only-of-type {\n",
       "        vertical-align: middle;\n",
       "    }\n",
       "\n",
       "    .dataframe tbody tr th {\n",
       "        vertical-align: top;\n",
       "    }\n",
       "\n",
       "    .dataframe thead th {\n",
       "        text-align: right;\n",
       "    }\n",
       "</style>\n",
       "<table border=\"1\" class=\"dataframe\">\n",
       "  <thead>\n",
       "    <tr style=\"text-align: right;\">\n",
       "      <th></th>\n",
       "      <th>AACommonWords</th>\n",
       "      <th>AACount</th>\n",
       "    </tr>\n",
       "  </thead>\n",
       "  <tbody>\n",
       "    <tr>\n",
       "      <th>0</th>\n",
       "      <td>flight</td>\n",
       "      <td>4009</td>\n",
       "    </tr>\n",
       "    <tr>\n",
       "      <th>1</th>\n",
       "      <td>delay</td>\n",
       "      <td>2014</td>\n",
       "    </tr>\n",
       "    <tr>\n",
       "      <th>2</th>\n",
       "      <td>hour</td>\n",
       "      <td>1095</td>\n",
       "    </tr>\n",
       "    <tr>\n",
       "      <th>3</th>\n",
       "      <td>fli</td>\n",
       "      <td>944</td>\n",
       "    </tr>\n",
       "    <tr>\n",
       "      <th>4</th>\n",
       "      <td>custom</td>\n",
       "      <td>846</td>\n",
       "    </tr>\n",
       "    <tr>\n",
       "      <th>5</th>\n",
       "      <td>plane</td>\n",
       "      <td>837</td>\n",
       "    </tr>\n",
       "    <tr>\n",
       "      <th>6</th>\n",
       "      <td>miss</td>\n",
       "      <td>782</td>\n",
       "    </tr>\n",
       "    <tr>\n",
       "      <th>7</th>\n",
       "      <td>time</td>\n",
       "      <td>779</td>\n",
       "    </tr>\n",
       "    <tr>\n",
       "      <th>8</th>\n",
       "      <td>gate</td>\n",
       "      <td>707</td>\n",
       "    </tr>\n",
       "    <tr>\n",
       "      <th>9</th>\n",
       "      <td>bag</td>\n",
       "      <td>705</td>\n",
       "    </tr>\n",
       "    <tr>\n",
       "      <th>10</th>\n",
       "      <td>cancel</td>\n",
       "      <td>702</td>\n",
       "    </tr>\n",
       "    <tr>\n",
       "      <th>11</th>\n",
       "      <td>seat</td>\n",
       "      <td>659</td>\n",
       "    </tr>\n",
       "    <tr>\n",
       "      <th>12</th>\n",
       "      <td>worst</td>\n",
       "      <td>648</td>\n",
       "    </tr>\n",
       "    <tr>\n",
       "      <th>13</th>\n",
       "      <td>airline</td>\n",
       "      <td>627</td>\n",
       "    </tr>\n",
       "    <tr>\n",
       "      <th>14</th>\n",
       "      <td>amp</td>\n",
       "      <td>618</td>\n",
       "    </tr>\n",
       "  </tbody>\n",
       "</table>\n",
       "</div>"
      ],
      "text/plain": [
       "   AACommonWords  AACount\n",
       "0         flight     4009\n",
       "1          delay     2014\n",
       "2           hour     1095\n",
       "3            fli      944\n",
       "4         custom      846\n",
       "5          plane      837\n",
       "6           miss      782\n",
       "7           time      779\n",
       "8           gate      707\n",
       "9            bag      705\n",
       "10        cancel      702\n",
       "11          seat      659\n",
       "12         worst      648\n",
       "13       airline      627\n",
       "14           amp      618"
      ]
     },
     "execution_count": 38,
     "metadata": {},
     "output_type": "execute_result"
    }
   ],
   "source": [
    "# Find most common words in text with negative sentiment for AA\n",
    "cnt = Counter()\n",
    "\n",
    "AANegSent = AAData[AAData['sentiment_x'] == -1]\n",
    "AANegWords = pd.DataFrame(mostCommon(AANegSent['cleaned_text_x']))\n",
    "AANegWords.columns = ['AACommonWords', 'AACount']\n",
    "AANegWords.head(15)"
   ]
  },
  {
   "cell_type": "code",
   "execution_count": 39,
   "id": "278c2f85",
   "metadata": {},
   "outputs": [
    {
     "data": {
      "text/html": [
       "<div>\n",
       "<style scoped>\n",
       "    .dataframe tbody tr th:only-of-type {\n",
       "        vertical-align: middle;\n",
       "    }\n",
       "\n",
       "    .dataframe tbody tr th {\n",
       "        vertical-align: top;\n",
       "    }\n",
       "\n",
       "    .dataframe thead th {\n",
       "        text-align: right;\n",
       "    }\n",
       "</style>\n",
       "<table border=\"1\" class=\"dataframe\">\n",
       "  <thead>\n",
       "    <tr style=\"text-align: right;\">\n",
       "      <th></th>\n",
       "      <th>WNCommonWords</th>\n",
       "      <th>WNCount</th>\n",
       "    </tr>\n",
       "  </thead>\n",
       "  <tbody>\n",
       "    <tr>\n",
       "      <th>0</th>\n",
       "      <td>flight</td>\n",
       "      <td>2536</td>\n",
       "    </tr>\n",
       "    <tr>\n",
       "      <th>1</th>\n",
       "      <td>delay</td>\n",
       "      <td>1254</td>\n",
       "    </tr>\n",
       "    <tr>\n",
       "      <th>2</th>\n",
       "      <td>hour</td>\n",
       "      <td>575</td>\n",
       "    </tr>\n",
       "    <tr>\n",
       "      <th>3</th>\n",
       "      <td>time</td>\n",
       "      <td>487</td>\n",
       "    </tr>\n",
       "    <tr>\n",
       "      <th>4</th>\n",
       "      <td>fli</td>\n",
       "      <td>482</td>\n",
       "    </tr>\n",
       "    <tr>\n",
       "      <th>5</th>\n",
       "      <td>cancel</td>\n",
       "      <td>436</td>\n",
       "    </tr>\n",
       "    <tr>\n",
       "      <th>6</th>\n",
       "      <td>plane</td>\n",
       "      <td>375</td>\n",
       "    </tr>\n",
       "    <tr>\n",
       "      <th>7</th>\n",
       "      <td>board</td>\n",
       "      <td>347</td>\n",
       "    </tr>\n",
       "    <tr>\n",
       "      <th>8</th>\n",
       "      <td>check</td>\n",
       "      <td>343</td>\n",
       "    </tr>\n",
       "    <tr>\n",
       "      <th>9</th>\n",
       "      <td>miss</td>\n",
       "      <td>321</td>\n",
       "    </tr>\n",
       "    <tr>\n",
       "      <th>10</th>\n",
       "      <td>go</td>\n",
       "      <td>298</td>\n",
       "    </tr>\n",
       "    <tr>\n",
       "      <th>11</th>\n",
       "      <td>amp</td>\n",
       "      <td>294</td>\n",
       "    </tr>\n",
       "    <tr>\n",
       "      <th>12</th>\n",
       "      <td>custom</td>\n",
       "      <td>277</td>\n",
       "    </tr>\n",
       "    <tr>\n",
       "      <th>13</th>\n",
       "      <td>bag</td>\n",
       "      <td>273</td>\n",
       "    </tr>\n",
       "    <tr>\n",
       "      <th>14</th>\n",
       "      <td>tri</td>\n",
       "      <td>268</td>\n",
       "    </tr>\n",
       "  </tbody>\n",
       "</table>\n",
       "</div>"
      ],
      "text/plain": [
       "   WNCommonWords  WNCount\n",
       "0         flight     2536\n",
       "1          delay     1254\n",
       "2           hour      575\n",
       "3           time      487\n",
       "4            fli      482\n",
       "5         cancel      436\n",
       "6          plane      375\n",
       "7          board      347\n",
       "8          check      343\n",
       "9           miss      321\n",
       "10            go      298\n",
       "11           amp      294\n",
       "12        custom      277\n",
       "13           bag      273\n",
       "14           tri      268"
      ]
     },
     "execution_count": 39,
     "metadata": {},
     "output_type": "execute_result"
    }
   ],
   "source": [
    "# Find most common words in text with negative sentiment for WN\n",
    "cnt = Counter()\n",
    "\n",
    "WNNegSent = WNData[WNData['sentiment_x'] == -1]\n",
    "WNNegWords = pd.DataFrame(mostCommon(WNNegSent['cleaned_text_x']))\n",
    "WNNegWords.columns = ['WNCommonWords', 'WNCount']\n",
    "WNNegWords.head(15)"
   ]
  },
  {
   "cell_type": "code",
   "execution_count": 40,
   "id": "687c1ee8",
   "metadata": {},
   "outputs": [],
   "source": [
    "mergedNegWords = AANegWords.reset_index().merge(WNNegWords.reset_index(), left_on='index', right_on='index').drop(['index'],axis=1)"
   ]
  },
  {
   "cell_type": "code",
   "execution_count": 41,
   "id": "e9fd859d",
   "metadata": {},
   "outputs": [
    {
     "data": {
      "text/html": [
       "<div>\n",
       "<style scoped>\n",
       "    .dataframe tbody tr th:only-of-type {\n",
       "        vertical-align: middle;\n",
       "    }\n",
       "\n",
       "    .dataframe tbody tr th {\n",
       "        vertical-align: top;\n",
       "    }\n",
       "\n",
       "    .dataframe thead th {\n",
       "        text-align: right;\n",
       "    }\n",
       "</style>\n",
       "<table border=\"1\" class=\"dataframe\">\n",
       "  <thead>\n",
       "    <tr style=\"text-align: right;\">\n",
       "      <th></th>\n",
       "      <th>AACommonWords</th>\n",
       "      <th>AACount</th>\n",
       "      <th>WNCommonWords</th>\n",
       "      <th>WNCount</th>\n",
       "    </tr>\n",
       "  </thead>\n",
       "  <tbody>\n",
       "    <tr>\n",
       "      <th>0</th>\n",
       "      <td>flight</td>\n",
       "      <td>4009</td>\n",
       "      <td>flight</td>\n",
       "      <td>2536</td>\n",
       "    </tr>\n",
       "    <tr>\n",
       "      <th>1</th>\n",
       "      <td>delay</td>\n",
       "      <td>2014</td>\n",
       "      <td>delay</td>\n",
       "      <td>1254</td>\n",
       "    </tr>\n",
       "    <tr>\n",
       "      <th>2</th>\n",
       "      <td>hour</td>\n",
       "      <td>1095</td>\n",
       "      <td>hour</td>\n",
       "      <td>575</td>\n",
       "    </tr>\n",
       "    <tr>\n",
       "      <th>3</th>\n",
       "      <td>fli</td>\n",
       "      <td>944</td>\n",
       "      <td>time</td>\n",
       "      <td>487</td>\n",
       "    </tr>\n",
       "    <tr>\n",
       "      <th>4</th>\n",
       "      <td>custom</td>\n",
       "      <td>846</td>\n",
       "      <td>fli</td>\n",
       "      <td>482</td>\n",
       "    </tr>\n",
       "    <tr>\n",
       "      <th>5</th>\n",
       "      <td>plane</td>\n",
       "      <td>837</td>\n",
       "      <td>cancel</td>\n",
       "      <td>436</td>\n",
       "    </tr>\n",
       "    <tr>\n",
       "      <th>6</th>\n",
       "      <td>miss</td>\n",
       "      <td>782</td>\n",
       "      <td>plane</td>\n",
       "      <td>375</td>\n",
       "    </tr>\n",
       "    <tr>\n",
       "      <th>7</th>\n",
       "      <td>time</td>\n",
       "      <td>779</td>\n",
       "      <td>board</td>\n",
       "      <td>347</td>\n",
       "    </tr>\n",
       "    <tr>\n",
       "      <th>8</th>\n",
       "      <td>gate</td>\n",
       "      <td>707</td>\n",
       "      <td>check</td>\n",
       "      <td>343</td>\n",
       "    </tr>\n",
       "    <tr>\n",
       "      <th>9</th>\n",
       "      <td>bag</td>\n",
       "      <td>705</td>\n",
       "      <td>miss</td>\n",
       "      <td>321</td>\n",
       "    </tr>\n",
       "    <tr>\n",
       "      <th>10</th>\n",
       "      <td>cancel</td>\n",
       "      <td>702</td>\n",
       "      <td>go</td>\n",
       "      <td>298</td>\n",
       "    </tr>\n",
       "    <tr>\n",
       "      <th>11</th>\n",
       "      <td>seat</td>\n",
       "      <td>659</td>\n",
       "      <td>amp</td>\n",
       "      <td>294</td>\n",
       "    </tr>\n",
       "    <tr>\n",
       "      <th>12</th>\n",
       "      <td>worst</td>\n",
       "      <td>648</td>\n",
       "      <td>custom</td>\n",
       "      <td>277</td>\n",
       "    </tr>\n",
       "    <tr>\n",
       "      <th>13</th>\n",
       "      <td>airline</td>\n",
       "      <td>627</td>\n",
       "      <td>bag</td>\n",
       "      <td>273</td>\n",
       "    </tr>\n",
       "    <tr>\n",
       "      <th>14</th>\n",
       "      <td>amp</td>\n",
       "      <td>618</td>\n",
       "      <td>tri</td>\n",
       "      <td>268</td>\n",
       "    </tr>\n",
       "  </tbody>\n",
       "</table>\n",
       "</div>"
      ],
      "text/plain": [
       "   AACommonWords  AACount WNCommonWords  WNCount\n",
       "0         flight     4009        flight     2536\n",
       "1          delay     2014         delay     1254\n",
       "2           hour     1095          hour      575\n",
       "3            fli      944          time      487\n",
       "4         custom      846           fli      482\n",
       "5          plane      837        cancel      436\n",
       "6           miss      782         plane      375\n",
       "7           time      779         board      347\n",
       "8           gate      707         check      343\n",
       "9            bag      705          miss      321\n",
       "10        cancel      702            go      298\n",
       "11          seat      659           amp      294\n",
       "12         worst      648        custom      277\n",
       "13       airline      627           bag      273\n",
       "14           amp      618           tri      268"
      ]
     },
     "execution_count": 41,
     "metadata": {},
     "output_type": "execute_result"
    }
   ],
   "source": [
    "mergedNegWords.head(15)"
   ]
  },
  {
   "cell_type": "markdown",
   "id": "c3db3017",
   "metadata": {},
   "source": [
    "<hr>\n",
    "\n",
    "<h2> Step 7: Interpretation of Results </h2>"
   ]
  },
  {
   "cell_type": "markdown",
   "id": "97d82f9e",
   "metadata": {},
   "source": [
    "<h4> Based off of the merged results, we can see that the most common issue for both airlines are about flights </h4>\n",
    "<h4> Looking further at the words, we can see AA had issues with delays in flights and customs </h4>\n",
    "<h4> Looking at the words for WN, we can see that WN also had problems with delays in flights, but more problems with canceled flights </h4>\n",
    "\n",
    "<hr>"
   ]
  },
  {
   "cell_type": "markdown",
   "id": "262e7482",
   "metadata": {},
   "source": [
    "## Step 8: Challenging of Results"
   ]
  },
  {
   "cell_type": "markdown",
   "id": "b29b2ed6",
   "metadata": {},
   "source": [
    "<ul>\n",
    "<li> <h3> There may be better techniques to use to solve the problem I have solved, but I believe the approach I took gave a sufficient and common issue airlines tend to have. This being conflicts with delays and cancelations of flights. </h3> </li>\n",
    "\n",
    "<li> <h3> Other ways to analyze this data is probably figuring out the response times and how long it took to resolve a conflict of each airline. </h3> </li>\n",
    "\n",
    "<li> <h3> I would say that there is still a little more I can use this data for in finding out conflicts with the customers and the companies. </h3> </li>\n",
    "</ul>\n",
    "\n",
    "<hr>"
   ]
  },
  {
   "cell_type": "markdown",
   "id": "7e7c7ba5",
   "metadata": {},
   "source": [
    "## Step 9: Communicate Results"
   ]
  },
  {
   "cell_type": "code",
   "execution_count": null,
   "id": "b5d8e293",
   "metadata": {},
   "outputs": [],
   "source": [
    "# USE A VISUALIZATION FORMAT TO VISUALIZE RESULTS\n",
    "# EXAMPLES: TABLEAU, POWERBI, MATPLOT FIGURES\n",
    "\n",
    "'''\n",
    "TEMPLATE:\n",
    "Start with your question and your problem statement\n",
    "Summarize your analysis into a story.\n",
    "Include the only essential analysis that adds value to your story and addresses the challenge.\n",
    "Add “pretty” figures that contribute to the story.\n",
    "Conclude with a summary of the important findings and any further techniques that can be explored to better answer the question.\n",
    "'''"
   ]
  },
  {
   "cell_type": "markdown",
   "id": "0a123bee",
   "metadata": {},
   "source": [
    "## Step 10: Data Product"
   ]
  },
  {
   "cell_type": "code",
   "execution_count": null,
   "id": "b39893e5",
   "metadata": {},
   "outputs": [],
   "source": [
    "# TURN DATA INTO A PRODUCT\n",
    "# EXAMPLES: DASHBOARDS, STREAMLIT FOR WEB APP"
   ]
  },
  {
   "cell_type": "markdown",
   "id": "024b1bb2",
   "metadata": {},
   "source": [
    "# OLD CODE"
   ]
  },
  {
   "cell_type": "code",
   "execution_count": 19,
   "id": "b0de13af",
   "metadata": {},
   "outputs": [],
   "source": [
    "inboundSent = df[df['inbound'] == True]\n",
    "outboundSent = df[df['inbound'] == False]"
   ]
  },
  {
   "cell_type": "markdown",
   "id": "7e97be3f",
   "metadata": {},
   "source": [
    "#### Count the number of values for each sentiment score (Positve, Neutral, Negative)"
   ]
  },
  {
   "cell_type": "code",
   "execution_count": 86,
   "id": "a4bdfe48",
   "metadata": {},
   "outputs": [
    {
     "data": {
      "text/html": [
       "<div>\n",
       "<style scoped>\n",
       "    .dataframe tbody tr th:only-of-type {\n",
       "        vertical-align: middle;\n",
       "    }\n",
       "\n",
       "    .dataframe tbody tr th {\n",
       "        vertical-align: top;\n",
       "    }\n",
       "\n",
       "    .dataframe thead th {\n",
       "        text-align: right;\n",
       "    }\n",
       "</style>\n",
       "<table border=\"1\" class=\"dataframe\">\n",
       "  <thead>\n",
       "    <tr style=\"text-align: right;\">\n",
       "      <th></th>\n",
       "      <th>Sentiment</th>\n",
       "      <th>count</th>\n",
       "    </tr>\n",
       "  </thead>\n",
       "  <tbody>\n",
       "    <tr>\n",
       "      <th>0</th>\n",
       "      <td>1</td>\n",
       "      <td>1199699</td>\n",
       "    </tr>\n",
       "    <tr>\n",
       "      <th>1</th>\n",
       "      <td>0</td>\n",
       "      <td>979997</td>\n",
       "    </tr>\n",
       "    <tr>\n",
       "      <th>2</th>\n",
       "      <td>-1</td>\n",
       "      <td>632078</td>\n",
       "    </tr>\n",
       "  </tbody>\n",
       "</table>\n",
       "</div>"
      ],
      "text/plain": [
       "   Sentiment    count\n",
       "0          1  1199699\n",
       "1          0   979997\n",
       "2         -1   632078"
      ]
     },
     "execution_count": 86,
     "metadata": {},
     "output_type": "execute_result"
    }
   ],
   "source": [
    "sentimentCounts = df['sentiment'].value_counts().rename_axis('Sentiment').reset_index(name='count')\n",
    "sentimentCounts\n",
    "# test = df[['inbound', 'sentiment']].value_counts().reset_index(name='count')"
   ]
  },
  {
   "cell_type": "code",
   "execution_count": 117,
   "id": "4f24d9e2",
   "metadata": {},
   "outputs": [],
   "source": [
    "test1 = df.query('inbound == True')[['sentiment', 'inbound']].value_counts().rename_axis(['sentiment', 'inbound']).reset_index(name='count')\n",
    "test2 = df.query('inbound == False')[['sentiment', 'inbound']].value_counts().rename_axis(['sentiment', 'inbound']).reset_index(name='count')"
   ]
  },
  {
   "cell_type": "code",
   "execution_count": 118,
   "id": "f2ffbf1a",
   "metadata": {},
   "outputs": [
    {
     "data": {
      "text/html": [
       "<div>\n",
       "<style scoped>\n",
       "    .dataframe tbody tr th:only-of-type {\n",
       "        vertical-align: middle;\n",
       "    }\n",
       "\n",
       "    .dataframe tbody tr th {\n",
       "        vertical-align: top;\n",
       "    }\n",
       "\n",
       "    .dataframe thead th {\n",
       "        text-align: right;\n",
       "    }\n",
       "</style>\n",
       "<table border=\"1\" class=\"dataframe\">\n",
       "  <thead>\n",
       "    <tr style=\"text-align: right;\">\n",
       "      <th></th>\n",
       "      <th>sentiment</th>\n",
       "      <th>inbound</th>\n",
       "      <th>count</th>\n",
       "    </tr>\n",
       "  </thead>\n",
       "  <tbody>\n",
       "    <tr>\n",
       "      <th>0</th>\n",
       "      <td>0</td>\n",
       "      <td>True</td>\n",
       "      <td>570332</td>\n",
       "    </tr>\n",
       "    <tr>\n",
       "      <th>1</th>\n",
       "      <td>1</td>\n",
       "      <td>True</td>\n",
       "      <td>513961</td>\n",
       "    </tr>\n",
       "    <tr>\n",
       "      <th>2</th>\n",
       "      <td>-1</td>\n",
       "      <td>True</td>\n",
       "      <td>453550</td>\n",
       "    </tr>\n",
       "  </tbody>\n",
       "</table>\n",
       "</div>"
      ],
      "text/plain": [
       "   sentiment  inbound   count\n",
       "0          0     True  570332\n",
       "1          1     True  513961\n",
       "2         -1     True  453550"
      ]
     },
     "execution_count": 118,
     "metadata": {},
     "output_type": "execute_result"
    }
   ],
   "source": [
    "test1"
   ]
  },
  {
   "cell_type": "code",
   "execution_count": 132,
   "id": "69609ef0",
   "metadata": {},
   "outputs": [
    {
     "data": {
      "text/html": [
       "<div>\n",
       "<style scoped>\n",
       "    .dataframe tbody tr th:only-of-type {\n",
       "        vertical-align: middle;\n",
       "    }\n",
       "\n",
       "    .dataframe tbody tr th {\n",
       "        vertical-align: top;\n",
       "    }\n",
       "\n",
       "    .dataframe thead th {\n",
       "        text-align: right;\n",
       "    }\n",
       "</style>\n",
       "<table border=\"1\" class=\"dataframe\">\n",
       "  <thead>\n",
       "    <tr style=\"text-align: right;\">\n",
       "      <th></th>\n",
       "      <th>sentiment</th>\n",
       "      <th>inbound_x</th>\n",
       "      <th>count_x</th>\n",
       "      <th>inbound_y</th>\n",
       "      <th>count_y</th>\n",
       "      <th>total</th>\n",
       "    </tr>\n",
       "  </thead>\n",
       "  <tbody>\n",
       "    <tr>\n",
       "      <th>0</th>\n",
       "      <td>1</td>\n",
       "      <td>True</td>\n",
       "      <td>513961</td>\n",
       "      <td>False</td>\n",
       "      <td>685738</td>\n",
       "      <td>1199699</td>\n",
       "    </tr>\n",
       "    <tr>\n",
       "      <th>1</th>\n",
       "      <td>0</td>\n",
       "      <td>True</td>\n",
       "      <td>570332</td>\n",
       "      <td>False</td>\n",
       "      <td>409665</td>\n",
       "      <td>979997</td>\n",
       "    </tr>\n",
       "    <tr>\n",
       "      <th>2</th>\n",
       "      <td>-1</td>\n",
       "      <td>True</td>\n",
       "      <td>453550</td>\n",
       "      <td>False</td>\n",
       "      <td>178528</td>\n",
       "      <td>632078</td>\n",
       "    </tr>\n",
       "  </tbody>\n",
       "</table>\n",
       "</div>"
      ],
      "text/plain": [
       "   sentiment  inbound_x  count_x  inbound_y  count_y    total\n",
       "0          1       True   513961      False   685738  1199699\n",
       "1          0       True   570332      False   409665   979997\n",
       "2         -1       True   453550      False   178528   632078"
      ]
     },
     "execution_count": 132,
     "metadata": {},
     "output_type": "execute_result"
    }
   ],
   "source": [
    "merged = test1.merge(test2, left_on='sentiment', right_on='sentiment')\n",
    "merged['total'] = merged['count_x'] + merged['count_y']\n",
    "merged = merged.sort_values('sentiment', ascending=False).reset_index()\n",
    "\n",
    "merged=merged.drop(['index'], axis=1)\n",
    "merged"
   ]
  },
  {
   "cell_type": "code",
   "execution_count": 21,
   "id": "79b58a53",
   "metadata": {},
   "outputs": [
    {
     "name": "stdout",
     "output_type": "stream",
     "text": [
      " 0    570332\n",
      " 1    513961\n",
      "-1    453550\n",
      "Name: sentiment, dtype: int64\n",
      " 1    685738\n",
      " 0    409665\n",
      "-1    178528\n",
      "Name: sentiment, dtype: int64\n"
     ]
    }
   ],
   "source": [
    "inboundSentCounts = inboundSent['sentiment'].value_counts()\n",
    "outboundSentCounts = outboundSent['sentiment'].value_counts()\n",
    "print(inboundSentCounts)\n",
    "print(outboundSentCounts)"
   ]
  },
  {
   "cell_type": "markdown",
   "id": "b280c336",
   "metadata": {},
   "source": [
    "#### Plot on graph(s) to display\n",
    "<p> Green = Positive </p>\n",
    "<p> Yellow = Neutral </p>\n",
    "<p> Red = Negative </p>"
   ]
  },
  {
   "cell_type": "markdown",
   "id": "11a5be87",
   "metadata": {},
   "source": [
    "### Step 5: Exploratory Data Analysis"
   ]
  },
  {
   "cell_type": "code",
   "execution_count": 67,
   "id": "05dde93e",
   "metadata": {},
   "outputs": [
    {
     "data": {
      "application/vnd.plotly.v1+json": {
       "config": {
        "plotlyServerURL": "https://plot.ly"
       },
       "data": [
        {
         "marker": {
          "color": [
           1,
           0,
           -1
          ],
          "coloraxis": "coloraxis"
         },
         "type": "bar",
         "x": [
          1,
          0,
          -1
         ],
         "xaxis": "x",
         "y": [
          1199699,
          979997,
          632078
         ],
         "yaxis": "y"
        },
        {
         "marker": {
          "color": [
           0,
           1,
           -1
          ],
          "coloraxis": "coloraxis"
         },
         "type": "bar",
         "x": [
          0,
          1,
          -1
         ],
         "xaxis": "x2",
         "y": [
          570332,
          513961,
          453550
         ],
         "yaxis": "y2"
        },
        {
         "marker": {
          "color": [
           1,
           0,
           -1
          ],
          "coloraxis": "coloraxis"
         },
         "type": "bar",
         "x": [
          1,
          0,
          -1
         ],
         "xaxis": "x3",
         "y": [
          685738,
          409665,
          178528
         ],
         "yaxis": "y3"
        }
       ],
       "layout": {
        "annotations": [
         {
          "font": {
           "size": 16
          },
          "showarrow": false,
          "text": "Inbound + Outbound",
          "x": 0.08333333333333333,
          "xanchor": "center",
          "xref": "paper",
          "y": 1,
          "yanchor": "bottom",
          "yref": "paper"
         },
         {
          "font": {
           "size": 16
          },
          "showarrow": false,
          "text": "Inbound",
          "x": 0.49999999999999994,
          "xanchor": "center",
          "xref": "paper",
          "y": 1,
          "yanchor": "bottom",
          "yref": "paper"
         },
         {
          "font": {
           "size": 16
          },
          "showarrow": false,
          "text": "Outbound",
          "x": 0.9166666666666665,
          "xanchor": "center",
          "xref": "paper",
          "y": 1,
          "yanchor": "bottom",
          "yref": "paper"
         }
        ],
        "coloraxis": {
         "showscale": false
        },
        "height": 400,
        "showlegend": false,
        "template": {
         "data": {
          "bar": [
           {
            "error_x": {
             "color": "#2a3f5f"
            },
            "error_y": {
             "color": "#2a3f5f"
            },
            "marker": {
             "line": {
              "color": "#E5ECF6",
              "width": 0.5
             },
             "pattern": {
              "fillmode": "overlay",
              "size": 10,
              "solidity": 0.2
             }
            },
            "type": "bar"
           }
          ],
          "barpolar": [
           {
            "marker": {
             "line": {
              "color": "#E5ECF6",
              "width": 0.5
             },
             "pattern": {
              "fillmode": "overlay",
              "size": 10,
              "solidity": 0.2
             }
            },
            "type": "barpolar"
           }
          ],
          "carpet": [
           {
            "aaxis": {
             "endlinecolor": "#2a3f5f",
             "gridcolor": "white",
             "linecolor": "white",
             "minorgridcolor": "white",
             "startlinecolor": "#2a3f5f"
            },
            "baxis": {
             "endlinecolor": "#2a3f5f",
             "gridcolor": "white",
             "linecolor": "white",
             "minorgridcolor": "white",
             "startlinecolor": "#2a3f5f"
            },
            "type": "carpet"
           }
          ],
          "choropleth": [
           {
            "colorbar": {
             "outlinewidth": 0,
             "ticks": ""
            },
            "type": "choropleth"
           }
          ],
          "contour": [
           {
            "colorbar": {
             "outlinewidth": 0,
             "ticks": ""
            },
            "colorscale": [
             [
              0,
              "#0d0887"
             ],
             [
              0.1111111111111111,
              "#46039f"
             ],
             [
              0.2222222222222222,
              "#7201a8"
             ],
             [
              0.3333333333333333,
              "#9c179e"
             ],
             [
              0.4444444444444444,
              "#bd3786"
             ],
             [
              0.5555555555555556,
              "#d8576b"
             ],
             [
              0.6666666666666666,
              "#ed7953"
             ],
             [
              0.7777777777777778,
              "#fb9f3a"
             ],
             [
              0.8888888888888888,
              "#fdca26"
             ],
             [
              1,
              "#f0f921"
             ]
            ],
            "type": "contour"
           }
          ],
          "contourcarpet": [
           {
            "colorbar": {
             "outlinewidth": 0,
             "ticks": ""
            },
            "type": "contourcarpet"
           }
          ],
          "heatmap": [
           {
            "colorbar": {
             "outlinewidth": 0,
             "ticks": ""
            },
            "colorscale": [
             [
              0,
              "#0d0887"
             ],
             [
              0.1111111111111111,
              "#46039f"
             ],
             [
              0.2222222222222222,
              "#7201a8"
             ],
             [
              0.3333333333333333,
              "#9c179e"
             ],
             [
              0.4444444444444444,
              "#bd3786"
             ],
             [
              0.5555555555555556,
              "#d8576b"
             ],
             [
              0.6666666666666666,
              "#ed7953"
             ],
             [
              0.7777777777777778,
              "#fb9f3a"
             ],
             [
              0.8888888888888888,
              "#fdca26"
             ],
             [
              1,
              "#f0f921"
             ]
            ],
            "type": "heatmap"
           }
          ],
          "heatmapgl": [
           {
            "colorbar": {
             "outlinewidth": 0,
             "ticks": ""
            },
            "colorscale": [
             [
              0,
              "#0d0887"
             ],
             [
              0.1111111111111111,
              "#46039f"
             ],
             [
              0.2222222222222222,
              "#7201a8"
             ],
             [
              0.3333333333333333,
              "#9c179e"
             ],
             [
              0.4444444444444444,
              "#bd3786"
             ],
             [
              0.5555555555555556,
              "#d8576b"
             ],
             [
              0.6666666666666666,
              "#ed7953"
             ],
             [
              0.7777777777777778,
              "#fb9f3a"
             ],
             [
              0.8888888888888888,
              "#fdca26"
             ],
             [
              1,
              "#f0f921"
             ]
            ],
            "type": "heatmapgl"
           }
          ],
          "histogram": [
           {
            "marker": {
             "pattern": {
              "fillmode": "overlay",
              "size": 10,
              "solidity": 0.2
             }
            },
            "type": "histogram"
           }
          ],
          "histogram2d": [
           {
            "colorbar": {
             "outlinewidth": 0,
             "ticks": ""
            },
            "colorscale": [
             [
              0,
              "#0d0887"
             ],
             [
              0.1111111111111111,
              "#46039f"
             ],
             [
              0.2222222222222222,
              "#7201a8"
             ],
             [
              0.3333333333333333,
              "#9c179e"
             ],
             [
              0.4444444444444444,
              "#bd3786"
             ],
             [
              0.5555555555555556,
              "#d8576b"
             ],
             [
              0.6666666666666666,
              "#ed7953"
             ],
             [
              0.7777777777777778,
              "#fb9f3a"
             ],
             [
              0.8888888888888888,
              "#fdca26"
             ],
             [
              1,
              "#f0f921"
             ]
            ],
            "type": "histogram2d"
           }
          ],
          "histogram2dcontour": [
           {
            "colorbar": {
             "outlinewidth": 0,
             "ticks": ""
            },
            "colorscale": [
             [
              0,
              "#0d0887"
             ],
             [
              0.1111111111111111,
              "#46039f"
             ],
             [
              0.2222222222222222,
              "#7201a8"
             ],
             [
              0.3333333333333333,
              "#9c179e"
             ],
             [
              0.4444444444444444,
              "#bd3786"
             ],
             [
              0.5555555555555556,
              "#d8576b"
             ],
             [
              0.6666666666666666,
              "#ed7953"
             ],
             [
              0.7777777777777778,
              "#fb9f3a"
             ],
             [
              0.8888888888888888,
              "#fdca26"
             ],
             [
              1,
              "#f0f921"
             ]
            ],
            "type": "histogram2dcontour"
           }
          ],
          "mesh3d": [
           {
            "colorbar": {
             "outlinewidth": 0,
             "ticks": ""
            },
            "type": "mesh3d"
           }
          ],
          "parcoords": [
           {
            "line": {
             "colorbar": {
              "outlinewidth": 0,
              "ticks": ""
             }
            },
            "type": "parcoords"
           }
          ],
          "pie": [
           {
            "automargin": true,
            "type": "pie"
           }
          ],
          "scatter": [
           {
            "fillpattern": {
             "fillmode": "overlay",
             "size": 10,
             "solidity": 0.2
            },
            "type": "scatter"
           }
          ],
          "scatter3d": [
           {
            "line": {
             "colorbar": {
              "outlinewidth": 0,
              "ticks": ""
             }
            },
            "marker": {
             "colorbar": {
              "outlinewidth": 0,
              "ticks": ""
             }
            },
            "type": "scatter3d"
           }
          ],
          "scattercarpet": [
           {
            "marker": {
             "colorbar": {
              "outlinewidth": 0,
              "ticks": ""
             }
            },
            "type": "scattercarpet"
           }
          ],
          "scattergeo": [
           {
            "marker": {
             "colorbar": {
              "outlinewidth": 0,
              "ticks": ""
             }
            },
            "type": "scattergeo"
           }
          ],
          "scattergl": [
           {
            "marker": {
             "colorbar": {
              "outlinewidth": 0,
              "ticks": ""
             }
            },
            "type": "scattergl"
           }
          ],
          "scattermapbox": [
           {
            "marker": {
             "colorbar": {
              "outlinewidth": 0,
              "ticks": ""
             }
            },
            "type": "scattermapbox"
           }
          ],
          "scatterpolar": [
           {
            "marker": {
             "colorbar": {
              "outlinewidth": 0,
              "ticks": ""
             }
            },
            "type": "scatterpolar"
           }
          ],
          "scatterpolargl": [
           {
            "marker": {
             "colorbar": {
              "outlinewidth": 0,
              "ticks": ""
             }
            },
            "type": "scatterpolargl"
           }
          ],
          "scatterternary": [
           {
            "marker": {
             "colorbar": {
              "outlinewidth": 0,
              "ticks": ""
             }
            },
            "type": "scatterternary"
           }
          ],
          "surface": [
           {
            "colorbar": {
             "outlinewidth": 0,
             "ticks": ""
            },
            "colorscale": [
             [
              0,
              "#0d0887"
             ],
             [
              0.1111111111111111,
              "#46039f"
             ],
             [
              0.2222222222222222,
              "#7201a8"
             ],
             [
              0.3333333333333333,
              "#9c179e"
             ],
             [
              0.4444444444444444,
              "#bd3786"
             ],
             [
              0.5555555555555556,
              "#d8576b"
             ],
             [
              0.6666666666666666,
              "#ed7953"
             ],
             [
              0.7777777777777778,
              "#fb9f3a"
             ],
             [
              0.8888888888888888,
              "#fdca26"
             ],
             [
              1,
              "#f0f921"
             ]
            ],
            "type": "surface"
           }
          ],
          "table": [
           {
            "cells": {
             "fill": {
              "color": "#EBF0F8"
             },
             "line": {
              "color": "white"
             }
            },
            "header": {
             "fill": {
              "color": "#C8D4E3"
             },
             "line": {
              "color": "white"
             }
            },
            "type": "table"
           }
          ]
         },
         "layout": {
          "annotationdefaults": {
           "arrowcolor": "#2a3f5f",
           "arrowhead": 0,
           "arrowwidth": 1
          },
          "autotypenumbers": "strict",
          "coloraxis": {
           "colorbar": {
            "outlinewidth": 0,
            "ticks": ""
           }
          },
          "colorscale": {
           "diverging": [
            [
             0,
             "#8e0152"
            ],
            [
             0.1,
             "#c51b7d"
            ],
            [
             0.2,
             "#de77ae"
            ],
            [
             0.3,
             "#f1b6da"
            ],
            [
             0.4,
             "#fde0ef"
            ],
            [
             0.5,
             "#f7f7f7"
            ],
            [
             0.6,
             "#e6f5d0"
            ],
            [
             0.7,
             "#b8e186"
            ],
            [
             0.8,
             "#7fbc41"
            ],
            [
             0.9,
             "#4d9221"
            ],
            [
             1,
             "#276419"
            ]
           ],
           "sequential": [
            [
             0,
             "#0d0887"
            ],
            [
             0.1111111111111111,
             "#46039f"
            ],
            [
             0.2222222222222222,
             "#7201a8"
            ],
            [
             0.3333333333333333,
             "#9c179e"
            ],
            [
             0.4444444444444444,
             "#bd3786"
            ],
            [
             0.5555555555555556,
             "#d8576b"
            ],
            [
             0.6666666666666666,
             "#ed7953"
            ],
            [
             0.7777777777777778,
             "#fb9f3a"
            ],
            [
             0.8888888888888888,
             "#fdca26"
            ],
            [
             1,
             "#f0f921"
            ]
           ],
           "sequentialminus": [
            [
             0,
             "#0d0887"
            ],
            [
             0.1111111111111111,
             "#46039f"
            ],
            [
             0.2222222222222222,
             "#7201a8"
            ],
            [
             0.3333333333333333,
             "#9c179e"
            ],
            [
             0.4444444444444444,
             "#bd3786"
            ],
            [
             0.5555555555555556,
             "#d8576b"
            ],
            [
             0.6666666666666666,
             "#ed7953"
            ],
            [
             0.7777777777777778,
             "#fb9f3a"
            ],
            [
             0.8888888888888888,
             "#fdca26"
            ],
            [
             1,
             "#f0f921"
            ]
           ]
          },
          "colorway": [
           "#636efa",
           "#EF553B",
           "#00cc96",
           "#ab63fa",
           "#FFA15A",
           "#19d3f3",
           "#FF6692",
           "#B6E880",
           "#FF97FF",
           "#FECB52"
          ],
          "font": {
           "color": "#2a3f5f"
          },
          "geo": {
           "bgcolor": "white",
           "lakecolor": "white",
           "landcolor": "#E5ECF6",
           "showlakes": true,
           "showland": true,
           "subunitcolor": "white"
          },
          "hoverlabel": {
           "align": "left"
          },
          "hovermode": "closest",
          "mapbox": {
           "style": "light"
          },
          "paper_bgcolor": "white",
          "plot_bgcolor": "#E5ECF6",
          "polar": {
           "angularaxis": {
            "gridcolor": "white",
            "linecolor": "white",
            "ticks": ""
           },
           "bgcolor": "#E5ECF6",
           "radialaxis": {
            "gridcolor": "white",
            "linecolor": "white",
            "ticks": ""
           }
          },
          "scene": {
           "xaxis": {
            "backgroundcolor": "#E5ECF6",
            "gridcolor": "white",
            "gridwidth": 2,
            "linecolor": "white",
            "showbackground": true,
            "ticks": "",
            "zerolinecolor": "white"
           },
           "yaxis": {
            "backgroundcolor": "#E5ECF6",
            "gridcolor": "white",
            "gridwidth": 2,
            "linecolor": "white",
            "showbackground": true,
            "ticks": "",
            "zerolinecolor": "white"
           },
           "zaxis": {
            "backgroundcolor": "#E5ECF6",
            "gridcolor": "white",
            "gridwidth": 2,
            "linecolor": "white",
            "showbackground": true,
            "ticks": "",
            "zerolinecolor": "white"
           }
          },
          "shapedefaults": {
           "line": {
            "color": "#2a3f5f"
           }
          },
          "ternary": {
           "aaxis": {
            "gridcolor": "white",
            "linecolor": "white",
            "ticks": ""
           },
           "baxis": {
            "gridcolor": "white",
            "linecolor": "white",
            "ticks": ""
           },
           "bgcolor": "#E5ECF6",
           "caxis": {
            "gridcolor": "white",
            "linecolor": "white",
            "ticks": ""
           }
          },
          "title": {
           "x": 0.05
          },
          "xaxis": {
           "automargin": true,
           "gridcolor": "white",
           "linecolor": "white",
           "ticks": "",
           "title": {
            "standoff": 15
           },
           "zerolinecolor": "white",
           "zerolinewidth": 2
          },
          "yaxis": {
           "automargin": true,
           "gridcolor": "white",
           "linecolor": "white",
           "ticks": "",
           "title": {
            "standoff": 15
           },
           "zerolinecolor": "white",
           "zerolinewidth": 2
          }
         }
        },
        "title": {
         "text": "Sentiment Graphs"
        },
        "width": 1000,
        "xaxis": {
         "anchor": "y",
         "domain": [
          0,
          0.16666666666666666
         ],
         "title": {
          "text": "Sentiment"
         }
        },
        "xaxis2": {
         "anchor": "y2",
         "domain": [
          0.41666666666666663,
          0.5833333333333333
         ],
         "title": {
          "text": "Sentiment"
         }
        },
        "xaxis3": {
         "anchor": "y3",
         "domain": [
          0.8333333333333333,
          0.9999999999999999
         ],
         "title": {
          "text": "Sentiment"
         }
        },
        "yaxis": {
         "anchor": "x",
         "domain": [
          0,
          1
         ],
         "range": [
          0,
          1500000
         ],
         "title": {
          "text": "Count"
         }
        },
        "yaxis2": {
         "anchor": "x2",
         "domain": [
          0,
          1
         ],
         "range": [
          0,
          1500000
         ],
         "title": {
          "text": "Count"
         }
        },
        "yaxis3": {
         "anchor": "x3",
         "domain": [
          0,
          1
         ],
         "range": [
          0,
          1500000
         ],
         "title": {
          "text": "Count"
         }
        }
       }
      },
      "text/html": [
       "<div>                            <div id=\"d8853e83-81e5-487f-918a-a06458cb6b3a\" class=\"plotly-graph-div\" style=\"height:400px; width:1000px;\"></div>            <script type=\"text/javascript\">                require([\"plotly\"], function(Plotly) {                    window.PLOTLYENV=window.PLOTLYENV || {};                                    if (document.getElementById(\"d8853e83-81e5-487f-918a-a06458cb6b3a\")) {                    Plotly.newPlot(                        \"d8853e83-81e5-487f-918a-a06458cb6b3a\",                        [{\"marker\":{\"color\":[1,0,-1],\"coloraxis\":\"coloraxis\"},\"x\":[1,0,-1],\"y\":[1199699,979997,632078],\"type\":\"bar\",\"xaxis\":\"x\",\"yaxis\":\"y\"},{\"marker\":{\"color\":[0,1,-1],\"coloraxis\":\"coloraxis\"},\"x\":[0,1,-1],\"y\":[570332,513961,453550],\"type\":\"bar\",\"xaxis\":\"x2\",\"yaxis\":\"y2\"},{\"marker\":{\"color\":[1,0,-1],\"coloraxis\":\"coloraxis\"},\"x\":[1,0,-1],\"y\":[685738,409665,178528],\"type\":\"bar\",\"xaxis\":\"x3\",\"yaxis\":\"y3\"}],                        {\"template\":{\"data\":{\"histogram2dcontour\":[{\"type\":\"histogram2dcontour\",\"colorbar\":{\"outlinewidth\":0,\"ticks\":\"\"},\"colorscale\":[[0.0,\"#0d0887\"],[0.1111111111111111,\"#46039f\"],[0.2222222222222222,\"#7201a8\"],[0.3333333333333333,\"#9c179e\"],[0.4444444444444444,\"#bd3786\"],[0.5555555555555556,\"#d8576b\"],[0.6666666666666666,\"#ed7953\"],[0.7777777777777778,\"#fb9f3a\"],[0.8888888888888888,\"#fdca26\"],[1.0,\"#f0f921\"]]}],\"choropleth\":[{\"type\":\"choropleth\",\"colorbar\":{\"outlinewidth\":0,\"ticks\":\"\"}}],\"histogram2d\":[{\"type\":\"histogram2d\",\"colorbar\":{\"outlinewidth\":0,\"ticks\":\"\"},\"colorscale\":[[0.0,\"#0d0887\"],[0.1111111111111111,\"#46039f\"],[0.2222222222222222,\"#7201a8\"],[0.3333333333333333,\"#9c179e\"],[0.4444444444444444,\"#bd3786\"],[0.5555555555555556,\"#d8576b\"],[0.6666666666666666,\"#ed7953\"],[0.7777777777777778,\"#fb9f3a\"],[0.8888888888888888,\"#fdca26\"],[1.0,\"#f0f921\"]]}],\"heatmap\":[{\"type\":\"heatmap\",\"colorbar\":{\"outlinewidth\":0,\"ticks\":\"\"},\"colorscale\":[[0.0,\"#0d0887\"],[0.1111111111111111,\"#46039f\"],[0.2222222222222222,\"#7201a8\"],[0.3333333333333333,\"#9c179e\"],[0.4444444444444444,\"#bd3786\"],[0.5555555555555556,\"#d8576b\"],[0.6666666666666666,\"#ed7953\"],[0.7777777777777778,\"#fb9f3a\"],[0.8888888888888888,\"#fdca26\"],[1.0,\"#f0f921\"]]}],\"heatmapgl\":[{\"type\":\"heatmapgl\",\"colorbar\":{\"outlinewidth\":0,\"ticks\":\"\"},\"colorscale\":[[0.0,\"#0d0887\"],[0.1111111111111111,\"#46039f\"],[0.2222222222222222,\"#7201a8\"],[0.3333333333333333,\"#9c179e\"],[0.4444444444444444,\"#bd3786\"],[0.5555555555555556,\"#d8576b\"],[0.6666666666666666,\"#ed7953\"],[0.7777777777777778,\"#fb9f3a\"],[0.8888888888888888,\"#fdca26\"],[1.0,\"#f0f921\"]]}],\"contourcarpet\":[{\"type\":\"contourcarpet\",\"colorbar\":{\"outlinewidth\":0,\"ticks\":\"\"}}],\"contour\":[{\"type\":\"contour\",\"colorbar\":{\"outlinewidth\":0,\"ticks\":\"\"},\"colorscale\":[[0.0,\"#0d0887\"],[0.1111111111111111,\"#46039f\"],[0.2222222222222222,\"#7201a8\"],[0.3333333333333333,\"#9c179e\"],[0.4444444444444444,\"#bd3786\"],[0.5555555555555556,\"#d8576b\"],[0.6666666666666666,\"#ed7953\"],[0.7777777777777778,\"#fb9f3a\"],[0.8888888888888888,\"#fdca26\"],[1.0,\"#f0f921\"]]}],\"surface\":[{\"type\":\"surface\",\"colorbar\":{\"outlinewidth\":0,\"ticks\":\"\"},\"colorscale\":[[0.0,\"#0d0887\"],[0.1111111111111111,\"#46039f\"],[0.2222222222222222,\"#7201a8\"],[0.3333333333333333,\"#9c179e\"],[0.4444444444444444,\"#bd3786\"],[0.5555555555555556,\"#d8576b\"],[0.6666666666666666,\"#ed7953\"],[0.7777777777777778,\"#fb9f3a\"],[0.8888888888888888,\"#fdca26\"],[1.0,\"#f0f921\"]]}],\"mesh3d\":[{\"type\":\"mesh3d\",\"colorbar\":{\"outlinewidth\":0,\"ticks\":\"\"}}],\"scatter\":[{\"fillpattern\":{\"fillmode\":\"overlay\",\"size\":10,\"solidity\":0.2},\"type\":\"scatter\"}],\"parcoords\":[{\"type\":\"parcoords\",\"line\":{\"colorbar\":{\"outlinewidth\":0,\"ticks\":\"\"}}}],\"scatterpolargl\":[{\"type\":\"scatterpolargl\",\"marker\":{\"colorbar\":{\"outlinewidth\":0,\"ticks\":\"\"}}}],\"bar\":[{\"error_x\":{\"color\":\"#2a3f5f\"},\"error_y\":{\"color\":\"#2a3f5f\"},\"marker\":{\"line\":{\"color\":\"#E5ECF6\",\"width\":0.5},\"pattern\":{\"fillmode\":\"overlay\",\"size\":10,\"solidity\":0.2}},\"type\":\"bar\"}],\"scattergeo\":[{\"type\":\"scattergeo\",\"marker\":{\"colorbar\":{\"outlinewidth\":0,\"ticks\":\"\"}}}],\"scatterpolar\":[{\"type\":\"scatterpolar\",\"marker\":{\"colorbar\":{\"outlinewidth\":0,\"ticks\":\"\"}}}],\"histogram\":[{\"marker\":{\"pattern\":{\"fillmode\":\"overlay\",\"size\":10,\"solidity\":0.2}},\"type\":\"histogram\"}],\"scattergl\":[{\"type\":\"scattergl\",\"marker\":{\"colorbar\":{\"outlinewidth\":0,\"ticks\":\"\"}}}],\"scatter3d\":[{\"type\":\"scatter3d\",\"line\":{\"colorbar\":{\"outlinewidth\":0,\"ticks\":\"\"}},\"marker\":{\"colorbar\":{\"outlinewidth\":0,\"ticks\":\"\"}}}],\"scattermapbox\":[{\"type\":\"scattermapbox\",\"marker\":{\"colorbar\":{\"outlinewidth\":0,\"ticks\":\"\"}}}],\"scatterternary\":[{\"type\":\"scatterternary\",\"marker\":{\"colorbar\":{\"outlinewidth\":0,\"ticks\":\"\"}}}],\"scattercarpet\":[{\"type\":\"scattercarpet\",\"marker\":{\"colorbar\":{\"outlinewidth\":0,\"ticks\":\"\"}}}],\"carpet\":[{\"aaxis\":{\"endlinecolor\":\"#2a3f5f\",\"gridcolor\":\"white\",\"linecolor\":\"white\",\"minorgridcolor\":\"white\",\"startlinecolor\":\"#2a3f5f\"},\"baxis\":{\"endlinecolor\":\"#2a3f5f\",\"gridcolor\":\"white\",\"linecolor\":\"white\",\"minorgridcolor\":\"white\",\"startlinecolor\":\"#2a3f5f\"},\"type\":\"carpet\"}],\"table\":[{\"cells\":{\"fill\":{\"color\":\"#EBF0F8\"},\"line\":{\"color\":\"white\"}},\"header\":{\"fill\":{\"color\":\"#C8D4E3\"},\"line\":{\"color\":\"white\"}},\"type\":\"table\"}],\"barpolar\":[{\"marker\":{\"line\":{\"color\":\"#E5ECF6\",\"width\":0.5},\"pattern\":{\"fillmode\":\"overlay\",\"size\":10,\"solidity\":0.2}},\"type\":\"barpolar\"}],\"pie\":[{\"automargin\":true,\"type\":\"pie\"}]},\"layout\":{\"autotypenumbers\":\"strict\",\"colorway\":[\"#636efa\",\"#EF553B\",\"#00cc96\",\"#ab63fa\",\"#FFA15A\",\"#19d3f3\",\"#FF6692\",\"#B6E880\",\"#FF97FF\",\"#FECB52\"],\"font\":{\"color\":\"#2a3f5f\"},\"hovermode\":\"closest\",\"hoverlabel\":{\"align\":\"left\"},\"paper_bgcolor\":\"white\",\"plot_bgcolor\":\"#E5ECF6\",\"polar\":{\"bgcolor\":\"#E5ECF6\",\"angularaxis\":{\"gridcolor\":\"white\",\"linecolor\":\"white\",\"ticks\":\"\"},\"radialaxis\":{\"gridcolor\":\"white\",\"linecolor\":\"white\",\"ticks\":\"\"}},\"ternary\":{\"bgcolor\":\"#E5ECF6\",\"aaxis\":{\"gridcolor\":\"white\",\"linecolor\":\"white\",\"ticks\":\"\"},\"baxis\":{\"gridcolor\":\"white\",\"linecolor\":\"white\",\"ticks\":\"\"},\"caxis\":{\"gridcolor\":\"white\",\"linecolor\":\"white\",\"ticks\":\"\"}},\"coloraxis\":{\"colorbar\":{\"outlinewidth\":0,\"ticks\":\"\"}},\"colorscale\":{\"sequential\":[[0.0,\"#0d0887\"],[0.1111111111111111,\"#46039f\"],[0.2222222222222222,\"#7201a8\"],[0.3333333333333333,\"#9c179e\"],[0.4444444444444444,\"#bd3786\"],[0.5555555555555556,\"#d8576b\"],[0.6666666666666666,\"#ed7953\"],[0.7777777777777778,\"#fb9f3a\"],[0.8888888888888888,\"#fdca26\"],[1.0,\"#f0f921\"]],\"sequentialminus\":[[0.0,\"#0d0887\"],[0.1111111111111111,\"#46039f\"],[0.2222222222222222,\"#7201a8\"],[0.3333333333333333,\"#9c179e\"],[0.4444444444444444,\"#bd3786\"],[0.5555555555555556,\"#d8576b\"],[0.6666666666666666,\"#ed7953\"],[0.7777777777777778,\"#fb9f3a\"],[0.8888888888888888,\"#fdca26\"],[1.0,\"#f0f921\"]],\"diverging\":[[0,\"#8e0152\"],[0.1,\"#c51b7d\"],[0.2,\"#de77ae\"],[0.3,\"#f1b6da\"],[0.4,\"#fde0ef\"],[0.5,\"#f7f7f7\"],[0.6,\"#e6f5d0\"],[0.7,\"#b8e186\"],[0.8,\"#7fbc41\"],[0.9,\"#4d9221\"],[1,\"#276419\"]]},\"xaxis\":{\"gridcolor\":\"white\",\"linecolor\":\"white\",\"ticks\":\"\",\"title\":{\"standoff\":15},\"zerolinecolor\":\"white\",\"automargin\":true,\"zerolinewidth\":2},\"yaxis\":{\"gridcolor\":\"white\",\"linecolor\":\"white\",\"ticks\":\"\",\"title\":{\"standoff\":15},\"zerolinecolor\":\"white\",\"automargin\":true,\"zerolinewidth\":2},\"scene\":{\"xaxis\":{\"backgroundcolor\":\"#E5ECF6\",\"gridcolor\":\"white\",\"linecolor\":\"white\",\"showbackground\":true,\"ticks\":\"\",\"zerolinecolor\":\"white\",\"gridwidth\":2},\"yaxis\":{\"backgroundcolor\":\"#E5ECF6\",\"gridcolor\":\"white\",\"linecolor\":\"white\",\"showbackground\":true,\"ticks\":\"\",\"zerolinecolor\":\"white\",\"gridwidth\":2},\"zaxis\":{\"backgroundcolor\":\"#E5ECF6\",\"gridcolor\":\"white\",\"linecolor\":\"white\",\"showbackground\":true,\"ticks\":\"\",\"zerolinecolor\":\"white\",\"gridwidth\":2}},\"shapedefaults\":{\"line\":{\"color\":\"#2a3f5f\"}},\"annotationdefaults\":{\"arrowcolor\":\"#2a3f5f\",\"arrowhead\":0,\"arrowwidth\":1},\"geo\":{\"bgcolor\":\"white\",\"landcolor\":\"#E5ECF6\",\"subunitcolor\":\"white\",\"showland\":true,\"showlakes\":true,\"lakecolor\":\"white\"},\"title\":{\"x\":0.05},\"mapbox\":{\"style\":\"light\"}}},\"xaxis\":{\"anchor\":\"y\",\"domain\":[0.0,0.16666666666666666],\"title\":{\"text\":\"Sentiment\"}},\"yaxis\":{\"anchor\":\"x\",\"domain\":[0.0,1.0],\"title\":{\"text\":\"Count\"},\"range\":[0,1500000]},\"xaxis2\":{\"anchor\":\"y2\",\"domain\":[0.41666666666666663,0.5833333333333333],\"title\":{\"text\":\"Sentiment\"}},\"yaxis2\":{\"anchor\":\"x2\",\"domain\":[0.0,1.0],\"title\":{\"text\":\"Count\"},\"range\":[0,1500000]},\"xaxis3\":{\"anchor\":\"y3\",\"domain\":[0.8333333333333333,0.9999999999999999],\"title\":{\"text\":\"Sentiment\"}},\"yaxis3\":{\"anchor\":\"x3\",\"domain\":[0.0,1.0],\"title\":{\"text\":\"Count\"},\"range\":[0,1500000]},\"annotations\":[{\"font\":{\"size\":16},\"showarrow\":false,\"text\":\"Inbound + Outbound\",\"x\":0.08333333333333333,\"xanchor\":\"center\",\"xref\":\"paper\",\"y\":1.0,\"yanchor\":\"bottom\",\"yref\":\"paper\"},{\"font\":{\"size\":16},\"showarrow\":false,\"text\":\"Inbound\",\"x\":0.49999999999999994,\"xanchor\":\"center\",\"xref\":\"paper\",\"y\":1.0,\"yanchor\":\"bottom\",\"yref\":\"paper\"},{\"font\":{\"size\":16},\"showarrow\":false,\"text\":\"Outbound\",\"x\":0.9166666666666665,\"xanchor\":\"center\",\"xref\":\"paper\",\"y\":1.0,\"yanchor\":\"bottom\",\"yref\":\"paper\"}],\"coloraxis\":{\"showscale\":false},\"title\":{\"text\":\"Sentiment Graphs\"},\"height\":400,\"width\":1000,\"showlegend\":false},                        {\"responsive\": true}                    ).then(function(){\n",
       "                            \n",
       "var gd = document.getElementById('d8853e83-81e5-487f-918a-a06458cb6b3a');\n",
       "var x = new MutationObserver(function (mutations, observer) {{\n",
       "        var display = window.getComputedStyle(gd).display;\n",
       "        if (!display || display === 'none') {{\n",
       "            console.log([gd, 'removed!']);\n",
       "            Plotly.purge(gd);\n",
       "            observer.disconnect();\n",
       "        }}\n",
       "}});\n",
       "\n",
       "// Listen for the removal of the full notebook cells\n",
       "var notebookContainer = gd.closest('#notebook-container');\n",
       "if (notebookContainer) {{\n",
       "    x.observe(notebookContainer, {childList: true});\n",
       "}}\n",
       "\n",
       "// Listen for the clearing of the current output cell\n",
       "var outputEl = gd.closest('.output');\n",
       "if (outputEl) {{\n",
       "    x.observe(outputEl, {childList: true});\n",
       "}}\n",
       "\n",
       "                        })                };                });            </script>        </div>"
      ]
     },
     "metadata": {},
     "output_type": "display_data"
    }
   ],
   "source": [
    "# Total Sentiments\n",
    "fig = make_subplots(rows=1, cols=3, subplot_titles=(\"Inbound + Outbound\",\"Inbound\", \"Outbound\"), horizontal_spacing = 0.25)\n",
    "\n",
    "fig.add_trace(go.Bar(x=sentimentCounts.index, y=sentimentCounts.values,\n",
    "                    marker=dict(color=sentimentCounts.index, coloraxis=\"coloraxis\")),\n",
    "              1, 1)\n",
    "\n",
    "fig.add_trace(go.Bar(x=inboundSentCounts.index, y=inboundSentCounts.values,\n",
    "                    marker=dict(color=inboundSentCounts.index, coloraxis=\"coloraxis\")),\n",
    "              1, 2)\n",
    "\n",
    "fig.add_trace(go.Bar(x=outboundSentCounts.index, y=outboundSentCounts.values,\n",
    "                    marker=dict(color=outboundSentCounts.index, coloraxis=\"coloraxis\")),\n",
    "              1, 3)\n",
    "\n",
    "fig['layout']['xaxis']['title']='Sentiment'\n",
    "fig['layout']['xaxis2']['title']='Sentiment'\n",
    "fig['layout']['xaxis3']['title']='Sentiment'\n",
    "fig['layout']['yaxis']['title']='Count'\n",
    "fig['layout']['yaxis2']['title']='Count'\n",
    "fig['layout']['yaxis3']['title']='Count'\n",
    "\n",
    "fig.update_layout(height=400, width=1000, yaxis = dict(range=[0, 1500000]), yaxis2 = dict(range=[0, 1500000]), \n",
    "                  yaxis3 = dict(range=[0, 1500000]), coloraxis_showscale=False, showlegend=False, \n",
    "                  title_text=\"Sentiment Graphs\")\n",
    "fig.show()"
   ]
  },
  {
   "cell_type": "code",
   "execution_count": 75,
   "id": "e47c1312",
   "metadata": {},
   "outputs": [
    {
     "data": {
      "text/plain": [
       " 1    1199699\n",
       " 0     979997\n",
       "-1     632078\n",
       "Name: sentiment, dtype: int64"
      ]
     },
     "execution_count": 75,
     "metadata": {},
     "output_type": "execute_result"
    }
   ],
   "source": [
    "sentimentCounts"
   ]
  },
  {
   "cell_type": "code",
   "execution_count": 73,
   "id": "95160c35",
   "metadata": {},
   "outputs": [
    {
     "data": {
      "application/vnd.plotly.v1+json": {
       "config": {
        "plotlyServerURL": "https://plot.ly"
       },
       "data": [
        {
         "alignmentgroup": "True",
         "hovertemplate": "index=%{x}<br>y=%{y}<br>color=%{marker.color}<extra></extra>",
         "legendgroup": "",
         "marker": {
          "color": [
           1199699,
           979997,
           632078
          ],
          "coloraxis": "coloraxis",
          "pattern": {
           "shape": ""
          }
         },
         "name": "",
         "offsetgroup": "",
         "orientation": "v",
         "showlegend": false,
         "textposition": "auto",
         "type": "bar",
         "x": [
          1,
          0,
          -1
         ],
         "xaxis": "x",
         "y": [
          1199699,
          979997,
          632078
         ],
         "yaxis": "y"
        }
       ],
       "layout": {
        "barmode": "relative",
        "coloraxis": {
         "colorbar": {
          "title": {
           "text": "color"
          }
         },
         "colorscale": [
          [
           0,
           "#0d0887"
          ],
          [
           0.1111111111111111,
           "#46039f"
          ],
          [
           0.2222222222222222,
           "#7201a8"
          ],
          [
           0.3333333333333333,
           "#9c179e"
          ],
          [
           0.4444444444444444,
           "#bd3786"
          ],
          [
           0.5555555555555556,
           "#d8576b"
          ],
          [
           0.6666666666666666,
           "#ed7953"
          ],
          [
           0.7777777777777778,
           "#fb9f3a"
          ],
          [
           0.8888888888888888,
           "#fdca26"
          ],
          [
           1,
           "#f0f921"
          ]
         ]
        },
        "legend": {
         "tracegroupgap": 0
        },
        "template": {
         "data": {
          "bar": [
           {
            "error_x": {
             "color": "#2a3f5f"
            },
            "error_y": {
             "color": "#2a3f5f"
            },
            "marker": {
             "line": {
              "color": "#E5ECF6",
              "width": 0.5
             },
             "pattern": {
              "fillmode": "overlay",
              "size": 10,
              "solidity": 0.2
             }
            },
            "type": "bar"
           }
          ],
          "barpolar": [
           {
            "marker": {
             "line": {
              "color": "#E5ECF6",
              "width": 0.5
             },
             "pattern": {
              "fillmode": "overlay",
              "size": 10,
              "solidity": 0.2
             }
            },
            "type": "barpolar"
           }
          ],
          "carpet": [
           {
            "aaxis": {
             "endlinecolor": "#2a3f5f",
             "gridcolor": "white",
             "linecolor": "white",
             "minorgridcolor": "white",
             "startlinecolor": "#2a3f5f"
            },
            "baxis": {
             "endlinecolor": "#2a3f5f",
             "gridcolor": "white",
             "linecolor": "white",
             "minorgridcolor": "white",
             "startlinecolor": "#2a3f5f"
            },
            "type": "carpet"
           }
          ],
          "choropleth": [
           {
            "colorbar": {
             "outlinewidth": 0,
             "ticks": ""
            },
            "type": "choropleth"
           }
          ],
          "contour": [
           {
            "colorbar": {
             "outlinewidth": 0,
             "ticks": ""
            },
            "colorscale": [
             [
              0,
              "#0d0887"
             ],
             [
              0.1111111111111111,
              "#46039f"
             ],
             [
              0.2222222222222222,
              "#7201a8"
             ],
             [
              0.3333333333333333,
              "#9c179e"
             ],
             [
              0.4444444444444444,
              "#bd3786"
             ],
             [
              0.5555555555555556,
              "#d8576b"
             ],
             [
              0.6666666666666666,
              "#ed7953"
             ],
             [
              0.7777777777777778,
              "#fb9f3a"
             ],
             [
              0.8888888888888888,
              "#fdca26"
             ],
             [
              1,
              "#f0f921"
             ]
            ],
            "type": "contour"
           }
          ],
          "contourcarpet": [
           {
            "colorbar": {
             "outlinewidth": 0,
             "ticks": ""
            },
            "type": "contourcarpet"
           }
          ],
          "heatmap": [
           {
            "colorbar": {
             "outlinewidth": 0,
             "ticks": ""
            },
            "colorscale": [
             [
              0,
              "#0d0887"
             ],
             [
              0.1111111111111111,
              "#46039f"
             ],
             [
              0.2222222222222222,
              "#7201a8"
             ],
             [
              0.3333333333333333,
              "#9c179e"
             ],
             [
              0.4444444444444444,
              "#bd3786"
             ],
             [
              0.5555555555555556,
              "#d8576b"
             ],
             [
              0.6666666666666666,
              "#ed7953"
             ],
             [
              0.7777777777777778,
              "#fb9f3a"
             ],
             [
              0.8888888888888888,
              "#fdca26"
             ],
             [
              1,
              "#f0f921"
             ]
            ],
            "type": "heatmap"
           }
          ],
          "heatmapgl": [
           {
            "colorbar": {
             "outlinewidth": 0,
             "ticks": ""
            },
            "colorscale": [
             [
              0,
              "#0d0887"
             ],
             [
              0.1111111111111111,
              "#46039f"
             ],
             [
              0.2222222222222222,
              "#7201a8"
             ],
             [
              0.3333333333333333,
              "#9c179e"
             ],
             [
              0.4444444444444444,
              "#bd3786"
             ],
             [
              0.5555555555555556,
              "#d8576b"
             ],
             [
              0.6666666666666666,
              "#ed7953"
             ],
             [
              0.7777777777777778,
              "#fb9f3a"
             ],
             [
              0.8888888888888888,
              "#fdca26"
             ],
             [
              1,
              "#f0f921"
             ]
            ],
            "type": "heatmapgl"
           }
          ],
          "histogram": [
           {
            "marker": {
             "pattern": {
              "fillmode": "overlay",
              "size": 10,
              "solidity": 0.2
             }
            },
            "type": "histogram"
           }
          ],
          "histogram2d": [
           {
            "colorbar": {
             "outlinewidth": 0,
             "ticks": ""
            },
            "colorscale": [
             [
              0,
              "#0d0887"
             ],
             [
              0.1111111111111111,
              "#46039f"
             ],
             [
              0.2222222222222222,
              "#7201a8"
             ],
             [
              0.3333333333333333,
              "#9c179e"
             ],
             [
              0.4444444444444444,
              "#bd3786"
             ],
             [
              0.5555555555555556,
              "#d8576b"
             ],
             [
              0.6666666666666666,
              "#ed7953"
             ],
             [
              0.7777777777777778,
              "#fb9f3a"
             ],
             [
              0.8888888888888888,
              "#fdca26"
             ],
             [
              1,
              "#f0f921"
             ]
            ],
            "type": "histogram2d"
           }
          ],
          "histogram2dcontour": [
           {
            "colorbar": {
             "outlinewidth": 0,
             "ticks": ""
            },
            "colorscale": [
             [
              0,
              "#0d0887"
             ],
             [
              0.1111111111111111,
              "#46039f"
             ],
             [
              0.2222222222222222,
              "#7201a8"
             ],
             [
              0.3333333333333333,
              "#9c179e"
             ],
             [
              0.4444444444444444,
              "#bd3786"
             ],
             [
              0.5555555555555556,
              "#d8576b"
             ],
             [
              0.6666666666666666,
              "#ed7953"
             ],
             [
              0.7777777777777778,
              "#fb9f3a"
             ],
             [
              0.8888888888888888,
              "#fdca26"
             ],
             [
              1,
              "#f0f921"
             ]
            ],
            "type": "histogram2dcontour"
           }
          ],
          "mesh3d": [
           {
            "colorbar": {
             "outlinewidth": 0,
             "ticks": ""
            },
            "type": "mesh3d"
           }
          ],
          "parcoords": [
           {
            "line": {
             "colorbar": {
              "outlinewidth": 0,
              "ticks": ""
             }
            },
            "type": "parcoords"
           }
          ],
          "pie": [
           {
            "automargin": true,
            "type": "pie"
           }
          ],
          "scatter": [
           {
            "fillpattern": {
             "fillmode": "overlay",
             "size": 10,
             "solidity": 0.2
            },
            "type": "scatter"
           }
          ],
          "scatter3d": [
           {
            "line": {
             "colorbar": {
              "outlinewidth": 0,
              "ticks": ""
             }
            },
            "marker": {
             "colorbar": {
              "outlinewidth": 0,
              "ticks": ""
             }
            },
            "type": "scatter3d"
           }
          ],
          "scattercarpet": [
           {
            "marker": {
             "colorbar": {
              "outlinewidth": 0,
              "ticks": ""
             }
            },
            "type": "scattercarpet"
           }
          ],
          "scattergeo": [
           {
            "marker": {
             "colorbar": {
              "outlinewidth": 0,
              "ticks": ""
             }
            },
            "type": "scattergeo"
           }
          ],
          "scattergl": [
           {
            "marker": {
             "colorbar": {
              "outlinewidth": 0,
              "ticks": ""
             }
            },
            "type": "scattergl"
           }
          ],
          "scattermapbox": [
           {
            "marker": {
             "colorbar": {
              "outlinewidth": 0,
              "ticks": ""
             }
            },
            "type": "scattermapbox"
           }
          ],
          "scatterpolar": [
           {
            "marker": {
             "colorbar": {
              "outlinewidth": 0,
              "ticks": ""
             }
            },
            "type": "scatterpolar"
           }
          ],
          "scatterpolargl": [
           {
            "marker": {
             "colorbar": {
              "outlinewidth": 0,
              "ticks": ""
             }
            },
            "type": "scatterpolargl"
           }
          ],
          "scatterternary": [
           {
            "marker": {
             "colorbar": {
              "outlinewidth": 0,
              "ticks": ""
             }
            },
            "type": "scatterternary"
           }
          ],
          "surface": [
           {
            "colorbar": {
             "outlinewidth": 0,
             "ticks": ""
            },
            "colorscale": [
             [
              0,
              "#0d0887"
             ],
             [
              0.1111111111111111,
              "#46039f"
             ],
             [
              0.2222222222222222,
              "#7201a8"
             ],
             [
              0.3333333333333333,
              "#9c179e"
             ],
             [
              0.4444444444444444,
              "#bd3786"
             ],
             [
              0.5555555555555556,
              "#d8576b"
             ],
             [
              0.6666666666666666,
              "#ed7953"
             ],
             [
              0.7777777777777778,
              "#fb9f3a"
             ],
             [
              0.8888888888888888,
              "#fdca26"
             ],
             [
              1,
              "#f0f921"
             ]
            ],
            "type": "surface"
           }
          ],
          "table": [
           {
            "cells": {
             "fill": {
              "color": "#EBF0F8"
             },
             "line": {
              "color": "white"
             }
            },
            "header": {
             "fill": {
              "color": "#C8D4E3"
             },
             "line": {
              "color": "white"
             }
            },
            "type": "table"
           }
          ]
         },
         "layout": {
          "annotationdefaults": {
           "arrowcolor": "#2a3f5f",
           "arrowhead": 0,
           "arrowwidth": 1
          },
          "autotypenumbers": "strict",
          "coloraxis": {
           "colorbar": {
            "outlinewidth": 0,
            "ticks": ""
           }
          },
          "colorscale": {
           "diverging": [
            [
             0,
             "#8e0152"
            ],
            [
             0.1,
             "#c51b7d"
            ],
            [
             0.2,
             "#de77ae"
            ],
            [
             0.3,
             "#f1b6da"
            ],
            [
             0.4,
             "#fde0ef"
            ],
            [
             0.5,
             "#f7f7f7"
            ],
            [
             0.6,
             "#e6f5d0"
            ],
            [
             0.7,
             "#b8e186"
            ],
            [
             0.8,
             "#7fbc41"
            ],
            [
             0.9,
             "#4d9221"
            ],
            [
             1,
             "#276419"
            ]
           ],
           "sequential": [
            [
             0,
             "#0d0887"
            ],
            [
             0.1111111111111111,
             "#46039f"
            ],
            [
             0.2222222222222222,
             "#7201a8"
            ],
            [
             0.3333333333333333,
             "#9c179e"
            ],
            [
             0.4444444444444444,
             "#bd3786"
            ],
            [
             0.5555555555555556,
             "#d8576b"
            ],
            [
             0.6666666666666666,
             "#ed7953"
            ],
            [
             0.7777777777777778,
             "#fb9f3a"
            ],
            [
             0.8888888888888888,
             "#fdca26"
            ],
            [
             1,
             "#f0f921"
            ]
           ],
           "sequentialminus": [
            [
             0,
             "#0d0887"
            ],
            [
             0.1111111111111111,
             "#46039f"
            ],
            [
             0.2222222222222222,
             "#7201a8"
            ],
            [
             0.3333333333333333,
             "#9c179e"
            ],
            [
             0.4444444444444444,
             "#bd3786"
            ],
            [
             0.5555555555555556,
             "#d8576b"
            ],
            [
             0.6666666666666666,
             "#ed7953"
            ],
            [
             0.7777777777777778,
             "#fb9f3a"
            ],
            [
             0.8888888888888888,
             "#fdca26"
            ],
            [
             1,
             "#f0f921"
            ]
           ]
          },
          "colorway": [
           "#636efa",
           "#EF553B",
           "#00cc96",
           "#ab63fa",
           "#FFA15A",
           "#19d3f3",
           "#FF6692",
           "#B6E880",
           "#FF97FF",
           "#FECB52"
          ],
          "font": {
           "color": "#2a3f5f"
          },
          "geo": {
           "bgcolor": "white",
           "lakecolor": "white",
           "landcolor": "#E5ECF6",
           "showlakes": true,
           "showland": true,
           "subunitcolor": "white"
          },
          "hoverlabel": {
           "align": "left"
          },
          "hovermode": "closest",
          "mapbox": {
           "style": "light"
          },
          "paper_bgcolor": "white",
          "plot_bgcolor": "#E5ECF6",
          "polar": {
           "angularaxis": {
            "gridcolor": "white",
            "linecolor": "white",
            "ticks": ""
           },
           "bgcolor": "#E5ECF6",
           "radialaxis": {
            "gridcolor": "white",
            "linecolor": "white",
            "ticks": ""
           }
          },
          "scene": {
           "xaxis": {
            "backgroundcolor": "#E5ECF6",
            "gridcolor": "white",
            "gridwidth": 2,
            "linecolor": "white",
            "showbackground": true,
            "ticks": "",
            "zerolinecolor": "white"
           },
           "yaxis": {
            "backgroundcolor": "#E5ECF6",
            "gridcolor": "white",
            "gridwidth": 2,
            "linecolor": "white",
            "showbackground": true,
            "ticks": "",
            "zerolinecolor": "white"
           },
           "zaxis": {
            "backgroundcolor": "#E5ECF6",
            "gridcolor": "white",
            "gridwidth": 2,
            "linecolor": "white",
            "showbackground": true,
            "ticks": "",
            "zerolinecolor": "white"
           }
          },
          "shapedefaults": {
           "line": {
            "color": "#2a3f5f"
           }
          },
          "ternary": {
           "aaxis": {
            "gridcolor": "white",
            "linecolor": "white",
            "ticks": ""
           },
           "baxis": {
            "gridcolor": "white",
            "linecolor": "white",
            "ticks": ""
           },
           "bgcolor": "#E5ECF6",
           "caxis": {
            "gridcolor": "white",
            "linecolor": "white",
            "ticks": ""
           }
          },
          "title": {
           "x": 0.05
          },
          "xaxis": {
           "automargin": true,
           "gridcolor": "white",
           "linecolor": "white",
           "ticks": "",
           "title": {
            "standoff": 15
           },
           "zerolinecolor": "white",
           "zerolinewidth": 2
          },
          "yaxis": {
           "automargin": true,
           "gridcolor": "white",
           "linecolor": "white",
           "ticks": "",
           "title": {
            "standoff": 15
           },
           "zerolinecolor": "white",
           "zerolinewidth": 2
          }
         }
        },
        "title": {
         "text": "Long-Form Input"
        },
        "xaxis": {
         "anchor": "y",
         "domain": [
          0,
          1
         ],
         "title": {
          "text": "index"
         }
        },
        "yaxis": {
         "anchor": "x",
         "domain": [
          0,
          1
         ],
         "title": {
          "text": "y"
         }
        }
       }
      },
      "text/html": [
       "<div>                            <div id=\"59648456-e267-4da6-888f-8975df52cbb3\" class=\"plotly-graph-div\" style=\"height:525px; width:100%;\"></div>            <script type=\"text/javascript\">                require([\"plotly\"], function(Plotly) {                    window.PLOTLYENV=window.PLOTLYENV || {};                                    if (document.getElementById(\"59648456-e267-4da6-888f-8975df52cbb3\")) {                    Plotly.newPlot(                        \"59648456-e267-4da6-888f-8975df52cbb3\",                        [{\"alignmentgroup\":\"True\",\"hovertemplate\":\"index=%{x}<br>y=%{y}<br>color=%{marker.color}<extra></extra>\",\"legendgroup\":\"\",\"marker\":{\"color\":[1199699,979997,632078],\"coloraxis\":\"coloraxis\",\"pattern\":{\"shape\":\"\"}},\"name\":\"\",\"offsetgroup\":\"\",\"orientation\":\"v\",\"showlegend\":false,\"textposition\":\"auto\",\"x\":[1,0,-1],\"xaxis\":\"x\",\"y\":[1199699,979997,632078],\"yaxis\":\"y\",\"type\":\"bar\"}],                        {\"template\":{\"data\":{\"histogram2dcontour\":[{\"type\":\"histogram2dcontour\",\"colorbar\":{\"outlinewidth\":0,\"ticks\":\"\"},\"colorscale\":[[0.0,\"#0d0887\"],[0.1111111111111111,\"#46039f\"],[0.2222222222222222,\"#7201a8\"],[0.3333333333333333,\"#9c179e\"],[0.4444444444444444,\"#bd3786\"],[0.5555555555555556,\"#d8576b\"],[0.6666666666666666,\"#ed7953\"],[0.7777777777777778,\"#fb9f3a\"],[0.8888888888888888,\"#fdca26\"],[1.0,\"#f0f921\"]]}],\"choropleth\":[{\"type\":\"choropleth\",\"colorbar\":{\"outlinewidth\":0,\"ticks\":\"\"}}],\"histogram2d\":[{\"type\":\"histogram2d\",\"colorbar\":{\"outlinewidth\":0,\"ticks\":\"\"},\"colorscale\":[[0.0,\"#0d0887\"],[0.1111111111111111,\"#46039f\"],[0.2222222222222222,\"#7201a8\"],[0.3333333333333333,\"#9c179e\"],[0.4444444444444444,\"#bd3786\"],[0.5555555555555556,\"#d8576b\"],[0.6666666666666666,\"#ed7953\"],[0.7777777777777778,\"#fb9f3a\"],[0.8888888888888888,\"#fdca26\"],[1.0,\"#f0f921\"]]}],\"heatmap\":[{\"type\":\"heatmap\",\"colorbar\":{\"outlinewidth\":0,\"ticks\":\"\"},\"colorscale\":[[0.0,\"#0d0887\"],[0.1111111111111111,\"#46039f\"],[0.2222222222222222,\"#7201a8\"],[0.3333333333333333,\"#9c179e\"],[0.4444444444444444,\"#bd3786\"],[0.5555555555555556,\"#d8576b\"],[0.6666666666666666,\"#ed7953\"],[0.7777777777777778,\"#fb9f3a\"],[0.8888888888888888,\"#fdca26\"],[1.0,\"#f0f921\"]]}],\"heatmapgl\":[{\"type\":\"heatmapgl\",\"colorbar\":{\"outlinewidth\":0,\"ticks\":\"\"},\"colorscale\":[[0.0,\"#0d0887\"],[0.1111111111111111,\"#46039f\"],[0.2222222222222222,\"#7201a8\"],[0.3333333333333333,\"#9c179e\"],[0.4444444444444444,\"#bd3786\"],[0.5555555555555556,\"#d8576b\"],[0.6666666666666666,\"#ed7953\"],[0.7777777777777778,\"#fb9f3a\"],[0.8888888888888888,\"#fdca26\"],[1.0,\"#f0f921\"]]}],\"contourcarpet\":[{\"type\":\"contourcarpet\",\"colorbar\":{\"outlinewidth\":0,\"ticks\":\"\"}}],\"contour\":[{\"type\":\"contour\",\"colorbar\":{\"outlinewidth\":0,\"ticks\":\"\"},\"colorscale\":[[0.0,\"#0d0887\"],[0.1111111111111111,\"#46039f\"],[0.2222222222222222,\"#7201a8\"],[0.3333333333333333,\"#9c179e\"],[0.4444444444444444,\"#bd3786\"],[0.5555555555555556,\"#d8576b\"],[0.6666666666666666,\"#ed7953\"],[0.7777777777777778,\"#fb9f3a\"],[0.8888888888888888,\"#fdca26\"],[1.0,\"#f0f921\"]]}],\"surface\":[{\"type\":\"surface\",\"colorbar\":{\"outlinewidth\":0,\"ticks\":\"\"},\"colorscale\":[[0.0,\"#0d0887\"],[0.1111111111111111,\"#46039f\"],[0.2222222222222222,\"#7201a8\"],[0.3333333333333333,\"#9c179e\"],[0.4444444444444444,\"#bd3786\"],[0.5555555555555556,\"#d8576b\"],[0.6666666666666666,\"#ed7953\"],[0.7777777777777778,\"#fb9f3a\"],[0.8888888888888888,\"#fdca26\"],[1.0,\"#f0f921\"]]}],\"mesh3d\":[{\"type\":\"mesh3d\",\"colorbar\":{\"outlinewidth\":0,\"ticks\":\"\"}}],\"scatter\":[{\"fillpattern\":{\"fillmode\":\"overlay\",\"size\":10,\"solidity\":0.2},\"type\":\"scatter\"}],\"parcoords\":[{\"type\":\"parcoords\",\"line\":{\"colorbar\":{\"outlinewidth\":0,\"ticks\":\"\"}}}],\"scatterpolargl\":[{\"type\":\"scatterpolargl\",\"marker\":{\"colorbar\":{\"outlinewidth\":0,\"ticks\":\"\"}}}],\"bar\":[{\"error_x\":{\"color\":\"#2a3f5f\"},\"error_y\":{\"color\":\"#2a3f5f\"},\"marker\":{\"line\":{\"color\":\"#E5ECF6\",\"width\":0.5},\"pattern\":{\"fillmode\":\"overlay\",\"size\":10,\"solidity\":0.2}},\"type\":\"bar\"}],\"scattergeo\":[{\"type\":\"scattergeo\",\"marker\":{\"colorbar\":{\"outlinewidth\":0,\"ticks\":\"\"}}}],\"scatterpolar\":[{\"type\":\"scatterpolar\",\"marker\":{\"colorbar\":{\"outlinewidth\":0,\"ticks\":\"\"}}}],\"histogram\":[{\"marker\":{\"pattern\":{\"fillmode\":\"overlay\",\"size\":10,\"solidity\":0.2}},\"type\":\"histogram\"}],\"scattergl\":[{\"type\":\"scattergl\",\"marker\":{\"colorbar\":{\"outlinewidth\":0,\"ticks\":\"\"}}}],\"scatter3d\":[{\"type\":\"scatter3d\",\"line\":{\"colorbar\":{\"outlinewidth\":0,\"ticks\":\"\"}},\"marker\":{\"colorbar\":{\"outlinewidth\":0,\"ticks\":\"\"}}}],\"scattermapbox\":[{\"type\":\"scattermapbox\",\"marker\":{\"colorbar\":{\"outlinewidth\":0,\"ticks\":\"\"}}}],\"scatterternary\":[{\"type\":\"scatterternary\",\"marker\":{\"colorbar\":{\"outlinewidth\":0,\"ticks\":\"\"}}}],\"scattercarpet\":[{\"type\":\"scattercarpet\",\"marker\":{\"colorbar\":{\"outlinewidth\":0,\"ticks\":\"\"}}}],\"carpet\":[{\"aaxis\":{\"endlinecolor\":\"#2a3f5f\",\"gridcolor\":\"white\",\"linecolor\":\"white\",\"minorgridcolor\":\"white\",\"startlinecolor\":\"#2a3f5f\"},\"baxis\":{\"endlinecolor\":\"#2a3f5f\",\"gridcolor\":\"white\",\"linecolor\":\"white\",\"minorgridcolor\":\"white\",\"startlinecolor\":\"#2a3f5f\"},\"type\":\"carpet\"}],\"table\":[{\"cells\":{\"fill\":{\"color\":\"#EBF0F8\"},\"line\":{\"color\":\"white\"}},\"header\":{\"fill\":{\"color\":\"#C8D4E3\"},\"line\":{\"color\":\"white\"}},\"type\":\"table\"}],\"barpolar\":[{\"marker\":{\"line\":{\"color\":\"#E5ECF6\",\"width\":0.5},\"pattern\":{\"fillmode\":\"overlay\",\"size\":10,\"solidity\":0.2}},\"type\":\"barpolar\"}],\"pie\":[{\"automargin\":true,\"type\":\"pie\"}]},\"layout\":{\"autotypenumbers\":\"strict\",\"colorway\":[\"#636efa\",\"#EF553B\",\"#00cc96\",\"#ab63fa\",\"#FFA15A\",\"#19d3f3\",\"#FF6692\",\"#B6E880\",\"#FF97FF\",\"#FECB52\"],\"font\":{\"color\":\"#2a3f5f\"},\"hovermode\":\"closest\",\"hoverlabel\":{\"align\":\"left\"},\"paper_bgcolor\":\"white\",\"plot_bgcolor\":\"#E5ECF6\",\"polar\":{\"bgcolor\":\"#E5ECF6\",\"angularaxis\":{\"gridcolor\":\"white\",\"linecolor\":\"white\",\"ticks\":\"\"},\"radialaxis\":{\"gridcolor\":\"white\",\"linecolor\":\"white\",\"ticks\":\"\"}},\"ternary\":{\"bgcolor\":\"#E5ECF6\",\"aaxis\":{\"gridcolor\":\"white\",\"linecolor\":\"white\",\"ticks\":\"\"},\"baxis\":{\"gridcolor\":\"white\",\"linecolor\":\"white\",\"ticks\":\"\"},\"caxis\":{\"gridcolor\":\"white\",\"linecolor\":\"white\",\"ticks\":\"\"}},\"coloraxis\":{\"colorbar\":{\"outlinewidth\":0,\"ticks\":\"\"}},\"colorscale\":{\"sequential\":[[0.0,\"#0d0887\"],[0.1111111111111111,\"#46039f\"],[0.2222222222222222,\"#7201a8\"],[0.3333333333333333,\"#9c179e\"],[0.4444444444444444,\"#bd3786\"],[0.5555555555555556,\"#d8576b\"],[0.6666666666666666,\"#ed7953\"],[0.7777777777777778,\"#fb9f3a\"],[0.8888888888888888,\"#fdca26\"],[1.0,\"#f0f921\"]],\"sequentialminus\":[[0.0,\"#0d0887\"],[0.1111111111111111,\"#46039f\"],[0.2222222222222222,\"#7201a8\"],[0.3333333333333333,\"#9c179e\"],[0.4444444444444444,\"#bd3786\"],[0.5555555555555556,\"#d8576b\"],[0.6666666666666666,\"#ed7953\"],[0.7777777777777778,\"#fb9f3a\"],[0.8888888888888888,\"#fdca26\"],[1.0,\"#f0f921\"]],\"diverging\":[[0,\"#8e0152\"],[0.1,\"#c51b7d\"],[0.2,\"#de77ae\"],[0.3,\"#f1b6da\"],[0.4,\"#fde0ef\"],[0.5,\"#f7f7f7\"],[0.6,\"#e6f5d0\"],[0.7,\"#b8e186\"],[0.8,\"#7fbc41\"],[0.9,\"#4d9221\"],[1,\"#276419\"]]},\"xaxis\":{\"gridcolor\":\"white\",\"linecolor\":\"white\",\"ticks\":\"\",\"title\":{\"standoff\":15},\"zerolinecolor\":\"white\",\"automargin\":true,\"zerolinewidth\":2},\"yaxis\":{\"gridcolor\":\"white\",\"linecolor\":\"white\",\"ticks\":\"\",\"title\":{\"standoff\":15},\"zerolinecolor\":\"white\",\"automargin\":true,\"zerolinewidth\":2},\"scene\":{\"xaxis\":{\"backgroundcolor\":\"#E5ECF6\",\"gridcolor\":\"white\",\"linecolor\":\"white\",\"showbackground\":true,\"ticks\":\"\",\"zerolinecolor\":\"white\",\"gridwidth\":2},\"yaxis\":{\"backgroundcolor\":\"#E5ECF6\",\"gridcolor\":\"white\",\"linecolor\":\"white\",\"showbackground\":true,\"ticks\":\"\",\"zerolinecolor\":\"white\",\"gridwidth\":2},\"zaxis\":{\"backgroundcolor\":\"#E5ECF6\",\"gridcolor\":\"white\",\"linecolor\":\"white\",\"showbackground\":true,\"ticks\":\"\",\"zerolinecolor\":\"white\",\"gridwidth\":2}},\"shapedefaults\":{\"line\":{\"color\":\"#2a3f5f\"}},\"annotationdefaults\":{\"arrowcolor\":\"#2a3f5f\",\"arrowhead\":0,\"arrowwidth\":1},\"geo\":{\"bgcolor\":\"white\",\"landcolor\":\"#E5ECF6\",\"subunitcolor\":\"white\",\"showland\":true,\"showlakes\":true,\"lakecolor\":\"white\"},\"title\":{\"x\":0.05},\"mapbox\":{\"style\":\"light\"}}},\"xaxis\":{\"anchor\":\"y\",\"domain\":[0.0,1.0],\"title\":{\"text\":\"index\"}},\"yaxis\":{\"anchor\":\"x\",\"domain\":[0.0,1.0],\"title\":{\"text\":\"y\"}},\"coloraxis\":{\"colorbar\":{\"title\":{\"text\":\"color\"}},\"colorscale\":[[0.0,\"#0d0887\"],[0.1111111111111111,\"#46039f\"],[0.2222222222222222,\"#7201a8\"],[0.3333333333333333,\"#9c179e\"],[0.4444444444444444,\"#bd3786\"],[0.5555555555555556,\"#d8576b\"],[0.6666666666666666,\"#ed7953\"],[0.7777777777777778,\"#fb9f3a\"],[0.8888888888888888,\"#fdca26\"],[1.0,\"#f0f921\"]]},\"legend\":{\"tracegroupgap\":0},\"title\":{\"text\":\"Long-Form Input\"},\"barmode\":\"relative\"},                        {\"responsive\": true}                    ).then(function(){\n",
       "                            \n",
       "var gd = document.getElementById('59648456-e267-4da6-888f-8975df52cbb3');\n",
       "var x = new MutationObserver(function (mutations, observer) {{\n",
       "        var display = window.getComputedStyle(gd).display;\n",
       "        if (!display || display === 'none') {{\n",
       "            console.log([gd, 'removed!']);\n",
       "            Plotly.purge(gd);\n",
       "            observer.disconnect();\n",
       "        }}\n",
       "}});\n",
       "\n",
       "// Listen for the removal of the full notebook cells\n",
       "var notebookContainer = gd.closest('#notebook-container');\n",
       "if (notebookContainer) {{\n",
       "    x.observe(notebookContainer, {childList: true});\n",
       "}}\n",
       "\n",
       "// Listen for the clearing of the current output cell\n",
       "var outputEl = gd.closest('.output');\n",
       "if (outputEl) {{\n",
       "    x.observe(outputEl, {childList: true});\n",
       "}}\n",
       "\n",
       "                        })                };                });            </script>        </div>"
      ]
     },
     "metadata": {},
     "output_type": "display_data"
    }
   ],
   "source": [
    "fig = px.bar(sentimentCounts, x=sentimentCounts.index, y=sentimentCounts.values, color=sentimentCounts.values,\n",
    "             title=\"Long-Form Input\")\n",
    "fig.show()"
   ]
  },
  {
   "cell_type": "code",
   "execution_count": null,
   "id": "ec2e8eee",
   "metadata": {},
   "outputs": [],
   "source": []
  },
  {
   "cell_type": "code",
   "execution_count": null,
   "id": "8f018de6",
   "metadata": {},
   "outputs": [],
   "source": []
  },
  {
   "cell_type": "markdown",
   "id": "ee59e6c3",
   "metadata": {},
   "source": [
    "#### Wrangle data and sort by Airlines"
   ]
  },
  {
   "cell_type": "code",
   "execution_count": 11,
   "id": "a9af496a",
   "metadata": {},
   "outputs": [
    {
     "name": "stdout",
     "output_type": "stream",
     "text": [
      "Data shape: (794299, 18)\n"
     ]
    }
   ],
   "source": [
    "first_inbound = df[pd.isnull(df.in_response_to_tweet_id) & df.inbound]\n",
    "\n",
    "QnR = pd.merge(first_inbound, df, left_on='tweet_id', \n",
    "                                  right_on='in_response_to_tweet_id')\n",
    "\n",
    "# Filter to only outbound replies (from companies)\n",
    "QnR = QnR[QnR.inbound_y ^ True]\n",
    "print(f'Data shape: {QnR.shape}')\n",
    "#QnR.head()\n",
    "\n",
    "airDF = pd.DataFrame()\n",
    "for airline in airlines:\n",
    "    airDF = pd.concat([airDF, QnR[QnR['author_id_y'].str.contains(airline)]], ignore_index=True)"
   ]
  },
  {
   "cell_type": "code",
   "execution_count": 12,
   "id": "6f315edb",
   "metadata": {},
   "outputs": [],
   "source": [
    "airDF['in_response_to_tweet_id_y'] = airDF['in_response_to_tweet_id_y'].astype('int64')"
   ]
  },
  {
   "cell_type": "code",
   "execution_count": 13,
   "id": "6a6ca044",
   "metadata": {},
   "outputs": [
    {
     "data": {
      "text/html": [
       "<div>\n",
       "<style scoped>\n",
       "    .dataframe tbody tr th:only-of-type {\n",
       "        vertical-align: middle;\n",
       "    }\n",
       "\n",
       "    .dataframe tbody tr th {\n",
       "        vertical-align: top;\n",
       "    }\n",
       "\n",
       "    .dataframe thead th {\n",
       "        text-align: right;\n",
       "    }\n",
       "</style>\n",
       "<table border=\"1\" class=\"dataframe\">\n",
       "  <thead>\n",
       "    <tr style=\"text-align: right;\">\n",
       "      <th></th>\n",
       "      <th>Unnamed: 0_x</th>\n",
       "      <th>tweet_id_x</th>\n",
       "      <th>author_id_x</th>\n",
       "      <th>inbound_x</th>\n",
       "      <th>created_at_x</th>\n",
       "      <th>text_x</th>\n",
       "      <th>response_tweet_id_x</th>\n",
       "      <th>in_response_to_tweet_id_x</th>\n",
       "      <th>sentiment_x</th>\n",
       "      <th>Unnamed: 0_y</th>\n",
       "      <th>tweet_id_y</th>\n",
       "      <th>author_id_y</th>\n",
       "      <th>inbound_y</th>\n",
       "      <th>created_at_y</th>\n",
       "      <th>text_y</th>\n",
       "      <th>response_tweet_id_y</th>\n",
       "      <th>in_response_to_tweet_id_y</th>\n",
       "      <th>sentiment_y</th>\n",
       "    </tr>\n",
       "  </thead>\n",
       "  <tbody>\n",
       "    <tr>\n",
       "      <th>0</th>\n",
       "      <td>609</td>\n",
       "      <td>1002</td>\n",
       "      <td>115905</td>\n",
       "      <td>True</td>\n",
       "      <td>2017-10-31</td>\n",
       "      <td>ben tennyson american airline pilot 🎃 trunkort...</td>\n",
       "      <td>1001</td>\n",
       "      <td>NaN</td>\n",
       "      <td>0</td>\n",
       "      <td>608</td>\n",
       "      <td>1001</td>\n",
       "      <td>AmericanAir</td>\n",
       "      <td>False</td>\n",
       "      <td>2017-10-31</td>\n",
       "      <td>115905 aww thats definitely future pilot makin...</td>\n",
       "      <td>NaN</td>\n",
       "      <td>1002</td>\n",
       "      <td>1</td>\n",
       "    </tr>\n",
       "    <tr>\n",
       "      <th>1</th>\n",
       "      <td>613</td>\n",
       "      <td>1005</td>\n",
       "      <td>115906</td>\n",
       "      <td>True</td>\n",
       "      <td>2017-10-31</td>\n",
       "      <td>i’m it’s going cost 50 transfer 4000 aa advant...</td>\n",
       "      <td>1003,1007</td>\n",
       "      <td>NaN</td>\n",
       "      <td>-1</td>\n",
       "      <td>610</td>\n",
       "      <td>1003</td>\n",
       "      <td>AmericanAir</td>\n",
       "      <td>False</td>\n",
       "      <td>2017-10-31</td>\n",
       "      <td>115906 great option customer want share mile c...</td>\n",
       "      <td>1004</td>\n",
       "      <td>1005</td>\n",
       "      <td>1</td>\n",
       "    </tr>\n",
       "    <tr>\n",
       "      <th>2</th>\n",
       "      <td>615</td>\n",
       "      <td>1009</td>\n",
       "      <td>115907</td>\n",
       "      <td>True</td>\n",
       "      <td>2017-10-31</td>\n",
       "      <td>heading london tonight 5 day exciting stuff am...</td>\n",
       "      <td>1008,1010,1011,1012,1013,1014,1015,1016,1017,1...</td>\n",
       "      <td>NaN</td>\n",
       "      <td>1</td>\n",
       "      <td>614</td>\n",
       "      <td>1008</td>\n",
       "      <td>AmericanAir</td>\n",
       "      <td>False</td>\n",
       "      <td>2017-10-31</td>\n",
       "      <td>115907 always pleasure board john wonderful fl...</td>\n",
       "      <td>NaN</td>\n",
       "      <td>1009</td>\n",
       "      <td>1</td>\n",
       "    </tr>\n",
       "    <tr>\n",
       "      <th>3</th>\n",
       "      <td>617</td>\n",
       "      <td>1062</td>\n",
       "      <td>115908</td>\n",
       "      <td>True</td>\n",
       "      <td>2017-10-31</td>\n",
       "      <td>check tiny trickortreaters dressed nicu hey am...</td>\n",
       "      <td>1061,1063</td>\n",
       "      <td>NaN</td>\n",
       "      <td>0</td>\n",
       "      <td>616</td>\n",
       "      <td>1061</td>\n",
       "      <td>AmericanAir</td>\n",
       "      <td>False</td>\n",
       "      <td>2017-10-31</td>\n",
       "      <td>115908 pilot potter pumpkin skeletonsoh theyre...</td>\n",
       "      <td>NaN</td>\n",
       "      <td>1062</td>\n",
       "      <td>1</td>\n",
       "    </tr>\n",
       "    <tr>\n",
       "      <th>4</th>\n",
       "      <td>619</td>\n",
       "      <td>1065</td>\n",
       "      <td>115909</td>\n",
       "      <td>True</td>\n",
       "      <td>2017-10-31</td>\n",
       "      <td>thank americanair playing thisisus great fligh...</td>\n",
       "      <td>1064</td>\n",
       "      <td>NaN</td>\n",
       "      <td>1</td>\n",
       "      <td>618</td>\n",
       "      <td>1064</td>\n",
       "      <td>AmericanAir</td>\n",
       "      <td>False</td>\n",
       "      <td>2017-10-31</td>\n",
       "      <td>115909 glad got kick back enjoy show flying ki...</td>\n",
       "      <td>NaN</td>\n",
       "      <td>1065</td>\n",
       "      <td>1</td>\n",
       "    </tr>\n",
       "    <tr>\n",
       "      <th>5</th>\n",
       "      <td>1316</td>\n",
       "      <td>1917</td>\n",
       "      <td>116142</td>\n",
       "      <td>True</td>\n",
       "      <td>2017-10-31</td>\n",
       "      <td>americanairs wifi make amtraks wifi look pro l...</td>\n",
       "      <td>1916</td>\n",
       "      <td>NaN</td>\n",
       "      <td>1</td>\n",
       "      <td>1315</td>\n",
       "      <td>1916</td>\n",
       "      <td>AmericanAir</td>\n",
       "      <td>False</td>\n",
       "      <td>2017-10-31</td>\n",
       "      <td>116142 never want experience anything le perfe...</td>\n",
       "      <td>NaN</td>\n",
       "      <td>1917</td>\n",
       "      <td>1</td>\n",
       "    </tr>\n",
       "    <tr>\n",
       "      <th>6</th>\n",
       "      <td>1318</td>\n",
       "      <td>1919</td>\n",
       "      <td>116143</td>\n",
       "      <td>True</td>\n",
       "      <td>2017-10-31</td>\n",
       "      <td>wonderful club americanair american airline ad...</td>\n",
       "      <td>1918</td>\n",
       "      <td>NaN</td>\n",
       "      <td>1</td>\n",
       "      <td>1317</td>\n",
       "      <td>1918</td>\n",
       "      <td>AmericanAir</td>\n",
       "      <td>False</td>\n",
       "      <td>2017-10-31</td>\n",
       "      <td>116143 shoutout stopping marc well pas sfo adm...</td>\n",
       "      <td>NaN</td>\n",
       "      <td>1919</td>\n",
       "      <td>1</td>\n",
       "    </tr>\n",
       "    <tr>\n",
       "      <th>7</th>\n",
       "      <td>1331</td>\n",
       "      <td>1922</td>\n",
       "      <td>116144</td>\n",
       "      <td>True</td>\n",
       "      <td>2017-10-31</td>\n",
       "      <td>trying book flight americanair error come syst...</td>\n",
       "      <td>1920,1933</td>\n",
       "      <td>NaN</td>\n",
       "      <td>-1</td>\n",
       "      <td>1319</td>\n",
       "      <td>1920</td>\n",
       "      <td>AmericanAir</td>\n",
       "      <td>False</td>\n",
       "      <td>2017-10-31</td>\n",
       "      <td>116144 difficulty youve experienced contact we...</td>\n",
       "      <td>1921</td>\n",
       "      <td>1922</td>\n",
       "      <td>1</td>\n",
       "    </tr>\n",
       "    <tr>\n",
       "      <th>8</th>\n",
       "      <td>1339</td>\n",
       "      <td>1941</td>\n",
       "      <td>116145</td>\n",
       "      <td>True</td>\n",
       "      <td>2017-10-29</td>\n",
       "      <td>look americanair bag httpstcoquebqf8jjf</td>\n",
       "      <td>1940,1942,1943</td>\n",
       "      <td>NaN</td>\n",
       "      <td>0</td>\n",
       "      <td>1338</td>\n",
       "      <td>1940</td>\n",
       "      <td>AmericanAir</td>\n",
       "      <td>False</td>\n",
       "      <td>2017-10-29</td>\n",
       "      <td>116145 always want take care bag able file cla...</td>\n",
       "      <td>1939</td>\n",
       "      <td>1941</td>\n",
       "      <td>1</td>\n",
       "    </tr>\n",
       "    <tr>\n",
       "      <th>9</th>\n",
       "      <td>1341</td>\n",
       "      <td>1945</td>\n",
       "      <td>116146</td>\n",
       "      <td>True</td>\n",
       "      <td>2017-10-31</td>\n",
       "      <td>big thx 2 americanair 4 guacamole margs thx 11...</td>\n",
       "      <td>1944</td>\n",
       "      <td>NaN</td>\n",
       "      <td>1</td>\n",
       "      <td>1340</td>\n",
       "      <td>1944</td>\n",
       "      <td>AmericanAir</td>\n",
       "      <td>False</td>\n",
       "      <td>2017-10-31</td>\n",
       "      <td>116146 happy youre happy sure look delicious</td>\n",
       "      <td>NaN</td>\n",
       "      <td>1945</td>\n",
       "      <td>1</td>\n",
       "    </tr>\n",
       "  </tbody>\n",
       "</table>\n",
       "</div>"
      ],
      "text/plain": [
       "   Unnamed: 0_x  tweet_id_x author_id_x  inbound_x created_at_x  \\\n",
       "0           609        1002      115905       True   2017-10-31   \n",
       "1           613        1005      115906       True   2017-10-31   \n",
       "2           615        1009      115907       True   2017-10-31   \n",
       "3           617        1062      115908       True   2017-10-31   \n",
       "4           619        1065      115909       True   2017-10-31   \n",
       "5          1316        1917      116142       True   2017-10-31   \n",
       "6          1318        1919      116143       True   2017-10-31   \n",
       "7          1331        1922      116144       True   2017-10-31   \n",
       "8          1339        1941      116145       True   2017-10-29   \n",
       "9          1341        1945      116146       True   2017-10-31   \n",
       "\n",
       "                                              text_x  \\\n",
       "0  ben tennyson american airline pilot 🎃 trunkort...   \n",
       "1  i’m it’s going cost 50 transfer 4000 aa advant...   \n",
       "2  heading london tonight 5 day exciting stuff am...   \n",
       "3  check tiny trickortreaters dressed nicu hey am...   \n",
       "4  thank americanair playing thisisus great fligh...   \n",
       "5  americanairs wifi make amtraks wifi look pro l...   \n",
       "6  wonderful club americanair american airline ad...   \n",
       "7  trying book flight americanair error come syst...   \n",
       "8            look americanair bag httpstcoquebqf8jjf   \n",
       "9  big thx 2 americanair 4 guacamole margs thx 11...   \n",
       "\n",
       "                                 response_tweet_id_x  \\\n",
       "0                                               1001   \n",
       "1                                          1003,1007   \n",
       "2  1008,1010,1011,1012,1013,1014,1015,1016,1017,1...   \n",
       "3                                          1061,1063   \n",
       "4                                               1064   \n",
       "5                                               1916   \n",
       "6                                               1918   \n",
       "7                                          1920,1933   \n",
       "8                                     1940,1942,1943   \n",
       "9                                               1944   \n",
       "\n",
       "   in_response_to_tweet_id_x  sentiment_x  Unnamed: 0_y  tweet_id_y  \\\n",
       "0                        NaN            0           608        1001   \n",
       "1                        NaN           -1           610        1003   \n",
       "2                        NaN            1           614        1008   \n",
       "3                        NaN            0           616        1061   \n",
       "4                        NaN            1           618        1064   \n",
       "5                        NaN            1          1315        1916   \n",
       "6                        NaN            1          1317        1918   \n",
       "7                        NaN           -1          1319        1920   \n",
       "8                        NaN            0          1338        1940   \n",
       "9                        NaN            1          1340        1944   \n",
       "\n",
       "   author_id_y  inbound_y created_at_y  \\\n",
       "0  AmericanAir      False   2017-10-31   \n",
       "1  AmericanAir      False   2017-10-31   \n",
       "2  AmericanAir      False   2017-10-31   \n",
       "3  AmericanAir      False   2017-10-31   \n",
       "4  AmericanAir      False   2017-10-31   \n",
       "5  AmericanAir      False   2017-10-31   \n",
       "6  AmericanAir      False   2017-10-31   \n",
       "7  AmericanAir      False   2017-10-31   \n",
       "8  AmericanAir      False   2017-10-29   \n",
       "9  AmericanAir      False   2017-10-31   \n",
       "\n",
       "                                              text_y response_tweet_id_y  \\\n",
       "0  115905 aww thats definitely future pilot makin...                 NaN   \n",
       "1  115906 great option customer want share mile c...                1004   \n",
       "2  115907 always pleasure board john wonderful fl...                 NaN   \n",
       "3  115908 pilot potter pumpkin skeletonsoh theyre...                 NaN   \n",
       "4  115909 glad got kick back enjoy show flying ki...                 NaN   \n",
       "5  116142 never want experience anything le perfe...                 NaN   \n",
       "6  116143 shoutout stopping marc well pas sfo adm...                 NaN   \n",
       "7  116144 difficulty youve experienced contact we...                1921   \n",
       "8  116145 always want take care bag able file cla...                1939   \n",
       "9       116146 happy youre happy sure look delicious                 NaN   \n",
       "\n",
       "   in_response_to_tweet_id_y  sentiment_y  \n",
       "0                       1002            1  \n",
       "1                       1005            1  \n",
       "2                       1009            1  \n",
       "3                       1062            1  \n",
       "4                       1065            1  \n",
       "5                       1917            1  \n",
       "6                       1919            1  \n",
       "7                       1922            1  \n",
       "8                       1941            1  \n",
       "9                       1945            1  "
      ]
     },
     "execution_count": 13,
     "metadata": {},
     "output_type": "execute_result"
    }
   ],
   "source": [
    "airDF.head(10)"
   ]
  },
  {
   "cell_type": "markdown",
   "id": "3f2f1ac7",
   "metadata": {},
   "source": [
    "#### Define a function to identify most commonly used words in text"
   ]
  },
  {
   "cell_type": "code",
   "execution_count": 20,
   "id": "e03e74aa",
   "metadata": {},
   "outputs": [],
   "source": [
    "cnt = Counter()\n",
    "\n",
    "def mostCommon(column):\n",
    "    for text in column.values:\n",
    "        for word in text.split():\n",
    "            cnt[word] +=1\n",
    "\n",
    "    return cnt.most_common(10)"
   ]
  },
  {
   "cell_type": "markdown",
   "id": "6208d321",
   "metadata": {},
   "source": [
    "#### Create Dataframes for different sentiments for airlines"
   ]
  },
  {
   "cell_type": "code",
   "execution_count": 24,
   "id": "16c41cdd",
   "metadata": {},
   "outputs": [],
   "source": [
    "positiveSentiment = airDF[airDF['sentiment_x'] == 1]\n",
    "negativeSentiment = airDF[airDF['sentiment_x'] == -1]\n",
    "neutralSentiment = airDF[airDF['sentiment_x'] == 0]"
   ]
  },
  {
   "cell_type": "markdown",
   "id": "30619e06",
   "metadata": {},
   "source": [
    "#### Create dataframe to count most common words used in negative sentiments"
   ]
  },
  {
   "cell_type": "code",
   "execution_count": 58,
   "id": "930f264b",
   "metadata": {},
   "outputs": [
    {
     "data": {
      "text/html": [
       "<div>\n",
       "<style scoped>\n",
       "    .dataframe tbody tr th:only-of-type {\n",
       "        vertical-align: middle;\n",
       "    }\n",
       "\n",
       "    .dataframe tbody tr th {\n",
       "        vertical-align: top;\n",
       "    }\n",
       "\n",
       "    .dataframe thead th {\n",
       "        text-align: right;\n",
       "    }\n",
       "</style>\n",
       "<table border=\"1\" class=\"dataframe\">\n",
       "  <thead>\n",
       "    <tr style=\"text-align: right;\">\n",
       "      <th></th>\n",
       "      <th>CommonWords</th>\n",
       "      <th>Count</th>\n",
       "    </tr>\n",
       "  </thead>\n",
       "  <tbody>\n",
       "    <tr>\n",
       "      <th>0</th>\n",
       "      <td>flight</td>\n",
       "      <td>117441</td>\n",
       "    </tr>\n",
       "    <tr>\n",
       "      <th>1</th>\n",
       "      <td>delta</td>\n",
       "      <td>72922</td>\n",
       "    </tr>\n",
       "    <tr>\n",
       "      <th>2</th>\n",
       "      <td>americanair</td>\n",
       "      <td>66957</td>\n",
       "    </tr>\n",
       "    <tr>\n",
       "      <th>3</th>\n",
       "      <td>britishairways</td>\n",
       "      <td>49978</td>\n",
       "    </tr>\n",
       "    <tr>\n",
       "      <th>4</th>\n",
       "      <td>southwestair</td>\n",
       "      <td>41820</td>\n",
       "    </tr>\n",
       "    <tr>\n",
       "      <th>5</th>\n",
       "      <td>hour</td>\n",
       "      <td>26958</td>\n",
       "    </tr>\n",
       "    <tr>\n",
       "      <th>6</th>\n",
       "      <td>delayed</td>\n",
       "      <td>24954</td>\n",
       "    </tr>\n",
       "    <tr>\n",
       "      <th>7</th>\n",
       "      <td>service</td>\n",
       "      <td>24238</td>\n",
       "    </tr>\n",
       "    <tr>\n",
       "      <th>8</th>\n",
       "      <td>time</td>\n",
       "      <td>22093</td>\n",
       "    </tr>\n",
       "    <tr>\n",
       "      <th>9</th>\n",
       "      <td>seat</td>\n",
       "      <td>20564</td>\n",
       "    </tr>\n",
       "  </tbody>\n",
       "</table>\n",
       "</div>"
      ],
      "text/plain": [
       "      CommonWords   Count\n",
       "0          flight  117441\n",
       "1           delta   72922\n",
       "2     americanair   66957\n",
       "3  britishairways   49978\n",
       "4    southwestair   41820\n",
       "5            hour   26958\n",
       "6         delayed   24954\n",
       "7         service   24238\n",
       "8            time   22093\n",
       "9            seat   20564"
      ]
     },
     "execution_count": 58,
     "metadata": {},
     "output_type": "execute_result"
    }
   ],
   "source": [
    "# Negative Words Dataframe\n",
    "negativeSentiment = airDF[airDF['sentiment_x'] == -1]\n",
    "negativeWordsDF = pd.DataFrame(mostCommon(negativeSentiment['text_x']))\n",
    "negativeWordsDF.columns = ['CommonWords', 'Count']\n",
    "negativeWordsDF"
   ]
  },
  {
   "cell_type": "markdown",
   "id": "40b25f51",
   "metadata": {},
   "source": [
    "#### Display words on graph"
   ]
  },
  {
   "cell_type": "code",
   "execution_count": 63,
   "id": "8dff8678",
   "metadata": {},
   "outputs": [
    {
     "data": {
      "application/vnd.plotly.v1+json": {
       "config": {
        "plotlyServerURL": "https://plot.ly"
       },
       "data": [
        {
         "alignmentgroup": "True",
         "hovertemplate": "CommonWords=%{x}<br>Count=%{y}<extra></extra>",
         "legendgroup": "flight",
         "marker": {
          "color": "#636efa",
          "pattern": {
           "shape": ""
          }
         },
         "name": "flight",
         "offsetgroup": "flight",
         "orientation": "v",
         "showlegend": true,
         "textposition": "auto",
         "type": "bar",
         "x": [
          "flight"
         ],
         "xaxis": "x",
         "y": [
          117441
         ],
         "yaxis": "y"
        },
        {
         "alignmentgroup": "True",
         "hovertemplate": "CommonWords=%{x}<br>Count=%{y}<extra></extra>",
         "legendgroup": "delta",
         "marker": {
          "color": "#EF553B",
          "pattern": {
           "shape": ""
          }
         },
         "name": "delta",
         "offsetgroup": "delta",
         "orientation": "v",
         "showlegend": true,
         "textposition": "auto",
         "type": "bar",
         "x": [
          "delta"
         ],
         "xaxis": "x",
         "y": [
          72922
         ],
         "yaxis": "y"
        },
        {
         "alignmentgroup": "True",
         "hovertemplate": "CommonWords=%{x}<br>Count=%{y}<extra></extra>",
         "legendgroup": "americanair",
         "marker": {
          "color": "#00cc96",
          "pattern": {
           "shape": ""
          }
         },
         "name": "americanair",
         "offsetgroup": "americanair",
         "orientation": "v",
         "showlegend": true,
         "textposition": "auto",
         "type": "bar",
         "x": [
          "americanair"
         ],
         "xaxis": "x",
         "y": [
          66957
         ],
         "yaxis": "y"
        },
        {
         "alignmentgroup": "True",
         "hovertemplate": "CommonWords=%{x}<br>Count=%{y}<extra></extra>",
         "legendgroup": "britishairways",
         "marker": {
          "color": "#ab63fa",
          "pattern": {
           "shape": ""
          }
         },
         "name": "britishairways",
         "offsetgroup": "britishairways",
         "orientation": "v",
         "showlegend": true,
         "textposition": "auto",
         "type": "bar",
         "x": [
          "britishairways"
         ],
         "xaxis": "x",
         "y": [
          49978
         ],
         "yaxis": "y"
        },
        {
         "alignmentgroup": "True",
         "hovertemplate": "CommonWords=%{x}<br>Count=%{y}<extra></extra>",
         "legendgroup": "southwestair",
         "marker": {
          "color": "#FFA15A",
          "pattern": {
           "shape": ""
          }
         },
         "name": "southwestair",
         "offsetgroup": "southwestair",
         "orientation": "v",
         "showlegend": true,
         "textposition": "auto",
         "type": "bar",
         "x": [
          "southwestair"
         ],
         "xaxis": "x",
         "y": [
          41820
         ],
         "yaxis": "y"
        },
        {
         "alignmentgroup": "True",
         "hovertemplate": "CommonWords=%{x}<br>Count=%{y}<extra></extra>",
         "legendgroup": "hour",
         "marker": {
          "color": "#19d3f3",
          "pattern": {
           "shape": ""
          }
         },
         "name": "hour",
         "offsetgroup": "hour",
         "orientation": "v",
         "showlegend": true,
         "textposition": "auto",
         "type": "bar",
         "x": [
          "hour"
         ],
         "xaxis": "x",
         "y": [
          26958
         ],
         "yaxis": "y"
        },
        {
         "alignmentgroup": "True",
         "hovertemplate": "CommonWords=%{x}<br>Count=%{y}<extra></extra>",
         "legendgroup": "delayed",
         "marker": {
          "color": "#FF6692",
          "pattern": {
           "shape": ""
          }
         },
         "name": "delayed",
         "offsetgroup": "delayed",
         "orientation": "v",
         "showlegend": true,
         "textposition": "auto",
         "type": "bar",
         "x": [
          "delayed"
         ],
         "xaxis": "x",
         "y": [
          24954
         ],
         "yaxis": "y"
        },
        {
         "alignmentgroup": "True",
         "hovertemplate": "CommonWords=%{x}<br>Count=%{y}<extra></extra>",
         "legendgroup": "service",
         "marker": {
          "color": "#B6E880",
          "pattern": {
           "shape": ""
          }
         },
         "name": "service",
         "offsetgroup": "service",
         "orientation": "v",
         "showlegend": true,
         "textposition": "auto",
         "type": "bar",
         "x": [
          "service"
         ],
         "xaxis": "x",
         "y": [
          24238
         ],
         "yaxis": "y"
        },
        {
         "alignmentgroup": "True",
         "hovertemplate": "CommonWords=%{x}<br>Count=%{y}<extra></extra>",
         "legendgroup": "time",
         "marker": {
          "color": "#FF97FF",
          "pattern": {
           "shape": ""
          }
         },
         "name": "time",
         "offsetgroup": "time",
         "orientation": "v",
         "showlegend": true,
         "textposition": "auto",
         "type": "bar",
         "x": [
          "time"
         ],
         "xaxis": "x",
         "y": [
          22093
         ],
         "yaxis": "y"
        },
        {
         "alignmentgroup": "True",
         "hovertemplate": "CommonWords=%{x}<br>Count=%{y}<extra></extra>",
         "legendgroup": "seat",
         "marker": {
          "color": "#FECB52",
          "pattern": {
           "shape": ""
          }
         },
         "name": "seat",
         "offsetgroup": "seat",
         "orientation": "v",
         "showlegend": true,
         "textposition": "auto",
         "type": "bar",
         "x": [
          "seat"
         ],
         "xaxis": "x",
         "y": [
          20564
         ],
         "yaxis": "y"
        }
       ],
       "layout": {
        "barmode": "relative",
        "height": 500,
        "legend": {
         "title": {
          "text": "CommonWords"
         },
         "tracegroupgap": 0
        },
        "template": {
         "data": {
          "bar": [
           {
            "error_x": {
             "color": "#2a3f5f"
            },
            "error_y": {
             "color": "#2a3f5f"
            },
            "marker": {
             "line": {
              "color": "#E5ECF6",
              "width": 0.5
             },
             "pattern": {
              "fillmode": "overlay",
              "size": 10,
              "solidity": 0.2
             }
            },
            "type": "bar"
           }
          ],
          "barpolar": [
           {
            "marker": {
             "line": {
              "color": "#E5ECF6",
              "width": 0.5
             },
             "pattern": {
              "fillmode": "overlay",
              "size": 10,
              "solidity": 0.2
             }
            },
            "type": "barpolar"
           }
          ],
          "carpet": [
           {
            "aaxis": {
             "endlinecolor": "#2a3f5f",
             "gridcolor": "white",
             "linecolor": "white",
             "minorgridcolor": "white",
             "startlinecolor": "#2a3f5f"
            },
            "baxis": {
             "endlinecolor": "#2a3f5f",
             "gridcolor": "white",
             "linecolor": "white",
             "minorgridcolor": "white",
             "startlinecolor": "#2a3f5f"
            },
            "type": "carpet"
           }
          ],
          "choropleth": [
           {
            "colorbar": {
             "outlinewidth": 0,
             "ticks": ""
            },
            "type": "choropleth"
           }
          ],
          "contour": [
           {
            "colorbar": {
             "outlinewidth": 0,
             "ticks": ""
            },
            "colorscale": [
             [
              0,
              "#0d0887"
             ],
             [
              0.1111111111111111,
              "#46039f"
             ],
             [
              0.2222222222222222,
              "#7201a8"
             ],
             [
              0.3333333333333333,
              "#9c179e"
             ],
             [
              0.4444444444444444,
              "#bd3786"
             ],
             [
              0.5555555555555556,
              "#d8576b"
             ],
             [
              0.6666666666666666,
              "#ed7953"
             ],
             [
              0.7777777777777778,
              "#fb9f3a"
             ],
             [
              0.8888888888888888,
              "#fdca26"
             ],
             [
              1,
              "#f0f921"
             ]
            ],
            "type": "contour"
           }
          ],
          "contourcarpet": [
           {
            "colorbar": {
             "outlinewidth": 0,
             "ticks": ""
            },
            "type": "contourcarpet"
           }
          ],
          "heatmap": [
           {
            "colorbar": {
             "outlinewidth": 0,
             "ticks": ""
            },
            "colorscale": [
             [
              0,
              "#0d0887"
             ],
             [
              0.1111111111111111,
              "#46039f"
             ],
             [
              0.2222222222222222,
              "#7201a8"
             ],
             [
              0.3333333333333333,
              "#9c179e"
             ],
             [
              0.4444444444444444,
              "#bd3786"
             ],
             [
              0.5555555555555556,
              "#d8576b"
             ],
             [
              0.6666666666666666,
              "#ed7953"
             ],
             [
              0.7777777777777778,
              "#fb9f3a"
             ],
             [
              0.8888888888888888,
              "#fdca26"
             ],
             [
              1,
              "#f0f921"
             ]
            ],
            "type": "heatmap"
           }
          ],
          "heatmapgl": [
           {
            "colorbar": {
             "outlinewidth": 0,
             "ticks": ""
            },
            "colorscale": [
             [
              0,
              "#0d0887"
             ],
             [
              0.1111111111111111,
              "#46039f"
             ],
             [
              0.2222222222222222,
              "#7201a8"
             ],
             [
              0.3333333333333333,
              "#9c179e"
             ],
             [
              0.4444444444444444,
              "#bd3786"
             ],
             [
              0.5555555555555556,
              "#d8576b"
             ],
             [
              0.6666666666666666,
              "#ed7953"
             ],
             [
              0.7777777777777778,
              "#fb9f3a"
             ],
             [
              0.8888888888888888,
              "#fdca26"
             ],
             [
              1,
              "#f0f921"
             ]
            ],
            "type": "heatmapgl"
           }
          ],
          "histogram": [
           {
            "marker": {
             "pattern": {
              "fillmode": "overlay",
              "size": 10,
              "solidity": 0.2
             }
            },
            "type": "histogram"
           }
          ],
          "histogram2d": [
           {
            "colorbar": {
             "outlinewidth": 0,
             "ticks": ""
            },
            "colorscale": [
             [
              0,
              "#0d0887"
             ],
             [
              0.1111111111111111,
              "#46039f"
             ],
             [
              0.2222222222222222,
              "#7201a8"
             ],
             [
              0.3333333333333333,
              "#9c179e"
             ],
             [
              0.4444444444444444,
              "#bd3786"
             ],
             [
              0.5555555555555556,
              "#d8576b"
             ],
             [
              0.6666666666666666,
              "#ed7953"
             ],
             [
              0.7777777777777778,
              "#fb9f3a"
             ],
             [
              0.8888888888888888,
              "#fdca26"
             ],
             [
              1,
              "#f0f921"
             ]
            ],
            "type": "histogram2d"
           }
          ],
          "histogram2dcontour": [
           {
            "colorbar": {
             "outlinewidth": 0,
             "ticks": ""
            },
            "colorscale": [
             [
              0,
              "#0d0887"
             ],
             [
              0.1111111111111111,
              "#46039f"
             ],
             [
              0.2222222222222222,
              "#7201a8"
             ],
             [
              0.3333333333333333,
              "#9c179e"
             ],
             [
              0.4444444444444444,
              "#bd3786"
             ],
             [
              0.5555555555555556,
              "#d8576b"
             ],
             [
              0.6666666666666666,
              "#ed7953"
             ],
             [
              0.7777777777777778,
              "#fb9f3a"
             ],
             [
              0.8888888888888888,
              "#fdca26"
             ],
             [
              1,
              "#f0f921"
             ]
            ],
            "type": "histogram2dcontour"
           }
          ],
          "mesh3d": [
           {
            "colorbar": {
             "outlinewidth": 0,
             "ticks": ""
            },
            "type": "mesh3d"
           }
          ],
          "parcoords": [
           {
            "line": {
             "colorbar": {
              "outlinewidth": 0,
              "ticks": ""
             }
            },
            "type": "parcoords"
           }
          ],
          "pie": [
           {
            "automargin": true,
            "type": "pie"
           }
          ],
          "scatter": [
           {
            "fillpattern": {
             "fillmode": "overlay",
             "size": 10,
             "solidity": 0.2
            },
            "type": "scatter"
           }
          ],
          "scatter3d": [
           {
            "line": {
             "colorbar": {
              "outlinewidth": 0,
              "ticks": ""
             }
            },
            "marker": {
             "colorbar": {
              "outlinewidth": 0,
              "ticks": ""
             }
            },
            "type": "scatter3d"
           }
          ],
          "scattercarpet": [
           {
            "marker": {
             "colorbar": {
              "outlinewidth": 0,
              "ticks": ""
             }
            },
            "type": "scattercarpet"
           }
          ],
          "scattergeo": [
           {
            "marker": {
             "colorbar": {
              "outlinewidth": 0,
              "ticks": ""
             }
            },
            "type": "scattergeo"
           }
          ],
          "scattergl": [
           {
            "marker": {
             "colorbar": {
              "outlinewidth": 0,
              "ticks": ""
             }
            },
            "type": "scattergl"
           }
          ],
          "scattermapbox": [
           {
            "marker": {
             "colorbar": {
              "outlinewidth": 0,
              "ticks": ""
             }
            },
            "type": "scattermapbox"
           }
          ],
          "scatterpolar": [
           {
            "marker": {
             "colorbar": {
              "outlinewidth": 0,
              "ticks": ""
             }
            },
            "type": "scatterpolar"
           }
          ],
          "scatterpolargl": [
           {
            "marker": {
             "colorbar": {
              "outlinewidth": 0,
              "ticks": ""
             }
            },
            "type": "scatterpolargl"
           }
          ],
          "scatterternary": [
           {
            "marker": {
             "colorbar": {
              "outlinewidth": 0,
              "ticks": ""
             }
            },
            "type": "scatterternary"
           }
          ],
          "surface": [
           {
            "colorbar": {
             "outlinewidth": 0,
             "ticks": ""
            },
            "colorscale": [
             [
              0,
              "#0d0887"
             ],
             [
              0.1111111111111111,
              "#46039f"
             ],
             [
              0.2222222222222222,
              "#7201a8"
             ],
             [
              0.3333333333333333,
              "#9c179e"
             ],
             [
              0.4444444444444444,
              "#bd3786"
             ],
             [
              0.5555555555555556,
              "#d8576b"
             ],
             [
              0.6666666666666666,
              "#ed7953"
             ],
             [
              0.7777777777777778,
              "#fb9f3a"
             ],
             [
              0.8888888888888888,
              "#fdca26"
             ],
             [
              1,
              "#f0f921"
             ]
            ],
            "type": "surface"
           }
          ],
          "table": [
           {
            "cells": {
             "fill": {
              "color": "#EBF0F8"
             },
             "line": {
              "color": "white"
             }
            },
            "header": {
             "fill": {
              "color": "#C8D4E3"
             },
             "line": {
              "color": "white"
             }
            },
            "type": "table"
           }
          ]
         },
         "layout": {
          "annotationdefaults": {
           "arrowcolor": "#2a3f5f",
           "arrowhead": 0,
           "arrowwidth": 1
          },
          "autotypenumbers": "strict",
          "coloraxis": {
           "colorbar": {
            "outlinewidth": 0,
            "ticks": ""
           }
          },
          "colorscale": {
           "diverging": [
            [
             0,
             "#8e0152"
            ],
            [
             0.1,
             "#c51b7d"
            ],
            [
             0.2,
             "#de77ae"
            ],
            [
             0.3,
             "#f1b6da"
            ],
            [
             0.4,
             "#fde0ef"
            ],
            [
             0.5,
             "#f7f7f7"
            ],
            [
             0.6,
             "#e6f5d0"
            ],
            [
             0.7,
             "#b8e186"
            ],
            [
             0.8,
             "#7fbc41"
            ],
            [
             0.9,
             "#4d9221"
            ],
            [
             1,
             "#276419"
            ]
           ],
           "sequential": [
            [
             0,
             "#0d0887"
            ],
            [
             0.1111111111111111,
             "#46039f"
            ],
            [
             0.2222222222222222,
             "#7201a8"
            ],
            [
             0.3333333333333333,
             "#9c179e"
            ],
            [
             0.4444444444444444,
             "#bd3786"
            ],
            [
             0.5555555555555556,
             "#d8576b"
            ],
            [
             0.6666666666666666,
             "#ed7953"
            ],
            [
             0.7777777777777778,
             "#fb9f3a"
            ],
            [
             0.8888888888888888,
             "#fdca26"
            ],
            [
             1,
             "#f0f921"
            ]
           ],
           "sequentialminus": [
            [
             0,
             "#0d0887"
            ],
            [
             0.1111111111111111,
             "#46039f"
            ],
            [
             0.2222222222222222,
             "#7201a8"
            ],
            [
             0.3333333333333333,
             "#9c179e"
            ],
            [
             0.4444444444444444,
             "#bd3786"
            ],
            [
             0.5555555555555556,
             "#d8576b"
            ],
            [
             0.6666666666666666,
             "#ed7953"
            ],
            [
             0.7777777777777778,
             "#fb9f3a"
            ],
            [
             0.8888888888888888,
             "#fdca26"
            ],
            [
             1,
             "#f0f921"
            ]
           ]
          },
          "colorway": [
           "#636efa",
           "#EF553B",
           "#00cc96",
           "#ab63fa",
           "#FFA15A",
           "#19d3f3",
           "#FF6692",
           "#B6E880",
           "#FF97FF",
           "#FECB52"
          ],
          "font": {
           "color": "#2a3f5f"
          },
          "geo": {
           "bgcolor": "white",
           "lakecolor": "white",
           "landcolor": "#E5ECF6",
           "showlakes": true,
           "showland": true,
           "subunitcolor": "white"
          },
          "hoverlabel": {
           "align": "left"
          },
          "hovermode": "closest",
          "mapbox": {
           "style": "light"
          },
          "paper_bgcolor": "white",
          "plot_bgcolor": "#E5ECF6",
          "polar": {
           "angularaxis": {
            "gridcolor": "white",
            "linecolor": "white",
            "ticks": ""
           },
           "bgcolor": "#E5ECF6",
           "radialaxis": {
            "gridcolor": "white",
            "linecolor": "white",
            "ticks": ""
           }
          },
          "scene": {
           "xaxis": {
            "backgroundcolor": "#E5ECF6",
            "gridcolor": "white",
            "gridwidth": 2,
            "linecolor": "white",
            "showbackground": true,
            "ticks": "",
            "zerolinecolor": "white"
           },
           "yaxis": {
            "backgroundcolor": "#E5ECF6",
            "gridcolor": "white",
            "gridwidth": 2,
            "linecolor": "white",
            "showbackground": true,
            "ticks": "",
            "zerolinecolor": "white"
           },
           "zaxis": {
            "backgroundcolor": "#E5ECF6",
            "gridcolor": "white",
            "gridwidth": 2,
            "linecolor": "white",
            "showbackground": true,
            "ticks": "",
            "zerolinecolor": "white"
           }
          },
          "shapedefaults": {
           "line": {
            "color": "#2a3f5f"
           }
          },
          "ternary": {
           "aaxis": {
            "gridcolor": "white",
            "linecolor": "white",
            "ticks": ""
           },
           "baxis": {
            "gridcolor": "white",
            "linecolor": "white",
            "ticks": ""
           },
           "bgcolor": "#E5ECF6",
           "caxis": {
            "gridcolor": "white",
            "linecolor": "white",
            "ticks": ""
           }
          },
          "title": {
           "x": 0.05
          },
          "xaxis": {
           "automargin": true,
           "gridcolor": "white",
           "linecolor": "white",
           "ticks": "",
           "title": {
            "standoff": 15
           },
           "zerolinecolor": "white",
           "zerolinewidth": 2
          },
          "yaxis": {
           "automargin": true,
           "gridcolor": "white",
           "linecolor": "white",
           "ticks": "",
           "title": {
            "standoff": 15
           },
           "zerolinecolor": "white",
           "zerolinewidth": 2
          }
         }
        },
        "title": {
         "text": "Common Negative Words"
        },
        "width": 500,
        "xaxis": {
         "anchor": "y",
         "categoryarray": [
          "flight",
          "delta",
          "americanair",
          "britishairways",
          "southwestair",
          "hour",
          "delayed",
          "service",
          "time",
          "seat"
         ],
         "categoryorder": "array",
         "domain": [
          0,
          1
         ],
         "title": {
          "text": "CommonWords"
         }
        },
        "yaxis": {
         "anchor": "x",
         "domain": [
          0,
          1
         ],
         "title": {
          "text": "Count"
         }
        }
       }
      },
      "text/html": [
       "<div>                            <div id=\"d02634e9-bede-4b98-a5fb-4036822ab0c1\" class=\"plotly-graph-div\" style=\"height:500px; width:500px;\"></div>            <script type=\"text/javascript\">                require([\"plotly\"], function(Plotly) {                    window.PLOTLYENV=window.PLOTLYENV || {};                                    if (document.getElementById(\"d02634e9-bede-4b98-a5fb-4036822ab0c1\")) {                    Plotly.newPlot(                        \"d02634e9-bede-4b98-a5fb-4036822ab0c1\",                        [{\"alignmentgroup\":\"True\",\"hovertemplate\":\"CommonWords=%{x}<br>Count=%{y}<extra></extra>\",\"legendgroup\":\"flight\",\"marker\":{\"color\":\"#636efa\",\"pattern\":{\"shape\":\"\"}},\"name\":\"flight\",\"offsetgroup\":\"flight\",\"orientation\":\"v\",\"showlegend\":true,\"textposition\":\"auto\",\"x\":[\"flight\"],\"xaxis\":\"x\",\"y\":[117441],\"yaxis\":\"y\",\"type\":\"bar\"},{\"alignmentgroup\":\"True\",\"hovertemplate\":\"CommonWords=%{x}<br>Count=%{y}<extra></extra>\",\"legendgroup\":\"delta\",\"marker\":{\"color\":\"#EF553B\",\"pattern\":{\"shape\":\"\"}},\"name\":\"delta\",\"offsetgroup\":\"delta\",\"orientation\":\"v\",\"showlegend\":true,\"textposition\":\"auto\",\"x\":[\"delta\"],\"xaxis\":\"x\",\"y\":[72922],\"yaxis\":\"y\",\"type\":\"bar\"},{\"alignmentgroup\":\"True\",\"hovertemplate\":\"CommonWords=%{x}<br>Count=%{y}<extra></extra>\",\"legendgroup\":\"americanair\",\"marker\":{\"color\":\"#00cc96\",\"pattern\":{\"shape\":\"\"}},\"name\":\"americanair\",\"offsetgroup\":\"americanair\",\"orientation\":\"v\",\"showlegend\":true,\"textposition\":\"auto\",\"x\":[\"americanair\"],\"xaxis\":\"x\",\"y\":[66957],\"yaxis\":\"y\",\"type\":\"bar\"},{\"alignmentgroup\":\"True\",\"hovertemplate\":\"CommonWords=%{x}<br>Count=%{y}<extra></extra>\",\"legendgroup\":\"britishairways\",\"marker\":{\"color\":\"#ab63fa\",\"pattern\":{\"shape\":\"\"}},\"name\":\"britishairways\",\"offsetgroup\":\"britishairways\",\"orientation\":\"v\",\"showlegend\":true,\"textposition\":\"auto\",\"x\":[\"britishairways\"],\"xaxis\":\"x\",\"y\":[49978],\"yaxis\":\"y\",\"type\":\"bar\"},{\"alignmentgroup\":\"True\",\"hovertemplate\":\"CommonWords=%{x}<br>Count=%{y}<extra></extra>\",\"legendgroup\":\"southwestair\",\"marker\":{\"color\":\"#FFA15A\",\"pattern\":{\"shape\":\"\"}},\"name\":\"southwestair\",\"offsetgroup\":\"southwestair\",\"orientation\":\"v\",\"showlegend\":true,\"textposition\":\"auto\",\"x\":[\"southwestair\"],\"xaxis\":\"x\",\"y\":[41820],\"yaxis\":\"y\",\"type\":\"bar\"},{\"alignmentgroup\":\"True\",\"hovertemplate\":\"CommonWords=%{x}<br>Count=%{y}<extra></extra>\",\"legendgroup\":\"hour\",\"marker\":{\"color\":\"#19d3f3\",\"pattern\":{\"shape\":\"\"}},\"name\":\"hour\",\"offsetgroup\":\"hour\",\"orientation\":\"v\",\"showlegend\":true,\"textposition\":\"auto\",\"x\":[\"hour\"],\"xaxis\":\"x\",\"y\":[26958],\"yaxis\":\"y\",\"type\":\"bar\"},{\"alignmentgroup\":\"True\",\"hovertemplate\":\"CommonWords=%{x}<br>Count=%{y}<extra></extra>\",\"legendgroup\":\"delayed\",\"marker\":{\"color\":\"#FF6692\",\"pattern\":{\"shape\":\"\"}},\"name\":\"delayed\",\"offsetgroup\":\"delayed\",\"orientation\":\"v\",\"showlegend\":true,\"textposition\":\"auto\",\"x\":[\"delayed\"],\"xaxis\":\"x\",\"y\":[24954],\"yaxis\":\"y\",\"type\":\"bar\"},{\"alignmentgroup\":\"True\",\"hovertemplate\":\"CommonWords=%{x}<br>Count=%{y}<extra></extra>\",\"legendgroup\":\"service\",\"marker\":{\"color\":\"#B6E880\",\"pattern\":{\"shape\":\"\"}},\"name\":\"service\",\"offsetgroup\":\"service\",\"orientation\":\"v\",\"showlegend\":true,\"textposition\":\"auto\",\"x\":[\"service\"],\"xaxis\":\"x\",\"y\":[24238],\"yaxis\":\"y\",\"type\":\"bar\"},{\"alignmentgroup\":\"True\",\"hovertemplate\":\"CommonWords=%{x}<br>Count=%{y}<extra></extra>\",\"legendgroup\":\"time\",\"marker\":{\"color\":\"#FF97FF\",\"pattern\":{\"shape\":\"\"}},\"name\":\"time\",\"offsetgroup\":\"time\",\"orientation\":\"v\",\"showlegend\":true,\"textposition\":\"auto\",\"x\":[\"time\"],\"xaxis\":\"x\",\"y\":[22093],\"yaxis\":\"y\",\"type\":\"bar\"},{\"alignmentgroup\":\"True\",\"hovertemplate\":\"CommonWords=%{x}<br>Count=%{y}<extra></extra>\",\"legendgroup\":\"seat\",\"marker\":{\"color\":\"#FECB52\",\"pattern\":{\"shape\":\"\"}},\"name\":\"seat\",\"offsetgroup\":\"seat\",\"orientation\":\"v\",\"showlegend\":true,\"textposition\":\"auto\",\"x\":[\"seat\"],\"xaxis\":\"x\",\"y\":[20564],\"yaxis\":\"y\",\"type\":\"bar\"}],                        {\"template\":{\"data\":{\"histogram2dcontour\":[{\"type\":\"histogram2dcontour\",\"colorbar\":{\"outlinewidth\":0,\"ticks\":\"\"},\"colorscale\":[[0.0,\"#0d0887\"],[0.1111111111111111,\"#46039f\"],[0.2222222222222222,\"#7201a8\"],[0.3333333333333333,\"#9c179e\"],[0.4444444444444444,\"#bd3786\"],[0.5555555555555556,\"#d8576b\"],[0.6666666666666666,\"#ed7953\"],[0.7777777777777778,\"#fb9f3a\"],[0.8888888888888888,\"#fdca26\"],[1.0,\"#f0f921\"]]}],\"choropleth\":[{\"type\":\"choropleth\",\"colorbar\":{\"outlinewidth\":0,\"ticks\":\"\"}}],\"histogram2d\":[{\"type\":\"histogram2d\",\"colorbar\":{\"outlinewidth\":0,\"ticks\":\"\"},\"colorscale\":[[0.0,\"#0d0887\"],[0.1111111111111111,\"#46039f\"],[0.2222222222222222,\"#7201a8\"],[0.3333333333333333,\"#9c179e\"],[0.4444444444444444,\"#bd3786\"],[0.5555555555555556,\"#d8576b\"],[0.6666666666666666,\"#ed7953\"],[0.7777777777777778,\"#fb9f3a\"],[0.8888888888888888,\"#fdca26\"],[1.0,\"#f0f921\"]]}],\"heatmap\":[{\"type\":\"heatmap\",\"colorbar\":{\"outlinewidth\":0,\"ticks\":\"\"},\"colorscale\":[[0.0,\"#0d0887\"],[0.1111111111111111,\"#46039f\"],[0.2222222222222222,\"#7201a8\"],[0.3333333333333333,\"#9c179e\"],[0.4444444444444444,\"#bd3786\"],[0.5555555555555556,\"#d8576b\"],[0.6666666666666666,\"#ed7953\"],[0.7777777777777778,\"#fb9f3a\"],[0.8888888888888888,\"#fdca26\"],[1.0,\"#f0f921\"]]}],\"heatmapgl\":[{\"type\":\"heatmapgl\",\"colorbar\":{\"outlinewidth\":0,\"ticks\":\"\"},\"colorscale\":[[0.0,\"#0d0887\"],[0.1111111111111111,\"#46039f\"],[0.2222222222222222,\"#7201a8\"],[0.3333333333333333,\"#9c179e\"],[0.4444444444444444,\"#bd3786\"],[0.5555555555555556,\"#d8576b\"],[0.6666666666666666,\"#ed7953\"],[0.7777777777777778,\"#fb9f3a\"],[0.8888888888888888,\"#fdca26\"],[1.0,\"#f0f921\"]]}],\"contourcarpet\":[{\"type\":\"contourcarpet\",\"colorbar\":{\"outlinewidth\":0,\"ticks\":\"\"}}],\"contour\":[{\"type\":\"contour\",\"colorbar\":{\"outlinewidth\":0,\"ticks\":\"\"},\"colorscale\":[[0.0,\"#0d0887\"],[0.1111111111111111,\"#46039f\"],[0.2222222222222222,\"#7201a8\"],[0.3333333333333333,\"#9c179e\"],[0.4444444444444444,\"#bd3786\"],[0.5555555555555556,\"#d8576b\"],[0.6666666666666666,\"#ed7953\"],[0.7777777777777778,\"#fb9f3a\"],[0.8888888888888888,\"#fdca26\"],[1.0,\"#f0f921\"]]}],\"surface\":[{\"type\":\"surface\",\"colorbar\":{\"outlinewidth\":0,\"ticks\":\"\"},\"colorscale\":[[0.0,\"#0d0887\"],[0.1111111111111111,\"#46039f\"],[0.2222222222222222,\"#7201a8\"],[0.3333333333333333,\"#9c179e\"],[0.4444444444444444,\"#bd3786\"],[0.5555555555555556,\"#d8576b\"],[0.6666666666666666,\"#ed7953\"],[0.7777777777777778,\"#fb9f3a\"],[0.8888888888888888,\"#fdca26\"],[1.0,\"#f0f921\"]]}],\"mesh3d\":[{\"type\":\"mesh3d\",\"colorbar\":{\"outlinewidth\":0,\"ticks\":\"\"}}],\"scatter\":[{\"fillpattern\":{\"fillmode\":\"overlay\",\"size\":10,\"solidity\":0.2},\"type\":\"scatter\"}],\"parcoords\":[{\"type\":\"parcoords\",\"line\":{\"colorbar\":{\"outlinewidth\":0,\"ticks\":\"\"}}}],\"scatterpolargl\":[{\"type\":\"scatterpolargl\",\"marker\":{\"colorbar\":{\"outlinewidth\":0,\"ticks\":\"\"}}}],\"bar\":[{\"error_x\":{\"color\":\"#2a3f5f\"},\"error_y\":{\"color\":\"#2a3f5f\"},\"marker\":{\"line\":{\"color\":\"#E5ECF6\",\"width\":0.5},\"pattern\":{\"fillmode\":\"overlay\",\"size\":10,\"solidity\":0.2}},\"type\":\"bar\"}],\"scattergeo\":[{\"type\":\"scattergeo\",\"marker\":{\"colorbar\":{\"outlinewidth\":0,\"ticks\":\"\"}}}],\"scatterpolar\":[{\"type\":\"scatterpolar\",\"marker\":{\"colorbar\":{\"outlinewidth\":0,\"ticks\":\"\"}}}],\"histogram\":[{\"marker\":{\"pattern\":{\"fillmode\":\"overlay\",\"size\":10,\"solidity\":0.2}},\"type\":\"histogram\"}],\"scattergl\":[{\"type\":\"scattergl\",\"marker\":{\"colorbar\":{\"outlinewidth\":0,\"ticks\":\"\"}}}],\"scatter3d\":[{\"type\":\"scatter3d\",\"line\":{\"colorbar\":{\"outlinewidth\":0,\"ticks\":\"\"}},\"marker\":{\"colorbar\":{\"outlinewidth\":0,\"ticks\":\"\"}}}],\"scattermapbox\":[{\"type\":\"scattermapbox\",\"marker\":{\"colorbar\":{\"outlinewidth\":0,\"ticks\":\"\"}}}],\"scatterternary\":[{\"type\":\"scatterternary\",\"marker\":{\"colorbar\":{\"outlinewidth\":0,\"ticks\":\"\"}}}],\"scattercarpet\":[{\"type\":\"scattercarpet\",\"marker\":{\"colorbar\":{\"outlinewidth\":0,\"ticks\":\"\"}}}],\"carpet\":[{\"aaxis\":{\"endlinecolor\":\"#2a3f5f\",\"gridcolor\":\"white\",\"linecolor\":\"white\",\"minorgridcolor\":\"white\",\"startlinecolor\":\"#2a3f5f\"},\"baxis\":{\"endlinecolor\":\"#2a3f5f\",\"gridcolor\":\"white\",\"linecolor\":\"white\",\"minorgridcolor\":\"white\",\"startlinecolor\":\"#2a3f5f\"},\"type\":\"carpet\"}],\"table\":[{\"cells\":{\"fill\":{\"color\":\"#EBF0F8\"},\"line\":{\"color\":\"white\"}},\"header\":{\"fill\":{\"color\":\"#C8D4E3\"},\"line\":{\"color\":\"white\"}},\"type\":\"table\"}],\"barpolar\":[{\"marker\":{\"line\":{\"color\":\"#E5ECF6\",\"width\":0.5},\"pattern\":{\"fillmode\":\"overlay\",\"size\":10,\"solidity\":0.2}},\"type\":\"barpolar\"}],\"pie\":[{\"automargin\":true,\"type\":\"pie\"}]},\"layout\":{\"autotypenumbers\":\"strict\",\"colorway\":[\"#636efa\",\"#EF553B\",\"#00cc96\",\"#ab63fa\",\"#FFA15A\",\"#19d3f3\",\"#FF6692\",\"#B6E880\",\"#FF97FF\",\"#FECB52\"],\"font\":{\"color\":\"#2a3f5f\"},\"hovermode\":\"closest\",\"hoverlabel\":{\"align\":\"left\"},\"paper_bgcolor\":\"white\",\"plot_bgcolor\":\"#E5ECF6\",\"polar\":{\"bgcolor\":\"#E5ECF6\",\"angularaxis\":{\"gridcolor\":\"white\",\"linecolor\":\"white\",\"ticks\":\"\"},\"radialaxis\":{\"gridcolor\":\"white\",\"linecolor\":\"white\",\"ticks\":\"\"}},\"ternary\":{\"bgcolor\":\"#E5ECF6\",\"aaxis\":{\"gridcolor\":\"white\",\"linecolor\":\"white\",\"ticks\":\"\"},\"baxis\":{\"gridcolor\":\"white\",\"linecolor\":\"white\",\"ticks\":\"\"},\"caxis\":{\"gridcolor\":\"white\",\"linecolor\":\"white\",\"ticks\":\"\"}},\"coloraxis\":{\"colorbar\":{\"outlinewidth\":0,\"ticks\":\"\"}},\"colorscale\":{\"sequential\":[[0.0,\"#0d0887\"],[0.1111111111111111,\"#46039f\"],[0.2222222222222222,\"#7201a8\"],[0.3333333333333333,\"#9c179e\"],[0.4444444444444444,\"#bd3786\"],[0.5555555555555556,\"#d8576b\"],[0.6666666666666666,\"#ed7953\"],[0.7777777777777778,\"#fb9f3a\"],[0.8888888888888888,\"#fdca26\"],[1.0,\"#f0f921\"]],\"sequentialminus\":[[0.0,\"#0d0887\"],[0.1111111111111111,\"#46039f\"],[0.2222222222222222,\"#7201a8\"],[0.3333333333333333,\"#9c179e\"],[0.4444444444444444,\"#bd3786\"],[0.5555555555555556,\"#d8576b\"],[0.6666666666666666,\"#ed7953\"],[0.7777777777777778,\"#fb9f3a\"],[0.8888888888888888,\"#fdca26\"],[1.0,\"#f0f921\"]],\"diverging\":[[0,\"#8e0152\"],[0.1,\"#c51b7d\"],[0.2,\"#de77ae\"],[0.3,\"#f1b6da\"],[0.4,\"#fde0ef\"],[0.5,\"#f7f7f7\"],[0.6,\"#e6f5d0\"],[0.7,\"#b8e186\"],[0.8,\"#7fbc41\"],[0.9,\"#4d9221\"],[1,\"#276419\"]]},\"xaxis\":{\"gridcolor\":\"white\",\"linecolor\":\"white\",\"ticks\":\"\",\"title\":{\"standoff\":15},\"zerolinecolor\":\"white\",\"automargin\":true,\"zerolinewidth\":2},\"yaxis\":{\"gridcolor\":\"white\",\"linecolor\":\"white\",\"ticks\":\"\",\"title\":{\"standoff\":15},\"zerolinecolor\":\"white\",\"automargin\":true,\"zerolinewidth\":2},\"scene\":{\"xaxis\":{\"backgroundcolor\":\"#E5ECF6\",\"gridcolor\":\"white\",\"linecolor\":\"white\",\"showbackground\":true,\"ticks\":\"\",\"zerolinecolor\":\"white\",\"gridwidth\":2},\"yaxis\":{\"backgroundcolor\":\"#E5ECF6\",\"gridcolor\":\"white\",\"linecolor\":\"white\",\"showbackground\":true,\"ticks\":\"\",\"zerolinecolor\":\"white\",\"gridwidth\":2},\"zaxis\":{\"backgroundcolor\":\"#E5ECF6\",\"gridcolor\":\"white\",\"linecolor\":\"white\",\"showbackground\":true,\"ticks\":\"\",\"zerolinecolor\":\"white\",\"gridwidth\":2}},\"shapedefaults\":{\"line\":{\"color\":\"#2a3f5f\"}},\"annotationdefaults\":{\"arrowcolor\":\"#2a3f5f\",\"arrowhead\":0,\"arrowwidth\":1},\"geo\":{\"bgcolor\":\"white\",\"landcolor\":\"#E5ECF6\",\"subunitcolor\":\"white\",\"showland\":true,\"showlakes\":true,\"lakecolor\":\"white\"},\"title\":{\"x\":0.05},\"mapbox\":{\"style\":\"light\"}}},\"xaxis\":{\"anchor\":\"y\",\"domain\":[0.0,1.0],\"title\":{\"text\":\"CommonWords\"},\"categoryorder\":\"array\",\"categoryarray\":[\"flight\",\"delta\",\"americanair\",\"britishairways\",\"southwestair\",\"hour\",\"delayed\",\"service\",\"time\",\"seat\"]},\"yaxis\":{\"anchor\":\"x\",\"domain\":[0.0,1.0],\"title\":{\"text\":\"Count\"}},\"legend\":{\"title\":{\"text\":\"CommonWords\"},\"tracegroupgap\":0},\"title\":{\"text\":\"Common Negative Words\"},\"barmode\":\"relative\",\"height\":500,\"width\":500},                        {\"responsive\": true}                    ).then(function(){\n",
       "                            \n",
       "var gd = document.getElementById('d02634e9-bede-4b98-a5fb-4036822ab0c1');\n",
       "var x = new MutationObserver(function (mutations, observer) {{\n",
       "        var display = window.getComputedStyle(gd).display;\n",
       "        if (!display || display === 'none') {{\n",
       "            console.log([gd, 'removed!']);\n",
       "            Plotly.purge(gd);\n",
       "            observer.disconnect();\n",
       "        }}\n",
       "}});\n",
       "\n",
       "// Listen for the removal of the full notebook cells\n",
       "var notebookContainer = gd.closest('#notebook-container');\n",
       "if (notebookContainer) {{\n",
       "    x.observe(notebookContainer, {childList: true});\n",
       "}}\n",
       "\n",
       "// Listen for the clearing of the current output cell\n",
       "var outputEl = gd.closest('.output');\n",
       "if (outputEl) {{\n",
       "    x.observe(outputEl, {childList: true});\n",
       "}}\n",
       "\n",
       "                        })                };                });            </script>        </div>"
      ]
     },
     "metadata": {},
     "output_type": "display_data"
    }
   ],
   "source": [
    "fig = px.bar(negativeWordsDF, x='CommonWords', y='Count', title='Common Negative Words', \n",
    "             orientation='v', width=500, height=500, color='CommonWords')\n",
    "fig.show()"
   ]
  },
  {
   "cell_type": "markdown",
   "id": "c7229e1d",
   "metadata": {},
   "source": [
    "#### Create dataframe to count most common words used in positive sentiments"
   ]
  },
  {
   "cell_type": "code",
   "execution_count": 60,
   "id": "7c6a170a",
   "metadata": {},
   "outputs": [
    {
     "data": {
      "text/html": [
       "<div>\n",
       "<style scoped>\n",
       "    .dataframe tbody tr th:only-of-type {\n",
       "        vertical-align: middle;\n",
       "    }\n",
       "\n",
       "    .dataframe tbody tr th {\n",
       "        vertical-align: top;\n",
       "    }\n",
       "\n",
       "    .dataframe thead th {\n",
       "        text-align: right;\n",
       "    }\n",
       "</style>\n",
       "<table border=\"1\" class=\"dataframe\">\n",
       "  <thead>\n",
       "    <tr style=\"text-align: right;\">\n",
       "      <th></th>\n",
       "      <th>CommonWords</th>\n",
       "      <th>Count</th>\n",
       "    </tr>\n",
       "  </thead>\n",
       "  <tbody>\n",
       "    <tr>\n",
       "      <th>0</th>\n",
       "      <td>flight</td>\n",
       "      <td>137886</td>\n",
       "    </tr>\n",
       "    <tr>\n",
       "      <th>1</th>\n",
       "      <td>delta</td>\n",
       "      <td>88148</td>\n",
       "    </tr>\n",
       "    <tr>\n",
       "      <th>2</th>\n",
       "      <td>americanair</td>\n",
       "      <td>77826</td>\n",
       "    </tr>\n",
       "    <tr>\n",
       "      <th>3</th>\n",
       "      <td>britishairways</td>\n",
       "      <td>58664</td>\n",
       "    </tr>\n",
       "    <tr>\n",
       "      <th>4</th>\n",
       "      <td>southwestair</td>\n",
       "      <td>53166</td>\n",
       "    </tr>\n",
       "    <tr>\n",
       "      <th>5</th>\n",
       "      <td>hour</td>\n",
       "      <td>29430</td>\n",
       "    </tr>\n",
       "    <tr>\n",
       "      <th>6</th>\n",
       "      <td>service</td>\n",
       "      <td>28298</td>\n",
       "    </tr>\n",
       "    <tr>\n",
       "      <th>7</th>\n",
       "      <td>delayed</td>\n",
       "      <td>26298</td>\n",
       "    </tr>\n",
       "    <tr>\n",
       "      <th>8</th>\n",
       "      <td>time</td>\n",
       "      <td>25580</td>\n",
       "    </tr>\n",
       "    <tr>\n",
       "      <th>9</th>\n",
       "      <td>seat</td>\n",
       "      <td>23842</td>\n",
       "    </tr>\n",
       "  </tbody>\n",
       "</table>\n",
       "</div>"
      ],
      "text/plain": [
       "      CommonWords   Count\n",
       "0          flight  137886\n",
       "1           delta   88148\n",
       "2     americanair   77826\n",
       "3  britishairways   58664\n",
       "4    southwestair   53166\n",
       "5            hour   29430\n",
       "6         service   28298\n",
       "7         delayed   26298\n",
       "8            time   25580\n",
       "9            seat   23842"
      ]
     },
     "execution_count": 60,
     "metadata": {},
     "output_type": "execute_result"
    }
   ],
   "source": [
    "# Positive Words Dataframe\n",
    "positiveeWordsDF = pd.DataFrame(mostCommon(positiveSentiment['text_x']))\n",
    "positiveeWordsDF.columns = ['CommonWords', 'Count']\n",
    "positiveeWordsDF"
   ]
  },
  {
   "cell_type": "markdown",
   "id": "f74eea3b",
   "metadata": {},
   "source": [
    "#### Display words on graph"
   ]
  },
  {
   "cell_type": "code",
   "execution_count": 62,
   "id": "782e68ee",
   "metadata": {},
   "outputs": [
    {
     "data": {
      "application/vnd.plotly.v1+json": {
       "config": {
        "plotlyServerURL": "https://plot.ly"
       },
       "data": [
        {
         "alignmentgroup": "True",
         "hovertemplate": "CommonWords=%{x}<br>Count=%{y}<extra></extra>",
         "legendgroup": "flight",
         "marker": {
          "color": "#636efa",
          "pattern": {
           "shape": ""
          }
         },
         "name": "flight",
         "offsetgroup": "flight",
         "orientation": "v",
         "showlegend": true,
         "textposition": "auto",
         "type": "bar",
         "x": [
          "flight"
         ],
         "xaxis": "x",
         "y": [
          137886
         ],
         "yaxis": "y"
        },
        {
         "alignmentgroup": "True",
         "hovertemplate": "CommonWords=%{x}<br>Count=%{y}<extra></extra>",
         "legendgroup": "delta",
         "marker": {
          "color": "#EF553B",
          "pattern": {
           "shape": ""
          }
         },
         "name": "delta",
         "offsetgroup": "delta",
         "orientation": "v",
         "showlegend": true,
         "textposition": "auto",
         "type": "bar",
         "x": [
          "delta"
         ],
         "xaxis": "x",
         "y": [
          88148
         ],
         "yaxis": "y"
        },
        {
         "alignmentgroup": "True",
         "hovertemplate": "CommonWords=%{x}<br>Count=%{y}<extra></extra>",
         "legendgroup": "americanair",
         "marker": {
          "color": "#00cc96",
          "pattern": {
           "shape": ""
          }
         },
         "name": "americanair",
         "offsetgroup": "americanair",
         "orientation": "v",
         "showlegend": true,
         "textposition": "auto",
         "type": "bar",
         "x": [
          "americanair"
         ],
         "xaxis": "x",
         "y": [
          77826
         ],
         "yaxis": "y"
        },
        {
         "alignmentgroup": "True",
         "hovertemplate": "CommonWords=%{x}<br>Count=%{y}<extra></extra>",
         "legendgroup": "britishairways",
         "marker": {
          "color": "#ab63fa",
          "pattern": {
           "shape": ""
          }
         },
         "name": "britishairways",
         "offsetgroup": "britishairways",
         "orientation": "v",
         "showlegend": true,
         "textposition": "auto",
         "type": "bar",
         "x": [
          "britishairways"
         ],
         "xaxis": "x",
         "y": [
          58664
         ],
         "yaxis": "y"
        },
        {
         "alignmentgroup": "True",
         "hovertemplate": "CommonWords=%{x}<br>Count=%{y}<extra></extra>",
         "legendgroup": "southwestair",
         "marker": {
          "color": "#FFA15A",
          "pattern": {
           "shape": ""
          }
         },
         "name": "southwestair",
         "offsetgroup": "southwestair",
         "orientation": "v",
         "showlegend": true,
         "textposition": "auto",
         "type": "bar",
         "x": [
          "southwestair"
         ],
         "xaxis": "x",
         "y": [
          53166
         ],
         "yaxis": "y"
        },
        {
         "alignmentgroup": "True",
         "hovertemplate": "CommonWords=%{x}<br>Count=%{y}<extra></extra>",
         "legendgroup": "hour",
         "marker": {
          "color": "#19d3f3",
          "pattern": {
           "shape": ""
          }
         },
         "name": "hour",
         "offsetgroup": "hour",
         "orientation": "v",
         "showlegend": true,
         "textposition": "auto",
         "type": "bar",
         "x": [
          "hour"
         ],
         "xaxis": "x",
         "y": [
          29430
         ],
         "yaxis": "y"
        },
        {
         "alignmentgroup": "True",
         "hovertemplate": "CommonWords=%{x}<br>Count=%{y}<extra></extra>",
         "legendgroup": "service",
         "marker": {
          "color": "#FF6692",
          "pattern": {
           "shape": ""
          }
         },
         "name": "service",
         "offsetgroup": "service",
         "orientation": "v",
         "showlegend": true,
         "textposition": "auto",
         "type": "bar",
         "x": [
          "service"
         ],
         "xaxis": "x",
         "y": [
          28298
         ],
         "yaxis": "y"
        },
        {
         "alignmentgroup": "True",
         "hovertemplate": "CommonWords=%{x}<br>Count=%{y}<extra></extra>",
         "legendgroup": "delayed",
         "marker": {
          "color": "#B6E880",
          "pattern": {
           "shape": ""
          }
         },
         "name": "delayed",
         "offsetgroup": "delayed",
         "orientation": "v",
         "showlegend": true,
         "textposition": "auto",
         "type": "bar",
         "x": [
          "delayed"
         ],
         "xaxis": "x",
         "y": [
          26298
         ],
         "yaxis": "y"
        },
        {
         "alignmentgroup": "True",
         "hovertemplate": "CommonWords=%{x}<br>Count=%{y}<extra></extra>",
         "legendgroup": "time",
         "marker": {
          "color": "#FF97FF",
          "pattern": {
           "shape": ""
          }
         },
         "name": "time",
         "offsetgroup": "time",
         "orientation": "v",
         "showlegend": true,
         "textposition": "auto",
         "type": "bar",
         "x": [
          "time"
         ],
         "xaxis": "x",
         "y": [
          25580
         ],
         "yaxis": "y"
        },
        {
         "alignmentgroup": "True",
         "hovertemplate": "CommonWords=%{x}<br>Count=%{y}<extra></extra>",
         "legendgroup": "seat",
         "marker": {
          "color": "#FECB52",
          "pattern": {
           "shape": ""
          }
         },
         "name": "seat",
         "offsetgroup": "seat",
         "orientation": "v",
         "showlegend": true,
         "textposition": "auto",
         "type": "bar",
         "x": [
          "seat"
         ],
         "xaxis": "x",
         "y": [
          23842
         ],
         "yaxis": "y"
        }
       ],
       "layout": {
        "barmode": "relative",
        "height": 500,
        "legend": {
         "title": {
          "text": "CommonWords"
         },
         "tracegroupgap": 0
        },
        "template": {
         "data": {
          "bar": [
           {
            "error_x": {
             "color": "#2a3f5f"
            },
            "error_y": {
             "color": "#2a3f5f"
            },
            "marker": {
             "line": {
              "color": "#E5ECF6",
              "width": 0.5
             },
             "pattern": {
              "fillmode": "overlay",
              "size": 10,
              "solidity": 0.2
             }
            },
            "type": "bar"
           }
          ],
          "barpolar": [
           {
            "marker": {
             "line": {
              "color": "#E5ECF6",
              "width": 0.5
             },
             "pattern": {
              "fillmode": "overlay",
              "size": 10,
              "solidity": 0.2
             }
            },
            "type": "barpolar"
           }
          ],
          "carpet": [
           {
            "aaxis": {
             "endlinecolor": "#2a3f5f",
             "gridcolor": "white",
             "linecolor": "white",
             "minorgridcolor": "white",
             "startlinecolor": "#2a3f5f"
            },
            "baxis": {
             "endlinecolor": "#2a3f5f",
             "gridcolor": "white",
             "linecolor": "white",
             "minorgridcolor": "white",
             "startlinecolor": "#2a3f5f"
            },
            "type": "carpet"
           }
          ],
          "choropleth": [
           {
            "colorbar": {
             "outlinewidth": 0,
             "ticks": ""
            },
            "type": "choropleth"
           }
          ],
          "contour": [
           {
            "colorbar": {
             "outlinewidth": 0,
             "ticks": ""
            },
            "colorscale": [
             [
              0,
              "#0d0887"
             ],
             [
              0.1111111111111111,
              "#46039f"
             ],
             [
              0.2222222222222222,
              "#7201a8"
             ],
             [
              0.3333333333333333,
              "#9c179e"
             ],
             [
              0.4444444444444444,
              "#bd3786"
             ],
             [
              0.5555555555555556,
              "#d8576b"
             ],
             [
              0.6666666666666666,
              "#ed7953"
             ],
             [
              0.7777777777777778,
              "#fb9f3a"
             ],
             [
              0.8888888888888888,
              "#fdca26"
             ],
             [
              1,
              "#f0f921"
             ]
            ],
            "type": "contour"
           }
          ],
          "contourcarpet": [
           {
            "colorbar": {
             "outlinewidth": 0,
             "ticks": ""
            },
            "type": "contourcarpet"
           }
          ],
          "heatmap": [
           {
            "colorbar": {
             "outlinewidth": 0,
             "ticks": ""
            },
            "colorscale": [
             [
              0,
              "#0d0887"
             ],
             [
              0.1111111111111111,
              "#46039f"
             ],
             [
              0.2222222222222222,
              "#7201a8"
             ],
             [
              0.3333333333333333,
              "#9c179e"
             ],
             [
              0.4444444444444444,
              "#bd3786"
             ],
             [
              0.5555555555555556,
              "#d8576b"
             ],
             [
              0.6666666666666666,
              "#ed7953"
             ],
             [
              0.7777777777777778,
              "#fb9f3a"
             ],
             [
              0.8888888888888888,
              "#fdca26"
             ],
             [
              1,
              "#f0f921"
             ]
            ],
            "type": "heatmap"
           }
          ],
          "heatmapgl": [
           {
            "colorbar": {
             "outlinewidth": 0,
             "ticks": ""
            },
            "colorscale": [
             [
              0,
              "#0d0887"
             ],
             [
              0.1111111111111111,
              "#46039f"
             ],
             [
              0.2222222222222222,
              "#7201a8"
             ],
             [
              0.3333333333333333,
              "#9c179e"
             ],
             [
              0.4444444444444444,
              "#bd3786"
             ],
             [
              0.5555555555555556,
              "#d8576b"
             ],
             [
              0.6666666666666666,
              "#ed7953"
             ],
             [
              0.7777777777777778,
              "#fb9f3a"
             ],
             [
              0.8888888888888888,
              "#fdca26"
             ],
             [
              1,
              "#f0f921"
             ]
            ],
            "type": "heatmapgl"
           }
          ],
          "histogram": [
           {
            "marker": {
             "pattern": {
              "fillmode": "overlay",
              "size": 10,
              "solidity": 0.2
             }
            },
            "type": "histogram"
           }
          ],
          "histogram2d": [
           {
            "colorbar": {
             "outlinewidth": 0,
             "ticks": ""
            },
            "colorscale": [
             [
              0,
              "#0d0887"
             ],
             [
              0.1111111111111111,
              "#46039f"
             ],
             [
              0.2222222222222222,
              "#7201a8"
             ],
             [
              0.3333333333333333,
              "#9c179e"
             ],
             [
              0.4444444444444444,
              "#bd3786"
             ],
             [
              0.5555555555555556,
              "#d8576b"
             ],
             [
              0.6666666666666666,
              "#ed7953"
             ],
             [
              0.7777777777777778,
              "#fb9f3a"
             ],
             [
              0.8888888888888888,
              "#fdca26"
             ],
             [
              1,
              "#f0f921"
             ]
            ],
            "type": "histogram2d"
           }
          ],
          "histogram2dcontour": [
           {
            "colorbar": {
             "outlinewidth": 0,
             "ticks": ""
            },
            "colorscale": [
             [
              0,
              "#0d0887"
             ],
             [
              0.1111111111111111,
              "#46039f"
             ],
             [
              0.2222222222222222,
              "#7201a8"
             ],
             [
              0.3333333333333333,
              "#9c179e"
             ],
             [
              0.4444444444444444,
              "#bd3786"
             ],
             [
              0.5555555555555556,
              "#d8576b"
             ],
             [
              0.6666666666666666,
              "#ed7953"
             ],
             [
              0.7777777777777778,
              "#fb9f3a"
             ],
             [
              0.8888888888888888,
              "#fdca26"
             ],
             [
              1,
              "#f0f921"
             ]
            ],
            "type": "histogram2dcontour"
           }
          ],
          "mesh3d": [
           {
            "colorbar": {
             "outlinewidth": 0,
             "ticks": ""
            },
            "type": "mesh3d"
           }
          ],
          "parcoords": [
           {
            "line": {
             "colorbar": {
              "outlinewidth": 0,
              "ticks": ""
             }
            },
            "type": "parcoords"
           }
          ],
          "pie": [
           {
            "automargin": true,
            "type": "pie"
           }
          ],
          "scatter": [
           {
            "fillpattern": {
             "fillmode": "overlay",
             "size": 10,
             "solidity": 0.2
            },
            "type": "scatter"
           }
          ],
          "scatter3d": [
           {
            "line": {
             "colorbar": {
              "outlinewidth": 0,
              "ticks": ""
             }
            },
            "marker": {
             "colorbar": {
              "outlinewidth": 0,
              "ticks": ""
             }
            },
            "type": "scatter3d"
           }
          ],
          "scattercarpet": [
           {
            "marker": {
             "colorbar": {
              "outlinewidth": 0,
              "ticks": ""
             }
            },
            "type": "scattercarpet"
           }
          ],
          "scattergeo": [
           {
            "marker": {
             "colorbar": {
              "outlinewidth": 0,
              "ticks": ""
             }
            },
            "type": "scattergeo"
           }
          ],
          "scattergl": [
           {
            "marker": {
             "colorbar": {
              "outlinewidth": 0,
              "ticks": ""
             }
            },
            "type": "scattergl"
           }
          ],
          "scattermapbox": [
           {
            "marker": {
             "colorbar": {
              "outlinewidth": 0,
              "ticks": ""
             }
            },
            "type": "scattermapbox"
           }
          ],
          "scatterpolar": [
           {
            "marker": {
             "colorbar": {
              "outlinewidth": 0,
              "ticks": ""
             }
            },
            "type": "scatterpolar"
           }
          ],
          "scatterpolargl": [
           {
            "marker": {
             "colorbar": {
              "outlinewidth": 0,
              "ticks": ""
             }
            },
            "type": "scatterpolargl"
           }
          ],
          "scatterternary": [
           {
            "marker": {
             "colorbar": {
              "outlinewidth": 0,
              "ticks": ""
             }
            },
            "type": "scatterternary"
           }
          ],
          "surface": [
           {
            "colorbar": {
             "outlinewidth": 0,
             "ticks": ""
            },
            "colorscale": [
             [
              0,
              "#0d0887"
             ],
             [
              0.1111111111111111,
              "#46039f"
             ],
             [
              0.2222222222222222,
              "#7201a8"
             ],
             [
              0.3333333333333333,
              "#9c179e"
             ],
             [
              0.4444444444444444,
              "#bd3786"
             ],
             [
              0.5555555555555556,
              "#d8576b"
             ],
             [
              0.6666666666666666,
              "#ed7953"
             ],
             [
              0.7777777777777778,
              "#fb9f3a"
             ],
             [
              0.8888888888888888,
              "#fdca26"
             ],
             [
              1,
              "#f0f921"
             ]
            ],
            "type": "surface"
           }
          ],
          "table": [
           {
            "cells": {
             "fill": {
              "color": "#EBF0F8"
             },
             "line": {
              "color": "white"
             }
            },
            "header": {
             "fill": {
              "color": "#C8D4E3"
             },
             "line": {
              "color": "white"
             }
            },
            "type": "table"
           }
          ]
         },
         "layout": {
          "annotationdefaults": {
           "arrowcolor": "#2a3f5f",
           "arrowhead": 0,
           "arrowwidth": 1
          },
          "autotypenumbers": "strict",
          "coloraxis": {
           "colorbar": {
            "outlinewidth": 0,
            "ticks": ""
           }
          },
          "colorscale": {
           "diverging": [
            [
             0,
             "#8e0152"
            ],
            [
             0.1,
             "#c51b7d"
            ],
            [
             0.2,
             "#de77ae"
            ],
            [
             0.3,
             "#f1b6da"
            ],
            [
             0.4,
             "#fde0ef"
            ],
            [
             0.5,
             "#f7f7f7"
            ],
            [
             0.6,
             "#e6f5d0"
            ],
            [
             0.7,
             "#b8e186"
            ],
            [
             0.8,
             "#7fbc41"
            ],
            [
             0.9,
             "#4d9221"
            ],
            [
             1,
             "#276419"
            ]
           ],
           "sequential": [
            [
             0,
             "#0d0887"
            ],
            [
             0.1111111111111111,
             "#46039f"
            ],
            [
             0.2222222222222222,
             "#7201a8"
            ],
            [
             0.3333333333333333,
             "#9c179e"
            ],
            [
             0.4444444444444444,
             "#bd3786"
            ],
            [
             0.5555555555555556,
             "#d8576b"
            ],
            [
             0.6666666666666666,
             "#ed7953"
            ],
            [
             0.7777777777777778,
             "#fb9f3a"
            ],
            [
             0.8888888888888888,
             "#fdca26"
            ],
            [
             1,
             "#f0f921"
            ]
           ],
           "sequentialminus": [
            [
             0,
             "#0d0887"
            ],
            [
             0.1111111111111111,
             "#46039f"
            ],
            [
             0.2222222222222222,
             "#7201a8"
            ],
            [
             0.3333333333333333,
             "#9c179e"
            ],
            [
             0.4444444444444444,
             "#bd3786"
            ],
            [
             0.5555555555555556,
             "#d8576b"
            ],
            [
             0.6666666666666666,
             "#ed7953"
            ],
            [
             0.7777777777777778,
             "#fb9f3a"
            ],
            [
             0.8888888888888888,
             "#fdca26"
            ],
            [
             1,
             "#f0f921"
            ]
           ]
          },
          "colorway": [
           "#636efa",
           "#EF553B",
           "#00cc96",
           "#ab63fa",
           "#FFA15A",
           "#19d3f3",
           "#FF6692",
           "#B6E880",
           "#FF97FF",
           "#FECB52"
          ],
          "font": {
           "color": "#2a3f5f"
          },
          "geo": {
           "bgcolor": "white",
           "lakecolor": "white",
           "landcolor": "#E5ECF6",
           "showlakes": true,
           "showland": true,
           "subunitcolor": "white"
          },
          "hoverlabel": {
           "align": "left"
          },
          "hovermode": "closest",
          "mapbox": {
           "style": "light"
          },
          "paper_bgcolor": "white",
          "plot_bgcolor": "#E5ECF6",
          "polar": {
           "angularaxis": {
            "gridcolor": "white",
            "linecolor": "white",
            "ticks": ""
           },
           "bgcolor": "#E5ECF6",
           "radialaxis": {
            "gridcolor": "white",
            "linecolor": "white",
            "ticks": ""
           }
          },
          "scene": {
           "xaxis": {
            "backgroundcolor": "#E5ECF6",
            "gridcolor": "white",
            "gridwidth": 2,
            "linecolor": "white",
            "showbackground": true,
            "ticks": "",
            "zerolinecolor": "white"
           },
           "yaxis": {
            "backgroundcolor": "#E5ECF6",
            "gridcolor": "white",
            "gridwidth": 2,
            "linecolor": "white",
            "showbackground": true,
            "ticks": "",
            "zerolinecolor": "white"
           },
           "zaxis": {
            "backgroundcolor": "#E5ECF6",
            "gridcolor": "white",
            "gridwidth": 2,
            "linecolor": "white",
            "showbackground": true,
            "ticks": "",
            "zerolinecolor": "white"
           }
          },
          "shapedefaults": {
           "line": {
            "color": "#2a3f5f"
           }
          },
          "ternary": {
           "aaxis": {
            "gridcolor": "white",
            "linecolor": "white",
            "ticks": ""
           },
           "baxis": {
            "gridcolor": "white",
            "linecolor": "white",
            "ticks": ""
           },
           "bgcolor": "#E5ECF6",
           "caxis": {
            "gridcolor": "white",
            "linecolor": "white",
            "ticks": ""
           }
          },
          "title": {
           "x": 0.05
          },
          "xaxis": {
           "automargin": true,
           "gridcolor": "white",
           "linecolor": "white",
           "ticks": "",
           "title": {
            "standoff": 15
           },
           "zerolinecolor": "white",
           "zerolinewidth": 2
          },
          "yaxis": {
           "automargin": true,
           "gridcolor": "white",
           "linecolor": "white",
           "ticks": "",
           "title": {
            "standoff": 15
           },
           "zerolinecolor": "white",
           "zerolinewidth": 2
          }
         }
        },
        "title": {
         "text": "Common Positive Words"
        },
        "width": 500,
        "xaxis": {
         "anchor": "y",
         "categoryarray": [
          "flight",
          "delta",
          "americanair",
          "britishairways",
          "southwestair",
          "hour",
          "service",
          "delayed",
          "time",
          "seat"
         ],
         "categoryorder": "array",
         "domain": [
          0,
          1
         ],
         "title": {
          "text": "CommonWords"
         }
        },
        "yaxis": {
         "anchor": "x",
         "domain": [
          0,
          1
         ],
         "title": {
          "text": "Count"
         }
        }
       }
      },
      "text/html": [
       "<div>                            <div id=\"dfc75895-afad-4f68-b283-0e44bfb402f8\" class=\"plotly-graph-div\" style=\"height:500px; width:500px;\"></div>            <script type=\"text/javascript\">                require([\"plotly\"], function(Plotly) {                    window.PLOTLYENV=window.PLOTLYENV || {};                                    if (document.getElementById(\"dfc75895-afad-4f68-b283-0e44bfb402f8\")) {                    Plotly.newPlot(                        \"dfc75895-afad-4f68-b283-0e44bfb402f8\",                        [{\"alignmentgroup\":\"True\",\"hovertemplate\":\"CommonWords=%{x}<br>Count=%{y}<extra></extra>\",\"legendgroup\":\"flight\",\"marker\":{\"color\":\"#636efa\",\"pattern\":{\"shape\":\"\"}},\"name\":\"flight\",\"offsetgroup\":\"flight\",\"orientation\":\"v\",\"showlegend\":true,\"textposition\":\"auto\",\"x\":[\"flight\"],\"xaxis\":\"x\",\"y\":[137886],\"yaxis\":\"y\",\"type\":\"bar\"},{\"alignmentgroup\":\"True\",\"hovertemplate\":\"CommonWords=%{x}<br>Count=%{y}<extra></extra>\",\"legendgroup\":\"delta\",\"marker\":{\"color\":\"#EF553B\",\"pattern\":{\"shape\":\"\"}},\"name\":\"delta\",\"offsetgroup\":\"delta\",\"orientation\":\"v\",\"showlegend\":true,\"textposition\":\"auto\",\"x\":[\"delta\"],\"xaxis\":\"x\",\"y\":[88148],\"yaxis\":\"y\",\"type\":\"bar\"},{\"alignmentgroup\":\"True\",\"hovertemplate\":\"CommonWords=%{x}<br>Count=%{y}<extra></extra>\",\"legendgroup\":\"americanair\",\"marker\":{\"color\":\"#00cc96\",\"pattern\":{\"shape\":\"\"}},\"name\":\"americanair\",\"offsetgroup\":\"americanair\",\"orientation\":\"v\",\"showlegend\":true,\"textposition\":\"auto\",\"x\":[\"americanair\"],\"xaxis\":\"x\",\"y\":[77826],\"yaxis\":\"y\",\"type\":\"bar\"},{\"alignmentgroup\":\"True\",\"hovertemplate\":\"CommonWords=%{x}<br>Count=%{y}<extra></extra>\",\"legendgroup\":\"britishairways\",\"marker\":{\"color\":\"#ab63fa\",\"pattern\":{\"shape\":\"\"}},\"name\":\"britishairways\",\"offsetgroup\":\"britishairways\",\"orientation\":\"v\",\"showlegend\":true,\"textposition\":\"auto\",\"x\":[\"britishairways\"],\"xaxis\":\"x\",\"y\":[58664],\"yaxis\":\"y\",\"type\":\"bar\"},{\"alignmentgroup\":\"True\",\"hovertemplate\":\"CommonWords=%{x}<br>Count=%{y}<extra></extra>\",\"legendgroup\":\"southwestair\",\"marker\":{\"color\":\"#FFA15A\",\"pattern\":{\"shape\":\"\"}},\"name\":\"southwestair\",\"offsetgroup\":\"southwestair\",\"orientation\":\"v\",\"showlegend\":true,\"textposition\":\"auto\",\"x\":[\"southwestair\"],\"xaxis\":\"x\",\"y\":[53166],\"yaxis\":\"y\",\"type\":\"bar\"},{\"alignmentgroup\":\"True\",\"hovertemplate\":\"CommonWords=%{x}<br>Count=%{y}<extra></extra>\",\"legendgroup\":\"hour\",\"marker\":{\"color\":\"#19d3f3\",\"pattern\":{\"shape\":\"\"}},\"name\":\"hour\",\"offsetgroup\":\"hour\",\"orientation\":\"v\",\"showlegend\":true,\"textposition\":\"auto\",\"x\":[\"hour\"],\"xaxis\":\"x\",\"y\":[29430],\"yaxis\":\"y\",\"type\":\"bar\"},{\"alignmentgroup\":\"True\",\"hovertemplate\":\"CommonWords=%{x}<br>Count=%{y}<extra></extra>\",\"legendgroup\":\"service\",\"marker\":{\"color\":\"#FF6692\",\"pattern\":{\"shape\":\"\"}},\"name\":\"service\",\"offsetgroup\":\"service\",\"orientation\":\"v\",\"showlegend\":true,\"textposition\":\"auto\",\"x\":[\"service\"],\"xaxis\":\"x\",\"y\":[28298],\"yaxis\":\"y\",\"type\":\"bar\"},{\"alignmentgroup\":\"True\",\"hovertemplate\":\"CommonWords=%{x}<br>Count=%{y}<extra></extra>\",\"legendgroup\":\"delayed\",\"marker\":{\"color\":\"#B6E880\",\"pattern\":{\"shape\":\"\"}},\"name\":\"delayed\",\"offsetgroup\":\"delayed\",\"orientation\":\"v\",\"showlegend\":true,\"textposition\":\"auto\",\"x\":[\"delayed\"],\"xaxis\":\"x\",\"y\":[26298],\"yaxis\":\"y\",\"type\":\"bar\"},{\"alignmentgroup\":\"True\",\"hovertemplate\":\"CommonWords=%{x}<br>Count=%{y}<extra></extra>\",\"legendgroup\":\"time\",\"marker\":{\"color\":\"#FF97FF\",\"pattern\":{\"shape\":\"\"}},\"name\":\"time\",\"offsetgroup\":\"time\",\"orientation\":\"v\",\"showlegend\":true,\"textposition\":\"auto\",\"x\":[\"time\"],\"xaxis\":\"x\",\"y\":[25580],\"yaxis\":\"y\",\"type\":\"bar\"},{\"alignmentgroup\":\"True\",\"hovertemplate\":\"CommonWords=%{x}<br>Count=%{y}<extra></extra>\",\"legendgroup\":\"seat\",\"marker\":{\"color\":\"#FECB52\",\"pattern\":{\"shape\":\"\"}},\"name\":\"seat\",\"offsetgroup\":\"seat\",\"orientation\":\"v\",\"showlegend\":true,\"textposition\":\"auto\",\"x\":[\"seat\"],\"xaxis\":\"x\",\"y\":[23842],\"yaxis\":\"y\",\"type\":\"bar\"}],                        {\"template\":{\"data\":{\"histogram2dcontour\":[{\"type\":\"histogram2dcontour\",\"colorbar\":{\"outlinewidth\":0,\"ticks\":\"\"},\"colorscale\":[[0.0,\"#0d0887\"],[0.1111111111111111,\"#46039f\"],[0.2222222222222222,\"#7201a8\"],[0.3333333333333333,\"#9c179e\"],[0.4444444444444444,\"#bd3786\"],[0.5555555555555556,\"#d8576b\"],[0.6666666666666666,\"#ed7953\"],[0.7777777777777778,\"#fb9f3a\"],[0.8888888888888888,\"#fdca26\"],[1.0,\"#f0f921\"]]}],\"choropleth\":[{\"type\":\"choropleth\",\"colorbar\":{\"outlinewidth\":0,\"ticks\":\"\"}}],\"histogram2d\":[{\"type\":\"histogram2d\",\"colorbar\":{\"outlinewidth\":0,\"ticks\":\"\"},\"colorscale\":[[0.0,\"#0d0887\"],[0.1111111111111111,\"#46039f\"],[0.2222222222222222,\"#7201a8\"],[0.3333333333333333,\"#9c179e\"],[0.4444444444444444,\"#bd3786\"],[0.5555555555555556,\"#d8576b\"],[0.6666666666666666,\"#ed7953\"],[0.7777777777777778,\"#fb9f3a\"],[0.8888888888888888,\"#fdca26\"],[1.0,\"#f0f921\"]]}],\"heatmap\":[{\"type\":\"heatmap\",\"colorbar\":{\"outlinewidth\":0,\"ticks\":\"\"},\"colorscale\":[[0.0,\"#0d0887\"],[0.1111111111111111,\"#46039f\"],[0.2222222222222222,\"#7201a8\"],[0.3333333333333333,\"#9c179e\"],[0.4444444444444444,\"#bd3786\"],[0.5555555555555556,\"#d8576b\"],[0.6666666666666666,\"#ed7953\"],[0.7777777777777778,\"#fb9f3a\"],[0.8888888888888888,\"#fdca26\"],[1.0,\"#f0f921\"]]}],\"heatmapgl\":[{\"type\":\"heatmapgl\",\"colorbar\":{\"outlinewidth\":0,\"ticks\":\"\"},\"colorscale\":[[0.0,\"#0d0887\"],[0.1111111111111111,\"#46039f\"],[0.2222222222222222,\"#7201a8\"],[0.3333333333333333,\"#9c179e\"],[0.4444444444444444,\"#bd3786\"],[0.5555555555555556,\"#d8576b\"],[0.6666666666666666,\"#ed7953\"],[0.7777777777777778,\"#fb9f3a\"],[0.8888888888888888,\"#fdca26\"],[1.0,\"#f0f921\"]]}],\"contourcarpet\":[{\"type\":\"contourcarpet\",\"colorbar\":{\"outlinewidth\":0,\"ticks\":\"\"}}],\"contour\":[{\"type\":\"contour\",\"colorbar\":{\"outlinewidth\":0,\"ticks\":\"\"},\"colorscale\":[[0.0,\"#0d0887\"],[0.1111111111111111,\"#46039f\"],[0.2222222222222222,\"#7201a8\"],[0.3333333333333333,\"#9c179e\"],[0.4444444444444444,\"#bd3786\"],[0.5555555555555556,\"#d8576b\"],[0.6666666666666666,\"#ed7953\"],[0.7777777777777778,\"#fb9f3a\"],[0.8888888888888888,\"#fdca26\"],[1.0,\"#f0f921\"]]}],\"surface\":[{\"type\":\"surface\",\"colorbar\":{\"outlinewidth\":0,\"ticks\":\"\"},\"colorscale\":[[0.0,\"#0d0887\"],[0.1111111111111111,\"#46039f\"],[0.2222222222222222,\"#7201a8\"],[0.3333333333333333,\"#9c179e\"],[0.4444444444444444,\"#bd3786\"],[0.5555555555555556,\"#d8576b\"],[0.6666666666666666,\"#ed7953\"],[0.7777777777777778,\"#fb9f3a\"],[0.8888888888888888,\"#fdca26\"],[1.0,\"#f0f921\"]]}],\"mesh3d\":[{\"type\":\"mesh3d\",\"colorbar\":{\"outlinewidth\":0,\"ticks\":\"\"}}],\"scatter\":[{\"fillpattern\":{\"fillmode\":\"overlay\",\"size\":10,\"solidity\":0.2},\"type\":\"scatter\"}],\"parcoords\":[{\"type\":\"parcoords\",\"line\":{\"colorbar\":{\"outlinewidth\":0,\"ticks\":\"\"}}}],\"scatterpolargl\":[{\"type\":\"scatterpolargl\",\"marker\":{\"colorbar\":{\"outlinewidth\":0,\"ticks\":\"\"}}}],\"bar\":[{\"error_x\":{\"color\":\"#2a3f5f\"},\"error_y\":{\"color\":\"#2a3f5f\"},\"marker\":{\"line\":{\"color\":\"#E5ECF6\",\"width\":0.5},\"pattern\":{\"fillmode\":\"overlay\",\"size\":10,\"solidity\":0.2}},\"type\":\"bar\"}],\"scattergeo\":[{\"type\":\"scattergeo\",\"marker\":{\"colorbar\":{\"outlinewidth\":0,\"ticks\":\"\"}}}],\"scatterpolar\":[{\"type\":\"scatterpolar\",\"marker\":{\"colorbar\":{\"outlinewidth\":0,\"ticks\":\"\"}}}],\"histogram\":[{\"marker\":{\"pattern\":{\"fillmode\":\"overlay\",\"size\":10,\"solidity\":0.2}},\"type\":\"histogram\"}],\"scattergl\":[{\"type\":\"scattergl\",\"marker\":{\"colorbar\":{\"outlinewidth\":0,\"ticks\":\"\"}}}],\"scatter3d\":[{\"type\":\"scatter3d\",\"line\":{\"colorbar\":{\"outlinewidth\":0,\"ticks\":\"\"}},\"marker\":{\"colorbar\":{\"outlinewidth\":0,\"ticks\":\"\"}}}],\"scattermapbox\":[{\"type\":\"scattermapbox\",\"marker\":{\"colorbar\":{\"outlinewidth\":0,\"ticks\":\"\"}}}],\"scatterternary\":[{\"type\":\"scatterternary\",\"marker\":{\"colorbar\":{\"outlinewidth\":0,\"ticks\":\"\"}}}],\"scattercarpet\":[{\"type\":\"scattercarpet\",\"marker\":{\"colorbar\":{\"outlinewidth\":0,\"ticks\":\"\"}}}],\"carpet\":[{\"aaxis\":{\"endlinecolor\":\"#2a3f5f\",\"gridcolor\":\"white\",\"linecolor\":\"white\",\"minorgridcolor\":\"white\",\"startlinecolor\":\"#2a3f5f\"},\"baxis\":{\"endlinecolor\":\"#2a3f5f\",\"gridcolor\":\"white\",\"linecolor\":\"white\",\"minorgridcolor\":\"white\",\"startlinecolor\":\"#2a3f5f\"},\"type\":\"carpet\"}],\"table\":[{\"cells\":{\"fill\":{\"color\":\"#EBF0F8\"},\"line\":{\"color\":\"white\"}},\"header\":{\"fill\":{\"color\":\"#C8D4E3\"},\"line\":{\"color\":\"white\"}},\"type\":\"table\"}],\"barpolar\":[{\"marker\":{\"line\":{\"color\":\"#E5ECF6\",\"width\":0.5},\"pattern\":{\"fillmode\":\"overlay\",\"size\":10,\"solidity\":0.2}},\"type\":\"barpolar\"}],\"pie\":[{\"automargin\":true,\"type\":\"pie\"}]},\"layout\":{\"autotypenumbers\":\"strict\",\"colorway\":[\"#636efa\",\"#EF553B\",\"#00cc96\",\"#ab63fa\",\"#FFA15A\",\"#19d3f3\",\"#FF6692\",\"#B6E880\",\"#FF97FF\",\"#FECB52\"],\"font\":{\"color\":\"#2a3f5f\"},\"hovermode\":\"closest\",\"hoverlabel\":{\"align\":\"left\"},\"paper_bgcolor\":\"white\",\"plot_bgcolor\":\"#E5ECF6\",\"polar\":{\"bgcolor\":\"#E5ECF6\",\"angularaxis\":{\"gridcolor\":\"white\",\"linecolor\":\"white\",\"ticks\":\"\"},\"radialaxis\":{\"gridcolor\":\"white\",\"linecolor\":\"white\",\"ticks\":\"\"}},\"ternary\":{\"bgcolor\":\"#E5ECF6\",\"aaxis\":{\"gridcolor\":\"white\",\"linecolor\":\"white\",\"ticks\":\"\"},\"baxis\":{\"gridcolor\":\"white\",\"linecolor\":\"white\",\"ticks\":\"\"},\"caxis\":{\"gridcolor\":\"white\",\"linecolor\":\"white\",\"ticks\":\"\"}},\"coloraxis\":{\"colorbar\":{\"outlinewidth\":0,\"ticks\":\"\"}},\"colorscale\":{\"sequential\":[[0.0,\"#0d0887\"],[0.1111111111111111,\"#46039f\"],[0.2222222222222222,\"#7201a8\"],[0.3333333333333333,\"#9c179e\"],[0.4444444444444444,\"#bd3786\"],[0.5555555555555556,\"#d8576b\"],[0.6666666666666666,\"#ed7953\"],[0.7777777777777778,\"#fb9f3a\"],[0.8888888888888888,\"#fdca26\"],[1.0,\"#f0f921\"]],\"sequentialminus\":[[0.0,\"#0d0887\"],[0.1111111111111111,\"#46039f\"],[0.2222222222222222,\"#7201a8\"],[0.3333333333333333,\"#9c179e\"],[0.4444444444444444,\"#bd3786\"],[0.5555555555555556,\"#d8576b\"],[0.6666666666666666,\"#ed7953\"],[0.7777777777777778,\"#fb9f3a\"],[0.8888888888888888,\"#fdca26\"],[1.0,\"#f0f921\"]],\"diverging\":[[0,\"#8e0152\"],[0.1,\"#c51b7d\"],[0.2,\"#de77ae\"],[0.3,\"#f1b6da\"],[0.4,\"#fde0ef\"],[0.5,\"#f7f7f7\"],[0.6,\"#e6f5d0\"],[0.7,\"#b8e186\"],[0.8,\"#7fbc41\"],[0.9,\"#4d9221\"],[1,\"#276419\"]]},\"xaxis\":{\"gridcolor\":\"white\",\"linecolor\":\"white\",\"ticks\":\"\",\"title\":{\"standoff\":15},\"zerolinecolor\":\"white\",\"automargin\":true,\"zerolinewidth\":2},\"yaxis\":{\"gridcolor\":\"white\",\"linecolor\":\"white\",\"ticks\":\"\",\"title\":{\"standoff\":15},\"zerolinecolor\":\"white\",\"automargin\":true,\"zerolinewidth\":2},\"scene\":{\"xaxis\":{\"backgroundcolor\":\"#E5ECF6\",\"gridcolor\":\"white\",\"linecolor\":\"white\",\"showbackground\":true,\"ticks\":\"\",\"zerolinecolor\":\"white\",\"gridwidth\":2},\"yaxis\":{\"backgroundcolor\":\"#E5ECF6\",\"gridcolor\":\"white\",\"linecolor\":\"white\",\"showbackground\":true,\"ticks\":\"\",\"zerolinecolor\":\"white\",\"gridwidth\":2},\"zaxis\":{\"backgroundcolor\":\"#E5ECF6\",\"gridcolor\":\"white\",\"linecolor\":\"white\",\"showbackground\":true,\"ticks\":\"\",\"zerolinecolor\":\"white\",\"gridwidth\":2}},\"shapedefaults\":{\"line\":{\"color\":\"#2a3f5f\"}},\"annotationdefaults\":{\"arrowcolor\":\"#2a3f5f\",\"arrowhead\":0,\"arrowwidth\":1},\"geo\":{\"bgcolor\":\"white\",\"landcolor\":\"#E5ECF6\",\"subunitcolor\":\"white\",\"showland\":true,\"showlakes\":true,\"lakecolor\":\"white\"},\"title\":{\"x\":0.05},\"mapbox\":{\"style\":\"light\"}}},\"xaxis\":{\"anchor\":\"y\",\"domain\":[0.0,1.0],\"title\":{\"text\":\"CommonWords\"},\"categoryorder\":\"array\",\"categoryarray\":[\"flight\",\"delta\",\"americanair\",\"britishairways\",\"southwestair\",\"hour\",\"service\",\"delayed\",\"time\",\"seat\"]},\"yaxis\":{\"anchor\":\"x\",\"domain\":[0.0,1.0],\"title\":{\"text\":\"Count\"}},\"legend\":{\"title\":{\"text\":\"CommonWords\"},\"tracegroupgap\":0},\"title\":{\"text\":\"Common Positive Words\"},\"barmode\":\"relative\",\"height\":500,\"width\":500},                        {\"responsive\": true}                    ).then(function(){\n",
       "                            \n",
       "var gd = document.getElementById('dfc75895-afad-4f68-b283-0e44bfb402f8');\n",
       "var x = new MutationObserver(function (mutations, observer) {{\n",
       "        var display = window.getComputedStyle(gd).display;\n",
       "        if (!display || display === 'none') {{\n",
       "            console.log([gd, 'removed!']);\n",
       "            Plotly.purge(gd);\n",
       "            observer.disconnect();\n",
       "        }}\n",
       "}});\n",
       "\n",
       "// Listen for the removal of the full notebook cells\n",
       "var notebookContainer = gd.closest('#notebook-container');\n",
       "if (notebookContainer) {{\n",
       "    x.observe(notebookContainer, {childList: true});\n",
       "}}\n",
       "\n",
       "// Listen for the clearing of the current output cell\n",
       "var outputEl = gd.closest('.output');\n",
       "if (outputEl) {{\n",
       "    x.observe(outputEl, {childList: true});\n",
       "}}\n",
       "\n",
       "                        })                };                });            </script>        </div>"
      ]
     },
     "metadata": {},
     "output_type": "display_data"
    }
   ],
   "source": [
    "fig = px.bar(positiveeWordsDF, x='CommonWords', y='Count', title='Common Positive Words', \n",
    "             orientation='v', width=500, height=500, color='CommonWords')\n",
    "fig.show()"
   ]
  },
  {
   "cell_type": "code",
   "execution_count": null,
   "id": "82cc8f56",
   "metadata": {},
   "outputs": [],
   "source": [
    "'''\n",
    "airDF = pd.DataFrame()\n",
    "for airline in airlines:\n",
    "    airDF = pd.concat([airDF, df[df['author_id'].str.contains(airline)]], ignore_index=True)\n",
    "'''\n",
    "\n",
    "'''\n",
    "negativeSentiment = pd.DataFrame()\n",
    "for i in range(len(testDF['sentiment_x'])):\n",
    "    negativeSentiment = pd.concat([negativeSentiment, testDF[testDF['sentiment_x'].astype('string').str.contains('-1')]], ignore_index=True)\n",
    "    \n",
    "negativeSentiment.head(10)\n",
    "'''\n",
    "\n",
    "# SORT DATASET BY SENTIMENT NEGATIVE (-1)\n",
    "#negativeSentiments = df[['sentiment']]\n",
    "# SORT THAT DATASET BY INBOUND TWEETS TO SEE WHAT TYPE OF COMPLAINTS CUSTOMERS HAVE\n",
    "# SORT BY AIRLINES => use author_id"
   ]
  }
 ],
 "metadata": {
  "kernelspec": {
   "display_name": "Python 3 (ipykernel)",
   "language": "python",
   "name": "python3"
  },
  "language_info": {
   "codemirror_mode": {
    "name": "ipython",
    "version": 3
   },
   "file_extension": ".py",
   "mimetype": "text/x-python",
   "name": "python",
   "nbconvert_exporter": "python",
   "pygments_lexer": "ipython3",
   "version": "3.11.4"
  }
 },
 "nbformat": 4,
 "nbformat_minor": 5
}
