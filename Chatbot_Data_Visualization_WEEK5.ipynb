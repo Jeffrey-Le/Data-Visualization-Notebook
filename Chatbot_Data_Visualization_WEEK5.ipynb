{
 "cells": [
  {
   "cell_type": "code",
   "execution_count": 3,
   "id": "9c869c87",
   "metadata": {},
   "outputs": [],
   "source": [
    "import numpy as np\n",
    "import pandas as pd\n",
    "import matplotlib.pyplot as plt\n",
    "\n",
    "import ssl\n",
    "\n",
    "import nltk\n",
    "from nltk.sentiment.vader import SentimentIntensityAnalyzer"
   ]
  },
  {
   "cell_type": "markdown",
   "id": "65cc136d",
   "metadata": {},
   "source": [
    "## Data Analysis steps:\n",
    "#### 1. Define the question\n",
    "#### 2. Define the ideal data set\n",
    "#### 3. Obtain data\n",
    "#### 4. Clean the data\n",
    "#### 5. Exploratory Data Analysis\n",
    "#### 6. Statistical Prediction/modeling\n",
    "#### 7. Interpret results\n",
    "#### 8. Challenge results\n",
    "#### 9. Communicate results\n",
    "#### 10. Build a Data Product"
   ]
  },
  {
   "cell_type": "markdown",
   "id": "b1b4bf81",
   "metadata": {},
   "source": [
    "### Step 1: Define the Question(s)"
   ]
  },
  {
   "cell_type": "code",
   "execution_count": 5,
   "id": "d3a66792",
   "metadata": {},
   "outputs": [
    {
     "data": {
      "text/plain": [
       "'\\nWhat was the most common issue a customer had towards airlines?\\n\\nHow fast did it take for an airline to respond? How did this relate to the satisfaction of the customer?\\n'"
      ]
     },
     "execution_count": 5,
     "metadata": {},
     "output_type": "execute_result"
    }
   ],
   "source": [
    "'''\n",
    "What was the most common issue a customer had towards airlines?\n",
    "\n",
    "How fast did it take for an airline to respond? How did this relate to the satisfaction of the customer?\n",
    "\n",
    "Which Airlines had the most staisfying responses from customers? How fast were they to respond?\n",
    "'''"
   ]
  },
  {
   "cell_type": "markdown",
   "id": "c7858dd6",
   "metadata": {},
   "source": [
    "### Step 2: Identify the Data"
   ]
  },
  {
   "cell_type": "code",
   "execution_count": 6,
   "id": "9d9b5200",
   "metadata": {},
   "outputs": [
    {
     "data": {
      "text/plain": [
       "' Airlines such as  '"
      ]
     },
     "execution_count": 6,
     "metadata": {},
     "output_type": "execute_result"
    }
   ],
   "source": [
    "''' Airlines such as  '''"
   ]
  },
  {
   "cell_type": "markdown",
   "id": "c41d9b92",
   "metadata": {},
   "source": [
    "#### Download VADER from nltk"
   ]
  },
  {
   "cell_type": "code",
   "execution_count": 7,
   "id": "ffdb104f",
   "metadata": {},
   "outputs": [
    {
     "name": "stdout",
     "output_type": "stream",
     "text": [
      "showing info https://raw.githubusercontent.com/nltk/nltk_data/gh-pages/index.xml\n"
     ]
    },
    {
     "name": "stderr",
     "output_type": "stream",
     "text": [
      "[nltk_data] Downloading package vader_lexicon to\n",
      "[nltk_data]     C:\\Users\\Crolw\\AppData\\Roaming\\nltk_data...\n",
      "[nltk_data]   Package vader_lexicon is already up-to-date!\n"
     ]
    },
    {
     "data": {
      "text/plain": [
       "True"
      ]
     },
     "execution_count": 7,
     "metadata": {},
     "output_type": "execute_result"
    }
   ],
   "source": [
    "try:\n",
    "    _create_unverified_https_context = ssl._create_unverified_context\n",
    "except AttributeError:\n",
    "    pass\n",
    "else:\n",
    "    ssl._create_default_https_context = _create_unverified_https_context\n",
    "\n",
    "nltk.download()\n",
    "nltk.download('vader_lexicon')"
   ]
  },
  {
   "cell_type": "markdown",
   "id": "2a0de3de",
   "metadata": {},
   "source": [
    "### Step 3: Obtain Data"
   ]
  },
  {
   "cell_type": "markdown",
   "id": "fb10c761",
   "metadata": {},
   "source": [
    "#### Import Dataset(s)"
   ]
  },
  {
   "cell_type": "code",
   "execution_count": 8,
   "id": "75250944",
   "metadata": {},
   "outputs": [],
   "source": [
    "# df = pd.read_csv('twas.csv')\n",
    "\n",
    "df = pd.read_csv('twas_cleaned.csv')\n",
    "textDF = pd.read_csv('twas_text_cleaned.csv')"
   ]
  },
  {
   "cell_type": "code",
   "execution_count": 13,
   "id": "2b20e2b8",
   "metadata": {},
   "outputs": [
    {
     "data": {
      "text/html": [
       "<div>\n",
       "<style scoped>\n",
       "    .dataframe tbody tr th:only-of-type {\n",
       "        vertical-align: middle;\n",
       "    }\n",
       "\n",
       "    .dataframe tbody tr th {\n",
       "        vertical-align: top;\n",
       "    }\n",
       "\n",
       "    .dataframe thead th {\n",
       "        text-align: right;\n",
       "    }\n",
       "</style>\n",
       "<table border=\"1\" class=\"dataframe\">\n",
       "  <thead>\n",
       "    <tr style=\"text-align: right;\">\n",
       "      <th></th>\n",
       "      <th>Unnamed: 0</th>\n",
       "      <th>text</th>\n",
       "      <th>text_lower</th>\n",
       "      <th>text_wo_punct</th>\n",
       "      <th>text_wo_stop</th>\n",
       "      <th>text_wo_freq</th>\n",
       "      <th>text_wo_freqrare</th>\n",
       "      <th>text_stemmed</th>\n",
       "      <th>text_lemmatized</th>\n",
       "      <th>text_wo_emoticons</th>\n",
       "      <th>text_wo_url</th>\n",
       "      <th>text_wo_tags</th>\n",
       "    </tr>\n",
       "  </thead>\n",
       "  <tbody>\n",
       "    <tr>\n",
       "      <th>0</th>\n",
       "      <td>0</td>\n",
       "      <td>@115712 I understand. I would like to assist y...</td>\n",
       "      <td>@115712 i understand. i would like to assist y...</td>\n",
       "      <td>115712 i understand i would like to assist you...</td>\n",
       "      <td>115712 understand would like assist would need...</td>\n",
       "      <td>115712 understand would assist would need priv...</td>\n",
       "      <td>115712 understand would assist would need priv...</td>\n",
       "      <td>115712 understand would assist would need priv...</td>\n",
       "      <td>115712 understand would assist would need priv...</td>\n",
       "      <td>115712 understand would assist would need priv...</td>\n",
       "      <td>115712 understand would assist would need priv...</td>\n",
       "      <td>115712 understand would assist would need priv...</td>\n",
       "    </tr>\n",
       "    <tr>\n",
       "      <th>1</th>\n",
       "      <td>1</td>\n",
       "      <td>@sprintcare and how do you propose we do that</td>\n",
       "      <td>@sprintcare and how do you propose we do that</td>\n",
       "      <td>sprintcare and how do you propose we do that</td>\n",
       "      <td>sprintcare propose</td>\n",
       "      <td>sprintcare propose</td>\n",
       "      <td>sprintcare propose</td>\n",
       "      <td>sprintcar propos</td>\n",
       "      <td>sprintcare propose</td>\n",
       "      <td>sprintcare propose</td>\n",
       "      <td>sprintcare propose</td>\n",
       "      <td>sprintcare propose</td>\n",
       "    </tr>\n",
       "    <tr>\n",
       "      <th>2</th>\n",
       "      <td>2</td>\n",
       "      <td>@sprintcare I have sent several private messag...</td>\n",
       "      <td>@sprintcare i have sent several private messag...</td>\n",
       "      <td>sprintcare i have sent several private message...</td>\n",
       "      <td>sprintcare sent several private messages one r...</td>\n",
       "      <td>sprintcare sent several private messages one r...</td>\n",
       "      <td>sprintcare sent several private messages one r...</td>\n",
       "      <td>sprintcar sent sever privat messag one respond...</td>\n",
       "      <td>sprintcare sent several private message one re...</td>\n",
       "      <td>sprintcare sent several private message one re...</td>\n",
       "      <td>sprintcare sent several private message one re...</td>\n",
       "      <td>sprintcare sent several private message one re...</td>\n",
       "    </tr>\n",
       "    <tr>\n",
       "      <th>3</th>\n",
       "      <td>3</td>\n",
       "      <td>@115712 Please send us a Private Message so th...</td>\n",
       "      <td>@115712 please send us a private message so th...</td>\n",
       "      <td>115712 please send us a private message so tha...</td>\n",
       "      <td>115712 please send us private message assist c...</td>\n",
       "      <td>115712 send private message assist click ‘mess...</td>\n",
       "      <td>115712 send private message assist click ‘mess...</td>\n",
       "      <td>115712 send privat messag assist click ‘messag...</td>\n",
       "      <td>115712 send private message assist click ‘mess...</td>\n",
       "      <td>115712 send private message assist click ‘mess...</td>\n",
       "      <td>115712 send private message assist click ‘mess...</td>\n",
       "      <td>115712 send private message assist click ‘mess...</td>\n",
       "    </tr>\n",
       "    <tr>\n",
       "      <th>4</th>\n",
       "      <td>4</td>\n",
       "      <td>@sprintcare I did.</td>\n",
       "      <td>@sprintcare i did.</td>\n",
       "      <td>sprintcare i did</td>\n",
       "      <td>sprintcare</td>\n",
       "      <td>sprintcare</td>\n",
       "      <td>sprintcare</td>\n",
       "      <td>sprintcar</td>\n",
       "      <td>sprintcare</td>\n",
       "      <td>sprintcare</td>\n",
       "      <td>sprintcare</td>\n",
       "      <td>sprintcare</td>\n",
       "    </tr>\n",
       "    <tr>\n",
       "      <th>5</th>\n",
       "      <td>5</td>\n",
       "      <td>@115712 Can you please send us a private messa...</td>\n",
       "      <td>@115712 can you please send us a private messa...</td>\n",
       "      <td>115712 can you please send us a private messag...</td>\n",
       "      <td>115712 please send us private message gain det...</td>\n",
       "      <td>115712 send private message gain details account</td>\n",
       "      <td>115712 send private message gain details account</td>\n",
       "      <td>115712 send privat messag gain detail account</td>\n",
       "      <td>115712 send private message gain detail account</td>\n",
       "      <td>115712 send private message gain detail account</td>\n",
       "      <td>115712 send private message gain detail account</td>\n",
       "      <td>115712 send private message gain detail account</td>\n",
       "    </tr>\n",
       "    <tr>\n",
       "      <th>6</th>\n",
       "      <td>6</td>\n",
       "      <td>@sprintcare is the worst customer service</td>\n",
       "      <td>@sprintcare is the worst customer service</td>\n",
       "      <td>sprintcare is the worst customer service</td>\n",
       "      <td>sprintcare worst customer service</td>\n",
       "      <td>sprintcare worst customer service</td>\n",
       "      <td>sprintcare worst customer service</td>\n",
       "      <td>sprintcar worst custom servic</td>\n",
       "      <td>sprintcare worst customer service</td>\n",
       "      <td>sprintcare worst customer service</td>\n",
       "      <td>sprintcare worst customer service</td>\n",
       "      <td>sprintcare worst customer service</td>\n",
       "    </tr>\n",
       "    <tr>\n",
       "      <th>7</th>\n",
       "      <td>7</td>\n",
       "      <td>@115713 This is saddening to hear. Please shoo...</td>\n",
       "      <td>@115713 this is saddening to hear. please shoo...</td>\n",
       "      <td>115713 this is saddening to hear please shoot ...</td>\n",
       "      <td>115713 saddening hear please shoot us dm look kc</td>\n",
       "      <td>115713 saddening hear shoot look kc</td>\n",
       "      <td>115713 saddening hear shoot look kc</td>\n",
       "      <td>115713 sadden hear shoot look kc</td>\n",
       "      <td>115713 saddening hear shoot look kc</td>\n",
       "      <td>115713 saddening hear shoot look kc</td>\n",
       "      <td>115713 saddening hear shoot look kc</td>\n",
       "      <td>115713 saddening hear shoot look kc</td>\n",
       "    </tr>\n",
       "    <tr>\n",
       "      <th>8</th>\n",
       "      <td>8</td>\n",
       "      <td>@sprintcare You gonna magically change your co...</td>\n",
       "      <td>@sprintcare you gonna magically change your co...</td>\n",
       "      <td>sprintcare you gonna magically change your con...</td>\n",
       "      <td>sprintcare gonna magically change connectivity...</td>\n",
       "      <td>sprintcare gonna magically change connectivity...</td>\n",
       "      <td>sprintcare gonna magically change connectivity...</td>\n",
       "      <td>sprintcar gonna magic chang connect whole fami...</td>\n",
       "      <td>sprintcare gonna magically change connectivity...</td>\n",
       "      <td>sprintcare gonna magically change connectivity...</td>\n",
       "      <td>sprintcare gonna magically change connectivity...</td>\n",
       "      <td>sprintcare gonna magically change connectivity...</td>\n",
       "    </tr>\n",
       "    <tr>\n",
       "      <th>9</th>\n",
       "      <td>9</td>\n",
       "      <td>@115713 We understand your concerns and we'd l...</td>\n",
       "      <td>@115713 we understand your concerns and we'd l...</td>\n",
       "      <td>115713 we understand your concerns and wed lik...</td>\n",
       "      <td>115713 understand concerns wed like please sen...</td>\n",
       "      <td>115713 understand concerns wed send direct mes...</td>\n",
       "      <td>115713 understand concerns wed send direct mes...</td>\n",
       "      <td>115713 understand concern wed send direct mess...</td>\n",
       "      <td>115713 understand concern wed send direct mess...</td>\n",
       "      <td>115713 understand concern wed send direct mess...</td>\n",
       "      <td>115713 understand concern wed send direct mess...</td>\n",
       "      <td>115713 understand concern wed send direct mess...</td>\n",
       "    </tr>\n",
       "  </tbody>\n",
       "</table>\n",
       "</div>"
      ],
      "text/plain": [
       "   Unnamed: 0                                               text  \\\n",
       "0           0  @115712 I understand. I would like to assist y...   \n",
       "1           1      @sprintcare and how do you propose we do that   \n",
       "2           2  @sprintcare I have sent several private messag...   \n",
       "3           3  @115712 Please send us a Private Message so th...   \n",
       "4           4                                 @sprintcare I did.   \n",
       "5           5  @115712 Can you please send us a private messa...   \n",
       "6           6          @sprintcare is the worst customer service   \n",
       "7           7  @115713 This is saddening to hear. Please shoo...   \n",
       "8           8  @sprintcare You gonna magically change your co...   \n",
       "9           9  @115713 We understand your concerns and we'd l...   \n",
       "\n",
       "                                          text_lower  \\\n",
       "0  @115712 i understand. i would like to assist y...   \n",
       "1      @sprintcare and how do you propose we do that   \n",
       "2  @sprintcare i have sent several private messag...   \n",
       "3  @115712 please send us a private message so th...   \n",
       "4                                 @sprintcare i did.   \n",
       "5  @115712 can you please send us a private messa...   \n",
       "6          @sprintcare is the worst customer service   \n",
       "7  @115713 this is saddening to hear. please shoo...   \n",
       "8  @sprintcare you gonna magically change your co...   \n",
       "9  @115713 we understand your concerns and we'd l...   \n",
       "\n",
       "                                       text_wo_punct  \\\n",
       "0  115712 i understand i would like to assist you...   \n",
       "1       sprintcare and how do you propose we do that   \n",
       "2  sprintcare i have sent several private message...   \n",
       "3  115712 please send us a private message so tha...   \n",
       "4                                   sprintcare i did   \n",
       "5  115712 can you please send us a private messag...   \n",
       "6           sprintcare is the worst customer service   \n",
       "7  115713 this is saddening to hear please shoot ...   \n",
       "8  sprintcare you gonna magically change your con...   \n",
       "9  115713 we understand your concerns and wed lik...   \n",
       "\n",
       "                                        text_wo_stop  \\\n",
       "0  115712 understand would like assist would need...   \n",
       "1                                 sprintcare propose   \n",
       "2  sprintcare sent several private messages one r...   \n",
       "3  115712 please send us private message assist c...   \n",
       "4                                         sprintcare   \n",
       "5  115712 please send us private message gain det...   \n",
       "6                  sprintcare worst customer service   \n",
       "7   115713 saddening hear please shoot us dm look kc   \n",
       "8  sprintcare gonna magically change connectivity...   \n",
       "9  115713 understand concerns wed like please sen...   \n",
       "\n",
       "                                        text_wo_freq  \\\n",
       "0  115712 understand would assist would need priv...   \n",
       "1                                 sprintcare propose   \n",
       "2  sprintcare sent several private messages one r...   \n",
       "3  115712 send private message assist click ‘mess...   \n",
       "4                                         sprintcare   \n",
       "5   115712 send private message gain details account   \n",
       "6                  sprintcare worst customer service   \n",
       "7                115713 saddening hear shoot look kc   \n",
       "8  sprintcare gonna magically change connectivity...   \n",
       "9  115713 understand concerns wed send direct mes...   \n",
       "\n",
       "                                    text_wo_freqrare  \\\n",
       "0  115712 understand would assist would need priv...   \n",
       "1                                 sprintcare propose   \n",
       "2  sprintcare sent several private messages one r...   \n",
       "3  115712 send private message assist click ‘mess...   \n",
       "4                                         sprintcare   \n",
       "5   115712 send private message gain details account   \n",
       "6                  sprintcare worst customer service   \n",
       "7                115713 saddening hear shoot look kc   \n",
       "8  sprintcare gonna magically change connectivity...   \n",
       "9  115713 understand concerns wed send direct mes...   \n",
       "\n",
       "                                        text_stemmed  \\\n",
       "0  115712 understand would assist would need priv...   \n",
       "1                                   sprintcar propos   \n",
       "2  sprintcar sent sever privat messag one respond...   \n",
       "3  115712 send privat messag assist click ‘messag...   \n",
       "4                                          sprintcar   \n",
       "5      115712 send privat messag gain detail account   \n",
       "6                      sprintcar worst custom servic   \n",
       "7                   115713 sadden hear shoot look kc   \n",
       "8  sprintcar gonna magic chang connect whole fami...   \n",
       "9  115713 understand concern wed send direct mess...   \n",
       "\n",
       "                                     text_lemmatized  \\\n",
       "0  115712 understand would assist would need priv...   \n",
       "1                                 sprintcare propose   \n",
       "2  sprintcare sent several private message one re...   \n",
       "3  115712 send private message assist click ‘mess...   \n",
       "4                                         sprintcare   \n",
       "5    115712 send private message gain detail account   \n",
       "6                  sprintcare worst customer service   \n",
       "7                115713 saddening hear shoot look kc   \n",
       "8  sprintcare gonna magically change connectivity...   \n",
       "9  115713 understand concern wed send direct mess...   \n",
       "\n",
       "                                   text_wo_emoticons  \\\n",
       "0  115712 understand would assist would need priv...   \n",
       "1                                 sprintcare propose   \n",
       "2  sprintcare sent several private message one re...   \n",
       "3  115712 send private message assist click ‘mess...   \n",
       "4                                         sprintcare   \n",
       "5    115712 send private message gain detail account   \n",
       "6                  sprintcare worst customer service   \n",
       "7                115713 saddening hear shoot look kc   \n",
       "8  sprintcare gonna magically change connectivity...   \n",
       "9  115713 understand concern wed send direct mess...   \n",
       "\n",
       "                                         text_wo_url  \\\n",
       "0  115712 understand would assist would need priv...   \n",
       "1                                 sprintcare propose   \n",
       "2  sprintcare sent several private message one re...   \n",
       "3  115712 send private message assist click ‘mess...   \n",
       "4                                         sprintcare   \n",
       "5    115712 send private message gain detail account   \n",
       "6                  sprintcare worst customer service   \n",
       "7                115713 saddening hear shoot look kc   \n",
       "8  sprintcare gonna magically change connectivity...   \n",
       "9  115713 understand concern wed send direct mess...   \n",
       "\n",
       "                                        text_wo_tags  \n",
       "0  115712 understand would assist would need priv...  \n",
       "1                                 sprintcare propose  \n",
       "2  sprintcare sent several private message one re...  \n",
       "3  115712 send private message assist click ‘mess...  \n",
       "4                                         sprintcare  \n",
       "5    115712 send private message gain detail account  \n",
       "6                  sprintcare worst customer service  \n",
       "7                115713 saddening hear shoot look kc  \n",
       "8  sprintcare gonna magically change connectivity...  \n",
       "9  115713 understand concern wed send direct mess...  "
      ]
     },
     "execution_count": 13,
     "metadata": {},
     "output_type": "execute_result"
    }
   ],
   "source": [
    "df.head(10)\n",
    "textDF.head(10)"
   ]
  },
  {
   "cell_type": "markdown",
   "id": "f262e902",
   "metadata": {},
   "source": [
    "### Step 4: Clean the Data"
   ]
  },
  {
   "cell_type": "code",
   "execution_count": 10,
   "id": "f8244e49",
   "metadata": {},
   "outputs": [
    {
     "data": {
      "text/plain": [
       "'\\nTRANSFORM TEXT DATA INTO SIMPLIFIED FORM\\nTRANSFORM DATE\\n'"
      ]
     },
     "execution_count": 10,
     "metadata": {},
     "output_type": "execute_result"
    }
   ],
   "source": [
    "''' STEP 4: CLEAN THE DATA '''\n",
    "\n",
    "\n",
    "''' DATA CLEAN HERE '''\n",
    "\n"
   ]
  },
  {
   "cell_type": "markdown",
   "id": "11a5be87",
   "metadata": {},
   "source": [
    "### Step 5: Exploratory Data Analysis"
   ]
  },
  {
   "cell_type": "markdown",
   "id": "4113349f",
   "metadata": {},
   "source": [
    "#### Make function to get sentiment data"
   ]
  },
  {
   "cell_type": "code",
   "execution_count": 11,
   "id": "4194f181",
   "metadata": {},
   "outputs": [],
   "source": [
    "analyzer = SentimentIntensityAnalyzer()\n",
    "\n",
    "def getSentiment(text):\n",
    "\n",
    "    scores = analyzer.polarity_scores(text)\n",
    "\n",
    "    if scores['compound'] > 0:\n",
    "        sentiment = 1\n",
    "    elif scores['compound'] < 0:\n",
    "        sentiment = -1\n",
    "    else:\n",
    "        sentiment = 0\n",
    "\n",
    "    return sentiment"
   ]
  },
  {
   "cell_type": "markdown",
   "id": "614678d5",
   "metadata": {},
   "source": [
    "#### Get sentiment data for each text data\n",
    "#### Import result into new column"
   ]
  },
  {
   "cell_type": "code",
   "execution_count": 15,
   "id": "888521d0",
   "metadata": {},
   "outputs": [],
   "source": [
    "df['sentiment'] = textDF['text_lower'].apply(getSentiment)"
   ]
  },
  {
   "cell_type": "code",
   "execution_count": 16,
   "id": "b0de13af",
   "metadata": {},
   "outputs": [
    {
     "data": {
      "text/html": [
       "<div>\n",
       "<style scoped>\n",
       "    .dataframe tbody tr th:only-of-type {\n",
       "        vertical-align: middle;\n",
       "    }\n",
       "\n",
       "    .dataframe tbody tr th {\n",
       "        vertical-align: top;\n",
       "    }\n",
       "\n",
       "    .dataframe thead th {\n",
       "        text-align: right;\n",
       "    }\n",
       "</style>\n",
       "<table border=\"1\" class=\"dataframe\">\n",
       "  <thead>\n",
       "    <tr style=\"text-align: right;\">\n",
       "      <th></th>\n",
       "      <th>Unnamed: 0</th>\n",
       "      <th>tweet_id</th>\n",
       "      <th>author_id</th>\n",
       "      <th>inbound</th>\n",
       "      <th>created_at</th>\n",
       "      <th>text</th>\n",
       "      <th>response_tweet_id</th>\n",
       "      <th>in_response_to_tweet_id</th>\n",
       "      <th>sentiment</th>\n",
       "    </tr>\n",
       "  </thead>\n",
       "  <tbody>\n",
       "    <tr>\n",
       "      <th>0</th>\n",
       "      <td>0</td>\n",
       "      <td>1</td>\n",
       "      <td>sprintcare</td>\n",
       "      <td>False</td>\n",
       "      <td>2017-10-31</td>\n",
       "      <td>115712 understand would assist would need priv...</td>\n",
       "      <td>2</td>\n",
       "      <td>3.0</td>\n",
       "      <td>1</td>\n",
       "    </tr>\n",
       "    <tr>\n",
       "      <th>1</th>\n",
       "      <td>1</td>\n",
       "      <td>2</td>\n",
       "      <td>115712</td>\n",
       "      <td>True</td>\n",
       "      <td>2017-10-31</td>\n",
       "      <td>sprintcare propose</td>\n",
       "      <td>NaN</td>\n",
       "      <td>1.0</td>\n",
       "      <td>0</td>\n",
       "    </tr>\n",
       "    <tr>\n",
       "      <th>2</th>\n",
       "      <td>2</td>\n",
       "      <td>3</td>\n",
       "      <td>115712</td>\n",
       "      <td>True</td>\n",
       "      <td>2017-10-31</td>\n",
       "      <td>sprintcare sent several private message one re...</td>\n",
       "      <td>1</td>\n",
       "      <td>4.0</td>\n",
       "      <td>-1</td>\n",
       "    </tr>\n",
       "    <tr>\n",
       "      <th>3</th>\n",
       "      <td>3</td>\n",
       "      <td>4</td>\n",
       "      <td>sprintcare</td>\n",
       "      <td>False</td>\n",
       "      <td>2017-10-31</td>\n",
       "      <td>115712 send private message assist click ‘mess...</td>\n",
       "      <td>3</td>\n",
       "      <td>5.0</td>\n",
       "      <td>1</td>\n",
       "    </tr>\n",
       "    <tr>\n",
       "      <th>4</th>\n",
       "      <td>4</td>\n",
       "      <td>5</td>\n",
       "      <td>115712</td>\n",
       "      <td>True</td>\n",
       "      <td>2017-10-31</td>\n",
       "      <td>sprintcare</td>\n",
       "      <td>4</td>\n",
       "      <td>6.0</td>\n",
       "      <td>0</td>\n",
       "    </tr>\n",
       "    <tr>\n",
       "      <th>5</th>\n",
       "      <td>5</td>\n",
       "      <td>6</td>\n",
       "      <td>sprintcare</td>\n",
       "      <td>False</td>\n",
       "      <td>2017-10-31</td>\n",
       "      <td>115712 send private message gain detail account</td>\n",
       "      <td>5,7</td>\n",
       "      <td>8.0</td>\n",
       "      <td>1</td>\n",
       "    </tr>\n",
       "    <tr>\n",
       "      <th>6</th>\n",
       "      <td>6</td>\n",
       "      <td>8</td>\n",
       "      <td>115712</td>\n",
       "      <td>True</td>\n",
       "      <td>2017-10-31</td>\n",
       "      <td>sprintcare worst customer service</td>\n",
       "      <td>9,6,10</td>\n",
       "      <td>NaN</td>\n",
       "      <td>-1</td>\n",
       "    </tr>\n",
       "    <tr>\n",
       "      <th>7</th>\n",
       "      <td>7</td>\n",
       "      <td>11</td>\n",
       "      <td>sprintcare</td>\n",
       "      <td>False</td>\n",
       "      <td>2017-10-31</td>\n",
       "      <td>115713 saddening hear shoot look kc</td>\n",
       "      <td>NaN</td>\n",
       "      <td>12.0</td>\n",
       "      <td>-1</td>\n",
       "    </tr>\n",
       "    <tr>\n",
       "      <th>8</th>\n",
       "      <td>8</td>\n",
       "      <td>12</td>\n",
       "      <td>115713</td>\n",
       "      <td>True</td>\n",
       "      <td>2017-10-31</td>\n",
       "      <td>sprintcare gonna magically change connectivity...</td>\n",
       "      <td>11,13,14</td>\n",
       "      <td>15.0</td>\n",
       "      <td>0</td>\n",
       "    </tr>\n",
       "    <tr>\n",
       "      <th>9</th>\n",
       "      <td>9</td>\n",
       "      <td>15</td>\n",
       "      <td>sprintcare</td>\n",
       "      <td>False</td>\n",
       "      <td>2017-10-31</td>\n",
       "      <td>115713 understand concern wed send direct mess...</td>\n",
       "      <td>12</td>\n",
       "      <td>16.0</td>\n",
       "      <td>1</td>\n",
       "    </tr>\n",
       "  </tbody>\n",
       "</table>\n",
       "</div>"
      ],
      "text/plain": [
       "   Unnamed: 0  tweet_id   author_id  inbound  created_at  \\\n",
       "0           0         1  sprintcare    False  2017-10-31   \n",
       "1           1         2      115712     True  2017-10-31   \n",
       "2           2         3      115712     True  2017-10-31   \n",
       "3           3         4  sprintcare    False  2017-10-31   \n",
       "4           4         5      115712     True  2017-10-31   \n",
       "5           5         6  sprintcare    False  2017-10-31   \n",
       "6           6         8      115712     True  2017-10-31   \n",
       "7           7        11  sprintcare    False  2017-10-31   \n",
       "8           8        12      115713     True  2017-10-31   \n",
       "9           9        15  sprintcare    False  2017-10-31   \n",
       "\n",
       "                                                text response_tweet_id  \\\n",
       "0  115712 understand would assist would need priv...                 2   \n",
       "1                                 sprintcare propose               NaN   \n",
       "2  sprintcare sent several private message one re...                 1   \n",
       "3  115712 send private message assist click ‘mess...                 3   \n",
       "4                                         sprintcare                 4   \n",
       "5    115712 send private message gain detail account               5,7   \n",
       "6                  sprintcare worst customer service            9,6,10   \n",
       "7                115713 saddening hear shoot look kc               NaN   \n",
       "8  sprintcare gonna magically change connectivity...          11,13,14   \n",
       "9  115713 understand concern wed send direct mess...                12   \n",
       "\n",
       "   in_response_to_tweet_id  sentiment  \n",
       "0                      3.0          1  \n",
       "1                      1.0          0  \n",
       "2                      4.0         -1  \n",
       "3                      5.0          1  \n",
       "4                      6.0          0  \n",
       "5                      8.0          1  \n",
       "6                      NaN         -1  \n",
       "7                     12.0         -1  \n",
       "8                     15.0          0  \n",
       "9                     16.0          1  "
      ]
     },
     "execution_count": 16,
     "metadata": {},
     "output_type": "execute_result"
    }
   ],
   "source": [
    "df.head(10)"
   ]
  },
  {
   "cell_type": "markdown",
   "id": "7e97be3f",
   "metadata": {},
   "source": [
    "#### Count the number of values for each sentiment score (Positve, Neutral, Negative)"
   ]
  },
  {
   "cell_type": "code",
   "execution_count": 17,
   "id": "a4bdfe48",
   "metadata": {},
   "outputs": [
    {
     "data": {
      "text/plain": [
       " 1    1444722\n",
       " 0     693720\n",
       "-1     673332\n",
       "Name: sentiment, dtype: int64"
      ]
     },
     "execution_count": 17,
     "metadata": {},
     "output_type": "execute_result"
    }
   ],
   "source": [
    "sentimentCounts = df['sentiment'].value_counts()\n",
    "sentimentCounts"
   ]
  },
  {
   "cell_type": "markdown",
   "id": "b280c336",
   "metadata": {},
   "source": [
    "#### Plot on a graph to display\n",
    "<p> Green = Positive </p>\n",
    "<p> Yellow = Neutral </p>\n",
    "<p> Red = Negative </p>"
   ]
  },
  {
   "cell_type": "code",
   "execution_count": 18,
   "id": "05dde93e",
   "metadata": {},
   "outputs": [
    {
     "data": {
      "image/png": "[encoded data removed]",
      "text/plain": [
       "<Figure size 1000x500 with 1 Axes>"
      ]
     },
     "metadata": {},
     "output_type": "display_data"
    }
   ],
   "source": [
    "plt.figure(figsize = (10, 5))\n",
    "plt.bar(sentimentCounts.index, sentimentCounts.values, color=['green', 'yellow', 'red'])\n",
    "\n",
    "plt.xlabel('Sentiment')\n",
    "plt.ylabel('Count')\n",
    "plt.show()"
   ]
  },
  {
   "cell_type": "code",
   "execution_count": null,
   "id": "7b65aa59",
   "metadata": {},
   "outputs": [],
   "source": [
    "# SORT DATASET BY SENTIMENT NEGATIVE (-1)\n",
    "# SORT THAT DATASET BY INBOUND TWEETS TO SEE WHAT TYPE OF COMPLAINTS CUSTOMERS HAVE\n",
    "# SORT BY AIRLINES => use author_id"
   ]
  },
  {
   "cell_type": "markdown",
   "id": "59bc5f68",
   "metadata": {},
   "source": [
    "### Step 6: Statistical Prediction/Modeling"
   ]
  },
  {
   "cell_type": "code",
   "execution_count": null,
   "id": "a89ca3fe",
   "metadata": {},
   "outputs": [],
   "source": [
    "# SOME MACHINE LEARNING\n",
    "# FIND WHAT TYPE OF METHOD I NEED TO USE TO SOLVE PROBLEM\n",
    "# EXAMPLES: CLASSIFICATION, REGRESSION"
   ]
  },
  {
   "cell_type": "markdown",
   "id": "c3db3017",
   "metadata": {},
   "source": [
    "### Step 7: Interpretation of Results"
   ]
  },
  {
   "cell_type": "code",
   "execution_count": null,
   "id": "e2309b70",
   "metadata": {},
   "outputs": [],
   "source": [
    "# EXPLAIN WHAT VARIABLES CORRELATED WITH WHAT\n",
    "# IF USING MACHINE LEARNING, EXPLAIN WHY SOME OF THE PREDICTIONS"
   ]
  },
  {
   "cell_type": "markdown",
   "id": "262e7482",
   "metadata": {},
   "source": [
    "### Step 8: Challenging of Results"
   ]
  },
  {
   "cell_type": "code",
   "execution_count": null,
   "id": "c0b4bf67",
   "metadata": {},
   "outputs": [],
   "source": [
    "# BEFORE FINALIZING RESULTS\n",
    "'''\n",
    "QUESTIONS TO KEEP IN MIND:\n",
    "Is this technique up to date with the industry, or are there better ways to solve this?\n",
    "Are there other models or methods I can use to analyze this data?\n",
    "Have I utilized the data to the best ability? Is there any more data I can collect to provide a more conclusive answer?\n",
    "and many more…\n",
    "'''"
   ]
  },
  {
   "cell_type": "markdown",
   "id": "7e7c7ba5",
   "metadata": {},
   "source": [
    "### Step 9: Communicate Results"
   ]
  },
  {
   "cell_type": "code",
   "execution_count": null,
   "id": "b5d8e293",
   "metadata": {},
   "outputs": [],
   "source": [
    "# USE A VISUALIZATION FORMAT TO VISUALIZE RESULTS\n",
    "# EXAMPLES: TABLEAU, POWERBI, MATPLOT FIGURES\n",
    "\n",
    "'''\n",
    "TEMPLATE:\n",
    "Start with your question and your problem statement\n",
    "Summarize your analysis into a story.\n",
    "Include the only essential analysis that adds value to your story and addresses the challenge.\n",
    "Add “pretty” figures that contribute to the story.\n",
    "Conclude with a summary of the important findings and any further techniques that can be explored to better answer the question.\n",
    "'''"
   ]
  },
  {
   "cell_type": "markdown",
   "id": "0a123bee",
   "metadata": {},
   "source": [
    "### Step 10: Data Product"
   ]
  },
  {
   "cell_type": "code",
   "execution_count": null,
   "id": "b39893e5",
   "metadata": {},
   "outputs": [],
   "source": [
    "# TURN DATA INTO A PRODUCT\n",
    "# EXAMPLES: DASHBOARDS, STREAMLIT FOR WEB APP"
   ]
  }
 ],
 "metadata": {
  "kernelspec": {
   "display_name": "Python 3 (ipykernel)",
   "language": "python",
   "name": "python3"
  },
  "language_info": {
   "codemirror_mode": {
    "name": "ipython",
    "version": 3
   },
   "file_extension": ".py",
   "mimetype": "text/x-python",
   "name": "python",
   "nbconvert_exporter": "python",
   "pygments_lexer": "ipython3",
   "version": "3.11.4"
  }
 },
 "nbformat": 4,
 "nbformat_minor": 5
}
