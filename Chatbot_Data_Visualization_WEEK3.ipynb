{
 "cells": [
  {
   "cell_type": "code",
   "execution_count": 1,
   "id": "81562055",
   "metadata": {},
   "outputs": [],
   "source": [
    "import numpy as np\n",
    "import pandas as pd\n",
    "import matplotlib as mpl\n",
    "import matplotlib.pyplot as plt"
   ]
  },
  {
   "cell_type": "code",
   "execution_count": 2,
   "id": "f1895248",
   "metadata": {},
   "outputs": [],
   "source": [
    "df = pd.read_csv('twcs.csv')"
   ]
  },
  {
   "cell_type": "code",
   "execution_count": 3,
   "id": "2eb14b58",
   "metadata": {},
   "outputs": [
    {
     "data": {
      "text/plain": [
       "(2811774, 7)"
      ]
     },
     "execution_count": 3,
     "metadata": {},
     "output_type": "execute_result"
    }
   ],
   "source": [
    "df.shape"
   ]
  },
  {
   "cell_type": "markdown",
   "id": "efeb7496",
   "metadata": {},
   "source": [
    "<h3> ------------------------------------- <h3>\n",
    "<h3> Top Twitter Users by Number of Tweets <h3>"
   ]
  },
  {
   "cell_type": "code",
   "execution_count": 4,
   "id": "3eaa14c1",
   "metadata": {},
   "outputs": [],
   "source": [
    "count = df['author_id'].value_counts()"
   ]
  },
  {
   "cell_type": "code",
   "execution_count": 5,
   "id": "d0d8772f",
   "metadata": {},
   "outputs": [],
   "source": [
    "grouped = df.groupby('author_id').nunique()"
   ]
  },
  {
   "cell_type": "code",
   "execution_count": 6,
   "id": "ccf6eeb5",
   "metadata": {},
   "outputs": [],
   "source": [
    "grouped['count'] = count"
   ]
  },
  {
   "cell_type": "code",
   "execution_count": 7,
   "id": "f9a5122a",
   "metadata": {},
   "outputs": [],
   "source": [
    "topUsers = grouped.sort_values(by=['count'], ascending=False)"
   ]
  },
  {
   "cell_type": "code",
   "execution_count": 8,
   "id": "a51dbb94",
   "metadata": {},
   "outputs": [
    {
     "data": {
      "text/html": [
       "<div>\n",
       "<style scoped>\n",
       "    .dataframe tbody tr th:only-of-type {\n",
       "        vertical-align: middle;\n",
       "    }\n",
       "\n",
       "    .dataframe tbody tr th {\n",
       "        vertical-align: top;\n",
       "    }\n",
       "\n",
       "    .dataframe thead th {\n",
       "        text-align: right;\n",
       "    }\n",
       "</style>\n",
       "<table border=\"1\" class=\"dataframe\">\n",
       "  <thead>\n",
       "    <tr style=\"text-align: right;\">\n",
       "      <th></th>\n",
       "      <th>author_id</th>\n",
       "      <th>count</th>\n",
       "    </tr>\n",
       "  </thead>\n",
       "  <tbody>\n",
       "    <tr>\n",
       "      <th>0</th>\n",
       "      <td>AmazonHelp</td>\n",
       "      <td>169840</td>\n",
       "    </tr>\n",
       "    <tr>\n",
       "      <th>1</th>\n",
       "      <td>AppleSupport</td>\n",
       "      <td>106860</td>\n",
       "    </tr>\n",
       "    <tr>\n",
       "      <th>2</th>\n",
       "      <td>Uber_Support</td>\n",
       "      <td>56270</td>\n",
       "    </tr>\n",
       "    <tr>\n",
       "      <th>3</th>\n",
       "      <td>SpotifyCares</td>\n",
       "      <td>43265</td>\n",
       "    </tr>\n",
       "    <tr>\n",
       "      <th>4</th>\n",
       "      <td>Delta</td>\n",
       "      <td>42253</td>\n",
       "    </tr>\n",
       "    <tr>\n",
       "      <th>5</th>\n",
       "      <td>Tesco</td>\n",
       "      <td>38573</td>\n",
       "    </tr>\n",
       "    <tr>\n",
       "      <th>6</th>\n",
       "      <td>AmericanAir</td>\n",
       "      <td>36764</td>\n",
       "    </tr>\n",
       "    <tr>\n",
       "      <th>7</th>\n",
       "      <td>TMobileHelp</td>\n",
       "      <td>34317</td>\n",
       "    </tr>\n",
       "    <tr>\n",
       "      <th>8</th>\n",
       "      <td>comcastcares</td>\n",
       "      <td>33031</td>\n",
       "    </tr>\n",
       "    <tr>\n",
       "      <th>9</th>\n",
       "      <td>British_Airways</td>\n",
       "      <td>29361</td>\n",
       "    </tr>\n",
       "    <tr>\n",
       "      <th>10</th>\n",
       "      <td>SouthwestAir</td>\n",
       "      <td>28977</td>\n",
       "    </tr>\n",
       "    <tr>\n",
       "      <th>11</th>\n",
       "      <td>VirginTrains</td>\n",
       "      <td>27817</td>\n",
       "    </tr>\n",
       "    <tr>\n",
       "      <th>12</th>\n",
       "      <td>Ask_Spectrum</td>\n",
       "      <td>25860</td>\n",
       "    </tr>\n",
       "    <tr>\n",
       "      <th>13</th>\n",
       "      <td>XboxSupport</td>\n",
       "      <td>24557</td>\n",
       "    </tr>\n",
       "    <tr>\n",
       "      <th>14</th>\n",
       "      <td>sprintcare</td>\n",
       "      <td>22381</td>\n",
       "    </tr>\n",
       "    <tr>\n",
       "      <th>15</th>\n",
       "      <td>hulu_support</td>\n",
       "      <td>21872</td>\n",
       "    </tr>\n",
       "    <tr>\n",
       "      <th>16</th>\n",
       "      <td>sainsburys</td>\n",
       "      <td>19466</td>\n",
       "    </tr>\n",
       "    <tr>\n",
       "      <th>17</th>\n",
       "      <td>GWRHelp</td>\n",
       "      <td>19364</td>\n",
       "    </tr>\n",
       "    <tr>\n",
       "      <th>18</th>\n",
       "      <td>AskPlayStation</td>\n",
       "      <td>19098</td>\n",
       "    </tr>\n",
       "    <tr>\n",
       "      <th>19</th>\n",
       "      <td>ChipotleTweets</td>\n",
       "      <td>18749</td>\n",
       "    </tr>\n",
       "  </tbody>\n",
       "</table>\n",
       "</div>"
      ],
      "text/plain": [
       "          author_id   count\n",
       "0        AmazonHelp  169840\n",
       "1      AppleSupport  106860\n",
       "2      Uber_Support   56270\n",
       "3      SpotifyCares   43265\n",
       "4             Delta   42253\n",
       "5             Tesco   38573\n",
       "6       AmericanAir   36764\n",
       "7       TMobileHelp   34317\n",
       "8      comcastcares   33031\n",
       "9   British_Airways   29361\n",
       "10     SouthwestAir   28977\n",
       "11     VirginTrains   27817\n",
       "12     Ask_Spectrum   25860\n",
       "13      XboxSupport   24557\n",
       "14       sprintcare   22381\n",
       "15     hulu_support   21872\n",
       "16       sainsburys   19466\n",
       "17          GWRHelp   19364\n",
       "18   AskPlayStation   19098\n",
       "19   ChipotleTweets   18749"
      ]
     },
     "execution_count": 8,
     "metadata": {},
     "output_type": "execute_result"
    }
   ],
   "source": [
    "topUsers['count'].reset_index(name='count').head(20)"
   ]
  },
  {
   "attachments": {},
   "cell_type": "markdown",
   "id": "673fe236",
   "metadata": {},
   "source": [
    "<h3> ----------------------- <h3>\n",
    "<h3> Top Authors by Response <h3>"
   ]
  },
  {
   "cell_type": "code",
   "execution_count": 12,
   "id": "03327c56",
   "metadata": {},
   "outputs": [],
   "source": [
    "responseCount = df.groupby('author_id')['response_tweet_id'].count()"
   ]
  },
  {
   "cell_type": "code",
   "execution_count": 13,
   "id": "369731a7",
   "metadata": {},
   "outputs": [],
   "source": [
    "grouped = df.groupby('author_id').nunique()"
   ]
  },
  {
   "cell_type": "code",
   "execution_count": 14,
   "id": "c0034f4f",
   "metadata": {},
   "outputs": [],
   "source": [
    "grouped['responseCount'] = responseCount"
   ]
  },
  {
   "cell_type": "code",
   "execution_count": 15,
   "id": "87ea973b",
   "metadata": {},
   "outputs": [],
   "source": [
    "topAuthorsResponse = grouped.sort_values(by='responseCount', ascending=False)"
   ]
  },
  {
   "cell_type": "code",
   "execution_count": 16,
   "id": "03a19420",
   "metadata": {},
   "outputs": [
    {
     "data": {
      "text/html": [
       "<div>\n",
       "<style scoped>\n",
       "    .dataframe tbody tr th:only-of-type {\n",
       "        vertical-align: middle;\n",
       "    }\n",
       "\n",
       "    .dataframe tbody tr th {\n",
       "        vertical-align: top;\n",
       "    }\n",
       "\n",
       "    .dataframe thead th {\n",
       "        text-align: right;\n",
       "    }\n",
       "</style>\n",
       "<table border=\"1\" class=\"dataframe\">\n",
       "  <thead>\n",
       "    <tr style=\"text-align: right;\">\n",
       "      <th></th>\n",
       "      <th>author_id</th>\n",
       "      <th>responseCount</th>\n",
       "    </tr>\n",
       "  </thead>\n",
       "  <tbody>\n",
       "    <tr>\n",
       "      <th>0</th>\n",
       "      <td>AmazonHelp</td>\n",
       "      <td>85274</td>\n",
       "    </tr>\n",
       "    <tr>\n",
       "      <th>1</th>\n",
       "      <td>AppleSupport</td>\n",
       "      <td>31564</td>\n",
       "    </tr>\n",
       "    <tr>\n",
       "      <th>2</th>\n",
       "      <td>Uber_Support</td>\n",
       "      <td>18036</td>\n",
       "    </tr>\n",
       "    <tr>\n",
       "      <th>3</th>\n",
       "      <td>VirginTrains</td>\n",
       "      <td>15235</td>\n",
       "    </tr>\n",
       "    <tr>\n",
       "      <th>4</th>\n",
       "      <td>AmericanAir</td>\n",
       "      <td>14556</td>\n",
       "    </tr>\n",
       "    <tr>\n",
       "      <th>5</th>\n",
       "      <td>SpotifyCares</td>\n",
       "      <td>13786</td>\n",
       "    </tr>\n",
       "    <tr>\n",
       "      <th>6</th>\n",
       "      <td>Delta</td>\n",
       "      <td>12014</td>\n",
       "    </tr>\n",
       "    <tr>\n",
       "      <th>7</th>\n",
       "      <td>Tesco</td>\n",
       "      <td>11148</td>\n",
       "    </tr>\n",
       "    <tr>\n",
       "      <th>8</th>\n",
       "      <td>GWRHelp</td>\n",
       "      <td>10915</td>\n",
       "    </tr>\n",
       "    <tr>\n",
       "      <th>9</th>\n",
       "      <td>VerizonSupport</td>\n",
       "      <td>10585</td>\n",
       "    </tr>\n",
       "  </tbody>\n",
       "</table>\n",
       "</div>"
      ],
      "text/plain": [
       "        author_id  responseCount\n",
       "0      AmazonHelp          85274\n",
       "1    AppleSupport          31564\n",
       "2    Uber_Support          18036\n",
       "3    VirginTrains          15235\n",
       "4     AmericanAir          14556\n",
       "5    SpotifyCares          13786\n",
       "6           Delta          12014\n",
       "7           Tesco          11148\n",
       "8         GWRHelp          10915\n",
       "9  VerizonSupport          10585"
      ]
     },
     "execution_count": 16,
     "metadata": {},
     "output_type": "execute_result"
    }
   ],
   "source": [
    "topAuthorsResponse['responseCount'].reset_index(name='responseCount').head(10)"
   ]
  },
  {
   "cell_type": "markdown",
   "id": "95a60c54",
   "metadata": {},
   "source": [
    "<h3> -------------- <h3>\n",
    "<h3> Tweets by Date <h3>"
   ]
  },
  {
   "cell_type": "code",
   "execution_count": 17,
   "id": "4f50a3f4",
   "metadata": {},
   "outputs": [],
   "source": [
    "df['created_at'] = pd.to_datetime(df['created_at'])"
   ]
  },
  {
   "cell_type": "code",
   "execution_count": 18,
   "id": "917aa968",
   "metadata": {},
   "outputs": [],
   "source": [
    "count = df['created_at'].dt.date.value_counts()"
   ]
  },
  {
   "cell_type": "code",
   "execution_count": 20,
   "id": "235b5a09",
   "metadata": {},
   "outputs": [],
   "source": [
    "grouped = df.groupby(df['created_at'].dt.date).nunique()"
   ]
  },
  {
   "cell_type": "code",
   "execution_count": 21,
   "id": "9340fb72",
   "metadata": {},
   "outputs": [],
   "source": [
    "grouped['count'] = count"
   ]
  },
  {
   "cell_type": "code",
   "execution_count": 24,
   "id": "c5844c09",
   "metadata": {},
   "outputs": [],
   "source": [
    "tweetsByDate = grouped.sort_values(by=['count'], ascending=False)"
   ]
  },
  {
   "cell_type": "code",
   "execution_count": 25,
   "id": "bf06dbd8",
   "metadata": {},
   "outputs": [
    {
     "data": {
      "text/html": [
       "<div>\n",
       "<style scoped>\n",
       "    .dataframe tbody tr th:only-of-type {\n",
       "        vertical-align: middle;\n",
       "    }\n",
       "\n",
       "    .dataframe tbody tr th {\n",
       "        vertical-align: top;\n",
       "    }\n",
       "\n",
       "    .dataframe thead th {\n",
       "        text-align: right;\n",
       "    }\n",
       "</style>\n",
       "<table border=\"1\" class=\"dataframe\">\n",
       "  <thead>\n",
       "    <tr style=\"text-align: right;\">\n",
       "      <th></th>\n",
       "      <th>created_at</th>\n",
       "      <th>count</th>\n",
       "    </tr>\n",
       "  </thead>\n",
       "  <tbody>\n",
       "    <tr>\n",
       "      <th>0</th>\n",
       "      <td>2017-11-07</td>\n",
       "      <td>62793</td>\n",
       "    </tr>\n",
       "    <tr>\n",
       "      <th>1</th>\n",
       "      <td>2017-10-27</td>\n",
       "      <td>59136</td>\n",
       "    </tr>\n",
       "    <tr>\n",
       "      <th>2</th>\n",
       "      <td>2017-11-08</td>\n",
       "      <td>58169</td>\n",
       "    </tr>\n",
       "    <tr>\n",
       "      <th>3</th>\n",
       "      <td>2017-11-06</td>\n",
       "      <td>57981</td>\n",
       "    </tr>\n",
       "    <tr>\n",
       "      <th>4</th>\n",
       "      <td>2017-11-03</td>\n",
       "      <td>57233</td>\n",
       "    </tr>\n",
       "    <tr>\n",
       "      <th>5</th>\n",
       "      <td>2017-12-01</td>\n",
       "      <td>53857</td>\n",
       "    </tr>\n",
       "    <tr>\n",
       "      <th>6</th>\n",
       "      <td>2017-11-14</td>\n",
       "      <td>53731</td>\n",
       "    </tr>\n",
       "    <tr>\n",
       "      <th>7</th>\n",
       "      <td>2017-11-29</td>\n",
       "      <td>53610</td>\n",
       "    </tr>\n",
       "    <tr>\n",
       "      <th>8</th>\n",
       "      <td>2017-11-28</td>\n",
       "      <td>53538</td>\n",
       "    </tr>\n",
       "    <tr>\n",
       "      <th>9</th>\n",
       "      <td>2017-11-30</td>\n",
       "      <td>53476</td>\n",
       "    </tr>\n",
       "  </tbody>\n",
       "</table>\n",
       "</div>"
      ],
      "text/plain": [
       "   created_at  count\n",
       "0  2017-11-07  62793\n",
       "1  2017-10-27  59136\n",
       "2  2017-11-08  58169\n",
       "3  2017-11-06  57981\n",
       "4  2017-11-03  57233\n",
       "5  2017-12-01  53857\n",
       "6  2017-11-14  53731\n",
       "7  2017-11-29  53610\n",
       "8  2017-11-28  53538\n",
       "9  2017-11-30  53476"
      ]
     },
     "execution_count": 25,
     "metadata": {},
     "output_type": "execute_result"
    }
   ],
   "source": [
    "tweetsByDate['count'].reset_index(name='count').head(10)"
   ]
  },
  {
   "cell_type": "markdown",
   "id": "b96bd554",
   "metadata": {},
   "source": [
    "<h3> -------------- <h3>\n",
    "<h3> Data Cleaning <h3>"
   ]
  },
  {
   "cell_type": "code",
   "execution_count": 26,
   "id": "a45c3e28",
   "metadata": {},
   "outputs": [
    {
     "data": {
      "text/plain": [
       "tweet_id                   False\n",
       "author_id                  False\n",
       "inbound                    False\n",
       "created_at                 False\n",
       "text                       False\n",
       "response_tweet_id           True\n",
       "in_response_to_tweet_id     True\n",
       "dtype: bool"
      ]
     },
     "execution_count": 26,
     "metadata": {},
     "output_type": "execute_result"
    }
   ],
   "source": [
    "df.isna().any()"
   ]
  },
  {
   "cell_type": "code",
   "execution_count": 27,
   "id": "ee5b009d",
   "metadata": {},
   "outputs": [
    {
     "data": {
      "text/plain": [
       "tweet_id                         0\n",
       "author_id                        0\n",
       "inbound                          0\n",
       "created_at                       0\n",
       "text                             0\n",
       "response_tweet_id          1040629\n",
       "in_response_to_tweet_id     794335\n",
       "dtype: int64"
      ]
     },
     "execution_count": 27,
     "metadata": {},
     "output_type": "execute_result"
    }
   ],
   "source": [
    "df.isna().sum()"
   ]
  },
  {
   "cell_type": "code",
   "execution_count": 28,
   "id": "11cafc08",
   "metadata": {},
   "outputs": [
    {
     "data": {
      "text/plain": [
       "0          False\n",
       "1          False\n",
       "2          False\n",
       "3          False\n",
       "4          False\n",
       "           ...  \n",
       "2811769    False\n",
       "2811770    False\n",
       "2811771    False\n",
       "2811772    False\n",
       "2811773    False\n",
       "Length: 2811774, dtype: bool"
      ]
     },
     "execution_count": 28,
     "metadata": {},
     "output_type": "execute_result"
    }
   ],
   "source": [
    "df.duplicated()"
   ]
  },
  {
   "cell_type": "code",
   "execution_count": 29,
   "id": "d385ea75",
   "metadata": {},
   "outputs": [
    {
     "data": {
      "text/html": [
       "<div>\n",
       "<style scoped>\n",
       "    .dataframe tbody tr th:only-of-type {\n",
       "        vertical-align: middle;\n",
       "    }\n",
       "\n",
       "    .dataframe tbody tr th {\n",
       "        vertical-align: top;\n",
       "    }\n",
       "\n",
       "    .dataframe thead th {\n",
       "        text-align: right;\n",
       "    }\n",
       "</style>\n",
       "<table border=\"1\" class=\"dataframe\">\n",
       "  <thead>\n",
       "    <tr style=\"text-align: right;\">\n",
       "      <th></th>\n",
       "      <th>tweet_id</th>\n",
       "      <th>author_id</th>\n",
       "      <th>inbound</th>\n",
       "      <th>created_at</th>\n",
       "      <th>text</th>\n",
       "      <th>response_tweet_id</th>\n",
       "      <th>in_response_to_tweet_id</th>\n",
       "    </tr>\n",
       "  </thead>\n",
       "  <tbody>\n",
       "    <tr>\n",
       "      <th>0</th>\n",
       "      <td>1</td>\n",
       "      <td>sprintcare</td>\n",
       "      <td>False</td>\n",
       "      <td>2017-10-31 22:10:47+00:00</td>\n",
       "      <td>@115712 I understand. I would like to assist y...</td>\n",
       "      <td>2</td>\n",
       "      <td>3.0</td>\n",
       "    </tr>\n",
       "    <tr>\n",
       "      <th>1</th>\n",
       "      <td>2</td>\n",
       "      <td>115712</td>\n",
       "      <td>True</td>\n",
       "      <td>2017-10-31 22:11:45+00:00</td>\n",
       "      <td>@sprintcare and how do you propose we do that</td>\n",
       "      <td>NaN</td>\n",
       "      <td>1.0</td>\n",
       "    </tr>\n",
       "    <tr>\n",
       "      <th>2</th>\n",
       "      <td>3</td>\n",
       "      <td>115712</td>\n",
       "      <td>True</td>\n",
       "      <td>2017-10-31 22:08:27+00:00</td>\n",
       "      <td>@sprintcare I have sent several private messag...</td>\n",
       "      <td>1</td>\n",
       "      <td>4.0</td>\n",
       "    </tr>\n",
       "    <tr>\n",
       "      <th>3</th>\n",
       "      <td>4</td>\n",
       "      <td>sprintcare</td>\n",
       "      <td>False</td>\n",
       "      <td>2017-10-31 21:54:49+00:00</td>\n",
       "      <td>@115712 Please send us a Private Message so th...</td>\n",
       "      <td>3</td>\n",
       "      <td>5.0</td>\n",
       "    </tr>\n",
       "    <tr>\n",
       "      <th>4</th>\n",
       "      <td>5</td>\n",
       "      <td>115712</td>\n",
       "      <td>True</td>\n",
       "      <td>2017-10-31 21:49:35+00:00</td>\n",
       "      <td>@sprintcare I did.</td>\n",
       "      <td>4</td>\n",
       "      <td>6.0</td>\n",
       "    </tr>\n",
       "    <tr>\n",
       "      <th>...</th>\n",
       "      <td>...</td>\n",
       "      <td>...</td>\n",
       "      <td>...</td>\n",
       "      <td>...</td>\n",
       "      <td>...</td>\n",
       "      <td>...</td>\n",
       "      <td>...</td>\n",
       "    </tr>\n",
       "    <tr>\n",
       "      <th>2811769</th>\n",
       "      <td>2987947</td>\n",
       "      <td>sprintcare</td>\n",
       "      <td>False</td>\n",
       "      <td>2017-11-22 08:43:51+00:00</td>\n",
       "      <td>@823869 Hey, we'd be happy to look into this f...</td>\n",
       "      <td>NaN</td>\n",
       "      <td>2987948.0</td>\n",
       "    </tr>\n",
       "    <tr>\n",
       "      <th>2811770</th>\n",
       "      <td>2987948</td>\n",
       "      <td>823869</td>\n",
       "      <td>True</td>\n",
       "      <td>2017-11-22 08:35:16+00:00</td>\n",
       "      <td>@115714 wtf!? I’ve been having really shitty s...</td>\n",
       "      <td>2987947</td>\n",
       "      <td>NaN</td>\n",
       "    </tr>\n",
       "    <tr>\n",
       "      <th>2811771</th>\n",
       "      <td>2812240</td>\n",
       "      <td>121673</td>\n",
       "      <td>True</td>\n",
       "      <td>2017-11-23 04:13:07+00:00</td>\n",
       "      <td>@143549 @sprintcare You have to go to https://...</td>\n",
       "      <td>NaN</td>\n",
       "      <td>2812239.0</td>\n",
       "    </tr>\n",
       "    <tr>\n",
       "      <th>2811772</th>\n",
       "      <td>2987949</td>\n",
       "      <td>AldiUK</td>\n",
       "      <td>False</td>\n",
       "      <td>2017-11-22 08:31:24+00:00</td>\n",
       "      <td>@823870 Sounds delicious, Sarah! 😋 https://t.c...</td>\n",
       "      <td>NaN</td>\n",
       "      <td>2987950.0</td>\n",
       "    </tr>\n",
       "    <tr>\n",
       "      <th>2811773</th>\n",
       "      <td>2987950</td>\n",
       "      <td>823870</td>\n",
       "      <td>True</td>\n",
       "      <td>2017-11-21 22:01:04+00:00</td>\n",
       "      <td>@AldiUK  warm sloe gin mince pies with ice cre...</td>\n",
       "      <td>2987951,2987949</td>\n",
       "      <td>NaN</td>\n",
       "    </tr>\n",
       "  </tbody>\n",
       "</table>\n",
       "<p>2811774 rows × 7 columns</p>\n",
       "</div>"
      ],
      "text/plain": [
       "         tweet_id   author_id  inbound                created_at  \\\n",
       "0               1  sprintcare    False 2017-10-31 22:10:47+00:00   \n",
       "1               2      115712     True 2017-10-31 22:11:45+00:00   \n",
       "2               3      115712     True 2017-10-31 22:08:27+00:00   \n",
       "3               4  sprintcare    False 2017-10-31 21:54:49+00:00   \n",
       "4               5      115712     True 2017-10-31 21:49:35+00:00   \n",
       "...           ...         ...      ...                       ...   \n",
       "2811769   2987947  sprintcare    False 2017-11-22 08:43:51+00:00   \n",
       "2811770   2987948      823869     True 2017-11-22 08:35:16+00:00   \n",
       "2811771   2812240      121673     True 2017-11-23 04:13:07+00:00   \n",
       "2811772   2987949      AldiUK    False 2017-11-22 08:31:24+00:00   \n",
       "2811773   2987950      823870     True 2017-11-21 22:01:04+00:00   \n",
       "\n",
       "                                                      text response_tweet_id  \\\n",
       "0        @115712 I understand. I would like to assist y...                 2   \n",
       "1            @sprintcare and how do you propose we do that               NaN   \n",
       "2        @sprintcare I have sent several private messag...                 1   \n",
       "3        @115712 Please send us a Private Message so th...                 3   \n",
       "4                                       @sprintcare I did.                 4   \n",
       "...                                                    ...               ...   \n",
       "2811769  @823869 Hey, we'd be happy to look into this f...               NaN   \n",
       "2811770  @115714 wtf!? I’ve been having really shitty s...           2987947   \n",
       "2811771  @143549 @sprintcare You have to go to https://...               NaN   \n",
       "2811772  @823870 Sounds delicious, Sarah! 😋 https://t.c...               NaN   \n",
       "2811773  @AldiUK  warm sloe gin mince pies with ice cre...   2987951,2987949   \n",
       "\n",
       "         in_response_to_tweet_id  \n",
       "0                            3.0  \n",
       "1                            1.0  \n",
       "2                            4.0  \n",
       "3                            5.0  \n",
       "4                            6.0  \n",
       "...                          ...  \n",
       "2811769                2987948.0  \n",
       "2811770                      NaN  \n",
       "2811771                2812239.0  \n",
       "2811772                2987950.0  \n",
       "2811773                      NaN  \n",
       "\n",
       "[2811774 rows x 7 columns]"
      ]
     },
     "execution_count": 29,
     "metadata": {},
     "output_type": "execute_result"
    }
   ],
   "source": [
    "df.drop_duplicates(subset=None, keep='first', inplace=False, ignore_index=False)"
   ]
  },
  {
   "cell_type": "markdown",
   "id": "23863b7f",
   "metadata": {},
   "source": [
    "<h3> --------------------- <h3>\n",
    "<h3> Methods to Clean Text <h3>"
   ]
  },
  {
   "cell_type": "code",
   "execution_count": 30,
   "id": "6e6bbfab",
   "metadata": {},
   "outputs": [],
   "source": [
    "# Remove extra whitespace\n",
    "# Pad strings with extra whitespace or leading zeros in the case of numerical values\n",
    "# Fix casing to be all upper or lower case, so casing can be ignored later\n",
    "# Remove emojis if needed"
   ]
  },
  {
   "cell_type": "markdown",
   "id": "086be178",
   "metadata": {},
   "source": [
    "<h3> --------------------- <h3>\n",
    "<h3> Other Things to Clean <h3>"
   ]
  },
  {
   "cell_type": "code",
   "execution_count": 31,
   "id": "488493d7",
   "metadata": {},
   "outputs": [],
   "source": [
    "# Keep data within range for context of problem => Keep dates in certain range\n",
    "# Check for any outliers and remove them if they don't work in context of problem\n",
    "# Validate Data after cleaning to confirm that it matches the rules and context of data and problem\n",
    "# Change datatypes to be all the same => i.e. make sure all numerical values are an int or float"
   ]
  }
 ],
 "metadata": {
  "kernelspec": {
   "display_name": "Python 3 (ipykernel)",
   "language": "python",
   "name": "python3"
  },
  "language_info": {
   "codemirror_mode": {
    "name": "ipython",
    "version": 3
   },
   "file_extension": ".py",
   "mimetype": "text/x-python",
   "name": "python",
   "nbconvert_exporter": "python",
   "pygments_lexer": "ipython3",
   "version": "3.11.4"
  }
 },
 "nbformat": 4,
 "nbformat_minor": 5
}
